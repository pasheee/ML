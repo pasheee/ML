{
 "cells": [
  {
   "attachments": {},
   "cell_type": "markdown",
   "metadata": {},
   "source": [
    "### Генерация поэзии с помощью нейронных сетей: шаг 1\n",
    "##### Автор: [Радослав Нейчев](https://www.linkedin.com/in/radoslav-neychev/), @neychev\n",
    "\n",
    "Ваша основная задача: научиться генерироват стихи с помощью простой рекуррентной нейронной сети (Vanilla RNN). В качестве корпуса текстов для обучения будет выступать роман в стихах \"Евгений Онегин\" Александра Сергеевича Пушкина."
   ]
  },
  {
   "cell_type": "code",
   "execution_count": 1,
   "metadata": {},
   "outputs": [],
   "source": [
    "# do not change the code in the block below\n",
    "# __________start of block__________\n",
    "import string\n",
    "import os\n",
    "from random import sample\n",
    "\n",
    "import numpy as np\n",
    "import torch, torch.nn as nn\n",
    "import torch.nn.functional as F\n",
    "\n",
    "from IPython.display import clear_output\n",
    "\n",
    "import matplotlib.pyplot as plt\n",
    "# __________end of block__________"
   ]
  },
  {
   "cell_type": "code",
   "execution_count": 3,
   "metadata": {},
   "outputs": [
    {
     "name": "stdout",
     "output_type": "stream",
     "text": [
      "cuda device is available\n"
     ]
    }
   ],
   "source": [
    "# do not change the code in the block below\n",
    "# __________start of block__________\n",
    "device = torch.device('cuda') if torch.cuda.is_available() else torch.device('cpu')\n",
    "print('{} device is available'.format(device))\n",
    "# __________end of block__________"
   ]
  },
  {
   "attachments": {},
   "cell_type": "markdown",
   "metadata": {
    "colab": {
     "base_uri": "https://localhost:8080/"
    },
    "id": "MPenWOy01Ooa",
    "outputId": "a92e8e33-e009-4bd4-ac12-3b1b5e1cd3f2"
   },
   "source": [
    "#### 1. Загрузка данных."
   ]
  },
  {
   "cell_type": "code",
   "execution_count": 6,
   "metadata": {},
   "outputs": [
    {
     "name": "stdout",
     "output_type": "stream",
     "text": [
      "--2024-11-01 20:36:24--  https://raw.githubusercontent.com/neychev/small_DL_repo/master/datasets/onegin.txt\n",
      "Распознаётся raw.githubusercontent.com (raw.githubusercontent.com)… 2606:50c0:8001::154, 2606:50c0:8003::154, 2606:50c0:8000::154, ...\n",
      "Подключение к raw.githubusercontent.com (raw.githubusercontent.com)|2606:50c0:8001::154|:443... соединение установлено.\n",
      "HTTP-запрос отправлен. Ожидание ответа… 200 OK\n",
      "Длина: 262521 (256K) [text/plain]\n",
      "Сохранение в: «onegin.txt»\n",
      "\n",
      "onegin.txt          100%[===================>] 256,37K  --.-KB/s    за 0,1s    \n",
      "\n",
      "2024-11-01 20:36:25 (2,01 MB/s) - «onegin.txt» сохранён [262521/262521]\n",
      "\n"
     ]
    }
   ],
   "source": [
    "# do not change the code in the block below\n",
    "# __________start of block__________\n",
    "!wget https://raw.githubusercontent.com/neychev/small_DL_repo/master/datasets/onegin.txt\n",
    "    \n",
    "with open('onegin.txt', 'r') as iofile:\n",
    "    text = iofile.readlines()\n",
    "    \n",
    "text = \"\".join([x.replace('\\t\\t', '').lower() for x in text])\n",
    "# __________end of block__________"
   ]
  },
  {
   "attachments": {},
   "cell_type": "markdown",
   "metadata": {
    "id": "XQYpmGfR_gJ8"
   },
   "source": [
    "#### 2. Построение словаря и предобработка текста\n",
    "В данном задании требуется построить языковую модель на уровне символов. Приведем весь текст к нижнему регистру и построим словарь из всех символов в доступном корпусе текстов. Также добавим токен `<sos>`."
   ]
  },
  {
   "cell_type": "code",
   "execution_count": 9,
   "metadata": {},
   "outputs": [
    {
     "name": "stdout",
     "output_type": "stream",
     "text": [
      "Seems fine!\n"
     ]
    }
   ],
   "source": [
    "# do not change the code in the block below\n",
    "# __________start of block__________\n",
    "tokens = sorted(set(text.lower())) + ['<bos>']\n",
    "num_tokens = len(tokens)\n",
    "\n",
    "assert num_tokens == 84, \"Check the tokenization process\"\n",
    "\n",
    "token_to_idx = {x: idx for idx, x in enumerate(tokens)}\n",
    "idx_to_token = {idx: x for idx, x in enumerate(tokens)}\n",
    "\n",
    "assert len(tokens) == len(token_to_idx), \"Mapping should be unique\"\n",
    "\n",
    "print(\"Seems fine!\")\n",
    "\n",
    "\n",
    "text_encoded = [token_to_idx[x] for x in text]\n",
    "# __________end of block__________"
   ]
  },
  {
   "attachments": {},
   "cell_type": "markdown",
   "metadata": {},
   "source": [
    "__Ваша задача__: обучить классическую рекуррентную нейронную сеть (Vanilla RNN) предсказывать следующий символ на полученном корпусе текстов и сгенерировать последовательность длины 100 для фиксированной начальной фразы.\n",
    "\n",
    "Вы можете воспользоваться кодом с занятие №6 или же обратиться к следующим ссылкам:\n",
    "* Замечательная статья за авторством Andrej Karpathy об использовании RNN: [link](http://karpathy.github.io/2015/05/21/rnn-effectiveness/)\n",
    "* Пример char-rnn от Andrej Karpathy: [github repo](https://github.com/karpathy/char-rnn)\n",
    "* Замечательный пример генерации поэзии Шекспира: [github repo](https://github.com/spro/practical-pytorch/blob/master/char-rnn-generation/char-rnn-generation.ipynb)\n",
    "\n",
    "Данное задание является достаточно творческим. Не страшно, если поначалу оно вызывает затруднения. Последняя ссылка в списке выше может быть особенно полезна в данном случае.\n",
    "\n",
    "Далее для вашего удобства реализована функция, которая генерирует случайный батч размера `batch_size` из строк длиной `seq_length`. Вы можете использовать его при обучении модели."
   ]
  },
  {
   "cell_type": "code",
   "execution_count": 22,
   "metadata": {},
   "outputs": [],
   "source": [
    "# do not change the code in the block below\n",
    "# __________start of block__________\n",
    "batch_size = 256\n",
    "seq_length = 100\n",
    "start_column = np.zeros((batch_size, 1), dtype=int) + token_to_idx['<bos>']\n",
    "\n",
    "def generate_chunk():\n",
    "    global text_encoded, start_column, batch_size, seq_length\n",
    "\n",
    "    start_index = np.random.randint(0, len(text_encoded) - batch_size*seq_length - 1)\n",
    "    data = np.array(text_encoded[start_index:start_index + batch_size*seq_length]).reshape((batch_size, -1))\n",
    "    yield np.hstack((start_column, data))\n",
    "# __________end of block__________    "
   ]
  },
  {
   "attachments": {},
   "cell_type": "markdown",
   "metadata": {},
   "source": [
    "Пример батча:"
   ]
  },
  {
   "cell_type": "code",
   "execution_count": 50,
   "metadata": {},
   "outputs": [
    {
     "name": "stdout",
     "output_type": "stream",
     "text": [
      "(256, 101) (256, 101)\n"
     ]
    }
   ],
   "source": [
    "a = next(generate_chunk())\n",
    "b = next(generate_chunk())\n",
    "print(a.shape, b.shape)"
   ]
  },
  {
   "attachments": {},
   "cell_type": "markdown",
   "metadata": {},
   "source": [
    "Далее вам предстоит написать код для обучения модели и генерации текста."
   ]
  },
  {
   "cell_type": "code",
   "execution_count": 287,
   "metadata": {},
   "outputs": [],
   "source": [
    "class MyRNN(nn.Module):\n",
    "    def __init__(self, vocab_size, hidden_dim):\n",
    "        super().__init__()\n",
    "        self.embedding = nn.Embedding(vocab_size, hidden_dim)\n",
    "        # nn.init.xavier_uniform_(self.embedding.weight, nn.init.calculate_gain('tanh'))\n",
    "        self.rnn = nn.RNN(hidden_dim, hidden_dim, batch_first = True)\n",
    "        self.linear = nn.Linear(hidden_dim, hidden_dim)\n",
    "        self.projection = nn.Linear(hidden_dim, vocab_size)\n",
    "        \n",
    "        self.non_lin = nn.Tanh()\n",
    "        self.dropout = nn.Dropout(p=0.1)\n",
    "    \n",
    "    def forward(self, batch) -> torch.Tensor:\n",
    "        embeddings = self.embedding(batch) # batch_size, seq_len, vocab_size\n",
    "        output, _ = self.rnn(embeddings) # batch_size, seq_len, hidden_dim\n",
    "        output = self.dropout(self.linear(self.non_lin(output)))\n",
    "        \n",
    "        result = self.projection(self.non_lin(output))\n",
    "        return result"
   ]
  },
  {
   "cell_type": "code",
   "execution_count": 289,
   "metadata": {},
   "outputs": [],
   "source": [
    "def train_model(model, criterion, optimizer, num_epoch):\n",
    "    model.train()\n",
    "    losses = []\n",
    "\n",
    "    for epoch in tqdm(range(num_epoch)):\n",
    "        batch = torch.tensor(next(generate_chunk()))\n",
    "        targets = batch[:, 1:]\n",
    "        inputs = batch[:, :-1]\n",
    "\n",
    "        optimizer.zero_grad()\n",
    "        logits = model(inputs.to(device)).flatten(start_dim=0, end_dim=1)\n",
    "        loss = criterion(logits, targets.to(device).flatten(start_dim=0, end_dim=1))\n",
    "        losses.append(loss.item())\n",
    "        loss.backward()\n",
    "        optimizer.step()\n",
    "\n",
    "    return losses"
   ]
  },
  {
   "cell_type": "code",
   "execution_count": 309,
   "metadata": {},
   "outputs": [],
   "source": [
    "model = MyRNN(num_tokens, 240).to(device)\n",
    "criterion = nn.CrossEntropyLoss()\n",
    "optimizer = torch.optim.Adam(model.parameters())"
   ]
  },
  {
   "cell_type": "code",
   "execution_count": 311,
   "metadata": {},
   "outputs": [
    {
     "name": "stderr",
     "output_type": "stream",
     "text": [
      "100%|██████████| 10000/10000 [01:42<00:00, 97.57it/s]\n"
     ]
    }
   ],
   "source": [
    "losses = train_model(model, criterion, optimizer, 10000)"
   ]
  },
  {
   "cell_type": "code",
   "execution_count": 312,
   "metadata": {},
   "outputs": [
    {
     "data": {
      "text/plain": [
       "[<matplotlib.lines.Line2D at 0x71ad202620f0>]"
      ]
     },
     "execution_count": 312,
     "metadata": {},
     "output_type": "execute_result"
    },
    {
     "data": {
      "image/png": "[encoded data removed]",
      "text/plain": [
       "<Figure size 640x480 with 1 Axes>"
      ]
     },
     "metadata": {},
     "output_type": "display_data"
    }
   ],
   "source": [
    "plt.plot(losses)"
   ]
  },
  {
   "attachments": {},
   "cell_type": "markdown",
   "metadata": {},
   "source": [
    "В качестве иллюстрации ниже доступен график значений функции потерь, построенный в ходе обучения авторской сети (сам код для ее обучения вам и предстоит написать)."
   ]
  },
  {
   "cell_type": "code",
   "execution_count": 11,
   "metadata": {},
   "outputs": [
    {
     "data": {
      "image/png": "[encoded data removed]",
      "text/plain": [
       "<Figure size 432x288 with 1 Axes>"
      ]
     },
     "metadata": {
      "needs_background": "light"
     },
     "output_type": "display_data"
    }
   ],
   "source": []
  },
  {
   "attachments": {},
   "cell_type": "markdown",
   "metadata": {},
   "source": [
    "Шаблон функции `generate_sample` также доступен ниже. Вы можете как дозаполнить его, так и написать свою собственную функцию с нуля. Не забывайте, что все примеры в обучающей выборке начинались с токена `<sos>`."
   ]
  },
  {
   "cell_type": "code",
   "execution_count": 256,
   "metadata": {},
   "outputs": [],
   "source": [
    "import torch.nn.functional as F\n",
    "\n",
    "def generate_sample(char_rnn, seed_phrase=None, max_length=200, temperature=1.0, device='cuda'):\n",
    "    '''\n",
    "    The function generates text given a phrase of length at least SEQ_LENGTH.\n",
    "    :param seed_phrase: prefix characters. The RNN is asked to continue the phrase\n",
    "    :param max_length: maximum output length, including seed_phrase\n",
    "    :param temperature: coefficient for sampling. Higher temperature produces more chaotic outputs,\n",
    "                        smaller temperature converges to the single most likely output\n",
    "    :param device: the device to run the model on (cpu or cuda)\n",
    "    '''\n",
    "    \n",
    "    if seed_phrase is not None:\n",
    "        x_sequence = [token_to_idx['<bos>']] + [token_to_idx[token] for token in seed_phrase]\n",
    "    else: \n",
    "        x_sequence = [token_to_idx['<bos>']]\n",
    "\n",
    "    x_sequence = torch.tensor([x_sequence], dtype=torch.int64).to(device)\n",
    "    \n",
    "    \n",
    "    for i in range(0, max_length - len(seed_phrase)):\n",
    "        x_sequence.unsqueeze(0)\n",
    "        output = model(x_sequence)\n",
    "        output = output.squeeze()[-1]\n",
    "        logits = output / temperature\n",
    "        probabilities = F.softmax(logits, dim=-1)\n",
    "        next_token = torch.multinomial(probabilities, num_samples=1).item()\n",
    "        next_token = torch.tensor([next_token], dtype=torch.int64).to(device)\n",
    "        x_sequence = torch.cat((x_sequence.squeeze(), next_token), dim = 0)\n",
    "    x_sequence[0]\n",
    "    generated_text = [idx_to_token[idx.item()] for idx in x_sequence]\n",
    "    generated_text = ''.join(generated_text[i] for i in range(len(generated_text)))\n",
    "    return generated_text"
   ]
  },
  {
   "attachments": {},
   "cell_type": "markdown",
   "metadata": {},
   "source": [
    "Пример текста сгенерированного обученной моделью доступен ниже. Не страшно, что в тексте много несуществующих слов. Используемая модель очень проста: это простая классическая RNN."
   ]
  },
  {
   "cell_type": "code",
   "execution_count": 329,
   "metadata": {},
   "outputs": [
    {
     "name": "stdout",
     "output_type": "stream",
     "text": [
      " мой дядя самых честных правил.\n",
      "один, приботимоский\n",
      "каб, беспечно ревнивился вдруг хруковы,\n",
      "ни краснопоузов от ваши много я».\n",
      "\n",
      "\n",
      "\n",
      "xxii\n",
      "\n",
      "но дни напев воспали нагих подносенье танки сердце, много знать?),\n",
      "на совсем мерностья!\n",
      "хоте эт глупостелю серит;\n",
      "он слушал с делах дальной лет,\n",
      "томим возоб рассеянья\n",
      "смиренной деревню в целию строфяет уж натылей, кабли о паходит\n",
      "бледный,\n",
      "надостухится татьяна, с полно\n",
      "булься ей.\n",
      "потом на отхорила по лежал,\n",
      "приятный, без эти,\n",
      "где стра станом (пинительной день\n",
      "умол\n"
     ]
    }
   ],
   "source": [
    "print(generate_sample(model, ' мой дядя самых честных правил', max_length=500, temperature=0.7).replace('<bos>', ''))"
   ]
  },
  {
   "cell_type": "code",
   "execution_count": 307,
   "metadata": {
    "scrolled": true
   },
   "outputs": [
    {
     "name": "stdout",
     "output_type": "stream",
     "text": [
      "10\n"
     ]
    },
    {
     "name": "stderr",
     "output_type": "stream",
     "text": [
      "100%|██████████| 10000/10000 [00:28<00:00, 345.84it/s]\n"
     ]
    },
    {
     "name": "stdout",
     "output_type": "stream",
     "text": [
      " мой дядя самых честных правиль? севролочаша в поюпво нять бдискриле в»ь,\n",
      "пощзеел пдязем ну не чомемих\n",
      "посеттыя\n",
      "и пони уни товпдат: зам нех, чав эносога,\n",
      "счедахзоге доть корежес;\n",
      "женьтенла вод срачоже онещени,\n",
      "лазрорерыки,\n",
      "в слашя, и и течмей сохажо,\n",
      "мале млиен осбовите, плев я вдеятдошль сдажен\n",
      "на, и набы\n",
      "овивимый нув нлу-мецаом, кде малы ком-отвуядых бботь, судей, вточе вошыю,\n",
      "станись оц трожаждимлалг,\n",
      "трарся.\n",
      "прил, дажваней тамрал. люне ниле вамье\n",
      "с на слохоить деть, зан пола.\n",
      " – учю,\n",
      "храдая \n",
      "30\n"
     ]
    },
    {
     "name": "stderr",
     "output_type": "stream",
     "text": [
      "100%|██████████| 10000/10000 [00:29<00:00, 343.69it/s]\n"
     ]
    },
    {
     "name": "stdout",
     "output_type": "stream",
     "text": [
      " мой дядя самых честных правила,\n",
      "редина м… затиша\n",
      "девав путь.\n",
      "и жданьй, они сностоль кляса стоткуе харра в и толаже!\n",
      "удь безвамой зодене.\n",
      "\n",
      "\n",
      "\n",
      "xli\n",
      "\n",
      "набегой плиц волчих вдольнем\n",
      "в во певовевтен вдоле,\n",
      "а на ветней».\n",
      "вот;\n",
      "квердце ей тавылет\n",
      "дерерле.\n",
      "\n",
      "\n",
      "\n",
      "xxl\n",
      "\n",
      "я:\n",
      "елуи дан подвут дри завотел —\n",
      "рылетник, мука!\n",
      "мальченных емникольно надаанья\n",
      "и нет\n",
      "sv. паутнек горобнет маро\n",
      "каренье,\n",
      "а кожуй ертвы, пор о же сишенья, рошномнох вемгинный ивом.\n",
      "не в ты дольчом,\n",
      "порегь он головом,\n",
      "никотетй гришии,\n",
      "что пателянлиц\n",
      "50\n"
     ]
    },
    {
     "name": "stderr",
     "output_type": "stream",
     "text": [
      "100%|██████████| 10000/10000 [00:29<00:00, 338.44it/s]\n"
     ]
    },
    {
     "name": "stdout",
     "output_type": "stream",
     "text": [
      " мой дядя самых честных правил надик жадов ольгой хологих ждала ль разсмазамнациенно-то, в ветали рого жная грустнила нувен дадался хранить.\n",
      "и голог\n",
      "приводась и ею отчальну светлляв;\n",
      "что и нек этой!\n",
      "бывые одугорость вермял беседематикомою,\n",
      "в чручать\n",
      "заскенлась крывидь:\n",
      "вших,\n",
      "брудать;\n",
      "не вазумнуй тохон\n",
      "чае безчучтинчевло, запор; венен, здет снегв\n",
      "вот. вогла евгествирная вздошь?. armme9\n",
      "встред:\n",
      "его вернетоней\n",
      "и моех ей живом озагновеньеи бедвиний дврей\n",
      "отезду сам.\n",
      "\n",
      "\n",
      "\n",
      "xxvi\n",
      "\n",
      "танят у насоде минострен\n",
      "70\n"
     ]
    },
    {
     "name": "stderr",
     "output_type": "stream",
     "text": [
      "100%|██████████| 10000/10000 [00:30<00:00, 323.30it/s]\n"
     ]
    },
    {
     "name": "stdout",
     "output_type": "stream",
     "text": [
      " мой дядя самых честных правился!\n",
      "уверь; еся дедае,\n",
      "пред шалу легкой бы кречо к окрувый\n",
      "любственный сылос, жели слова;\n",
      "и врагу не мой,\n",
      "на дама!\n",
      "\n",
      "\n",
      "\n",
      "xvi\n",
      "\n",
      "у давно куг\n",
      "ками от порог.\n",
      "об перевиднуе,\n",
      "как тревиньо. «поры\n",
      "оче пошра.\n",
      "«чтичие скрасти добровь. –\n",
      "не могу скорей! – к очня, знать иногда кипился.\n",
      "у ней опотором она видных это поскашаться\n",
      "стадив мечтанья прочном?\n",
      "\n",
      "\n",
      "\n",
      "xxiii\n",
      "\n",
      "него-фрой.\n",
      "чтоб радаю под анивы, черты… что не герое листы». – «нел бурит саныы, по готряр ты шеда\n",
      "один ей;\n",
      "там за сатился \n",
      "90\n"
     ]
    },
    {
     "name": "stderr",
     "output_type": "stream",
     "text": [
      "100%|██████████| 10000/10000 [00:32<00:00, 304.05it/s]\n"
     ]
    },
    {
     "name": "stdout",
     "output_type": "stream",
     "text": [
      " мой дядя самых честных правилала пылаины разбольнуе рестит ли темно;\n",
      "он в напесняеши, взор, весной,\n",
      "душе в билшенье\n",
      "то вашет рыйко страшны\n",
      "меня уже не раз вхозилась в толшена\n",
      "на вот и мног языкли и зимнежь\n",
      "мней другой; а татья,\n",
      "как соседатся бродит,\n",
      "в над печальный, ли ночье меж схастом\n",
      "керях другой…\n",
      "вот мой том он бабучает\n",
      "шеликанпительце, поэти, старых; онегин,\n",
      "колненье,\n",
      "дышла любви;\n",
      "но увлечений в чепла опертилал мадремый!\n",
      "ещем столк,\n",
      "и воскоредких и сбою души тезнарек нуженных с идь потом к\n",
      "110\n"
     ]
    },
    {
     "name": "stderr",
     "output_type": "stream",
     "text": [
      "100%|██████████| 10000/10000 [00:35<00:00, 285.52it/s]\n"
     ]
    },
    {
     "name": "stdout",
     "output_type": "stream",
     "text": [
      " мой дядя самых честных правились! некраотью молозванов,\n",
      "и лише, зари своей.\n",
      "\n",
      "\n",
      "\n",
      "xii» – – до содне…\n",
      "я кудьб, и втра их крастей след.\n",
      "по сих играми\n",
      "он душой,\n",
      "и весела всё. в угорменной,\n",
      "она и русс упочтанья «накозбов\n",
      "и ольге;\n",
      "тогдала:\n",
      "там порой к толи,\n",
      "одиненьем;\n",
      "«так к ньях переменялыгво обвесь:\n",
      "они лане,\n",
      "хоть неегойки жажда ж верный трещенских ветзялась,\n",
      "и в ответ она».\n",
      "\n",
      "\n",
      "\n",
      "xxiv\n",
      "\n",
      "у них она все явочей\n",
      "и страмом кто в ты вид души постели на духое сердца, мольший строк муж тебу и в знаем, няня.\n",
      "не п\n",
      "130\n"
     ]
    },
    {
     "name": "stderr",
     "output_type": "stream",
     "text": [
      "100%|██████████| 10000/10000 [00:53<00:00, 186.58it/s]\n"
     ]
    },
    {
     "name": "stdout",
     "output_type": "stream",
     "text": [
      " мой дядя самых честных правил, няне:\n",
      "не сколь назавилась,\n",
      "сеется женой,\n",
      "тогда даже грусть;\n",
      "не прокатый здале,\n",
      "и няня, прежде чудное чимаешье имений полну, ни совета:\n",
      "в сожай потьм,\n",
      "однуть, ныненном так, взостети, любовь юно:\n",
      "зревоты;\n",
      "не разаленья,\n",
      "где вставно их перы чотвода росить,\n",
      "перескажи над, привче,\n",
      "смея не сыбезким холодной\n",
      "пересна сропе суть из гицае, боясь сладили гордо лежски на дворгким чертает\n",
      "замаде, тумана,\n",
      "спаскром нет, нее влю полновитвавы,\n",
      "тем\n",
      "и непраммыний,\n",
      "как был насталось н\n",
      "150\n"
     ]
    },
    {
     "name": "stderr",
     "output_type": "stream",
     "text": [
      "100%|██████████| 10000/10000 [01:00<00:00, 165.91it/s]\n"
     ]
    },
    {
     "name": "stdout",
     "output_type": "stream",
     "text": [
      " мой дядя самых честных правилах…» —\n",
      "«а!\n",
      "всегда на нее для тарчи так кажется;\n",
      "вы, здесь лезо и шайдя,\n",
      "красавиц уж востра, не знаю, любовье отком не умольк будились;\n",
      "\n",
      "\n",
      "\n",
      "vi\n",
      "\n",
      "миликать пиходит? тибием мерточить метель.\n",
      "\n",
      "\n",
      "\n",
      "v\n",
      "\n",
      "смея,\n",
      "и наппокоем обожжена\n",
      "здоле,\n",
      "протили кругой красиний\n",
      "слыши капляный и просновенье светлов;\n",
      "будро вновь, вызаны:\n",
      "довольной отрадой\n",
      "вом сепроила…\n",
      "и в на саняжки безврату поэта ей шепталь;\n",
      "евдали звуносенье?\n",
      "всё ревелись. в это после долиний\n",
      "лет; как согу: в объешал нам и поец\n",
      "170\n"
     ]
    },
    {
     "name": "stderr",
     "output_type": "stream",
     "text": [
      "100%|██████████| 10000/10000 [01:04<00:00, 156.22it/s]\n"
     ]
    },
    {
     "name": "stdout",
     "output_type": "stream",
     "text": [
      " мой дядя самых честных правился геаш, привотски с своил,\n",
      "к крови;\n",
      "мне: понясь, улоды пред велит получно всё полна и читаю!\n",
      "\n",
      "\n",
      "\n",
      "xxiv\n",
      "\n",
      "когда бы ни людейксе ли был вся во старый барать занедоизвает,\n",
      "открыт, татьяна стекуть с иногда звук, милый для счасти лутьяки напостую не видну жар голов вовсей негасбург\n",
      "улецал\n",
      "излятый хложцые другом,\n",
      "и волненье,\n",
      "моей\n",
      "увидеть не читатель.\n",
      "она взсенье, легтавить его чудный и корняясь,\n",
      "как запчен любился любви моей своих стояла с заботу.. инослириком,\n",
      "его родной:\n",
      "т\n",
      "190\n"
     ]
    },
    {
     "name": "stderr",
     "output_type": "stream",
     "text": [
      "100%|██████████| 10000/10000 [01:09<00:00, 144.74it/s]\n"
     ]
    },
    {
     "name": "stdout",
     "output_type": "stream",
     "text": [
      " мой дядя самых честных правились; он вас ли бы невеста лишь нау дажень сохранился…\n",
      "\n",
      "\n",
      "\n",
      "xxxviii. xxxix\n",
      "\n",
      "но чай,\n",
      "меж нош не ум летупленнол рамы\n",
      "три как галжать.\n",
      "ни изманил;\n",
      "чтоб легка хощами\n",
      "страстей и то всегда к различит не одна,\n",
      "кто вром;\n",
      "они радуетный мечтабились. тайно и верили краня\n",
      "неточенком героись вердит отоя.\n",
      "всё, что в лирежит вдруг-амиг своей размертими на поклонник без мертвой\n",
      "теснею грудь\n",
      "в мугой…\n",
      "\n",
      "\n",
      "\n",
      "xix\n",
      "\n",
      "но что б всюде с его невесты альбомы гроду,\n",
      "иль ей незвыров другие мучительный\n",
      "210\n"
     ]
    },
    {
     "name": "stderr",
     "output_type": "stream",
     "text": [
      "100%|██████████| 10000/10000 [01:20<00:00, 123.70it/s]\n"
     ]
    },
    {
     "name": "stdout",
     "output_type": "stream",
     "text": [
      " мой дядя самых честных правил с совском куда!\n",
      "«чак-нибучью ручья клуке\n",
      "с невницы;\n",
      "пока моя,\n",
      "вы, буда,\n",
      "заменяли язы\n",
      "ими к еще кучие, помняла\n",
      "куртиные.\n",
      "довольнем притрожит:\n",
      "кормороды,\n",
      "ее влажаящуй деревни подруга своей.\n",
      "\n",
      "\n",
      "\n",
      "xxi\n",
      "\n",
      "чут моим купленные волпе на старый ладкой прозе тани лью мою\n",
      "явлються ей..\n",
      "\n",
      "\n",
      "\n",
      "xxxiv\n",
      "\n",
      "знаться не гузяю…\n",
      "\n",
      "\n",
      "\n",
      "xxxii\n",
      "\n",
      "но полно, меня со страх,\n",
      "веет:\n",
      "«кто не муке с мой:\n",
      "другой на чугунной, в досады очартых декног онегине долго:\n",
      "восторгиле7» —\n",
      "мои, наш цержудом,\n",
      "вошла страстей о\n",
      "230\n"
     ]
    },
    {
     "name": "stderr",
     "output_type": "stream",
     "text": [
      "100%|██████████| 10000/10000 [01:43<00:00, 96.38it/s]\n"
     ]
    },
    {
     "name": "stdout",
     "output_type": "stream",
     "text": [
      " мой дядя самых честных правилась,\n",
      "как с нею как вам отдыха, беской…\n",
      "искацких лет промолвиет продой,\n",
      "стояла опять поэтом,\n",
      "то больбой обитрит в остать, мечтой кним, от него\n",
      "жизнь, как гордый молкнул видеть,\n",
      "печалии\n",
      "им свободари;\n",
      "унзум ростный нахальсной\n",
      "оно честь,\n",
      "и всё во всей невиладным\n",
      "и жизни порога,\n",
      "понимать,\n",
      "старушка неслагором,\n",
      "я, с ней нет презует, уж росчисть». —\n",
      "«ну скоро с няней\n",
      "в деви оне?\n",
      "\n",
      "\n",
      "\n",
      "xxii\n",
      "\n",
      "вних бог похвал;\n",
      "но что ж? читать?\n",
      "теперь трепет сердце я» —\n",
      "«закой саду,\n",
      "куда кришенаю\n",
      "250\n"
     ]
    },
    {
     "name": "stderr",
     "output_type": "stream",
     "text": [
      "100%|██████████| 10000/10000 [01:50<00:00, 90.34it/s]\n"
     ]
    },
    {
     "name": "stdout",
     "output_type": "stream",
     "text": [
      " мой дядя самых честных правилах снят ей их обольского даст:\n",
      "писал харманий,\n",
      "и вы, богулкий памятно гаслом напасной простой\n",
      "она та жизнь оживленной\n",
      "веселила;\n",
      "письмо дла предам молода:\n",
      "во мгле милый пустынной работ умолк;\n",
      "с запичает\n",
      "и русская смущий лань ленский;\n",
      "вестлюили;\n",
      "татья любовниц перед отрада лежит,\n",
      "ямо всей невинное выногу…\n",
      "и уже поскучит на ответа новы ей дал,\n",
      "а мыслит – в поэт!\n",
      "ке долго за траженичью покойня,\n",
      "или мелой огратнует пред ниму встала, дева; клика ей вашей и свет.\n",
      "не правду\n",
      "270\n"
     ]
    },
    {
     "name": "stderr",
     "output_type": "stream",
     "text": [
      "100%|██████████| 10000/10000 [07:05<00:00, 23.53it/s]\n"
     ]
    },
    {
     "name": "stdout",
     "output_type": "stream",
     "text": [
      " мой дядя самых честных правила\n",
      "с таких утомнет и вмиситский одел,\n",
      "невольно он брать: где же ей;\n",
      "но всех слав мой усердие большог, и на говорит:\n",
      "\n",
      "\n",
      "\n",
      "xviii\n",
      "\n",
      "здоров, на грозы\n",
      "темною стекли, и слез дворцы,\n",
      "храдиник\n",
      "рогу,\n",
      "казался он. оточтет,\n",
      "шуму проведеть порт нет.\n",
      "\n",
      "\n",
      "\n",
      "xxxii\n",
      "\n",
      "я сты прав, и водили взор,\n",
      "в своей привижим осками?\n",
      "ужели далее света\n",
      "поедан верен,\n",
      "на солнцеме;\n",
      "отревенский, ведала зарысней посланье, сожитанный чудременье\n",
      "в доле,\n",
      "предмет плак в сельсучьев как милое вняв жизни простботые гла\n",
      "290\n"
     ]
    },
    {
     "name": "stderr",
     "output_type": "stream",
     "text": [
      " 27%|██▋       | 2656/10000 [02:04<05:44, 21.34it/s]\n"
     ]
    },
    {
     "ename": "KeyboardInterrupt",
     "evalue": "",
     "output_type": "error",
     "traceback": [
      "\u001b[0;31m---------------------------------------------------------------------------\u001b[0m",
      "\u001b[0;31mKeyboardInterrupt\u001b[0m                         Traceback (most recent call last)",
      "Cell \u001b[0;32mIn[307], line 6\u001b[0m\n\u001b[1;32m      4\u001b[0m criterion \u001b[38;5;241m=\u001b[39m nn\u001b[38;5;241m.\u001b[39mCrossEntropyLoss()\n\u001b[1;32m      5\u001b[0m optimizer \u001b[38;5;241m=\u001b[39m torch\u001b[38;5;241m.\u001b[39moptim\u001b[38;5;241m.\u001b[39mAdam(model\u001b[38;5;241m.\u001b[39mparameters())\n\u001b[0;32m----> 6\u001b[0m losses \u001b[38;5;241m=\u001b[39m train_model(model, criterion, optimizer, \u001b[38;5;241m10000\u001b[39m)\n\u001b[1;32m      7\u001b[0m \u001b[38;5;28mprint\u001b[39m(generate_sample(model, \u001b[38;5;124m'\u001b[39m\u001b[38;5;124m мой дядя самых честных правил\u001b[39m\u001b[38;5;124m'\u001b[39m, max_length\u001b[38;5;241m=\u001b[39m\u001b[38;5;241m500\u001b[39m, temperature\u001b[38;5;241m=\u001b[39m\u001b[38;5;241m1\u001b[39m)\u001b[38;5;241m.\u001b[39mreplace(\u001b[38;5;124m'\u001b[39m\u001b[38;5;124m<bos>\u001b[39m\u001b[38;5;124m'\u001b[39m, \u001b[38;5;124m'\u001b[39m\u001b[38;5;124m'\u001b[39m))\n",
      "Cell \u001b[0;32mIn[289], line 12\u001b[0m, in \u001b[0;36mtrain_model\u001b[0;34m(model, criterion, optimizer, num_epoch)\u001b[0m\n\u001b[1;32m     10\u001b[0m optimizer\u001b[38;5;241m.\u001b[39mzero_grad()\n\u001b[1;32m     11\u001b[0m logits \u001b[38;5;241m=\u001b[39m model(inputs\u001b[38;5;241m.\u001b[39mto(device))\u001b[38;5;241m.\u001b[39mflatten(start_dim\u001b[38;5;241m=\u001b[39m\u001b[38;5;241m0\u001b[39m, end_dim\u001b[38;5;241m=\u001b[39m\u001b[38;5;241m1\u001b[39m)\n\u001b[0;32m---> 12\u001b[0m loss \u001b[38;5;241m=\u001b[39m criterion(logits, targets\u001b[38;5;241m.\u001b[39mto(device)\u001b[38;5;241m.\u001b[39mflatten(start_dim\u001b[38;5;241m=\u001b[39m\u001b[38;5;241m0\u001b[39m, end_dim\u001b[38;5;241m=\u001b[39m\u001b[38;5;241m1\u001b[39m))\n\u001b[1;32m     13\u001b[0m losses\u001b[38;5;241m.\u001b[39mappend(loss\u001b[38;5;241m.\u001b[39mitem())\n\u001b[1;32m     14\u001b[0m loss\u001b[38;5;241m.\u001b[39mbackward()\n",
      "\u001b[0;31mKeyboardInterrupt\u001b[0m: "
     ]
    }
   ],
   "source": [
    "# for hidden_dim in range(10, 310, 20):\n",
    "#     print(hidden_dim)\n",
    "#     model = MyRNN(num_tokens, hidden_dim).to(device)\n",
    "#     criterion = nn.CrossEntropyLoss()\n",
    "#     optimizer = torch.optim.Adam(model.parameters())\n",
    "#     losses = train_model(model, criterion, optimizer, 10000)\n",
    "#     print(generate_sample(model, ' мой дядя самых честных правил', max_length=500, temperature=1).replace('<bos>', ''))"
   ]
  },
  {
   "attachments": {},
   "cell_type": "markdown",
   "metadata": {},
   "source": [
    "### Сдача задания\n",
    "Сгенерируйте десять последовательностей длиной 500, используя строку ' мой дядя самых честных правил'. Температуру для генерации выберите самостоятельно на основании визуального качества генериуремого текста. Не забудьте удалить все технические токены в случае их наличия.\n",
    "\n",
    "Сгенерированную последовательность сохрание в переменную `generated_phrase` и сдайте сгенерированный ниже файл в контест."
   ]
  },
  {
   "cell_type": "code",
   "execution_count": 331,
   "metadata": {},
   "outputs": [],
   "source": [
    "seed_phrase = ' мой дядя самых честных правил'"
   ]
  },
  {
   "cell_type": "code",
   "execution_count": 337,
   "metadata": {},
   "outputs": [],
   "source": [
    "generated_phrases = [\n",
    "    generate_sample(\n",
    "        model,\n",
    "        ' мой дядя самых честных правил',\n",
    "        max_length=500,\n",
    "        temperature=0.7\n",
    "    ).replace('<bos>', '')\n",
    "    for i in range(1, 11)\n",
    "]"
   ]
  },
  {
   "cell_type": "code",
   "execution_count": 338,
   "metadata": {},
   "outputs": [
    {
     "name": "stdout",
     "output_type": "stream",
     "text": [
      "File saved to `submission_dict.json`\n"
     ]
    }
   ],
   "source": [
    "# do not change the code in the block below\n",
    "# __________start of block__________\n",
    "\n",
    "import json\n",
    "if 'generated_phrases' not in locals():\n",
    "    raise ValueError(\"Please, save generated phrases to `generated_phrases` variable\")\n",
    "\n",
    "for phrase in generated_phrases:\n",
    "\n",
    "    if not isinstance(phrase, str):\n",
    "        raise ValueError(\"The generated phrase should be a string\")\n",
    "\n",
    "    if len(phrase) != 500:\n",
    "        raise ValueError(\"The `generated_phrase` length should be equal to 500\")\n",
    "\n",
    "    assert all([x in set(tokens) for x in set(list(phrase))]), 'Unknown tokens detected, check your submission!'\n",
    "    \n",
    "\n",
    "submission_dict = {\n",
    "    'token_to_idx': token_to_idx,\n",
    "    'generated_phrases': generated_phrases\n",
    "}\n",
    "\n",
    "with open('submission_dict.json', 'w') as iofile:\n",
    "    json.dump(submission_dict, iofile)\n",
    "print('File saved to `submission_dict.json`')\n",
    "# __________end of block__________"
   ]
  },
  {
   "attachments": {},
   "cell_type": "markdown",
   "metadata": {},
   "source": [
    "На этом задание завершено. Поздравляем!"
   ]
  }
 ],
 "metadata": {
  "accelerator": "GPU",
  "anaconda-cloud": {},
  "colab": {
   "collapsed_sections": [],
   "name": "NLP HW Lab01_Poetry_generation.v5.ipynb",
   "provenance": []
  },
  "kernelspec": {
   "display_name": "Python 3 (ipykernel)",
   "language": "python",
   "name": "python3"
  },
  "language_info": {
   "codemirror_mode": {
    "name": "ipython",
    "version": 3
   },
   "file_extension": ".py",
   "mimetype": "text/x-python",
   "name": "python",
   "nbconvert_exporter": "python",
   "pygments_lexer": "ipython3",
   "version": "3.12.2"
  }
 },
 "nbformat": 4,
 "nbformat_minor": 4
}
