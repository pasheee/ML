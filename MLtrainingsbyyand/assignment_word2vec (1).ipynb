{
 "cells": [
  {
   "cell_type": "markdown",
   "metadata": {
    "id": "nTSf4ro-qU0d"
   },
   "source": [
    "## Бонусное задание: word2vec на PyTorch\n",
    "\n",
    "Как вы уже могли заметить, идея, лежащая в основе [word2vec](https://arxiv.org/pdf/1310.4546), достаточно общая. В данном задании вы реализуете его самостоятельно.\n",
    "\n",
    "Дисклеймер: не стоит удивляться тому, что реализация от `gensim` (или аналоги) обучается быстрее и работает точнее. Она использует множество доработок и ускорений, а также достаточно эффективный код. Ваша задача добиться промежуточных результатов за разумное время.\n",
    "\n",
    "P.s. Как ни странно, GPU в этом задании нам не потребуется."
   ]
  },
  {
   "cell_type": "markdown",
   "metadata": {},
   "source": [
    "__Requirements:__ if you're running locally, in the selected environment run the following command:\n",
    "\n",
    "```pip install --upgrade nltk bokeh umap-learn```\n"
   ]
  },
  {
   "cell_type": "code",
   "execution_count": 1,
   "metadata": {
    "id": "Oipe2DU8qfm7"
   },
   "outputs": [],
   "source": [
    "#!pip install --upgrade nltk bokeh umap-learn"
   ]
  },
  {
   "cell_type": "code",
   "execution_count": 2,
   "metadata": {
    "id": "pqPU4Lu2qU0h"
   },
   "outputs": [],
   "source": [
    "import itertools\n",
    "import random\n",
    "import string\n",
    "from collections import Counter\n",
    "from itertools import chain\n",
    "\n",
    "import matplotlib.pyplot as plt\n",
    "import numpy as np\n",
    "import torch\n",
    "import torch.autograd as autograd\n",
    "import torch.nn as nn\n",
    "import torch.nn.functional as F\n",
    "import torch.optim as optim\n",
    "import umap\n",
    "from IPython.display import clear_output\n",
    "from matplotlib import pyplot as plt\n",
    "from nltk.tokenize import WordPunctTokenizer\n",
    "from torch.optim.lr_scheduler import ReduceLROnPlateau, StepLR\n",
    "from tqdm.auto import tqdm as tqdma"
   ]
  },
  {
   "cell_type": "code",
   "execution_count": 3,
   "metadata": {
    "colab": {
     "base_uri": "https://localhost:8080/"
    },
    "id": "8Fbx57z3qU0i",
    "outputId": "699ab6a7-41b9-402f-b842-039142bea06a"
   },
   "outputs": [],
   "source": [
    "# download the data:\n",
    "# !wget https://www.dropbox.com/s/obaitrix9jyu84r/quora.txt?dl=1 -O ./quora.txt -nc\n",
    "# alternative download link: https://yadi.sk/i/BPQrUu1NaTduEw"
   ]
  },
  {
   "cell_type": "code",
   "execution_count": 4,
   "metadata": {
    "colab": {
     "base_uri": "https://localhost:8080/",
     "height": 37
    },
    "id": "8EYy5dQpqU0i",
    "outputId": "57a393d2-d5f5-4fa9-f46d-1b268d7798ae"
   },
   "outputs": [
    {
     "data": {
      "text/plain": [
       "\"What TV shows or books help you read people's body language?\\n\""
      ]
     },
     "execution_count": 4,
     "metadata": {},
     "output_type": "execute_result"
    }
   ],
   "source": [
    "data = list(open(\"./quora.txt\", encoding=\"utf-8\"))\n",
    "data[50]"
   ]
  },
  {
   "cell_type": "markdown",
   "metadata": {
    "id": "feBEGI2eqU0j"
   },
   "source": [
    "Токенизация – первый шаг.\n",
    "Тексты, с которыми мы работаем, включают в себя пунктуацию, смайлики и прочие нестандартные токены, так что простой `str.split` не подойдет.\n",
    "\n",
    "Обратимся к `nltk` - библиотеку, нашла широкое применеие в области NLP."
   ]
  },
  {
   "cell_type": "code",
   "execution_count": 5,
   "metadata": {
    "colab": {
     "base_uri": "https://localhost:8080/"
    },
    "id": "7mWTvm50qU0j",
    "outputId": "18272985-9762-4288-8457-76fa78a44d52"
   },
   "outputs": [
    {
     "name": "stdout",
     "output_type": "stream",
     "text": [
      "['What', 'TV', 'shows', 'or', 'books', 'help', 'you', 'read', 'people', \"'\", 's', 'body', 'language', '?']\n"
     ]
    }
   ],
   "source": [
    "tokenizer = WordPunctTokenizer()\n",
    "\n",
    "print(tokenizer.tokenize(data[50]))"
   ]
  },
  {
   "cell_type": "code",
   "execution_count": 6,
   "metadata": {
    "id": "HzC05EHWqU0j"
   },
   "outputs": [],
   "source": [
    "data_tok = [\n",
    "    tokenizer.tokenize(\n",
    "        line.translate(str.maketrans(\"\", \"\", string.punctuation)).lower()\n",
    "    )\n",
    "    for line in data\n",
    "]\n",
    "data_tok = [x for x in data_tok if len(x) >= 3]"
   ]
  },
  {
   "cell_type": "markdown",
   "metadata": {
    "id": "6azRAgHIqU0k"
   },
   "source": [
    "Несколько проверок:"
   ]
  },
  {
   "cell_type": "code",
   "execution_count": 7,
   "metadata": {
    "id": "Cp8UpxdWqU0k"
   },
   "outputs": [],
   "source": [
    "assert all(\n",
    "    isinstance(row, (list, tuple)) for row in data_tok\n",
    "), \"please convert each line into a list of tokens (strings)\"\n",
    "assert all(\n",
    "    all(isinstance(tok, str) for tok in row) for row in data_tok\n",
    "), \"please convert each line into a list of tokens (strings)\"\n",
    "is_latin = lambda tok: all(\"a\" <= x.lower() <= \"z\" for x in tok)\n",
    "assert all(\n",
    "    map(lambda l: not is_latin(l) or l.islower(), map(\" \".join, data_tok))\n",
    "), \"please make sure to lowercase the data\""
   ]
  },
  {
   "cell_type": "markdown",
   "metadata": {
    "id": "37e7-MIhqU0x"
   },
   "source": [
    "Ниже заданы константы ширины окна контекста и проведена предобработка для построения skip-gram модели."
   ]
  },
  {
   "cell_type": "code",
   "execution_count": 8,
   "metadata": {
    "id": "fugc1IomqU0x"
   },
   "outputs": [],
   "source": [
    "min_count = 5\n",
    "window_radius = 5"
   ]
  },
  {
   "cell_type": "code",
   "execution_count": 9,
   "metadata": {},
   "outputs": [],
   "source": [
    "vocabulary_with_counter = Counter(chain.from_iterable(data_tok))\n",
    "\n",
    "word_count_dict = dict()\n",
    "for word, counter in vocabulary_with_counter.items():\n",
    "    if counter >= min_count:\n",
    "        word_count_dict[word] = counter\n",
    "\n",
    "vocabulary = set(word_count_dict.keys())\n",
    "del vocabulary_with_counter"
   ]
  },
  {
   "cell_type": "code",
   "execution_count": 10,
   "metadata": {},
   "outputs": [],
   "source": [
    "word_to_index = {word: index for index, word in enumerate(vocabulary)}\n",
    "index_to_word = {index: word for word, index in word_to_index.items()}"
   ]
  },
  {
   "cell_type": "markdown",
   "metadata": {
    "id": "4Y8rlBfqqU0x"
   },
   "source": [
    "Пары `(слово, контекст)` на основе доступного датасета сгенерированы ниже."
   ]
  },
  {
   "cell_type": "code",
   "execution_count": 11,
   "metadata": {
    "id": "h2-aqyyaqU0x"
   },
   "outputs": [
    {
     "name": "stdout",
     "output_type": "stream",
     "text": [
      "Generated 40220313 pairs of target and context words.\n"
     ]
    }
   ],
   "source": [
    "context_pairs = []\n",
    "\n",
    "for text in data_tok:\n",
    "    for i, central_word in enumerate(text):\n",
    "        context_indices = range(\n",
    "            max(0, i - window_radius), min(i + window_radius, len(text))\n",
    "        )\n",
    "        for j in context_indices:\n",
    "            if j == i:\n",
    "                continue\n",
    "            context_word = text[j]\n",
    "            if central_word in vocabulary and context_word in vocabulary:\n",
    "                context_pairs.append(\n",
    "                    (word_to_index[central_word], word_to_index[context_word])\n",
    "                )\n",
    "\n",
    "print(f\"Generated {len(context_pairs)} pairs of target and context words.\")"
   ]
  },
  {
   "cell_type": "markdown",
   "metadata": {},
   "source": [
    "#### Подзадача №1: subsampling\n",
    "Для того, чтобы сгладить разницу в частоте встречаемсости слов, необходимо реализовать механизм subsampling'а.\n",
    "Для этого вам необходимо реализовать функцию ниже.\n",
    "\n",
    "Вероятность **исключить** слово из обучения (на фиксированном шаге) вычисляется как\n",
    "$$\n",
    "P_\\text{drop}(w_i)=1 - \\sqrt{\\frac{t}{f(w_i)}},\n",
    "$$\n",
    "где $f(w_i)$ – нормированная частота встречаемости слова, а $t$ – заданный порог (threshold)."
   ]
  },
  {
   "cell_type": "code",
   "execution_count": 12,
   "metadata": {},
   "outputs": [],
   "source": [
    "def subsample_frequent_words(word_count_dict, threshold=1e-5):\n",
    "    \"\"\"\n",
    "    Calculates the subsampling probabilities for words based on their frequencies.\n",
    "\n",
    "    This function is used to determine the probability of keeping a word in the dataset\n",
    "    when subsampling frequent words. The method used is inspired by the subsampling approach\n",
    "    in Word2Vec, where each word's frequency affects its probability of being kept.\n",
    "\n",
    "    Parameters:\n",
    "    - word_count_dict (dict): A dictionary where keys are words and values are the counts of those words.\n",
    "    - threshold (float, optional): A threshold parameter used to adjust the frequency of word subsampling.\n",
    "                                   Defaults to 1e-5.\n",
    "\n",
    "    Returns:\n",
    "    - dict: A dictionary where keys are words and values are the probabilities of keeping each word.\n",
    "\n",
    "    Example:\n",
    "    >>> word_counts = {'the': 5000, 'is': 1000, 'apple': 50}\n",
    "    >>> subsample_frequent_words(word_counts)\n",
    "    {'the': 0.028, 'is': 0.223, 'apple': 1.0}\n",
    "    \"\"\"\n",
    "    word_counts = sum(word_count_dict.values())\n",
    "    keep_prob_dict = {\n",
    "        key: (threshold / (value / word_counts)) ** 0.5\n",
    "        for key, value in word_count_dict.items()\n",
    "    }\n",
    "    return keep_prob_dict"
   ]
  },
  {
   "cell_type": "markdown",
   "metadata": {},
   "source": [
    "#### Подзадача №2: negative sampling\n",
    "Для более эффективного обучения необходимо не только предсказывать высокие вероятности для слов из контекста, но и предсказывать низкие для слов, не встреченных в контексте. Для этого вам необходимо вычислить вероятност использовать слово в качестве negative sample, реализовав функцию ниже.\n",
    "\n",
    "В оригинальной статье предлагается оценивать вероятность слов выступать в качестве negative sample согласно распределению $P_n(w)$\n",
    "$$\n",
    "P_n(w) = \\frac{U(w)^{3/4}}{Z},\n",
    "$$\n",
    "\n",
    "где $U(w)$ распределение слов по частоте (или, как его еще называют, по униграммам), а $Z$ – нормировочная константа, чтобы общая мера была равна $1$."
   ]
  },
  {
   "cell_type": "code",
   "execution_count": 13,
   "metadata": {},
   "outputs": [],
   "source": [
    "def get_negative_sampling_prob(word_count_dict):\n",
    "    \"\"\"\n",
    "    Calculates the negative sampling probabilities for words based on their frequencies.\n",
    "\n",
    "    This function adjusts the frequency of each word raised to the power of 0.75, which is\n",
    "    commonly used in algorithms like Word2Vec to moderate the influence of very frequent words.\n",
    "    It then normalizes these adjusted frequencies to ensure they sum to 1, forming a probability\n",
    "    distribution used for negative sampling.\n",
    "\n",
    "    Parameters:\n",
    "    - word_count_dict (dict): A dictionary where keys are words and values are the counts of those words.\n",
    "\n",
    "    Returns:\n",
    "    - dict: A dictionary where keys are words and values are the probabilities of selecting each word\n",
    "            for negative sampling.\n",
    "\n",
    "    Example:\n",
    "    >>> word_counts = {'the': 5000, 'is': 1000, 'apple': 50}\n",
    "    >>> get_negative_sampling_prob(word_counts)\n",
    "    {'the': 0.298, 'is': 0.160, 'apple': 0.042}\n",
    "    \"\"\"\n",
    "    adjusted_probs = {\n",
    "        key: value ** 0.75 for key, value in word_count_dict.items()\n",
    "    }\n",
    "\n",
    "    prob_sum = sum(adjusted_probs.values())\n",
    "\n",
    "    negative_sampling_prob_dict = {\n",
    "        word: freq / prob_sum for word, freq in adjusted_probs.items()\n",
    "    }\n",
    "    return negative_sampling_prob_dict"
   ]
  },
  {
   "cell_type": "markdown",
   "metadata": {},
   "source": [
    "Для удобства, преобразуем полученные словари в массивы (т.к. все слова все равно уже пронумерованы)."
   ]
  },
  {
   "cell_type": "code",
   "execution_count": 14,
   "metadata": {},
   "outputs": [],
   "source": [
    "keep_prob_dict = subsample_frequent_words(word_count_dict)\n",
    "assert keep_prob_dict.keys() == word_count_dict.keys()"
   ]
  },
  {
   "cell_type": "code",
   "execution_count": 15,
   "metadata": {},
   "outputs": [],
   "source": [
    "negative_sampling_prob_dict = get_negative_sampling_prob(word_count_dict)\n",
    "assert negative_sampling_prob_dict.keys() == negative_sampling_prob_dict.keys()\n",
    "assert np.allclose(sum(negative_sampling_prob_dict.values()), 1)"
   ]
  },
  {
   "cell_type": "code",
   "execution_count": 16,
   "metadata": {},
   "outputs": [],
   "source": [
    "keep_prob_array = np.array(\n",
    "    [keep_prob_dict[index_to_word[idx]] for idx in range(len(word_to_index))]\n",
    ")\n",
    "negative_sampling_prob_array = np.array(\n",
    "    [\n",
    "        negative_sampling_prob_dict[index_to_word[idx]]\n",
    "        for idx in range(len(word_to_index))\n",
    "    ]\n",
    ")"
   ]
  },
  {
   "cell_type": "markdown",
   "metadata": {},
   "source": [
    "Если все прошло успешно, функция ниже поможет вам с генерацией подвыборок (батчей)."
   ]
  },
  {
   "cell_type": "code",
   "execution_count": 17,
   "metadata": {},
   "outputs": [],
   "source": [
    "def generate_batch_with_neg_samples(\n",
    "    context_pairs,\n",
    "    batch_size,\n",
    "    keep_prob_array,\n",
    "    word_to_index,\n",
    "    num_negatives,\n",
    "    negative_sampling_prob_array,\n",
    "):\n",
    "    batch = []\n",
    "    neg_samples = []\n",
    "\n",
    "    while len(batch) < batch_size:\n",
    "        center, context = random.choice(context_pairs)\n",
    "        if random.random() < keep_prob_array[center]:\n",
    "            batch.append((center, context))\n",
    "            neg_sample = np.random.choice(\n",
    "                range(len(negative_sampling_prob_array)),\n",
    "                size=num_negatives,\n",
    "                p=negative_sampling_prob_array,\n",
    "            )\n",
    "            neg_samples.append(neg_sample)\n",
    "    batch = np.array(batch)\n",
    "    neg_samples = np.vstack(neg_samples)\n",
    "    return batch, neg_samples"
   ]
  },
  {
   "cell_type": "code",
   "execution_count": 18,
   "metadata": {},
   "outputs": [],
   "source": [
    "batch_size = 4\n",
    "num_negatives = 15\n",
    "batch, neg_samples = generate_batch_with_neg_samples(\n",
    "    context_pairs,\n",
    "    batch_size,\n",
    "    keep_prob_array,\n",
    "    word_to_index,\n",
    "    num_negatives,\n",
    "    negative_sampling_prob_array,\n",
    ")"
   ]
  },
  {
   "cell_type": "markdown",
   "metadata": {},
   "source": [
    "Наконец, время реализовать модель. Обращаем ваше внимание, использование линейных слоев (`nn.Linear`) далеко не всегда оправданно!\n",
    "\n",
    "Напомним, что в случае negative sampling решается задача максимизации следующего функционала:\n",
    "\n",
    "$$\n",
    "\\mathcal{L} = \\log \\sigma({\\mathbf{v}'_{w_O}}^\\top \\mathbf{v}_{w_I}) + \\sum_{i=1}^{k} \\mathbb{E}_{w_i \\sim P_n(w)} \\left[ \\log \\sigma({-\\mathbf{v}'_{w_i}}^\\top \\mathbf{v}_{w_I}) \\right],\n",
    "$$\n",
    "\n",
    "где:\n",
    "- $\\mathbf{v}_{w_I}$ – вектор центрального слова $w_I$,\n",
    "- $\\mathbf{v}'_{w_O}$ – вектор слова из контекста $w_O$,\n",
    "- $k$ – число negative samplesЮ,\n",
    "- $P_n(w)$ – распределение negative samples, заданное выше,\n",
    "- $\\sigma$ – сигмоида."
   ]
  },
  {
   "cell_type": "code",
   "execution_count": 19,
   "metadata": {},
   "outputs": [],
   "source": [
    "class SkipGramModelWithNegSampling(nn.Module):\n",
    "    def __init__(self, vocab_size, embedding_dim):\n",
    "        super().__init__()\n",
    "        self.center_embeddings = nn.Embedding(vocab_size, embedding_dim)\n",
    "        self.context_embeddings = nn.Embedding(vocab_size, embedding_dim)\n",
    "\n",
    "        nn.init.xavier_uniform_(self.center_embeddings.weight)\n",
    "        nn.init.xavier_uniform_(self.context_embeddings.weight)\n",
    "        \n",
    "    def forward(self, center_words, pos_context_words, neg_context_words):\n",
    "        # pos_context_words (batch_size, num_negs)\n",
    "        \n",
    "        pos_embs = self.context_embeddings(pos_context_words).unsqueeze(2) #(batch_size, embedding_dim, 1)\n",
    "        cent_embs = self.center_embeddings(center_words).unsqueeze(1) #(batch_size, 1, embedding_dim)\n",
    "        neg_embs = self.context_embeddings(neg_context_words).permute(0, 2, 1) #(batch_size, embedding_dim, num_negs)\n",
    "        \n",
    "        pos_scores = 0  # THIS IS A PLACEHOLDER\n",
    "        neg_scores = 0  # THIS IS A PLACEHOLDER\n",
    "        pos_scores = torch.bmm(cent_embs, pos_embs).squeeze() # batch_size\n",
    "        neg_scores = torch.bmm(cent_embs, neg_embs).squeeze() # batch_size, num_negs\n",
    "        \n",
    "        return pos_scores, neg_scores"
   ]
  },
  {
   "cell_type": "code",
   "execution_count": 20,
   "metadata": {},
   "outputs": [],
   "source": [
    "device = torch.device(\"cuda\")"
   ]
  },
  {
   "cell_type": "code",
   "execution_count": 21,
   "metadata": {},
   "outputs": [],
   "source": [
    "vocab_size = len(word_to_index)\n",
    "embedding_dim = 32\n",
    "num_negatives = 15\n",
    "\n",
    "model = SkipGramModelWithNegSampling(vocab_size, embedding_dim).to(device)\n",
    "optimizer = optim.Adam(model.parameters(), lr=0.05)\n",
    "lr_scheduler = ReduceLROnPlateau(optimizer, factor=0.5, patience=15)\n",
    "criterion = nn.BCEWithLogitsLoss()"
   ]
  },
  {
   "cell_type": "code",
   "execution_count": 22,
   "metadata": {},
   "outputs": [],
   "source": [
    "params_counter = 0\n",
    "for weights in model.parameters():\n",
    "    params_counter += weights.shape.numel()\n",
    "assert params_counter == len(word_to_index) * embedding_dim * 2"
   ]
  },
  {
   "cell_type": "code",
   "execution_count": 25,
   "metadata": {},
   "outputs": [],
   "source": [
    "def train_skipgram_with_neg_sampling(\n",
    "    model,\n",
    "    context_pairs,\n",
    "    keep_prob_array,\n",
    "    word_to_index,\n",
    "    batch_size,\n",
    "    num_negatives,\n",
    "    negative_sampling_prob_array,\n",
    "    steps,\n",
    "    optimizer=optimizer,\n",
    "    lr_scheduler=lr_scheduler,\n",
    "    device=device,\n",
    "):\n",
    "    pos_labels = torch.ones(batch_size).to(device)\n",
    "    neg_labels = torch.zeros(batch_size, num_negatives).to(device)\n",
    "    loss_history = []\n",
    "    for step in tqdma(range(steps)):\n",
    "        batch, neg_samples = generate_batch_with_neg_samples(\n",
    "            context_pairs,\n",
    "            batch_size,\n",
    "            keep_prob_array,\n",
    "            word_to_index,\n",
    "            num_negatives,\n",
    "            negative_sampling_prob_array,\n",
    "        )\n",
    "        center_words = torch.tensor([pair[0] for pair in batch], dtype=torch.long).to(\n",
    "            device\n",
    "        )\n",
    "        pos_context_words = torch.tensor(\n",
    "            [pair[1] for pair in batch], dtype=torch.long\n",
    "        ).to(device)\n",
    "        neg_context_words = torch.tensor(neg_samples, dtype=torch.long).to(device)\n",
    "\n",
    "        optimizer.zero_grad()\n",
    "        pos_scores, neg_scores = model(\n",
    "            center_words, pos_context_words, neg_context_words\n",
    "        )\n",
    "\n",
    "        loss_pos = criterion(pos_scores, pos_labels)\n",
    "        loss_neg = criterion(neg_scores, neg_labels)\n",
    "\n",
    "        loss = loss_pos + loss_neg\n",
    "        loss.backward()\n",
    "        optimizer.step()\n",
    "\n",
    "        loss_history.append(loss.item())\n",
    "        lr_scheduler.step(loss_history[-1])\n",
    "\n",
    "        if step % 10 == 0:\n",
    "            print(\n",
    "                f\"Step {step}, Loss: {np.mean(loss_history[-100:])}, learning rate: {lr_scheduler._last_lr}\"\n",
    "            )"
   ]
  },
  {
   "cell_type": "code",
   "execution_count": 26,
   "metadata": {},
   "outputs": [
    {
     "data": {
      "application/vnd.jupyter.widget-view+json": {
       "model_id": "ab21420892f14fddbbd85291866fb5ad",
       "version_major": 2,
       "version_minor": 0
      },
      "text/plain": [
       "  0%|          | 0/250 [00:00<?, ?it/s]"
      ]
     },
     "metadata": {},
     "output_type": "display_data"
    },
    {
     "name": "stdout",
     "output_type": "stream",
     "text": [
      "Step 0, Loss: 1.335140347480774, learning rate: [0.05]\n",
      "Step 10, Loss: 1.3286274454810403, learning rate: [0.05]\n",
      "Step 20, Loss: 1.3333497388022286, learning rate: [0.025]\n",
      "Step 30, Loss: 1.3351556524153678, learning rate: [0.025]\n",
      "Step 40, Loss: 1.3328664186524182, learning rate: [0.025]\n",
      "Step 50, Loss: 1.3311456184761197, learning rate: [0.025]\n",
      "Step 60, Loss: 1.3271423285124733, learning rate: [0.025]\n",
      "Step 70, Loss: 1.3223257602100642, learning rate: [0.025]\n",
      "Step 80, Loss: 1.318477655634468, learning rate: [0.025]\n",
      "Step 90, Loss: 1.3151025968593555, learning rate: [0.025]\n",
      "Step 100, Loss: 1.3111420953273774, learning rate: [0.025]\n",
      "Step 110, Loss: 1.3057776880264282, learning rate: [0.025]\n",
      "Step 120, Loss: 1.298637377023697, learning rate: [0.025]\n",
      "Step 130, Loss: 1.2910352897644044, learning rate: [0.025]\n",
      "Step 140, Loss: 1.2838531970977782, learning rate: [0.0125]\n",
      "Step 150, Loss: 1.2763186359405518, learning rate: [0.0125]\n",
      "Step 160, Loss: 1.270439465045929, learning rate: [0.0125]\n",
      "Step 170, Loss: 1.2654332363605498, learning rate: [0.0125]\n",
      "Step 180, Loss: 1.2597231411933898, learning rate: [0.0125]\n",
      "Step 190, Loss: 1.2535908544063568, learning rate: [0.0125]\n",
      "Step 200, Loss: 1.24852254986763, learning rate: [0.0125]\n",
      "Step 210, Loss: 1.2431703567504884, learning rate: [0.0125]\n",
      "Step 220, Loss: 1.2377817809581757, learning rate: [0.0125]\n",
      "Step 230, Loss: 1.2330903673171998, learning rate: [0.0125]\n",
      "Step 240, Loss: 1.2285587310791015, learning rate: [0.0125]\n"
     ]
    }
   ],
   "source": [
    "steps = 250\n",
    "batch_size = 5000\n",
    "train_skipgram_with_neg_sampling(\n",
    "    model,\n",
    "    context_pairs,\n",
    "    keep_prob_array,\n",
    "    word_to_index,\n",
    "    batch_size,\n",
    "    num_negatives,\n",
    "    negative_sampling_prob_array,\n",
    "    steps,\n",
    ")"
   ]
  },
  {
   "cell_type": "markdown",
   "metadata": {},
   "source": [
    "Наконец, используйте полученную матрицу весов в качестве матрицы в векторными представлениями слов. Рекомендуем использовать для сдачи матрицу, которая отвечала за слова из контекста (т.е. декодера)."
   ]
  },
  {
   "cell_type": "code",
   "execution_count": 27,
   "metadata": {},
   "outputs": [],
   "source": [
    "_model_parameters = model.parameters()\n",
    "embedding_matrix_center = next(\n",
    "    _model_parameters\n",
    ").detach()  # Assuming that first matrix was for central word\n",
    "embedding_matrix_context = next(\n",
    "    _model_parameters\n",
    ").detach()  # Assuming that second matrix was for context word"
   ]
  },
  {
   "cell_type": "code",
   "execution_count": 28,
   "metadata": {},
   "outputs": [],
   "source": [
    "def get_word_vector(word, embedding_matrix, word_to_index=word_to_index):\n",
    "    return embedding_matrix[word_to_index[word]]"
   ]
  },
  {
   "cell_type": "markdown",
   "metadata": {},
   "source": [
    "Простые проверки:"
   ]
  },
  {
   "cell_type": "code",
   "execution_count": 29,
   "metadata": {},
   "outputs": [],
   "source": [
    "similarity_1 = F.cosine_similarity(\n",
    "    get_word_vector(\"iphone\", embedding_matrix_context)[None, :],\n",
    "    get_word_vector(\"apple\", embedding_matrix_context)[None, :],\n",
    ")\n",
    "similarity_2 = F.cosine_similarity(\n",
    "    get_word_vector(\"iphone\", embedding_matrix_context)[None, :],\n",
    "    get_word_vector(\"dell\", embedding_matrix_context)[None, :],\n",
    ")\n",
    "assert similarity_1 > similarity_2"
   ]
  },
  {
   "cell_type": "code",
   "execution_count": 30,
   "metadata": {},
   "outputs": [],
   "source": [
    "similarity_1 = F.cosine_similarity(\n",
    "    get_word_vector(\"windows\", embedding_matrix_context)[None, :],\n",
    "    get_word_vector(\"laptop\", embedding_matrix_context)[None, :],\n",
    ")\n",
    "similarity_2 = F.cosine_similarity(\n",
    "    get_word_vector(\"windows\", embedding_matrix_context)[None, :],\n",
    "    get_word_vector(\"macbook\", embedding_matrix_context)[None, :],\n",
    ")\n",
    "assert similarity_1 > similarity_2"
   ]
  },
  {
   "cell_type": "markdown",
   "metadata": {},
   "source": [
    "Наконец, взглянем на ближайшие по косинусной мере слова. Функция реализована ниже."
   ]
  },
  {
   "cell_type": "code",
   "execution_count": 31,
   "metadata": {
    "id": "dA0V6rOYtsLk"
   },
   "outputs": [],
   "source": [
    "def find_nearest(word, embedding_matrix, word_to_index=word_to_index, k=10):\n",
    "    word_vector = get_word_vector(word, embedding_matrix)[None, :]\n",
    "    dists = F.cosine_similarity(embedding_matrix, word_vector)\n",
    "    index_sorted = torch.argsort(dists)\n",
    "    top_k = index_sorted[-k:]\n",
    "    return [(index_to_word[x], dists[x].item()) for x in top_k.cpu().numpy()]"
   ]
  },
  {
   "cell_type": "code",
   "execution_count": 32,
   "metadata": {},
   "outputs": [
    {
     "data": {
      "text/plain": [
       "[('wooden', 0.7160938382148743),\n",
       " ('html', 0.7176582217216492),\n",
       " ('subscription', 0.7275549173355103),\n",
       " ('c', 0.7323403358459473),\n",
       " ('angularjs', 0.7454349398612976),\n",
       " ('v8', 0.7470232248306274),\n",
       " ('framework', 0.7751227021217346),\n",
       " ('programming', 0.7805712819099426),\n",
       " ('java', 0.8083318471908569),\n",
       " ('python', 1.000000238418579)]"
      ]
     },
     "execution_count": 32,
     "metadata": {},
     "output_type": "execute_result"
    }
   ],
   "source": [
    "find_nearest(\"python\", embedding_matrix_context, k=10)"
   ]
  },
  {
   "cell_type": "markdown",
   "metadata": {},
   "source": [
    "Также вы можете визуально проверить, как представлены в латентном пространстве часто встречающиеся слова."
   ]
  },
  {
   "cell_type": "code",
   "execution_count": 33,
   "metadata": {},
   "outputs": [],
   "source": [
    "top_k = 5000\n",
    "_top_words = sorted([x for x in word_count_dict.items()], key=lambda x: x[1])[\n",
    "    -top_k - 100 : -100\n",
    "]  # ignoring 100 most frequent words\n",
    "top_words = [x[0] for x in _top_words]\n",
    "del _top_words"
   ]
  },
  {
   "cell_type": "code",
   "execution_count": 35,
   "metadata": {},
   "outputs": [],
   "source": [
    "word_embeddings = torch.cat(\n",
    "    [embedding_matrix_context[word_to_index[x]][None, :] for x in top_words], dim=0\n",
    ").cpu().numpy()"
   ]
  },
  {
   "cell_type": "code",
   "execution_count": 36,
   "metadata": {},
   "outputs": [
    {
     "data": {
      "text/html": [
       "    <style>\n",
       "        .bk-notebook-logo {\n",
       "            display: block;\n",
       "            width: 20px;\n",
       "            height: 20px;\n",
       "            background-image: url(data:image/png;base64,iVBORw0KGgoAAAANSUhEUgAAABQAAAAUCAYAAACNiR0NAAAABHNCSVQICAgIfAhkiAAAAAlwSFlzAAALEgAACxIB0t1+/AAAABx0RVh0U29mdHdhcmUAQWRvYmUgRmlyZXdvcmtzIENTNui8sowAAAOkSURBVDiNjZRtaJVlGMd/1/08zzln5zjP1LWcU9N0NkN8m2CYjpgQYQXqSs0I84OLIC0hkEKoPtiH3gmKoiJDU7QpLgoLjLIQCpEsNJ1vqUOdO7ppbuec5+V+rj4ctwzd8IIbbi6u+8f1539dt3A78eXC7QizUF7gyV1fD1Yqg4JWz84yffhm0qkFqBogB9rM8tZdtwVsPUhWhGcFJngGeWrPzHm5oaMmkfEg1usvLFyc8jLRqDOMru7AyC8saQr7GG7f5fvDeH7Ej8CM66nIF+8yngt6HWaKh7k49Soy9nXurCi1o3qUbS3zWfrYeQDTB/Qj6kX6Ybhw4B+bOYoLKCC9H3Nu/leUTZ1JdRWkkn2ldcCamzrcf47KKXdAJllSlxAOkRgyHsGC/zRday5Qld9DyoM4/q/rUoy/CXh3jzOu3bHUVZeU+DEn8FInkPBFlu3+nW3Nw0mk6vCDiWg8CeJaxEwuHS3+z5RgY+YBR6V1Z1nxSOfoaPa4LASWxxdNp+VWTk7+4vzaou8v8PN+xo+KY2xsw6une2frhw05CTYOmQvsEhjhWjn0bmXPjpE1+kplmmkP3suftwTubK9Vq22qKmrBhpY4jvd5afdRA3wGjFAgcnTK2s4hY0/GPNIb0nErGMCRxWOOX64Z8RAC4oCXdklmEvcL8o0BfkNK4lUg9HTl+oPlQxdNo3Mg4Nv175e/1LDGzZen30MEjRUtmXSfiTVu1kK8W4txyV6BMKlbgk3lMwYCiusNy9fVfvvwMxv8Ynl6vxoByANLTWplvuj/nF9m2+PDtt1eiHPBr1oIfhCChQMBw6Aw0UulqTKZdfVvfG7VcfIqLG9bcldL/+pdWTLxLUy8Qq38heUIjh4XlzZxzQm19lLFlr8vdQ97rjZVOLf8nclzckbcD4wxXMidpX30sFd37Fv/GtwwhzhxGVAprjbg0gCAEeIgwCZyTV2Z1REEW8O4py0wsjeloKoMr6iCY6dP92H6Vw/oTyICIthibxjm/DfN9lVz8IqtqKYLUXfoKVMVQVVJOElGjrnnUt9T9wbgp8AyYKaGlqingHZU/uG2NTZSVqwHQTWkx9hxjkpWDaCg6Ckj5qebgBVbT3V3NNXMSiWSDdGV3hrtzla7J+duwPOToIg42ChPQOQjspnSlp1V+Gjdged7+8UN5CRAV7a5EdFNwCjEaBR27b3W890TE7g24NAP/mMDXRWrGoFPQI9ls/MWO2dWFAar/xcOIImbbpA3zgAAAABJRU5ErkJggg==);\n",
       "        }\n",
       "    </style>\n",
       "    <div>\n",
       "        <a href=\"https://bokeh.org\" target=\"_blank\" class=\"bk-notebook-logo\"></a>\n",
       "        <span id=\"de3c5d40-e655-49ab-b9d1-2f7e3b0f2a6f\">Loading BokehJS ...</span>\n",
       "    </div>\n"
      ]
     },
     "metadata": {},
     "output_type": "display_data"
    },
    {
     "data": {
      "application/javascript": [
       "'use strict';\n",
       "(function(root) {\n",
       "  function now() {\n",
       "    return new Date();\n",
       "  }\n",
       "\n",
       "  const force = true;\n",
       "\n",
       "  if (typeof root._bokeh_onload_callbacks === \"undefined\" || force === true) {\n",
       "    root._bokeh_onload_callbacks = [];\n",
       "    root._bokeh_is_loading = undefined;\n",
       "  }\n",
       "\n",
       "const JS_MIME_TYPE = 'application/javascript';\n",
       "  const HTML_MIME_TYPE = 'text/html';\n",
       "  const EXEC_MIME_TYPE = 'application/vnd.bokehjs_exec.v0+json';\n",
       "  const CLASS_NAME = 'output_bokeh rendered_html';\n",
       "\n",
       "  /**\n",
       "   * Render data to the DOM node\n",
       "   */\n",
       "  function render(props, node) {\n",
       "    const script = document.createElement(\"script\");\n",
       "    node.appendChild(script);\n",
       "  }\n",
       "\n",
       "  /**\n",
       "   * Handle when an output is cleared or removed\n",
       "   */\n",
       "  function handleClearOutput(event, handle) {\n",
       "    function drop(id) {\n",
       "      const view = Bokeh.index.get_by_id(id)\n",
       "      if (view != null) {\n",
       "        view.model.document.clear()\n",
       "        Bokeh.index.delete(view)\n",
       "      }\n",
       "    }\n",
       "\n",
       "    const cell = handle.cell;\n",
       "\n",
       "    const id = cell.output_area._bokeh_element_id;\n",
       "    const server_id = cell.output_area._bokeh_server_id;\n",
       "\n",
       "    // Clean up Bokeh references\n",
       "    if (id != null) {\n",
       "      drop(id)\n",
       "    }\n",
       "\n",
       "    if (server_id !== undefined) {\n",
       "      // Clean up Bokeh references\n",
       "      const cmd_clean = \"from bokeh.io.state import curstate; print(curstate().uuid_to_server['\" + server_id + \"'].get_sessions()[0].document.roots[0]._id)\";\n",
       "      cell.notebook.kernel.execute(cmd_clean, {\n",
       "        iopub: {\n",
       "          output: function(msg) {\n",
       "            const id = msg.content.text.trim()\n",
       "            drop(id)\n",
       "          }\n",
       "        }\n",
       "      });\n",
       "      // Destroy server and session\n",
       "      const cmd_destroy = \"import bokeh.io.notebook as ion; ion.destroy_server('\" + server_id + \"')\";\n",
       "      cell.notebook.kernel.execute(cmd_destroy);\n",
       "    }\n",
       "  }\n",
       "\n",
       "  /**\n",
       "   * Handle when a new output is added\n",
       "   */\n",
       "  function handleAddOutput(event, handle) {\n",
       "    const output_area = handle.output_area;\n",
       "    const output = handle.output;\n",
       "\n",
       "    // limit handleAddOutput to display_data with EXEC_MIME_TYPE content only\n",
       "    if ((output.output_type != \"display_data\") || (!Object.prototype.hasOwnProperty.call(output.data, EXEC_MIME_TYPE))) {\n",
       "      return\n",
       "    }\n",
       "\n",
       "    const toinsert = output_area.element.find(\".\" + CLASS_NAME.split(' ')[0]);\n",
       "\n",
       "    if (output.metadata[EXEC_MIME_TYPE][\"id\"] !== undefined) {\n",
       "      toinsert[toinsert.length - 1].firstChild.textContent = output.data[JS_MIME_TYPE];\n",
       "      // store reference to embed id on output_area\n",
       "      output_area._bokeh_element_id = output.metadata[EXEC_MIME_TYPE][\"id\"];\n",
       "    }\n",
       "    if (output.metadata[EXEC_MIME_TYPE][\"server_id\"] !== undefined) {\n",
       "      const bk_div = document.createElement(\"div\");\n",
       "      bk_div.innerHTML = output.data[HTML_MIME_TYPE];\n",
       "      const script_attrs = bk_div.children[0].attributes;\n",
       "      for (let i = 0; i < script_attrs.length; i++) {\n",
       "        toinsert[toinsert.length - 1].firstChild.setAttribute(script_attrs[i].name, script_attrs[i].value);\n",
       "        toinsert[toinsert.length - 1].firstChild.textContent = bk_div.children[0].textContent\n",
       "      }\n",
       "      // store reference to server id on output_area\n",
       "      output_area._bokeh_server_id = output.metadata[EXEC_MIME_TYPE][\"server_id\"];\n",
       "    }\n",
       "  }\n",
       "\n",
       "  function register_renderer(events, OutputArea) {\n",
       "\n",
       "    function append_mime(data, metadata, element) {\n",
       "      // create a DOM node to render to\n",
       "      const toinsert = this.create_output_subarea(\n",
       "        metadata,\n",
       "        CLASS_NAME,\n",
       "        EXEC_MIME_TYPE\n",
       "      );\n",
       "      this.keyboard_manager.register_events(toinsert);\n",
       "      // Render to node\n",
       "      const props = {data: data, metadata: metadata[EXEC_MIME_TYPE]};\n",
       "      render(props, toinsert[toinsert.length - 1]);\n",
       "      element.append(toinsert);\n",
       "      return toinsert\n",
       "    }\n",
       "\n",
       "    /* Handle when an output is cleared or removed */\n",
       "    events.on('clear_output.CodeCell', handleClearOutput);\n",
       "    events.on('delete.Cell', handleClearOutput);\n",
       "\n",
       "    /* Handle when a new output is added */\n",
       "    events.on('output_added.OutputArea', handleAddOutput);\n",
       "\n",
       "    /**\n",
       "     * Register the mime type and append_mime function with output_area\n",
       "     */\n",
       "    OutputArea.prototype.register_mime_type(EXEC_MIME_TYPE, append_mime, {\n",
       "      /* Is output safe? */\n",
       "      safe: true,\n",
       "      /* Index of renderer in `output_area.display_order` */\n",
       "      index: 0\n",
       "    });\n",
       "  }\n",
       "\n",
       "  // register the mime type if in Jupyter Notebook environment and previously unregistered\n",
       "  if (root.Jupyter !== undefined) {\n",
       "    const events = require('base/js/events');\n",
       "    const OutputArea = require('notebook/js/outputarea').OutputArea;\n",
       "\n",
       "    if (OutputArea.prototype.mime_types().indexOf(EXEC_MIME_TYPE) == -1) {\n",
       "      register_renderer(events, OutputArea);\n",
       "    }\n",
       "  }\n",
       "  if (typeof (root._bokeh_timeout) === \"undefined\" || force === true) {\n",
       "    root._bokeh_timeout = Date.now() + 5000;\n",
       "    root._bokeh_failed_load = false;\n",
       "  }\n",
       "\n",
       "  const NB_LOAD_WARNING = {'data': {'text/html':\n",
       "     \"<div style='background-color: #fdd'>\\n\"+\n",
       "     \"<p>\\n\"+\n",
       "     \"BokehJS does not appear to have successfully loaded. If loading BokehJS from CDN, this \\n\"+\n",
       "     \"may be due to a slow or bad network connection. Possible fixes:\\n\"+\n",
       "     \"</p>\\n\"+\n",
       "     \"<ul>\\n\"+\n",
       "     \"<li>re-rerun `output_notebook()` to attempt to load from CDN again, or</li>\\n\"+\n",
       "     \"<li>use INLINE resources instead, as so:</li>\\n\"+\n",
       "     \"</ul>\\n\"+\n",
       "     \"<code>\\n\"+\n",
       "     \"from bokeh.resources import INLINE\\n\"+\n",
       "     \"output_notebook(resources=INLINE)\\n\"+\n",
       "     \"</code>\\n\"+\n",
       "     \"</div>\"}};\n",
       "\n",
       "  function display_loaded(error = null) {\n",
       "    const el = document.getElementById(\"de3c5d40-e655-49ab-b9d1-2f7e3b0f2a6f\");\n",
       "    if (el != null) {\n",
       "      const html = (() => {\n",
       "        if (typeof root.Bokeh === \"undefined\") {\n",
       "          if (error == null) {\n",
       "            return \"BokehJS is loading ...\";\n",
       "          } else {\n",
       "            return \"BokehJS failed to load.\";\n",
       "          }\n",
       "        } else {\n",
       "          const prefix = `BokehJS ${root.Bokeh.version}`;\n",
       "          if (error == null) {\n",
       "            return `${prefix} successfully loaded.`;\n",
       "          } else {\n",
       "            return `${prefix} <b>encountered errors</b> while loading and may not function as expected.`;\n",
       "          }\n",
       "        }\n",
       "      })();\n",
       "      el.innerHTML = html;\n",
       "\n",
       "      if (error != null) {\n",
       "        const wrapper = document.createElement(\"div\");\n",
       "        wrapper.style.overflow = \"auto\";\n",
       "        wrapper.style.height = \"5em\";\n",
       "        wrapper.style.resize = \"vertical\";\n",
       "        const content = document.createElement(\"div\");\n",
       "        content.style.fontFamily = \"monospace\";\n",
       "        content.style.whiteSpace = \"pre-wrap\";\n",
       "        content.style.backgroundColor = \"rgb(255, 221, 221)\";\n",
       "        content.textContent = error.stack ?? error.toString();\n",
       "        wrapper.append(content);\n",
       "        el.append(wrapper);\n",
       "      }\n",
       "    } else if (Date.now() < root._bokeh_timeout) {\n",
       "      setTimeout(() => display_loaded(error), 100);\n",
       "    }\n",
       "  }\n",
       "\n",
       "  function run_callbacks() {\n",
       "    try {\n",
       "      root._bokeh_onload_callbacks.forEach(function(callback) {\n",
       "        if (callback != null)\n",
       "          callback();\n",
       "      });\n",
       "    } finally {\n",
       "      delete root._bokeh_onload_callbacks\n",
       "    }\n",
       "    console.debug(\"Bokeh: all callbacks have finished\");\n",
       "  }\n",
       "\n",
       "  function load_libs(css_urls, js_urls, callback) {\n",
       "    if (css_urls == null) css_urls = [];\n",
       "    if (js_urls == null) js_urls = [];\n",
       "\n",
       "    root._bokeh_onload_callbacks.push(callback);\n",
       "    if (root._bokeh_is_loading > 0) {\n",
       "      console.debug(\"Bokeh: BokehJS is being loaded, scheduling callback at\", now());\n",
       "      return null;\n",
       "    }\n",
       "    if (js_urls == null || js_urls.length === 0) {\n",
       "      run_callbacks();\n",
       "      return null;\n",
       "    }\n",
       "    console.debug(\"Bokeh: BokehJS not loaded, scheduling load and callback at\", now());\n",
       "    root._bokeh_is_loading = css_urls.length + js_urls.length;\n",
       "\n",
       "    function on_load() {\n",
       "      root._bokeh_is_loading--;\n",
       "      if (root._bokeh_is_loading === 0) {\n",
       "        console.debug(\"Bokeh: all BokehJS libraries/stylesheets loaded\");\n",
       "        run_callbacks()\n",
       "      }\n",
       "    }\n",
       "\n",
       "    function on_error(url) {\n",
       "      console.error(\"failed to load \" + url);\n",
       "    }\n",
       "\n",
       "    for (let i = 0; i < css_urls.length; i++) {\n",
       "      const url = css_urls[i];\n",
       "      const element = document.createElement(\"link\");\n",
       "      element.onload = on_load;\n",
       "      element.onerror = on_error.bind(null, url);\n",
       "      element.rel = \"stylesheet\";\n",
       "      element.type = \"text/css\";\n",
       "      element.href = url;\n",
       "      console.debug(\"Bokeh: injecting link tag for BokehJS stylesheet: \", url);\n",
       "      document.body.appendChild(element);\n",
       "    }\n",
       "\n",
       "    for (let i = 0; i < js_urls.length; i++) {\n",
       "      const url = js_urls[i];\n",
       "      const element = document.createElement('script');\n",
       "      element.onload = on_load;\n",
       "      element.onerror = on_error.bind(null, url);\n",
       "      element.async = false;\n",
       "      element.src = url;\n",
       "      console.debug(\"Bokeh: injecting script tag for BokehJS library: \", url);\n",
       "      document.head.appendChild(element);\n",
       "    }\n",
       "  };\n",
       "\n",
       "  function inject_raw_css(css) {\n",
       "    const element = document.createElement(\"style\");\n",
       "    element.appendChild(document.createTextNode(css));\n",
       "    document.body.appendChild(element);\n",
       "  }\n",
       "\n",
       "  const js_urls = [\"https://cdn.bokeh.org/bokeh/release/bokeh-3.6.0.min.js\", \"https://cdn.bokeh.org/bokeh/release/bokeh-gl-3.6.0.min.js\", \"https://cdn.bokeh.org/bokeh/release/bokeh-widgets-3.6.0.min.js\", \"https://cdn.bokeh.org/bokeh/release/bokeh-tables-3.6.0.min.js\", \"https://cdn.bokeh.org/bokeh/release/bokeh-mathjax-3.6.0.min.js\"];\n",
       "  const css_urls = [];\n",
       "\n",
       "  const inline_js = [    function(Bokeh) {\n",
       "      Bokeh.set_log_level(\"info\");\n",
       "    },\n",
       "function(Bokeh) {\n",
       "    }\n",
       "  ];\n",
       "\n",
       "  function run_inline_js() {\n",
       "    if (root.Bokeh !== undefined || force === true) {\n",
       "      try {\n",
       "            for (let i = 0; i < inline_js.length; i++) {\n",
       "      inline_js[i].call(root, root.Bokeh);\n",
       "    }\n",
       "\n",
       "      } catch (error) {display_loaded(error);throw error;\n",
       "      }if (force === true) {\n",
       "        display_loaded();\n",
       "      }} else if (Date.now() < root._bokeh_timeout) {\n",
       "      setTimeout(run_inline_js, 100);\n",
       "    } else if (!root._bokeh_failed_load) {\n",
       "      console.log(\"Bokeh: BokehJS failed to load within specified timeout.\");\n",
       "      root._bokeh_failed_load = true;\n",
       "    } else if (force !== true) {\n",
       "      const cell = $(document.getElementById(\"de3c5d40-e655-49ab-b9d1-2f7e3b0f2a6f\")).parents('.cell').data().cell;\n",
       "      cell.output_area.append_execute_result(NB_LOAD_WARNING)\n",
       "    }\n",
       "  }\n",
       "\n",
       "  if (root._bokeh_is_loading === 0) {\n",
       "    console.debug(\"Bokeh: BokehJS loaded, going straight to plotting\");\n",
       "    run_inline_js();\n",
       "  } else {\n",
       "    load_libs(css_urls, js_urls, function() {\n",
       "      console.debug(\"Bokeh: BokehJS plotting callback run at\", now());\n",
       "      run_inline_js();\n",
       "    });\n",
       "  }\n",
       "}(window));"
      ],
      "application/vnd.bokehjs_load.v0+json": "'use strict';\n(function(root) {\n  function now() {\n    return new Date();\n  }\n\n  const force = true;\n\n  if (typeof root._bokeh_onload_callbacks === \"undefined\" || force === true) {\n    root._bokeh_onload_callbacks = [];\n    root._bokeh_is_loading = undefined;\n  }\n\n\n  if (typeof (root._bokeh_timeout) === \"undefined\" || force === true) {\n    root._bokeh_timeout = Date.now() + 5000;\n    root._bokeh_failed_load = false;\n  }\n\n  const NB_LOAD_WARNING = {'data': {'text/html':\n     \"<div style='background-color: #fdd'>\\n\"+\n     \"<p>\\n\"+\n     \"BokehJS does not appear to have successfully loaded. If loading BokehJS from CDN, this \\n\"+\n     \"may be due to a slow or bad network connection. Possible fixes:\\n\"+\n     \"</p>\\n\"+\n     \"<ul>\\n\"+\n     \"<li>re-rerun `output_notebook()` to attempt to load from CDN again, or</li>\\n\"+\n     \"<li>use INLINE resources instead, as so:</li>\\n\"+\n     \"</ul>\\n\"+\n     \"<code>\\n\"+\n     \"from bokeh.resources import INLINE\\n\"+\n     \"output_notebook(resources=INLINE)\\n\"+\n     \"</code>\\n\"+\n     \"</div>\"}};\n\n  function display_loaded(error = null) {\n    const el = document.getElementById(\"de3c5d40-e655-49ab-b9d1-2f7e3b0f2a6f\");\n    if (el != null) {\n      const html = (() => {\n        if (typeof root.Bokeh === \"undefined\") {\n          if (error == null) {\n            return \"BokehJS is loading ...\";\n          } else {\n            return \"BokehJS failed to load.\";\n          }\n        } else {\n          const prefix = `BokehJS ${root.Bokeh.version}`;\n          if (error == null) {\n            return `${prefix} successfully loaded.`;\n          } else {\n            return `${prefix} <b>encountered errors</b> while loading and may not function as expected.`;\n          }\n        }\n      })();\n      el.innerHTML = html;\n\n      if (error != null) {\n        const wrapper = document.createElement(\"div\");\n        wrapper.style.overflow = \"auto\";\n        wrapper.style.height = \"5em\";\n        wrapper.style.resize = \"vertical\";\n        const content = document.createElement(\"div\");\n        content.style.fontFamily = \"monospace\";\n        content.style.whiteSpace = \"pre-wrap\";\n        content.style.backgroundColor = \"rgb(255, 221, 221)\";\n        content.textContent = error.stack ?? error.toString();\n        wrapper.append(content);\n        el.append(wrapper);\n      }\n    } else if (Date.now() < root._bokeh_timeout) {\n      setTimeout(() => display_loaded(error), 100);\n    }\n  }\n\n  function run_callbacks() {\n    try {\n      root._bokeh_onload_callbacks.forEach(function(callback) {\n        if (callback != null)\n          callback();\n      });\n    } finally {\n      delete root._bokeh_onload_callbacks\n    }\n    console.debug(\"Bokeh: all callbacks have finished\");\n  }\n\n  function load_libs(css_urls, js_urls, callback) {\n    if (css_urls == null) css_urls = [];\n    if (js_urls == null) js_urls = [];\n\n    root._bokeh_onload_callbacks.push(callback);\n    if (root._bokeh_is_loading > 0) {\n      console.debug(\"Bokeh: BokehJS is being loaded, scheduling callback at\", now());\n      return null;\n    }\n    if (js_urls == null || js_urls.length === 0) {\n      run_callbacks();\n      return null;\n    }\n    console.debug(\"Bokeh: BokehJS not loaded, scheduling load and callback at\", now());\n    root._bokeh_is_loading = css_urls.length + js_urls.length;\n\n    function on_load() {\n      root._bokeh_is_loading--;\n      if (root._bokeh_is_loading === 0) {\n        console.debug(\"Bokeh: all BokehJS libraries/stylesheets loaded\");\n        run_callbacks()\n      }\n    }\n\n    function on_error(url) {\n      console.error(\"failed to load \" + url);\n    }\n\n    for (let i = 0; i < css_urls.length; i++) {\n      const url = css_urls[i];\n      const element = document.createElement(\"link\");\n      element.onload = on_load;\n      element.onerror = on_error.bind(null, url);\n      element.rel = \"stylesheet\";\n      element.type = \"text/css\";\n      element.href = url;\n      console.debug(\"Bokeh: injecting link tag for BokehJS stylesheet: \", url);\n      document.body.appendChild(element);\n    }\n\n    for (let i = 0; i < js_urls.length; i++) {\n      const url = js_urls[i];\n      const element = document.createElement('script');\n      element.onload = on_load;\n      element.onerror = on_error.bind(null, url);\n      element.async = false;\n      element.src = url;\n      console.debug(\"Bokeh: injecting script tag for BokehJS library: \", url);\n      document.head.appendChild(element);\n    }\n  };\n\n  function inject_raw_css(css) {\n    const element = document.createElement(\"style\");\n    element.appendChild(document.createTextNode(css));\n    document.body.appendChild(element);\n  }\n\n  const js_urls = [\"https://cdn.bokeh.org/bokeh/release/bokeh-3.6.0.min.js\", \"https://cdn.bokeh.org/bokeh/release/bokeh-gl-3.6.0.min.js\", \"https://cdn.bokeh.org/bokeh/release/bokeh-widgets-3.6.0.min.js\", \"https://cdn.bokeh.org/bokeh/release/bokeh-tables-3.6.0.min.js\", \"https://cdn.bokeh.org/bokeh/release/bokeh-mathjax-3.6.0.min.js\"];\n  const css_urls = [];\n\n  const inline_js = [    function(Bokeh) {\n      Bokeh.set_log_level(\"info\");\n    },\nfunction(Bokeh) {\n    }\n  ];\n\n  function run_inline_js() {\n    if (root.Bokeh !== undefined || force === true) {\n      try {\n            for (let i = 0; i < inline_js.length; i++) {\n      inline_js[i].call(root, root.Bokeh);\n    }\n\n      } catch (error) {display_loaded(error);throw error;\n      }if (force === true) {\n        display_loaded();\n      }} else if (Date.now() < root._bokeh_timeout) {\n      setTimeout(run_inline_js, 100);\n    } else if (!root._bokeh_failed_load) {\n      console.log(\"Bokeh: BokehJS failed to load within specified timeout.\");\n      root._bokeh_failed_load = true;\n    } else if (force !== true) {\n      const cell = $(document.getElementById(\"de3c5d40-e655-49ab-b9d1-2f7e3b0f2a6f\")).parents('.cell').data().cell;\n      cell.output_area.append_execute_result(NB_LOAD_WARNING)\n    }\n  }\n\n  if (root._bokeh_is_loading === 0) {\n    console.debug(\"Bokeh: BokehJS loaded, going straight to plotting\");\n    run_inline_js();\n  } else {\n    load_libs(css_urls, js_urls, function() {\n      console.debug(\"Bokeh: BokehJS plotting callback run at\", now());\n      run_inline_js();\n    });\n  }\n}(window));"
     },
     "metadata": {},
     "output_type": "display_data"
    }
   ],
   "source": [
    "import bokeh.models as bm\n",
    "import bokeh.plotting as pl\n",
    "from bokeh.io import output_notebook\n",
    "\n",
    "output_notebook()\n",
    "\n",
    "\n",
    "def draw_vectors(\n",
    "    x,\n",
    "    y,\n",
    "    radius=10,\n",
    "    alpha=0.25,\n",
    "    color=\"blue\",\n",
    "    width=600,\n",
    "    height=400,\n",
    "    show=True,\n",
    "    **kwargs,\n",
    "):\n",
    "    \"\"\"draws an interactive plot for data points with auxilirary info on hover\"\"\"\n",
    "    if isinstance(color, str):\n",
    "        color = [color] * len(x)\n",
    "    data_source = bm.ColumnDataSource({\"x\": x, \"y\": y, \"color\": color, **kwargs})\n",
    "\n",
    "    fig = pl.figure(active_scroll=\"wheel_zoom\", width=width, height=height)\n",
    "    fig.scatter(\"x\", \"y\", size=radius, color=\"color\", alpha=alpha, source=data_source)\n",
    "\n",
    "    fig.add_tools(bm.HoverTool(tooltips=[(key, \"@\" + key) for key in kwargs.keys()]))\n",
    "    if show:\n",
    "        pl.show(fig)\n",
    "    return fig"
   ]
  },
  {
   "cell_type": "code",
   "execution_count": 37,
   "metadata": {},
   "outputs": [],
   "source": [
    "embedding = umap.UMAP(n_neighbors=5).fit_transform(word_embeddings)"
   ]
  },
  {
   "cell_type": "code",
   "execution_count": 38,
   "metadata": {},
   "outputs": [
    {
     "data": {
      "text/html": [
       "\n",
       "  <div id=\"fa9f158a-92a8-41dd-8ef6-dbef5ec869a7\" data-root-id=\"p1004\" style=\"display: contents;\"></div>\n"
      ]
     },
     "metadata": {},
     "output_type": "display_data"
    },
    {
     "data": {
      "application/javascript": [
       "(function(root) {\n",
       "  function embed_document(root) {\n",
       "  const docs_json = {\"c40ca394-01af-4e9f-85ee-900efa3b372a\":{\"version\":\"3.6.0\",\"title\":\"Bokeh Application\",\"roots\":[{\"type\":\"object\",\"name\":\"Figure\",\"id\":\"p1004\",\"attributes\":{\"height\":400,\"x_range\":{\"type\":\"object\",\"name\":\"DataRange1d\",\"id\":\"p1005\"},\"y_range\":{\"type\":\"object\",\"name\":\"DataRange1d\",\"id\":\"p1006\"},\"x_scale\":{\"type\":\"object\",\"name\":\"LinearScale\",\"id\":\"p1013\"},\"y_scale\":{\"type\":\"object\",\"name\":\"LinearScale\",\"id\":\"p1014\"},\"title\":{\"type\":\"object\",\"name\":\"Title\",\"id\":\"p1011\"},\"renderers\":[{\"type\":\"object\",\"name\":\"GlyphRenderer\",\"id\":\"p1044\",\"attributes\":{\"data_source\":{\"type\":\"object\",\"name\":\"ColumnDataSource\",\"id\":\"p1001\",\"attributes\":{\"selected\":{\"type\":\"object\",\"name\":\"Selection\",\"id\":\"p1002\",\"attributes\":{\"indices\":[],\"line_indices\":[]}},\"selection_policy\":{\"type\":\"object\",\"name\":\"UnionRenderers\",\"id\":\"p1003\"},\"data\":{\"type\":\"map\",\"entries\":[[\"x\",{\"type\":\"ndarray\",\"array\":{\"type\":\"bytes\",\"data\":\"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\"},\"shape\":[5000],\"dtype\":\"float32\",\"order\":\"little\"}],[\"y\",{\"type\":\"ndarray\",\"array\":{\"type\":\"bytes\",\"data\":\"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\"},\"shape\":[5000],\"dtype\":\"float32\",\"order\":\"little\"}],[\"color\",[\"blue\",\"blue\",\"blue\",\"blue\",\"blue\",\"blue\",\"blue\",\"blue\",\"blue\",\"blue\",\"blue\",\"blue\",\"blue\",\"blue\",\"blue\",\"blue\",\"blue\",\"blue\",\"blue\",\"blue\",\"blue\",\"blue\",\"blue\",\"blue\",\"blue\",\"blue\",\"blue\",\"blue\",\"blue\",\"blue\",\"blue\",\"blue\",\"blue\",\"blue\",\"blue\",\"blue\",\"blue\",\"blue\",\"blue\",\"blue\",\"blue\",\"blue\",\"blue\",\"blue\",\"blue\",\"blue\",\"blue\",\"blue\",\"blue\",\"blue\",\"blue\",\"blue\",\"blue\",\"blue\",\"blue\",\"blue\",\"blue\",\"blue\",\"blue\",\"blue\",\"blue\",\"blue\",\"blue\",\"blue\",\"blue\",\"blue\",\"blue\",\"blue\",\"blue\",\"blue\",\"blue\",\"blue\",\"blue\",\"blue\",\"blue\",\"blue\",\"blue\",\"blue\",\"blue\",\"blue\",\"blue\",\"blue\",\"blue\",\"blue\",\"blue\",\"blue\",\"blue\",\"blue\",\"blue\",\"blue\",\"blue\",\"blue\",\"blue\",\"blue\",\"blue\",\"blue\",\"blue\",\"blue\",\"blue\",\"blue\",\"blue\",\"blue\",\"blue\",\"blue\",\"blue\",\"blue\",\"blue\",\"blue\",\"blue\",\"blue\",\"blue\",\"blue\",\"blue\",\"blue\",\"blue\",\"blue\",\"blue\",\"blue\",\"blue\",\"blue\",\"blue\",\"blue\",\"blue\",\"blue\",\"blue\",\"blue\",\"blue\",\"blue\",\"blue\",\"blue\",\"blue\",\"blue\",\"blue\",\"blue\",\"blue\",\"blue\",\"blue\",\"blue\",\"blue\",\"blue\",\"blue\",\"blue\",\"blue\",\"blue\",\"blue\",\"blue\",\"blue\",\"blue\",\"blue\",\"blue\",\"blue\",\"blue\",\"blue\",\"blue\",\"blue\",\"blue\",\"blue\",\"blue\",\"blue\",\"blue\",\"blue\",\"blue\",\"blue\",\"blue\",\"blue\",\"blue\",\"blue\",\"blue\",\"blue\",\"blue\",\"blue\",\"blue\",\"blue\",\"blue\",\"blue\",\"blue\",\"blue\",\"blue\",\"blue\",\"blue\",\"blue\",\"blue\",\"blue\",\"blue\",\"blue\",\"blue\",\"blue\",\"blue\",\"blue\",\"blue\",\"blue\",\"blue\",\"blue\",\"blue\",\"blue\",\"blue\",\"blue\",\"blue\",\"blue\",\"blue\",\"blue\",\"blue\",\"blue\",\"blue\",\"blue\",\"blue\",\"blue\",\"blue\",\"blue\",\"blue\",\"blue\",\"blue\",\"blue\",\"blue\",\"blue\",\"blue\",\"blue\",\"blue\",\"blue\",\"blue\",\"blue\",\"blue\",\"blue\",\"blue\",\"blue\",\"blue\",\"blue\",\"blue\",\"blue\",\"blue\",\"blue\",\"blue\",\"blue\",\"blue\",\"blue\",\"blue\",\"blue\",\"blue\",\"blue\",\"blue\",\"blue\",\"blue\",\"blue\",\"blue\",\"blue\",\"blue\",\"blue\",\"blue\",\"blue\",\"blue\",\"blue\",\"blue\",\"blue\",\"blue\",\"blue\",\"blue\",\"blue\",\"blue\",\"blue\",\"blue\",\"blue\",\"blue\",\"blue\",\"blue\",\"blue\",\"blue\",\"blue\",\"blue\",\"blue\",\"blue\",\"blue\",\"blue\",\"blue\",\"blue\",\"blue\",\"blue\",\"blue\",\"blue\",\"blue\",\"blue\",\"blue\",\"blue\",\"blue\",\"blue\",\"blue\",\"blue\",\"blue\",\"blue\",\"blue\",\"blue\",\"blue\",\"blue\",\"blue\",\"blue\",\"blue\",\"blue\",\"blue\",\"blue\",\"blue\",\"blue\",\"blue\",\"blue\",\"blue\",\"blue\",\"blue\",\"blue\",\"blue\",\"blue\",\"blue\",\"blue\",\"blue\",\"blue\",\"blue\",\"blue\",\"blue\",\"blue\",\"blue\",\"blue\",\"blue\",\"blue\",\"blue\",\"blue\",\"blue\",\"blue\",\"blue\",\"blue\",\"blue\",\"blue\",\"blue\",\"blue\",\"blue\",\"blue\",\"blue\",\"blue\",\"blue\",\"blue\",\"blue\",\"blue\",\"blue\",\"blue\",\"blue\",\"blue\",\"blue\",\"blue\",\"blue\",\"blue\",\"blue\",\"blue\",\"blue\",\"blue\",\"blue\",\"blue\",\"blue\",\"blue\",\"blue\",\"blue\",\"blue\",\"blue\",\"blue\",\"blue\",\"blue\",\"blue\",\"blue\",\"blue\",\"blue\",\"blue\",\"blue\",\"blue\",\"blue\",\"blue\",\"blue\",\"blue\",\"blue\",\"blue\",\"blue\",\"blue\",\"blue\",\"blue\",\"blue\",\"blue\",\"blue\",\"blue\",\"blue\",\"blue\",\"blue\",\"blue\",\"blue\",\"blue\",\"blue\",\"blue\",\"blue\",\"blue\",\"blue\",\"blue\",\"blue\",\"blue\",\"blue\",\"blue\",\"blue\",\"blue\",\"blue\",\"blue\",\"blue\",\"blue\",\"blue\",\"blue\",\"blue\",\"blue\",\"blue\",\"blue\",\"blue\",\"blue\",\"blue\",\"blue\",\"blue\",\"blue\",\"blue\",\"blue\",\"blue\",\"blue\",\"blue\",\"blue\",\"blue\",\"blue\",\"blue\",\"blue\",\"blue\",\"blue\",\"blue\",\"blue\",\"blue\",\"blue\",\"blue\",\"blue\",\"blue\",\"blue\",\"blue\",\"blue\",\"blue\",\"blue\",\"blue\",\"blue\",\"blue\",\"blue\",\"blue\",\"blue\",\"blue\",\"blue\",\"blue\",\"blue\",\"blue\",\"blue\",\"blue\",\"blue\",\"blue\",\"blue\",\"blue\",\"blue\",\"blue\",\"blue\",\"blue\",\"blue\",\"blue\",\"blue\",\"blue\",\"blue\",\"blue\",\"blue\",\"blue\",\"blue\",\"blue\",\"blue\",\"blue\",\"blue\",\"blue\",\"blue\",\"blue\",\"blue\",\"blue\",\"blue\",\"blue\",\"blue\",\"blue\",\"blue\",\"blue\",\"blue\",\"blue\",\"blue\",\"blue\",\"blue\",\"blue\",\"blue\",\"blue\",\"blue\",\"blue\",\"blue\",\"blue\",\"blue\",\"blue\",\"blue\",\"blue\",\"blue\",\"blue\",\"blue\",\"blue\",\"blue\",\"blue\",\"blue\",\"blue\",\"blue\",\"blue\",\"blue\",\"blue\",\"blue\",\"blue\",\"blue\",\"blue\",\"blue\",\"blue\",\"blue\",\"blue\",\"blue\",\"blue\",\"blue\",\"blue\",\"blue\",\"blue\",\"blue\",\"blue\",\"blue\",\"blue\",\"blue\",\"blue\",\"blue\",\"blue\",\"blue\",\"blue\",\"blue\",\"blue\",\"blue\",\"blue\",\"blue\",\"blue\",\"blue\",\"blue\",\"blue\",\"blue\",\"blue\",\"blue\",\"blue\",\"blue\",\"blue\",\"blue\",\"blue\",\"blue\",\"blue\",\"blue\",\"blue\",\"blue\",\"blue\",\"blue\",\"blue\",\"blue\",\"blue\",\"blue\",\"blue\",\"blue\",\"blue\",\"blue\",\"blue\",\"blue\",\"blue\",\"blue\",\"blue\",\"blue\",\"blue\",\"blue\",\"blue\",\"blue\",\"blue\",\"blue\",\"blue\",\"blue\",\"blue\",\"blue\",\"blue\",\"blue\",\"blue\",\"blue\",\"blue\",\"blue\",\"blue\",\"blue\",\"blue\",\"blue\",\"blue\",\"blue\",\"blue\",\"blue\",\"blue\",\"blue\",\"blue\",\"blue\",\"blue\",\"blue\",\"blue\",\"blue\",\"blue\",\"blue\",\"blue\",\"blue\",\"blue\",\"blue\",\"blue\",\"blue\",\"blue\",\"blue\",\"blue\",\"blue\",\"blue\",\"blue\",\"blue\",\"blue\",\"blue\",\"blue\",\"blue\",\"blue\",\"blue\",\"blue\",\"blue\",\"blue\",\"blue\",\"blue\",\"blue\",\"blue\",\"blue\",\"blue\",\"blue\",\"blue\",\"blue\",\"blue\",\"blue\",\"blue\",\"blue\",\"blue\",\"blue\",\"blue\",\"blue\",\"blue\",\"blue\",\"blue\",\"blue\",\"blue\",\"blue\",\"blue\",\"blue\",\"blue\",\"blue\",\"blue\",\"blue\",\"blue\",\"blue\",\"blue\",\"blue\",\"blue\",\"blue\",\"blue\",\"blue\",\"blue\",\"blue\",\"blue\",\"blue\",\"blue\",\"blue\",\"blue\",\"blue\",\"blue\",\"blue\",\"blue\",\"blue\",\"blue\",\"blue\",\"blue\",\"blue\",\"blue\",\"blue\",\"blue\",\"blue\",\"blue\",\"blue\",\"blue\",\"blue\",\"blue\",\"blue\",\"blue\",\"blue\",\"blue\",\"blue\",\"blue\",\"blue\",\"blue\",\"blue\",\"blue\",\"blue\",\"blue\",\"blue\",\"blue\",\"blue\",\"blue\",\"blue\",\"blue\",\"blue\",\"blue\",\"blue\",\"blue\",\"blue\",\"blue\",\"blue\",\"blue\",\"blue\",\"blue\",\"blue\",\"blue\",\"blue\",\"blue\",\"blue\",\"blue\",\"blue\",\"blue\",\"blue\",\"blue\",\"blue\",\"blue\",\"blue\",\"blue\",\"blue\",\"blue\",\"blue\",\"blue\",\"blue\",\"blue\",\"blue\",\"blue\",\"blue\",\"blue\",\"blue\",\"blue\",\"blue\",\"blue\",\"blue\",\"blue\",\"blue\",\"blue\",\"blue\",\"blue\",\"blue\",\"blue\",\"blue\",\"blue\",\"blue\",\"blue\",\"blue\",\"blue\",\"blue\",\"blue\",\"blue\",\"blue\",\"blue\",\"blue\",\"blue\",\"blue\",\"blue\",\"blue\",\"blue\",\"blue\",\"blue\",\"blue\",\"blue\",\"blue\",\"blue\",\"blue\",\"blue\",\"blue\",\"blue\",\"blue\",\"blue\",\"blue\",\"blue\",\"blue\",\"blue\",\"blue\",\"blue\",\"blue\",\"blue\",\"blue\",\"blue\",\"blue\",\"blue\",\"blue\",\"blue\",\"blue\",\"blue\",\"blue\",\"blue\",\"blue\",\"blue\",\"blue\",\"blue\",\"blue\",\"blue\",\"blue\",\"blue\",\"blue\",\"blue\",\"blue\",\"blue\",\"blue\",\"blue\",\"blue\",\"blue\",\"blue\",\"blue\",\"blue\",\"blue\",\"blue\",\"blue\",\"blue\",\"blue\",\"blue\",\"blue\",\"blue\",\"blue\",\"blue\",\"blue\",\"blue\",\"blue\",\"blue\",\"blue\",\"blue\",\"blue\",\"blue\",\"blue\",\"blue\",\"blue\",\"blue\",\"blue\",\"blue\",\"blue\",\"blue\",\"blue\",\"blue\",\"blue\",\"blue\",\"blue\",\"blue\",\"blue\",\"blue\",\"blue\",\"blue\",\"blue\",\"blue\",\"blue\",\"blue\",\"blue\",\"blue\",\"blue\",\"blue\",\"blue\",\"blue\",\"blue\",\"blue\",\"blue\",\"blue\",\"blue\",\"blue\",\"blue\",\"blue\",\"blue\",\"blue\",\"blue\",\"blue\",\"blue\",\"blue\",\"blue\",\"blue\",\"blue\",\"blue\",\"blue\",\"blue\",\"blue\",\"blue\",\"blue\",\"blue\",\"blue\",\"blue\",\"blue\",\"blue\",\"blue\",\"blue\",\"blue\",\"blue\",\"blue\",\"blue\",\"blue\",\"blue\",\"blue\",\"blue\",\"blue\",\"blue\",\"blue\",\"blue\",\"blue\",\"blue\",\"blue\",\"blue\",\"blue\",\"blue\",\"blue\",\"blue\",\"blue\",\"blue\",\"blue\",\"blue\",\"blue\",\"blue\",\"blue\",\"blue\",\"blue\",\"blue\",\"blue\",\"blue\",\"blue\",\"blue\",\"blue\",\"blue\",\"blue\",\"blue\",\"blue\",\"blue\",\"blue\",\"blue\",\"blue\",\"blue\",\"blue\",\"blue\",\"blue\",\"blue\",\"blue\",\"blue\",\"blue\",\"blue\",\"blue\",\"blue\",\"blue\",\"blue\",\"blue\",\"blue\",\"blue\",\"blue\",\"blue\",\"blue\",\"blue\",\"blue\",\"blue\",\"blue\",\"blue\",\"blue\",\"blue\",\"blue\",\"blue\",\"blue\",\"blue\",\"blue\",\"blue\",\"blue\",\"blue\",\"blue\",\"blue\",\"blue\",\"blue\",\"blue\",\"blue\",\"blue\",\"blue\",\"blue\",\"blue\",\"blue\",\"blue\",\"blue\",\"blue\",\"blue\",\"blue\",\"blue\",\"blue\",\"blue\",\"blue\",\"blue\",\"blue\",\"blue\",\"blue\",\"blue\",\"blue\",\"blue\",\"blue\",\"blue\",\"blue\",\"blue\",\"blue\",\"blue\",\"blue\",\"blue\",\"blue\",\"blue\",\"blue\",\"blue\",\"blue\",\"blue\",\"blue\",\"blue\",\"blue\",\"blue\",\"blue\",\"blue\",\"blue\",\"blue\",\"blue\",\"blue\",\"blue\",\"blue\",\"blue\",\"blue\",\"blue\",\"blue\",\"blue\",\"blue\",\"blue\",\"blue\",\"blue\",\"blue\",\"blue\",\"blue\",\"blue\",\"blue\",\"blue\",\"blue\",\"blue\",\"blue\",\"blue\",\"blue\",\"blue\",\"blue\",\"blue\",\"blue\",\"blue\",\"blue\",\"blue\",\"blue\",\"blue\",\"blue\",\"blue\",\"blue\",\"blue\",\"blue\",\"blue\",\"blue\",\"blue\",\"blue\",\"blue\",\"blue\",\"blue\",\"blue\",\"blue\",\"blue\",\"blue\",\"blue\",\"blue\",\"blue\",\"blue\",\"blue\",\"blue\",\"blue\",\"blue\",\"blue\",\"blue\",\"blue\",\"blue\",\"blue\",\"blue\",\"blue\",\"blue\",\"blue\",\"blue\",\"blue\",\"blue\",\"blue\",\"blue\",\"blue\",\"blue\",\"blue\",\"blue\",\"blue\",\"blue\",\"blue\",\"blue\",\"blue\",\"blue\",\"blue\",\"blue\",\"blue\",\"blue\",\"blue\",\"blue\",\"blue\",\"blue\",\"blue\",\"blue\",\"blue\",\"blue\",\"blue\",\"blue\",\"blue\",\"blue\",\"blue\",\"blue\",\"blue\",\"blue\",\"blue\",\"blue\",\"blue\",\"blue\",\"blue\",\"blue\",\"blue\",\"blue\",\"blue\",\"blue\",\"blue\",\"blue\",\"blue\",\"blue\",\"blue\",\"blue\",\"blue\",\"blue\",\"blue\",\"blue\",\"blue\",\"blue\",\"blue\",\"blue\",\"blue\",\"blue\",\"blue\",\"blue\",\"blue\",\"blue\",\"blue\",\"blue\",\"blue\",\"blue\",\"blue\",\"blue\",\"blue\",\"blue\",\"blue\",\"blue\",\"blue\",\"blue\",\"blue\",\"blue\",\"blue\",\"blue\",\"blue\",\"blue\",\"blue\",\"blue\",\"blue\",\"blue\",\"blue\",\"blue\",\"blue\",\"blue\",\"blue\",\"blue\",\"blue\",\"blue\",\"blue\",\"blue\",\"blue\",\"blue\",\"blue\",\"blue\",\"blue\",\"blue\",\"blue\",\"blue\",\"blue\",\"blue\",\"blue\",\"blue\",\"blue\",\"blue\",\"blue\",\"blue\",\"blue\",\"blue\",\"blue\",\"blue\",\"blue\",\"blue\",\"blue\",\"blue\",\"blue\",\"blue\",\"blue\",\"blue\",\"blue\",\"blue\",\"blue\",\"blue\",\"blue\",\"blue\",\"blue\",\"blue\",\"blue\",\"blue\",\"blue\",\"blue\",\"blue\",\"blue\",\"blue\",\"blue\",\"blue\",\"blue\",\"blue\",\"blue\",\"blue\",\"blue\",\"blue\",\"blue\",\"blue\",\"blue\",\"blue\",\"blue\",\"blue\",\"blue\",\"blue\",\"blue\",\"blue\",\"blue\",\"blue\",\"blue\",\"blue\",\"blue\",\"blue\",\"blue\",\"blue\",\"blue\",\"blue\",\"blue\",\"blue\",\"blue\",\"blue\",\"blue\",\"blue\",\"blue\",\"blue\",\"blue\",\"blue\",\"blue\",\"blue\",\"blue\",\"blue\",\"blue\",\"blue\",\"blue\",\"blue\",\"blue\",\"blue\",\"blue\",\"blue\",\"blue\",\"blue\",\"blue\",\"blue\",\"blue\",\"blue\",\"blue\",\"blue\",\"blue\",\"blue\",\"blue\",\"blue\",\"blue\",\"blue\",\"blue\",\"blue\",\"blue\",\"blue\",\"blue\",\"blue\",\"blue\",\"blue\",\"blue\",\"blue\",\"blue\",\"blue\",\"blue\",\"blue\",\"blue\",\"blue\",\"blue\",\"blue\",\"blue\",\"blue\",\"blue\",\"blue\",\"blue\",\"blue\",\"blue\",\"blue\",\"blue\",\"blue\",\"blue\",\"blue\",\"blue\",\"blue\",\"blue\",\"blue\",\"blue\",\"blue\",\"blue\",\"blue\",\"blue\",\"blue\",\"blue\",\"blue\",\"blue\",\"blue\",\"blue\",\"blue\",\"blue\",\"blue\",\"blue\",\"blue\",\"blue\",\"blue\",\"blue\",\"blue\",\"blue\",\"blue\",\"blue\",\"blue\",\"blue\",\"blue\",\"blue\",\"blue\",\"blue\",\"blue\",\"blue\",\"blue\",\"blue\",\"blue\",\"blue\",\"blue\",\"blue\",\"blue\",\"blue\",\"blue\",\"blue\",\"blue\",\"blue\",\"blue\",\"blue\",\"blue\",\"blue\",\"blue\",\"blue\",\"blue\",\"blue\",\"blue\",\"blue\",\"blue\",\"blue\",\"blue\",\"blue\",\"blue\",\"blue\",\"blue\",\"blue\",\"blue\",\"blue\",\"blue\",\"blue\",\"blue\",\"blue\",\"blue\",\"blue\",\"blue\",\"blue\",\"blue\",\"blue\",\"blue\",\"blue\",\"blue\",\"blue\",\"blue\",\"blue\",\"blue\",\"blue\",\"blue\",\"blue\",\"blue\",\"blue\",\"blue\",\"blue\",\"blue\",\"blue\",\"blue\",\"blue\",\"blue\",\"blue\",\"blue\",\"blue\",\"blue\",\"blue\",\"blue\",\"blue\",\"blue\",\"blue\",\"blue\",\"blue\",\"blue\",\"blue\",\"blue\",\"blue\",\"blue\",\"blue\",\"blue\",\"blue\",\"blue\",\"blue\",\"blue\",\"blue\",\"blue\",\"blue\",\"blue\",\"blue\",\"blue\",\"blue\",\"blue\",\"blue\",\"blue\",\"blue\",\"blue\",\"blue\",\"blue\",\"blue\",\"blue\",\"blue\",\"blue\",\"blue\",\"blue\",\"blue\",\"blue\",\"blue\",\"blue\",\"blue\",\"blue\",\"blue\",\"blue\",\"blue\",\"blue\",\"blue\",\"blue\",\"blue\",\"blue\",\"blue\",\"blue\",\"blue\",\"blue\",\"blue\",\"blue\",\"blue\",\"blue\",\"blue\",\"blue\",\"blue\",\"blue\",\"blue\",\"blue\",\"blue\",\"blue\",\"blue\",\"blue\",\"blue\",\"blue\",\"blue\",\"blue\",\"blue\",\"blue\",\"blue\",\"blue\",\"blue\",\"blue\",\"blue\",\"blue\",\"blue\",\"blue\",\"blue\",\"blue\",\"blue\",\"blue\",\"blue\",\"blue\",\"blue\",\"blue\",\"blue\",\"blue\",\"blue\",\"blue\",\"blue\",\"blue\",\"blue\",\"blue\",\"blue\",\"blue\",\"blue\",\"blue\",\"blue\",\"blue\",\"blue\",\"blue\",\"blue\",\"blue\",\"blue\",\"blue\",\"blue\",\"blue\",\"blue\",\"blue\",\"blue\",\"blue\",\"blue\",\"blue\",\"blue\",\"blue\",\"blue\",\"blue\",\"blue\",\"blue\",\"blue\",\"blue\",\"blue\",\"blue\",\"blue\",\"blue\",\"blue\",\"blue\",\"blue\",\"blue\",\"blue\",\"blue\",\"blue\",\"blue\",\"blue\",\"blue\",\"blue\",\"blue\",\"blue\",\"blue\",\"blue\",\"blue\",\"blue\",\"blue\",\"blue\",\"blue\",\"blue\",\"blue\",\"blue\",\"blue\",\"blue\",\"blue\",\"blue\",\"blue\",\"blue\",\"blue\",\"blue\",\"blue\",\"blue\",\"blue\",\"blue\",\"blue\",\"blue\",\"blue\",\"blue\",\"blue\",\"blue\",\"blue\",\"blue\",\"blue\",\"blue\",\"blue\",\"blue\",\"blue\",\"blue\",\"blue\",\"blue\",\"blue\",\"blue\",\"blue\",\"blue\",\"blue\",\"blue\",\"blue\",\"blue\",\"blue\",\"blue\",\"blue\",\"blue\",\"blue\",\"blue\",\"blue\",\"blue\",\"blue\",\"blue\",\"blue\",\"blue\",\"blue\",\"blue\",\"blue\",\"blue\",\"blue\",\"blue\",\"blue\",\"blue\",\"blue\",\"blue\",\"blue\",\"blue\",\"blue\",\"blue\",\"blue\",\"blue\",\"blue\",\"blue\",\"blue\",\"blue\",\"blue\",\"blue\",\"blue\",\"blue\",\"blue\",\"blue\",\"blue\",\"blue\",\"blue\",\"blue\",\"blue\",\"blue\",\"blue\",\"blue\",\"blue\",\"blue\",\"blue\",\"blue\",\"blue\",\"blue\",\"blue\",\"blue\",\"blue\",\"blue\",\"blue\",\"blue\",\"blue\",\"blue\",\"blue\",\"blue\",\"blue\",\"blue\",\"blue\",\"blue\",\"blue\",\"blue\",\"blue\",\"blue\",\"blue\",\"blue\",\"blue\",\"blue\",\"blue\",\"blue\",\"blue\",\"blue\",\"blue\",\"blue\",\"blue\",\"blue\",\"blue\",\"blue\",\"blue\",\"blue\",\"blue\",\"blue\",\"blue\",\"blue\",\"blue\",\"blue\",\"blue\",\"blue\",\"blue\",\"blue\",\"blue\",\"blue\",\"blue\",\"blue\",\"blue\",\"blue\",\"blue\",\"blue\",\"blue\",\"blue\",\"blue\",\"blue\",\"blue\",\"blue\",\"blue\",\"blue\",\"blue\",\"blue\",\"blue\",\"blue\",\"blue\",\"blue\",\"blue\",\"blue\",\"blue\",\"blue\",\"blue\",\"blue\",\"blue\",\"blue\",\"blue\",\"blue\",\"blue\",\"blue\",\"blue\",\"blue\",\"blue\",\"blue\",\"blue\",\"blue\",\"blue\",\"blue\",\"blue\",\"blue\",\"blue\",\"blue\",\"blue\",\"blue\",\"blue\",\"blue\",\"blue\",\"blue\",\"blue\",\"blue\",\"blue\",\"blue\",\"blue\",\"blue\",\"blue\",\"blue\",\"blue\",\"blue\",\"blue\",\"blue\",\"blue\",\"blue\",\"blue\",\"blue\",\"blue\",\"blue\",\"blue\",\"blue\",\"blue\",\"blue\",\"blue\",\"blue\",\"blue\",\"blue\",\"blue\",\"blue\",\"blue\",\"blue\",\"blue\",\"blue\",\"blue\",\"blue\",\"blue\",\"blue\",\"blue\",\"blue\",\"blue\",\"blue\",\"blue\",\"blue\",\"blue\",\"blue\",\"blue\",\"blue\",\"blue\",\"blue\",\"blue\",\"blue\",\"blue\",\"blue\",\"blue\",\"blue\",\"blue\",\"blue\",\"blue\",\"blue\",\"blue\",\"blue\",\"blue\",\"blue\",\"blue\",\"blue\",\"blue\",\"blue\",\"blue\",\"blue\",\"blue\",\"blue\",\"blue\",\"blue\",\"blue\",\"blue\",\"blue\",\"blue\",\"blue\",\"blue\",\"blue\",\"blue\",\"blue\",\"blue\",\"blue\",\"blue\",\"blue\",\"blue\",\"blue\",\"blue\",\"blue\",\"blue\",\"blue\",\"blue\",\"blue\",\"blue\",\"blue\",\"blue\",\"blue\",\"blue\",\"blue\",\"blue\",\"blue\",\"blue\",\"blue\",\"blue\",\"blue\",\"blue\",\"blue\",\"blue\",\"blue\",\"blue\",\"blue\",\"blue\",\"blue\",\"blue\",\"blue\",\"blue\",\"blue\",\"blue\",\"blue\",\"blue\",\"blue\",\"blue\",\"blue\",\"blue\",\"blue\",\"blue\",\"blue\",\"blue\",\"blue\",\"blue\",\"blue\",\"blue\",\"blue\",\"blue\",\"blue\",\"blue\",\"blue\",\"blue\",\"blue\",\"blue\",\"blue\",\"blue\",\"blue\",\"blue\",\"blue\",\"blue\",\"blue\",\"blue\",\"blue\",\"blue\",\"blue\",\"blue\",\"blue\",\"blue\",\"blue\",\"blue\",\"blue\",\"blue\",\"blue\",\"blue\",\"blue\",\"blue\",\"blue\",\"blue\",\"blue\",\"blue\",\"blue\",\"blue\",\"blue\",\"blue\",\"blue\",\"blue\",\"blue\",\"blue\",\"blue\",\"blue\",\"blue\",\"blue\",\"blue\",\"blue\",\"blue\",\"blue\",\"blue\",\"blue\",\"blue\",\"blue\",\"blue\",\"blue\",\"blue\",\"blue\",\"blue\",\"blue\",\"blue\",\"blue\",\"blue\",\"blue\",\"blue\",\"blue\",\"blue\",\"blue\",\"blue\",\"blue\",\"blue\",\"blue\",\"blue\",\"blue\",\"blue\",\"blue\",\"blue\",\"blue\",\"blue\",\"blue\",\"blue\",\"blue\",\"blue\",\"blue\",\"blue\",\"blue\",\"blue\",\"blue\",\"blue\",\"blue\",\"blue\",\"blue\",\"blue\",\"blue\",\"blue\",\"blue\",\"blue\",\"blue\",\"blue\",\"blue\",\"blue\",\"blue\",\"blue\",\"blue\",\"blue\",\"blue\",\"blue\",\"blue\",\"blue\",\"blue\",\"blue\",\"blue\",\"blue\",\"blue\",\"blue\",\"blue\",\"blue\",\"blue\",\"blue\",\"blue\",\"blue\",\"blue\",\"blue\",\"blue\",\"blue\",\"blue\",\"blue\",\"blue\",\"blue\",\"blue\",\"blue\",\"blue\",\"blue\",\"blue\",\"blue\",\"blue\",\"blue\",\"blue\",\"blue\",\"blue\",\"blue\",\"blue\",\"blue\",\"blue\",\"blue\",\"blue\",\"blue\",\"blue\",\"blue\",\"blue\",\"blue\",\"blue\",\"blue\",\"blue\",\"blue\",\"blue\",\"blue\",\"blue\",\"blue\",\"blue\",\"blue\",\"blue\",\"blue\",\"blue\",\"blue\",\"blue\",\"blue\",\"blue\",\"blue\",\"blue\",\"blue\",\"blue\",\"blue\",\"blue\",\"blue\",\"blue\",\"blue\",\"blue\",\"blue\",\"blue\",\"blue\",\"blue\",\"blue\",\"blue\",\"blue\",\"blue\",\"blue\",\"blue\",\"blue\",\"blue\",\"blue\",\"blue\",\"blue\",\"blue\",\"blue\",\"blue\",\"blue\",\"blue\",\"blue\",\"blue\",\"blue\",\"blue\",\"blue\",\"blue\",\"blue\",\"blue\",\"blue\",\"blue\",\"blue\",\"blue\",\"blue\",\"blue\",\"blue\",\"blue\",\"blue\",\"blue\",\"blue\",\"blue\",\"blue\",\"blue\",\"blue\",\"blue\",\"blue\",\"blue\",\"blue\",\"blue\",\"blue\",\"blue\",\"blue\",\"blue\",\"blue\",\"blue\",\"blue\",\"blue\",\"blue\",\"blue\",\"blue\",\"blue\",\"blue\",\"blue\",\"blue\",\"blue\",\"blue\",\"blue\",\"blue\",\"blue\",\"blue\",\"blue\",\"blue\",\"blue\",\"blue\",\"blue\",\"blue\",\"blue\",\"blue\",\"blue\",\"blue\",\"blue\",\"blue\",\"blue\",\"blue\",\"blue\",\"blue\",\"blue\",\"blue\",\"blue\",\"blue\",\"blue\",\"blue\",\"blue\",\"blue\",\"blue\",\"blue\",\"blue\",\"blue\",\"blue\",\"blue\",\"blue\",\"blue\",\"blue\",\"blue\",\"blue\",\"blue\",\"blue\",\"blue\",\"blue\",\"blue\",\"blue\",\"blue\",\"blue\",\"blue\",\"blue\",\"blue\",\"blue\",\"blue\",\"blue\",\"blue\",\"blue\",\"blue\",\"blue\",\"blue\",\"blue\",\"blue\",\"blue\",\"blue\",\"blue\",\"blue\",\"blue\",\"blue\",\"blue\",\"blue\",\"blue\",\"blue\",\"blue\",\"blue\",\"blue\",\"blue\",\"blue\",\"blue\",\"blue\",\"blue\",\"blue\",\"blue\",\"blue\",\"blue\",\"blue\",\"blue\",\"blue\",\"blue\",\"blue\",\"blue\",\"blue\",\"blue\",\"blue\",\"blue\",\"blue\",\"blue\",\"blue\",\"blue\",\"blue\",\"blue\",\"blue\",\"blue\",\"blue\",\"blue\",\"blue\",\"blue\",\"blue\",\"blue\",\"blue\",\"blue\",\"blue\",\"blue\",\"blue\",\"blue\",\"blue\",\"blue\",\"blue\",\"blue\",\"blue\",\"blue\",\"blue\",\"blue\",\"blue\",\"blue\",\"blue\",\"blue\",\"blue\",\"blue\",\"blue\",\"blue\",\"blue\",\"blue\",\"blue\",\"blue\",\"blue\",\"blue\",\"blue\",\"blue\",\"blue\",\"blue\",\"blue\",\"blue\",\"blue\",\"blue\",\"blue\",\"blue\",\"blue\",\"blue\",\"blue\",\"blue\",\"blue\",\"blue\",\"blue\",\"blue\",\"blue\",\"blue\",\"blue\",\"blue\",\"blue\",\"blue\",\"blue\",\"blue\",\"blue\",\"blue\",\"blue\",\"blue\",\"blue\",\"blue\",\"blue\",\"blue\",\"blue\",\"blue\",\"blue\",\"blue\",\"blue\",\"blue\",\"blue\",\"blue\",\"blue\",\"blue\",\"blue\",\"blue\",\"blue\",\"blue\",\"blue\",\"blue\",\"blue\",\"blue\",\"blue\",\"blue\",\"blue\",\"blue\",\"blue\",\"blue\",\"blue\",\"blue\",\"blue\",\"blue\",\"blue\",\"blue\",\"blue\",\"blue\",\"blue\",\"blue\",\"blue\",\"blue\",\"blue\",\"blue\",\"blue\",\"blue\",\"blue\",\"blue\",\"blue\",\"blue\",\"blue\",\"blue\",\"blue\",\"blue\",\"blue\",\"blue\",\"blue\",\"blue\",\"blue\",\"blue\",\"blue\",\"blue\",\"blue\",\"blue\",\"blue\",\"blue\",\"blue\",\"blue\",\"blue\",\"blue\",\"blue\",\"blue\",\"blue\",\"blue\",\"blue\",\"blue\",\"blue\",\"blue\",\"blue\",\"blue\",\"blue\",\"blue\",\"blue\",\"blue\",\"blue\",\"blue\",\"blue\",\"blue\",\"blue\",\"blue\",\"blue\",\"blue\",\"blue\",\"blue\",\"blue\",\"blue\",\"blue\",\"blue\",\"blue\",\"blue\",\"blue\",\"blue\",\"blue\",\"blue\",\"blue\",\"blue\",\"blue\",\"blue\",\"blue\",\"blue\",\"blue\",\"blue\",\"blue\",\"blue\",\"blue\",\"blue\",\"blue\",\"blue\",\"blue\",\"blue\",\"blue\",\"blue\",\"blue\",\"blue\",\"blue\",\"blue\",\"blue\",\"blue\",\"blue\",\"blue\",\"blue\",\"blue\",\"blue\",\"blue\",\"blue\",\"blue\",\"blue\",\"blue\",\"blue\",\"blue\",\"blue\",\"blue\",\"blue\",\"blue\",\"blue\",\"blue\",\"blue\",\"blue\",\"blue\",\"blue\",\"blue\",\"blue\",\"blue\",\"blue\",\"blue\",\"blue\",\"blue\",\"blue\",\"blue\",\"blue\",\"blue\",\"blue\",\"blue\",\"blue\",\"blue\",\"blue\",\"blue\",\"blue\",\"blue\",\"blue\",\"blue\",\"blue\",\"blue\",\"blue\",\"blue\",\"blue\",\"blue\",\"blue\",\"blue\",\"blue\",\"blue\",\"blue\",\"blue\",\"blue\",\"blue\",\"blue\",\"blue\",\"blue\",\"blue\",\"blue\",\"blue\",\"blue\",\"blue\",\"blue\",\"blue\",\"blue\",\"blue\",\"blue\",\"blue\",\"blue\",\"blue\",\"blue\",\"blue\",\"blue\",\"blue\",\"blue\",\"blue\",\"blue\",\"blue\",\"blue\",\"blue\",\"blue\",\"blue\",\"blue\",\"blue\",\"blue\",\"blue\",\"blue\",\"blue\",\"blue\",\"blue\",\"blue\",\"blue\",\"blue\",\"blue\",\"blue\",\"blue\",\"blue\",\"blue\",\"blue\",\"blue\",\"blue\",\"blue\",\"blue\",\"blue\",\"blue\",\"blue\",\"blue\",\"blue\",\"blue\",\"blue\",\"blue\",\"blue\",\"blue\",\"blue\",\"blue\",\"blue\",\"blue\",\"blue\",\"blue\",\"blue\",\"blue\",\"blue\",\"blue\",\"blue\",\"blue\",\"blue\",\"blue\",\"blue\",\"blue\",\"blue\",\"blue\",\"blue\",\"blue\",\"blue\",\"blue\",\"blue\",\"blue\",\"blue\",\"blue\",\"blue\",\"blue\",\"blue\",\"blue\",\"blue\",\"blue\",\"blue\",\"blue\",\"blue\",\"blue\",\"blue\",\"blue\",\"blue\",\"blue\",\"blue\",\"blue\",\"blue\",\"blue\",\"blue\",\"blue\",\"blue\",\"blue\",\"blue\",\"blue\",\"blue\",\"blue\",\"blue\",\"blue\",\"blue\",\"blue\",\"blue\",\"blue\",\"blue\",\"blue\",\"blue\",\"blue\",\"blue\",\"blue\",\"blue\",\"blue\",\"blue\",\"blue\",\"blue\",\"blue\",\"blue\",\"blue\",\"blue\",\"blue\",\"blue\",\"blue\",\"blue\",\"blue\",\"blue\",\"blue\",\"blue\",\"blue\",\"blue\",\"blue\",\"blue\",\"blue\",\"blue\",\"blue\",\"blue\",\"blue\",\"blue\",\"blue\",\"blue\",\"blue\",\"blue\",\"blue\",\"blue\",\"blue\",\"blue\",\"blue\",\"blue\",\"blue\",\"blue\",\"blue\",\"blue\",\"blue\",\"blue\",\"blue\",\"blue\",\"blue\",\"blue\",\"blue\",\"blue\",\"blue\",\"blue\",\"blue\",\"blue\",\"blue\",\"blue\",\"blue\",\"blue\",\"blue\",\"blue\",\"blue\",\"blue\",\"blue\",\"blue\",\"blue\",\"blue\",\"blue\",\"blue\",\"blue\",\"blue\",\"blue\",\"blue\",\"blue\",\"blue\",\"blue\",\"blue\",\"blue\",\"blue\",\"blue\",\"blue\",\"blue\",\"blue\",\"blue\",\"blue\",\"blue\",\"blue\",\"blue\",\"blue\",\"blue\",\"blue\",\"blue\",\"blue\",\"blue\",\"blue\",\"blue\",\"blue\",\"blue\",\"blue\",\"blue\",\"blue\",\"blue\",\"blue\",\"blue\",\"blue\",\"blue\",\"blue\",\"blue\",\"blue\",\"blue\",\"blue\",\"blue\",\"blue\",\"blue\",\"blue\",\"blue\",\"blue\",\"blue\",\"blue\",\"blue\",\"blue\",\"blue\",\"blue\",\"blue\",\"blue\",\"blue\",\"blue\",\"blue\",\"blue\",\"blue\",\"blue\",\"blue\",\"blue\",\"blue\",\"blue\",\"blue\",\"blue\",\"blue\",\"blue\",\"blue\",\"blue\",\"blue\",\"blue\",\"blue\",\"blue\",\"blue\",\"blue\",\"blue\",\"blue\",\"blue\",\"blue\",\"blue\",\"blue\",\"blue\",\"blue\",\"blue\",\"blue\",\"blue\",\"blue\",\"blue\",\"blue\",\"blue\",\"blue\",\"blue\",\"blue\",\"blue\",\"blue\",\"blue\",\"blue\",\"blue\",\"blue\",\"blue\",\"blue\",\"blue\",\"blue\",\"blue\",\"blue\",\"blue\",\"blue\",\"blue\",\"blue\",\"blue\",\"blue\",\"blue\",\"blue\",\"blue\",\"blue\",\"blue\",\"blue\",\"blue\",\"blue\",\"blue\",\"blue\",\"blue\",\"blue\",\"blue\",\"blue\",\"blue\",\"blue\",\"blue\",\"blue\",\"blue\",\"blue\",\"blue\",\"blue\",\"blue\",\"blue\",\"blue\",\"blue\",\"blue\",\"blue\",\"blue\",\"blue\",\"blue\",\"blue\",\"blue\",\"blue\",\"blue\",\"blue\",\"blue\",\"blue\",\"blue\",\"blue\",\"blue\",\"blue\",\"blue\",\"blue\",\"blue\",\"blue\",\"blue\",\"blue\",\"blue\",\"blue\",\"blue\",\"blue\",\"blue\",\"blue\",\"blue\",\"blue\",\"blue\",\"blue\",\"blue\",\"blue\",\"blue\",\"blue\",\"blue\",\"blue\",\"blue\",\"blue\",\"blue\",\"blue\",\"blue\",\"blue\",\"blue\",\"blue\",\"blue\",\"blue\",\"blue\",\"blue\",\"blue\",\"blue\",\"blue\",\"blue\",\"blue\",\"blue\",\"blue\",\"blue\",\"blue\",\"blue\",\"blue\",\"blue\",\"blue\",\"blue\",\"blue\",\"blue\",\"blue\",\"blue\",\"blue\",\"blue\",\"blue\",\"blue\",\"blue\",\"blue\",\"blue\",\"blue\",\"blue\",\"blue\",\"blue\",\"blue\",\"blue\",\"blue\",\"blue\",\"blue\",\"blue\",\"blue\",\"blue\",\"blue\",\"blue\",\"blue\",\"blue\",\"blue\",\"blue\",\"blue\",\"blue\",\"blue\",\"blue\",\"blue\",\"blue\",\"blue\",\"blue\",\"blue\",\"blue\",\"blue\",\"blue\",\"blue\",\"blue\",\"blue\",\"blue\",\"blue\",\"blue\",\"blue\",\"blue\",\"blue\",\"blue\",\"blue\",\"blue\",\"blue\",\"blue\",\"blue\",\"blue\",\"blue\",\"blue\",\"blue\",\"blue\",\"blue\",\"blue\",\"blue\",\"blue\",\"blue\",\"blue\",\"blue\",\"blue\",\"blue\",\"blue\",\"blue\",\"blue\",\"blue\",\"blue\",\"blue\",\"blue\",\"blue\",\"blue\",\"blue\",\"blue\",\"blue\",\"blue\",\"blue\",\"blue\",\"blue\",\"blue\",\"blue\",\"blue\",\"blue\",\"blue\",\"blue\",\"blue\",\"blue\",\"blue\",\"blue\",\"blue\",\"blue\",\"blue\",\"blue\",\"blue\",\"blue\",\"blue\",\"blue\",\"blue\",\"blue\",\"blue\",\"blue\",\"blue\",\"blue\",\"blue\",\"blue\",\"blue\",\"blue\",\"blue\",\"blue\",\"blue\",\"blue\",\"blue\",\"blue\",\"blue\",\"blue\",\"blue\",\"blue\",\"blue\",\"blue\",\"blue\",\"blue\",\"blue\",\"blue\",\"blue\",\"blue\",\"blue\",\"blue\",\"blue\",\"blue\",\"blue\",\"blue\",\"blue\",\"blue\",\"blue\",\"blue\",\"blue\",\"blue\",\"blue\",\"blue\",\"blue\",\"blue\",\"blue\",\"blue\",\"blue\",\"blue\",\"blue\",\"blue\",\"blue\",\"blue\",\"blue\",\"blue\",\"blue\",\"blue\",\"blue\",\"blue\",\"blue\",\"blue\",\"blue\",\"blue\",\"blue\",\"blue\",\"blue\",\"blue\",\"blue\",\"blue\",\"blue\",\"blue\",\"blue\",\"blue\",\"blue\",\"blue\",\"blue\",\"blue\",\"blue\",\"blue\",\"blue\",\"blue\",\"blue\",\"blue\",\"blue\",\"blue\",\"blue\",\"blue\",\"blue\",\"blue\",\"blue\",\"blue\",\"blue\",\"blue\",\"blue\",\"blue\",\"blue\",\"blue\",\"blue\",\"blue\",\"blue\",\"blue\",\"blue\",\"blue\",\"blue\",\"blue\",\"blue\",\"blue\",\"blue\",\"blue\",\"blue\",\"blue\",\"blue\",\"blue\",\"blue\",\"blue\",\"blue\",\"blue\",\"blue\",\"blue\",\"blue\",\"blue\",\"blue\",\"blue\",\"blue\",\"blue\",\"blue\",\"blue\",\"blue\",\"blue\",\"blue\",\"blue\",\"blue\",\"blue\",\"blue\",\"blue\",\"blue\",\"blue\",\"blue\",\"blue\",\"blue\",\"blue\",\"blue\",\"blue\",\"blue\",\"blue\",\"blue\",\"blue\",\"blue\",\"blue\",\"blue\",\"blue\",\"blue\",\"blue\",\"blue\",\"blue\",\"blue\",\"blue\",\"blue\",\"blue\",\"blue\",\"blue\",\"blue\",\"blue\",\"blue\",\"blue\",\"blue\",\"blue\",\"blue\",\"blue\",\"blue\",\"blue\",\"blue\",\"blue\",\"blue\",\"blue\",\"blue\",\"blue\",\"blue\",\"blue\",\"blue\",\"blue\",\"blue\",\"blue\",\"blue\",\"blue\",\"blue\",\"blue\",\"blue\",\"blue\",\"blue\",\"blue\",\"blue\",\"blue\",\"blue\",\"blue\",\"blue\",\"blue\",\"blue\",\"blue\",\"blue\",\"blue\",\"blue\",\"blue\",\"blue\",\"blue\",\"blue\",\"blue\",\"blue\",\"blue\",\"blue\",\"blue\",\"blue\",\"blue\",\"blue\",\"blue\",\"blue\",\"blue\",\"blue\",\"blue\",\"blue\",\"blue\",\"blue\",\"blue\",\"blue\",\"blue\",\"blue\",\"blue\",\"blue\",\"blue\",\"blue\",\"blue\",\"blue\",\"blue\",\"blue\",\"blue\",\"blue\",\"blue\",\"blue\",\"blue\",\"blue\",\"blue\",\"blue\",\"blue\",\"blue\",\"blue\",\"blue\",\"blue\",\"blue\",\"blue\",\"blue\",\"blue\",\"blue\",\"blue\",\"blue\",\"blue\",\"blue\",\"blue\",\"blue\",\"blue\",\"blue\",\"blue\",\"blue\",\"blue\",\"blue\",\"blue\",\"blue\",\"blue\",\"blue\",\"blue\",\"blue\",\"blue\",\"blue\",\"blue\",\"blue\",\"blue\",\"blue\",\"blue\",\"blue\",\"blue\",\"blue\",\"blue\",\"blue\",\"blue\",\"blue\",\"blue\",\"blue\",\"blue\",\"blue\",\"blue\",\"blue\",\"blue\",\"blue\",\"blue\",\"blue\",\"blue\",\"blue\",\"blue\",\"blue\",\"blue\",\"blue\",\"blue\",\"blue\",\"blue\",\"blue\",\"blue\",\"blue\",\"blue\",\"blue\",\"blue\",\"blue\",\"blue\",\"blue\",\"blue\",\"blue\",\"blue\",\"blue\",\"blue\",\"blue\",\"blue\",\"blue\",\"blue\",\"blue\",\"blue\",\"blue\",\"blue\",\"blue\",\"blue\",\"blue\",\"blue\",\"blue\",\"blue\",\"blue\",\"blue\",\"blue\",\"blue\",\"blue\",\"blue\",\"blue\",\"blue\",\"blue\",\"blue\",\"blue\",\"blue\",\"blue\",\"blue\",\"blue\",\"blue\",\"blue\",\"blue\",\"blue\",\"blue\",\"blue\",\"blue\",\"blue\",\"blue\",\"blue\",\"blue\",\"blue\",\"blue\",\"blue\",\"blue\",\"blue\",\"blue\",\"blue\",\"blue\",\"blue\",\"blue\",\"blue\",\"blue\",\"blue\",\"blue\",\"blue\",\"blue\",\"blue\",\"blue\",\"blue\",\"blue\",\"blue\",\"blue\",\"blue\",\"blue\",\"blue\",\"blue\",\"blue\",\"blue\",\"blue\",\"blue\",\"blue\",\"blue\",\"blue\",\"blue\",\"blue\",\"blue\",\"blue\",\"blue\",\"blue\",\"blue\",\"blue\",\"blue\",\"blue\",\"blue\",\"blue\",\"blue\",\"blue\",\"blue\",\"blue\",\"blue\",\"blue\",\"blue\",\"blue\",\"blue\",\"blue\",\"blue\",\"blue\",\"blue\",\"blue\",\"blue\",\"blue\",\"blue\",\"blue\",\"blue\",\"blue\",\"blue\",\"blue\",\"blue\",\"blue\",\"blue\",\"blue\",\"blue\",\"blue\",\"blue\",\"blue\",\"blue\",\"blue\",\"blue\",\"blue\",\"blue\",\"blue\",\"blue\",\"blue\",\"blue\",\"blue\",\"blue\",\"blue\",\"blue\",\"blue\",\"blue\",\"blue\",\"blue\",\"blue\",\"blue\",\"blue\",\"blue\",\"blue\",\"blue\",\"blue\",\"blue\",\"blue\",\"blue\",\"blue\",\"blue\",\"blue\",\"blue\",\"blue\",\"blue\",\"blue\",\"blue\",\"blue\",\"blue\",\"blue\",\"blue\",\"blue\",\"blue\",\"blue\",\"blue\",\"blue\",\"blue\",\"blue\",\"blue\",\"blue\",\"blue\",\"blue\",\"blue\",\"blue\",\"blue\",\"blue\",\"blue\",\"blue\",\"blue\",\"blue\",\"blue\",\"blue\",\"blue\",\"blue\",\"blue\",\"blue\",\"blue\",\"blue\",\"blue\",\"blue\",\"blue\",\"blue\",\"blue\",\"blue\",\"blue\",\"blue\",\"blue\",\"blue\",\"blue\",\"blue\",\"blue\",\"blue\",\"blue\",\"blue\",\"blue\",\"blue\",\"blue\",\"blue\",\"blue\",\"blue\",\"blue\",\"blue\",\"blue\",\"blue\",\"blue\",\"blue\",\"blue\",\"blue\",\"blue\",\"blue\",\"blue\",\"blue\",\"blue\",\"blue\",\"blue\",\"blue\",\"blue\",\"blue\",\"blue\",\"blue\",\"blue\",\"blue\",\"blue\",\"blue\",\"blue\",\"blue\",\"blue\",\"blue\",\"blue\",\"blue\",\"blue\",\"blue\",\"blue\",\"blue\",\"blue\",\"blue\",\"blue\",\"blue\",\"blue\",\"blue\",\"blue\",\"blue\",\"blue\",\"blue\",\"blue\",\"blue\",\"blue\",\"blue\",\"blue\",\"blue\",\"blue\",\"blue\",\"blue\",\"blue\",\"blue\",\"blue\",\"blue\",\"blue\",\"blue\",\"blue\",\"blue\",\"blue\",\"blue\",\"blue\",\"blue\",\"blue\",\"blue\",\"blue\",\"blue\",\"blue\",\"blue\",\"blue\",\"blue\",\"blue\",\"blue\",\"blue\",\"blue\",\"blue\",\"blue\",\"blue\",\"blue\",\"blue\",\"blue\",\"blue\",\"blue\",\"blue\",\"blue\",\"blue\",\"blue\",\"blue\",\"blue\",\"blue\",\"blue\",\"blue\",\"blue\",\"blue\",\"blue\",\"blue\",\"blue\",\"blue\",\"blue\",\"blue\",\"blue\",\"blue\",\"blue\",\"blue\",\"blue\",\"blue\",\"blue\",\"blue\",\"blue\",\"blue\",\"blue\",\"blue\",\"blue\",\"blue\",\"blue\",\"blue\",\"blue\",\"blue\",\"blue\",\"blue\",\"blue\",\"blue\",\"blue\",\"blue\",\"blue\",\"blue\",\"blue\",\"blue\",\"blue\",\"blue\",\"blue\",\"blue\",\"blue\",\"blue\",\"blue\",\"blue\",\"blue\",\"blue\",\"blue\",\"blue\",\"blue\",\"blue\",\"blue\",\"blue\",\"blue\",\"blue\",\"blue\",\"blue\",\"blue\",\"blue\",\"blue\",\"blue\",\"blue\",\"blue\",\"blue\",\"blue\",\"blue\",\"blue\",\"blue\",\"blue\",\"blue\",\"blue\",\"blue\",\"blue\",\"blue\",\"blue\",\"blue\",\"blue\",\"blue\",\"blue\",\"blue\",\"blue\",\"blue\",\"blue\",\"blue\",\"blue\",\"blue\",\"blue\",\"blue\",\"blue\",\"blue\",\"blue\",\"blue\",\"blue\",\"blue\",\"blue\",\"blue\",\"blue\",\"blue\",\"blue\",\"blue\",\"blue\",\"blue\",\"blue\",\"blue\",\"blue\",\"blue\",\"blue\",\"blue\",\"blue\",\"blue\",\"blue\",\"blue\",\"blue\",\"blue\",\"blue\",\"blue\",\"blue\",\"blue\",\"blue\",\"blue\",\"blue\",\"blue\",\"blue\",\"blue\",\"blue\",\"blue\",\"blue\",\"blue\",\"blue\",\"blue\",\"blue\",\"blue\",\"blue\",\"blue\",\"blue\",\"blue\",\"blue\",\"blue\",\"blue\",\"blue\",\"blue\",\"blue\",\"blue\",\"blue\",\"blue\",\"blue\",\"blue\",\"blue\",\"blue\",\"blue\",\"blue\",\"blue\",\"blue\",\"blue\",\"blue\",\"blue\",\"blue\",\"blue\",\"blue\",\"blue\",\"blue\",\"blue\",\"blue\",\"blue\",\"blue\",\"blue\",\"blue\",\"blue\",\"blue\",\"blue\",\"blue\",\"blue\",\"blue\",\"blue\",\"blue\",\"blue\",\"blue\",\"blue\",\"blue\",\"blue\",\"blue\",\"blue\",\"blue\",\"blue\",\"blue\",\"blue\",\"blue\",\"blue\",\"blue\",\"blue\",\"blue\",\"blue\",\"blue\",\"blue\",\"blue\",\"blue\",\"blue\",\"blue\",\"blue\",\"blue\",\"blue\",\"blue\",\"blue\",\"blue\",\"blue\",\"blue\",\"blue\",\"blue\",\"blue\",\"blue\",\"blue\",\"blue\",\"blue\",\"blue\",\"blue\",\"blue\",\"blue\",\"blue\",\"blue\",\"blue\",\"blue\",\"blue\",\"blue\",\"blue\",\"blue\",\"blue\",\"blue\",\"blue\",\"blue\",\"blue\",\"blue\",\"blue\",\"blue\",\"blue\",\"blue\",\"blue\",\"blue\",\"blue\",\"blue\",\"blue\",\"blue\",\"blue\",\"blue\",\"blue\",\"blue\",\"blue\",\"blue\",\"blue\",\"blue\",\"blue\",\"blue\",\"blue\",\"blue\",\"blue\",\"blue\",\"blue\",\"blue\",\"blue\",\"blue\",\"blue\",\"blue\",\"blue\",\"blue\",\"blue\",\"blue\",\"blue\",\"blue\",\"blue\",\"blue\",\"blue\",\"blue\",\"blue\",\"blue\",\"blue\",\"blue\",\"blue\",\"blue\",\"blue\",\"blue\",\"blue\",\"blue\",\"blue\",\"blue\",\"blue\",\"blue\",\"blue\",\"blue\",\"blue\",\"blue\",\"blue\",\"blue\",\"blue\",\"blue\",\"blue\",\"blue\",\"blue\",\"blue\",\"blue\",\"blue\",\"blue\",\"blue\",\"blue\",\"blue\",\"blue\",\"blue\",\"blue\",\"blue\",\"blue\",\"blue\",\"blue\",\"blue\",\"blue\",\"blue\",\"blue\",\"blue\",\"blue\",\"blue\",\"blue\",\"blue\",\"blue\",\"blue\",\"blue\",\"blue\",\"blue\",\"blue\",\"blue\",\"blue\",\"blue\",\"blue\",\"blue\",\"blue\",\"blue\",\"blue\",\"blue\",\"blue\",\"blue\",\"blue\",\"blue\",\"blue\",\"blue\",\"blue\",\"blue\",\"blue\",\"blue\",\"blue\",\"blue\",\"blue\",\"blue\",\"blue\",\"blue\",\"blue\",\"blue\",\"blue\",\"blue\",\"blue\",\"blue\",\"blue\",\"blue\",\"blue\",\"blue\",\"blue\",\"blue\",\"blue\",\"blue\",\"blue\",\"blue\",\"blue\",\"blue\",\"blue\",\"blue\",\"blue\",\"blue\",\"blue\",\"blue\",\"blue\",\"blue\",\"blue\",\"blue\",\"blue\",\"blue\",\"blue\",\"blue\",\"blue\",\"blue\",\"blue\",\"blue\",\"blue\",\"blue\",\"blue\",\"blue\",\"blue\",\"blue\",\"blue\",\"blue\",\"blue\",\"blue\",\"blue\",\"blue\",\"blue\",\"blue\",\"blue\",\"blue\",\"blue\",\"blue\",\"blue\",\"blue\",\"blue\",\"blue\",\"blue\",\"blue\",\"blue\",\"blue\",\"blue\",\"blue\",\"blue\",\"blue\",\"blue\",\"blue\",\"blue\",\"blue\",\"blue\",\"blue\",\"blue\",\"blue\",\"blue\",\"blue\",\"blue\",\"blue\",\"blue\",\"blue\",\"blue\",\"blue\",\"blue\",\"blue\",\"blue\",\"blue\",\"blue\",\"blue\",\"blue\",\"blue\",\"blue\",\"blue\",\"blue\",\"blue\",\"blue\",\"blue\",\"blue\",\"blue\",\"blue\",\"blue\",\"blue\",\"blue\",\"blue\",\"blue\",\"blue\",\"blue\",\"blue\",\"blue\",\"blue\",\"blue\",\"blue\",\"blue\",\"blue\",\"blue\",\"blue\",\"blue\",\"blue\",\"blue\",\"blue\",\"blue\",\"blue\",\"blue\",\"blue\",\"blue\",\"blue\",\"blue\",\"blue\",\"blue\",\"blue\",\"blue\",\"blue\",\"blue\",\"blue\",\"blue\",\"blue\",\"blue\",\"blue\",\"blue\",\"blue\",\"blue\",\"blue\",\"blue\",\"blue\",\"blue\",\"blue\",\"blue\",\"blue\",\"blue\",\"blue\",\"blue\",\"blue\",\"blue\",\"blue\",\"blue\",\"blue\",\"blue\",\"blue\",\"blue\",\"blue\",\"blue\",\"blue\",\"blue\",\"blue\",\"blue\",\"blue\",\"blue\",\"blue\",\"blue\",\"blue\",\"blue\",\"blue\",\"blue\",\"blue\",\"blue\",\"blue\",\"blue\",\"blue\",\"blue\",\"blue\",\"blue\",\"blue\",\"blue\",\"blue\",\"blue\",\"blue\",\"blue\",\"blue\",\"blue\",\"blue\",\"blue\",\"blue\",\"blue\",\"blue\",\"blue\",\"blue\",\"blue\",\"blue\",\"blue\",\"blue\",\"blue\",\"blue\",\"blue\",\"blue\",\"blue\",\"blue\",\"blue\",\"blue\",\"blue\",\"blue\",\"blue\",\"blue\",\"blue\",\"blue\",\"blue\",\"blue\",\"blue\",\"blue\",\"blue\",\"blue\",\"blue\",\"blue\",\"blue\",\"blue\",\"blue\",\"blue\",\"blue\",\"blue\",\"blue\",\"blue\",\"blue\",\"blue\",\"blue\",\"blue\",\"blue\",\"blue\",\"blue\",\"blue\",\"blue\",\"blue\",\"blue\",\"blue\",\"blue\",\"blue\",\"blue\",\"blue\",\"blue\",\"blue\",\"blue\",\"blue\",\"blue\",\"blue\",\"blue\",\"blue\",\"blue\",\"blue\",\"blue\",\"blue\",\"blue\",\"blue\",\"blue\",\"blue\",\"blue\",\"blue\",\"blue\",\"blue\",\"blue\",\"blue\",\"blue\",\"blue\",\"blue\",\"blue\",\"blue\",\"blue\",\"blue\",\"blue\",\"blue\",\"blue\",\"blue\",\"blue\",\"blue\",\"blue\",\"blue\",\"blue\",\"blue\",\"blue\",\"blue\",\"blue\",\"blue\",\"blue\",\"blue\",\"blue\",\"blue\",\"blue\",\"blue\",\"blue\",\"blue\",\"blue\",\"blue\",\"blue\",\"blue\",\"blue\",\"blue\",\"blue\",\"blue\",\"blue\",\"blue\",\"blue\",\"blue\",\"blue\",\"blue\",\"blue\",\"blue\",\"blue\",\"blue\",\"blue\",\"blue\",\"blue\",\"blue\",\"blue\",\"blue\",\"blue\",\"blue\",\"blue\",\"blue\",\"blue\",\"blue\",\"blue\",\"blue\",\"blue\",\"blue\",\"blue\",\"blue\",\"blue\",\"blue\",\"blue\",\"blue\",\"blue\",\"blue\",\"blue\",\"blue\",\"blue\",\"blue\",\"blue\",\"blue\",\"blue\",\"blue\",\"blue\",\"blue\",\"blue\",\"blue\",\"blue\",\"blue\",\"blue\",\"blue\",\"blue\",\"blue\",\"blue\",\"blue\",\"blue\",\"blue\",\"blue\",\"blue\",\"blue\",\"blue\",\"blue\",\"blue\",\"blue\",\"blue\",\"blue\",\"blue\",\"blue\",\"blue\",\"blue\",\"blue\",\"blue\",\"blue\",\"blue\",\"blue\",\"blue\",\"blue\",\"blue\",\"blue\",\"blue\",\"blue\",\"blue\",\"blue\",\"blue\",\"blue\",\"blue\",\"blue\",\"blue\",\"blue\",\"blue\",\"blue\",\"blue\",\"blue\",\"blue\",\"blue\",\"blue\",\"blue\",\"blue\",\"blue\",\"blue\",\"blue\",\"blue\",\"blue\",\"blue\",\"blue\",\"blue\",\"blue\",\"blue\",\"blue\",\"blue\",\"blue\",\"blue\",\"blue\",\"blue\",\"blue\",\"blue\",\"blue\",\"blue\",\"blue\",\"blue\",\"blue\",\"blue\",\"blue\",\"blue\",\"blue\",\"blue\",\"blue\",\"blue\",\"blue\",\"blue\",\"blue\",\"blue\",\"blue\",\"blue\",\"blue\",\"blue\",\"blue\",\"blue\",\"blue\",\"blue\",\"blue\",\"blue\",\"blue\",\"blue\",\"blue\",\"blue\",\"blue\",\"blue\",\"blue\",\"blue\",\"blue\",\"blue\",\"blue\",\"blue\",\"blue\",\"blue\",\"blue\",\"blue\",\"blue\",\"blue\",\"blue\",\"blue\",\"blue\",\"blue\",\"blue\",\"blue\",\"blue\",\"blue\",\"blue\",\"blue\",\"blue\",\"blue\",\"blue\",\"blue\",\"blue\",\"blue\",\"blue\",\"blue\",\"blue\",\"blue\",\"blue\",\"blue\",\"blue\",\"blue\",\"blue\",\"blue\",\"blue\",\"blue\",\"blue\",\"blue\",\"blue\",\"blue\",\"blue\",\"blue\",\"blue\",\"blue\",\"blue\",\"blue\",\"blue\",\"blue\",\"blue\",\"blue\",\"blue\",\"blue\",\"blue\",\"blue\",\"blue\",\"blue\",\"blue\",\"blue\",\"blue\",\"blue\",\"blue\",\"blue\",\"blue\",\"blue\",\"blue\",\"blue\",\"blue\",\"blue\",\"blue\",\"blue\",\"blue\",\"blue\",\"blue\",\"blue\",\"blue\",\"blue\",\"blue\",\"blue\",\"blue\",\"blue\",\"blue\",\"blue\",\"blue\",\"blue\",\"blue\",\"blue\",\"blue\",\"blue\",\"blue\",\"blue\",\"blue\",\"blue\",\"blue\",\"blue\",\"blue\",\"blue\",\"blue\",\"blue\",\"blue\",\"blue\",\"blue\",\"blue\",\"blue\",\"blue\",\"blue\",\"blue\",\"blue\",\"blue\",\"blue\",\"blue\",\"blue\",\"blue\",\"blue\",\"blue\",\"blue\",\"blue\",\"blue\",\"blue\",\"blue\",\"blue\",\"blue\",\"blue\",\"blue\",\"blue\",\"blue\",\"blue\",\"blue\",\"blue\",\"blue\",\"blue\",\"blue\",\"blue\",\"blue\",\"blue\",\"blue\",\"blue\",\"blue\",\"blue\",\"blue\",\"blue\",\"blue\",\"blue\",\"blue\",\"blue\",\"blue\",\"blue\",\"blue\",\"blue\",\"blue\",\"blue\",\"blue\",\"blue\",\"blue\",\"blue\",\"blue\",\"blue\",\"blue\",\"blue\",\"blue\",\"blue\",\"blue\",\"blue\",\"blue\",\"blue\",\"blue\",\"blue\",\"blue\",\"blue\",\"blue\",\"blue\",\"blue\",\"blue\",\"blue\",\"blue\",\"blue\",\"blue\",\"blue\",\"blue\",\"blue\",\"blue\",\"blue\",\"blue\",\"blue\",\"blue\",\"blue\",\"blue\",\"blue\",\"blue\",\"blue\",\"blue\",\"blue\",\"blue\",\"blue\",\"blue\",\"blue\",\"blue\",\"blue\",\"blue\",\"blue\",\"blue\",\"blue\",\"blue\",\"blue\",\"blue\",\"blue\",\"blue\",\"blue\",\"blue\",\"blue\",\"blue\",\"blue\",\"blue\",\"blue\",\"blue\",\"blue\",\"blue\",\"blue\",\"blue\",\"blue\",\"blue\",\"blue\",\"blue\",\"blue\",\"blue\",\"blue\",\"blue\",\"blue\",\"blue\",\"blue\",\"blue\",\"blue\",\"blue\",\"blue\",\"blue\",\"blue\",\"blue\",\"blue\",\"blue\",\"blue\",\"blue\",\"blue\",\"blue\",\"blue\",\"blue\",\"blue\",\"blue\",\"blue\",\"blue\",\"blue\",\"blue\",\"blue\",\"blue\",\"blue\",\"blue\",\"blue\",\"blue\",\"blue\",\"blue\",\"blue\",\"blue\",\"blue\",\"blue\",\"blue\",\"blue\",\"blue\",\"blue\",\"blue\",\"blue\",\"blue\",\"blue\",\"blue\",\"blue\",\"blue\",\"blue\",\"blue\",\"blue\",\"blue\",\"blue\",\"blue\",\"blue\",\"blue\",\"blue\",\"blue\",\"blue\",\"blue\",\"blue\",\"blue\",\"blue\",\"blue\",\"blue\",\"blue\",\"blue\",\"blue\",\"blue\",\"blue\",\"blue\",\"blue\",\"blue\",\"blue\",\"blue\",\"blue\",\"blue\",\"blue\",\"blue\",\"blue\",\"blue\",\"blue\",\"blue\",\"blue\",\"blue\",\"blue\",\"blue\",\"blue\",\"blue\",\"blue\",\"blue\",\"blue\",\"blue\",\"blue\",\"blue\",\"blue\",\"blue\",\"blue\",\"blue\",\"blue\",\"blue\",\"blue\",\"blue\",\"blue\",\"blue\",\"blue\",\"blue\",\"blue\",\"blue\",\"blue\",\"blue\",\"blue\",\"blue\",\"blue\",\"blue\",\"blue\",\"blue\",\"blue\",\"blue\",\"blue\",\"blue\",\"blue\",\"blue\",\"blue\",\"blue\",\"blue\",\"blue\",\"blue\",\"blue\",\"blue\",\"blue\",\"blue\",\"blue\",\"blue\",\"blue\",\"blue\",\"blue\",\"blue\",\"blue\",\"blue\",\"blue\",\"blue\",\"blue\",\"blue\",\"blue\",\"blue\",\"blue\",\"blue\",\"blue\",\"blue\",\"blue\",\"blue\",\"blue\",\"blue\",\"blue\",\"blue\",\"blue\",\"blue\",\"blue\",\"blue\",\"blue\",\"blue\",\"blue\",\"blue\",\"blue\",\"blue\",\"blue\",\"blue\",\"blue\",\"blue\",\"blue\",\"blue\",\"blue\",\"blue\",\"blue\",\"blue\",\"blue\",\"blue\",\"blue\",\"blue\",\"blue\",\"blue\",\"blue\",\"blue\",\"blue\",\"blue\",\"blue\",\"blue\",\"blue\",\"blue\",\"blue\",\"blue\",\"blue\",\"blue\",\"blue\",\"blue\",\"blue\",\"blue\",\"blue\",\"blue\",\"blue\",\"blue\",\"blue\",\"blue\",\"blue\",\"blue\",\"blue\",\"blue\",\"blue\",\"blue\",\"blue\",\"blue\",\"blue\",\"blue\",\"blue\",\"blue\",\"blue\",\"blue\",\"blue\",\"blue\",\"blue\",\"blue\",\"blue\",\"blue\",\"blue\",\"blue\",\"blue\",\"blue\",\"blue\",\"blue\",\"blue\",\"blue\",\"blue\",\"blue\",\"blue\",\"blue\",\"blue\",\"blue\",\"blue\",\"blue\",\"blue\",\"blue\",\"blue\",\"blue\",\"blue\",\"blue\",\"blue\",\"blue\",\"blue\",\"blue\",\"blue\",\"blue\",\"blue\",\"blue\",\"blue\",\"blue\",\"blue\",\"blue\",\"blue\",\"blue\",\"blue\",\"blue\",\"blue\",\"blue\",\"blue\",\"blue\",\"blue\",\"blue\",\"blue\",\"blue\",\"blue\",\"blue\",\"blue\",\"blue\",\"blue\",\"blue\",\"blue\",\"blue\",\"blue\",\"blue\",\"blue\",\"blue\",\"blue\",\"blue\",\"blue\",\"blue\",\"blue\",\"blue\",\"blue\",\"blue\",\"blue\",\"blue\",\"blue\",\"blue\",\"blue\",\"blue\",\"blue\",\"blue\",\"blue\",\"blue\",\"blue\",\"blue\",\"blue\",\"blue\",\"blue\",\"blue\",\"blue\",\"blue\",\"blue\",\"blue\",\"blue\",\"blue\",\"blue\",\"blue\",\"blue\",\"blue\",\"blue\",\"blue\",\"blue\",\"blue\",\"blue\",\"blue\",\"blue\",\"blue\",\"blue\",\"blue\",\"blue\",\"blue\",\"blue\",\"blue\",\"blue\",\"blue\",\"blue\",\"blue\",\"blue\",\"blue\",\"blue\",\"blue\",\"blue\",\"blue\",\"blue\",\"blue\",\"blue\",\"blue\",\"blue\",\"blue\",\"blue\",\"blue\",\"blue\",\"blue\",\"blue\",\"blue\",\"blue\",\"blue\",\"blue\",\"blue\",\"blue\",\"blue\",\"blue\",\"blue\",\"blue\",\"blue\",\"blue\",\"blue\",\"blue\",\"blue\",\"blue\",\"blue\",\"blue\",\"blue\",\"blue\",\"blue\",\"blue\",\"blue\"]],[\"token\",[\"verified\",\"2gb\",\"illinois\",\"jazz\",\"checking\",\"telescope\",\"seasons\",\"astrologer\",\"contribution\",\"homemade\",\"heroes\",\"warcraft\",\"kumar\",\"tester\",\"politically\",\"conquer\",\"columbia\",\"quiet\",\"repeat\",\"kapil\",\"involve\",\"mckinsey\",\"switched\",\"att\",\"instance\",\"innocent\",\"portuguese\",\"subscribers\",\"cabinet\",\"terror\",\"85\",\"rotation\",\"shirts\",\"drawn\",\"bi\",\"aspergers\",\"inspiration\",\"beats\",\"\\u00a3\",\"approximately\",\"asset\",\"empathy\",\"rooting\",\"ia\",\"dandruff\",\"slab\",\"operator\",\"horrible\",\"dominant\",\"ocd\",\"spacetime\",\"blow\",\"installing\",\"learnt\",\"separation\",\"institution\",\"temples\",\"hons\",\"pound\",\"removing\",\"unemployment\",\"greenlit\",\"audit\",\"supplement\",\"roller\",\"dota\",\"tiny\",\"equally\",\"braces\",\"aggressive\",\"corn\",\"camps\",\"additional\",\"consent\",\"granted\",\"welfare\",\"myths\",\"stations\",\"timeline\",\"psychologist\",\"nagpur\",\"herself\",\"cooper\",\"exgirlfriend\",\"intercourse\",\"flip\",\"hurts\",\"lpa\",\"nerve\",\"tvs\",\"halloween\",\"screenshot\",\"biomedical\",\"covered\",\"milky\",\"onsite\",\"aside\",\"meaningful\",\"stretch\",\"joker\",\"encounter\",\"tone\",\"founders\",\"talked\",\"respectively\",\"downloads\",\"cocaine\",\"toxic\",\"sword\",\"fuck\",\"trainer\",\"partition\",\"boxing\",\"grid\",\"practicing\",\"menu\",\"cms\",\"indore\",\"ate\",\"volunteer\",\"misconceptions\",\"pics\",\"flies\",\"instantly\",\"trans\",\"friday\",\"sociopaths\",\"ctc\",\"hoax\",\"detailed\",\"sizes\",\"rejection\",\"limitations\",\"bharat\",\"kissing\",\"renewable\",\"oriented\",\"countrys\",\"dumps\",\"spiders\",\"technological\",\"advertisement\",\"headache\",\"zodiac\",\"accommodation\",\"venus\",\"calcium\",\"passenger\",\"falls\",\"overnight\",\"pickup\",\"gary\",\"transportation\",\"odds\",\"jupiter\",\"purchasing\",\"fluently\",\"flu\",\"photons\",\"conductor\",\"ohio\",\"balaji\",\"mcdonalds\",\"betting\",\"irrational\",\"sachin\",\"deactivate\",\"estimate\",\"hairs\",\"fluent\",\"errors\",\"remaining\",\"marriages\",\"medieval\",\"charles\",\"spider\",\"oxford\",\"gita\",\"races\",\"liquor\",\"poland\",\"lease\",\"co2\",\"selenium\",\"attempts\",\"crystal\",\"manaphy\",\"knight\",\"collapsed\",\"wheels\",\"behaviour\",\"bitcoins\",\"parliament\",\"himher\",\"handsome\",\"thousands\",\"caring\",\"kings\",\"lucky\",\"workplace\",\"condom\",\"intuitive\",\"chronic\",\"eyesight\",\"simulation\",\"prank\",\"quickest\",\"concert\",\"popularity\",\"connections\",\"disorders\",\"scripting\",\"appearance\",\"js\",\"depth\",\"cheque\",\"longterm\",\"documentaries\",\"dioxide\",\"bright\",\"info\",\"diseases\",\"appeal\",\"snap\",\"smoked\",\"singers\",\"boil\",\"probably\",\"temperatures\",\"appearing\",\"olive\",\"ntse\",\"telecom\",\"brief\",\"discrimination\",\"ethnic\",\"cache\",\"passionate\",\"shoulder\",\"assault\",\"marshmallow\",\"momentum\",\"yr\",\"migrate\",\"retire\",\"cet\",\"canvas\",\"vietnamese\",\"institutions\",\"meter\",\"roots\",\"integer\",\"imported\",\"ants\",\"lyft\",\"piercing\",\"il\",\"poop\",\"organisms\",\"ve\",\"entropy\",\"calm\",\"saddest\",\"toward\",\"myth\",\"sight\",\"filling\",\"hdmi\",\"satisfied\",\"transactions\",\"pharmacy\",\"nursing\",\"correlation\",\"regression\",\"awake\",\"md\",\"nri\",\"recommendations\",\"bin\",\"finland\",\"multi\",\"voted\",\"discovery\",\"edward\",\"touching\",\"immigrant\",\"geometry\",\"indicate\",\"ourselves\",\"texting\",\"seek\",\"expecting\",\"dj\",\"brake\",\"helicopter\",\"blonde\",\"triple\",\"ladies\",\"vivekananda\",\"switching\",\"prostitution\",\"banana\",\"magazines\",\"shippuden\",\"lucknow\",\"2019\",\"failing\",\"elizabeth\",\"irish\",\"ebook\",\"temporary\",\"governor\",\"wasting\",\"weekends\",\"cpt\",\"wax\",\"labor\",\"instruments\",\"instrumentation\",\"hates\",\"hip\",\"arnab\",\"bubble\",\"employers\",\"aadhaar\",\"boyfriends\",\"jake\",\"explained\",\"yesterday\",\"beta\",\"extrovert\",\"andhra\",\"micromax\",\"vertical\",\"lay\",\"nonprofit\",\"dubbed\",\"typing\",\"automotive\",\"thomas\",\"procedures\",\"priority\",\"funded\",\"arabs\",\"siblings\",\"guinea\",\"missile\",\"luck\",\"strategic\",\"defend\",\"module\",\"tuition\",\"acids\",\"controller\",\"committee\",\"housing\",\"integral\",\"peaceful\",\"refugees\",\"prescription\",\"interns\",\"supported\",\"womans\",\"dentist\",\"wives\",\"village\",\"affecting\",\"lte\",\"beaches\",\"austin\",\"substance\",\"engagement\",\"trainee\",\"measures\",\"trailer\",\"purchased\",\"15000\",\"uttar\",\"glue\",\"dtu\",\"medal\",\"photon\",\"engg\",\"violin\",\"column\",\"somehow\",\"rotate\",\"3000\",\"virat\",\"forgotten\",\"fingers\",\"slim\",\"arrest\",\"covalent\",\"ncert\",\"kernel\",\"da\",\"alarm\",\"ngo\",\"4gb\",\"productivity\",\"planned\",\"district\",\"berlin\",\"lists\",\"leads\",\"slang\",\"defence\",\"aspiring\",\"56\",\"enemy\",\"farming\",\"muller\",\"pays\",\"liver\",\"membrane\",\"secretly\",\"plug\",\"gum\",\"eclipse\",\"chewing\",\"labs\",\"zombie\",\"authority\",\"males\",\"argentina\",\"tasks\",\"fell\",\"nails\",\"palestine\",\"tanks\",\"identical\",\"deck\",\"qualification\",\"leadership\",\"kohli\",\"pronunciation\",\"hello\",\"violent\",\"sabha\",\"respiration\",\"transform\",\"warranty\",\"faculty\",\"adolf\",\"expenses\",\"jersey\",\"mercury\",\"whiskey\",\"tackle\",\"tweet\",\"blame\",\"cruise\",\"mahindra\",\"discharge\",\"reduced\",\"vodka\",\"mahatma\",\"bass\",\"compete\",\"stains\",\"pill\",\"swim\",\"ali\",\"gf\",\"ford\",\"prince\",\"sweat\",\"performing\",\"limits\",\"leonardo\",\"cow\",\"resolve\",\"matters\",\"pharmaceutical\",\"ray\",\"remotely\",\"pf\",\"clinical\",\"bpo\",\"homeless\",\"husbands\",\"rising\",\"newtons\",\"outcome\",\"derivative\",\"alpha\",\"grown\",\"capitalism\",\"astronaut\",\"hybrid\",\"palm\",\"teens\",\"hits\",\"airplanes\",\"none\",\"admin\",\"applicable\",\"amcat\",\"spam\",\"neutrality\",\"pixel\",\"festival\",\"faces\",\"molar\",\"snakes\",\"sip\",\"kik\",\"farm\",\"ltd\",\"votes\",\"publishing\",\"comfort\",\"frontend\",\"spin\",\"diagnosed\",\"buildings\",\"\\u00b0\",\"cashless\",\"addictive\",\"extinct\",\"ugc\",\"coke\",\"llb\",\"phrases\",\"struggle\",\"drives\",\"fiber\",\"grocery\",\"achieved\",\"penny\",\"bath\",\"allies\",\"uninstall\",\"ny\",\"appears\",\"effort\",\"satellites\",\"confirmed\",\"loneliness\",\"illuminati\",\"uri\",\"lucid\",\"preferably\",\"neither\",\"\\u221a\",\"pacific\",\"americas\",\"bs\",\"graduated\",\"bills\",\"tube\",\"germans\",\"assume\",\"cleared\",\"mate\",\"divide\",\"versions\",\"fallen\",\"journey\",\"anthem\",\"certificates\",\"looked\",\"sponsor\",\"useless\",\"dependent\",\"invite\",\"guru\",\"keyword\",\"aipmt\",\"clone\",\"kgs\",\"chip\",\"origins\",\"wide\",\"motivational\",\"elite\",\"wanna\",\"unity\",\"cough\",\"connecting\",\"mystery\",\"kim\",\"syrian\",\"voldemort\",\"responsibilities\",\"molecules\",\"boobs\",\"holidays\",\"tutorial\",\"circumstances\",\"fiitjee\",\"islands\",\"bypass\",\"slowly\",\"mixture\",\"aluminum\",\"salesforce\",\"twin\",\"iot\",\"remedy\",\"sheets\",\"pole\",\"hated\",\"females\",\"protected\",\"irs\",\"insecure\",\"entering\",\"neuroscience\",\"offices\",\"delta\",\"suggestion\",\"snapdeal\",\"backstory\",\"periodic\",\"cancelled\",\"mans\",\"complicated\",\"bitsat\",\"pleasure\",\"loop\",\"dropbox\",\"selfish\",\"nude\",\"20000\",\"voter\",\"variables\",\"victory\",\"closest\",\"compensation\",\"extended\",\"locations\",\"cracked\",\"perks\",\"ended\",\"exit\",\"awareness\",\"pakistanis\",\"ebooks\",\"bull\",\"unblock\",\"100000\",\"entrepreneurship\",\"infrastructure\",\"scotland\",\"guest\",\"attacked\",\"hurting\",\"lion\",\"reject\",\"purposes\",\"knife\",\"thai\",\"ipl\",\"knee\",\"accepting\",\"spent\",\"punjabi\",\"tab\",\"quoras\",\"caffeine\",\"athletes\",\"ink\",\"cooked\",\"improving\",\"invaded\",\"allah\",\"thermodynamics\",\"mortgage\",\"firsttime\",\"achievements\",\"issued\",\"breath\",\"award\",\"llc\",\"legends\",\"mood\",\"influenced\",\"proteins\",\"holy\",\"performed\",\"pee\",\"blocks\",\"molecule\",\"interests\",\"imei\",\"requires\",\"cisco\",\"moves\",\"marrying\",\"mca\",\"perfectly\",\"iisc\",\"corporation\",\"shiva\",\"viruses\",\"difficulty\",\"50000\",\"volte\",\"shampoo\",\"secular\",\"transplant\",\"ghz\",\"ahead\",\"crew\",\"interact\",\"depend\",\"hawaii\",\"hiv\",\"evening\",\"vegetable\",\"revenge\",\"suppose\",\"busy\",\"label\",\"rogue\",\"rational\",\"hillstation\",\"brains\",\"urdu\",\"imagine\",\"salaries\",\"survey\",\"g4\",\"butt\",\"manufacturers\",\"saas\",\"residency\",\"recommendation\",\"purple\",\"fault\",\"aadhar\",\"aging\",\"bhopal\",\"conducted\",\"loses\",\"infection\",\"forest\",\"impacts\",\"collection\",\"fridge\",\"diamond\",\"mis\",\"recorded\",\"march\",\"conditioner\",\"signature\",\"listed\",\"branches\",\"manchester\",\"wanting\",\"perception\",\"absolutely\",\"servers\",\"soluble\",\"swami\",\"lumia\",\"directors\",\"52\",\"2008\",\"gaining\",\"stereotypes\",\"homes\",\"vegas\",\"jam\",\"behave\",\"relatively\",\"forum\",\"ib\",\"earphones\",\"facilities\",\"april\",\"finally\",\"tail\",\"capacitor\",\"tiger\",\"deaf\",\"deliver\",\"django\",\"expand\",\"skip\",\"nearly\",\"maybe\",\"task\",\"gateway\",\"strangest\",\"abstract\",\"adding\",\"suck\",\"tim\",\"printed\",\"sigma\",\"immigrate\",\"decline\",\"arrested\",\"95\",\"narcissistic\",\"freelancing\",\"patterns\",\"expired\",\"casual\",\"tablets\",\"patients\",\"lean\",\"pieces\",\"laymans\",\"whatever\",\"polish\",\"lemon\",\"abortion\",\"i3\",\"theorem\",\"h\",\"compulsory\",\"helped\",\"sons\",\"feminism\",\"compiler\",\"tested\",\"enhance\",\"adhd\",\"manhattan\",\"iii\",\"nail\",\"eee\",\"deals\",\"excellent\",\"ipo\",\"folder\",\"sand\",\"continuous\",\"capable\",\"libraries\",\"aggregate\",\"64\",\"bsnl\",\"profiles\",\"spirit\",\"pulled\",\"owns\",\"deloitte\",\"therapist\",\"acts\",\"millions\",\"authors\",\"marathi\",\"dvd\",\"coconut\",\"swiss\",\"interaction\",\"ncr\",\"kannada\",\"smallest\",\"advisable\",\"smartest\",\"sorry\",\"normally\",\"ends\",\"rome\",\"spectrum\",\"cousin\",\"75\",\"suzuki\",\"nights\",\"cap\",\"enable\",\"counselling\",\"proxy\",\"margin\",\"shops\",\"hackers\",\"tatkal\",\"opened\",\"cinema\",\"consumption\",\"coal\",\"silent\",\"choosing\",\"introduction\",\"electromagnetic\",\"hcl\",\"complaint\",\"puppies\",\"vc\",\"symbols\",\"lenses\",\"username\",\"arrow\",\"adopted\",\"affects\",\"sudden\",\"pcm\",\"gel\",\"affair\",\"pinterest\",\"statements\",\"supplements\",\"justified\",\"turns\",\"santa\",\"shoe\",\"trek\",\"headphone\",\"girlfriends\",\"verizon\",\"rocket\",\"conference\",\"ego\",\"srm\",\"afghanistan\",\"nucleus\",\"generated\",\"chinas\",\"ww1\",\"consultancy\",\"socially\",\"allen\",\"berkeley\",\"missed\",\"crying\",\"introduced\",\"ps3\",\"flour\",\"brought\",\"elder\",\"minecraft\",\"9th\",\"freelancer\",\"circles\",\"scars\",\"entertainment\",\"turbine\",\"deeply\",\"rom\",\"evolved\",\"nato\",\"strengths\",\"ide\",\"tweets\",\"scholarships\",\"mentor\",\"collect\",\"hdfc\",\"mandarin\",\"solo\",\"terrible\",\"influential\",\"professionals\",\"65\",\"recognition\",\"nvidia\",\"cia\",\"designs\",\"10k\",\"creation\",\"tom\",\"rated\",\"introverts\",\"boiling\",\"communism\",\"treaty\",\"whereas\",\"thanks\",\"cigarette\",\"bengaluru\",\"oneplus\",\"reserve\",\"advertise\",\"nits\",\"helping\",\"bruce\",\"mp3\",\"severe\",\"proposal\",\"cultures\",\"tap\",\"animated\",\"planes\",\"hall\",\"cognitive\",\"supports\",\"keys\",\"gotten\",\"feedback\",\"recording\",\"proceed\",\"membership\",\"console\",\"overseas\",\"hows\",\"william\",\"billionaires\",\"updated\",\"pre\",\"organizations\",\"messi\",\"unexpected\",\"nitrogen\",\"hungry\",\"nigeria\",\"sync\",\"arduino\",\"gross\",\"outer\",\"searching\",\"workers\",\"outlook\",\"europeans\",\"founder\",\"lectures\",\"legitimate\",\"camp\",\"ordinary\",\"investments\",\"bone\",\"raising\",\"quite\",\"ages\",\"joint\",\"johnson\",\"destination\",\"concerned\",\"belief\",\"refrigerator\",\"implications\",\"manga\",\"mandatory\",\"obamas\",\"lawyers\",\"bedroom\",\"icon\",\"qualifications\",\"qa\",\"bikes\",\"boston\",\"holding\",\"session\",\"appointment\",\"weaknesses\",\"iphones\",\"motorcycle\",\"schizophrenia\",\"5th\",\"intellectual\",\"eaten\",\"attending\",\"medals\",\"adsense\",\"nda\",\"6th\",\"kali\",\"georgia\",\"wechat\",\"earlier\",\"drone\",\"truck\",\"horse\",\"merchant\",\"torque\",\"seed\",\"backend\",\"holmes\",\"graduating\",\"400\",\"bones\",\"sufficient\",\"participate\",\"rifle\",\"shock\",\"downloaded\",\"earthquake\",\"breasts\",\"secretary\",\"insert\",\"damaged\",\"massive\",\"standing\",\"remainder\",\"programme\",\"holocaust\",\"totally\",\"belt\",\"affairs\",\"nokia\",\"mechanism\",\"pin\",\"scan\",\"fought\",\"superpower\",\"poetry\",\"signals\",\"educated\",\"scariest\",\"trains\",\"closer\",\"weapon\",\"icici\",\"serial\",\"bicycle\",\"terminal\",\"finished\",\"stolen\",\"inspiring\",\"cuisine\",\"spark\",\"sounds\",\"pricing\",\"click\",\"underwear\",\"kidney\",\"bengal\",\"invention\",\"discount\",\"chase\",\"evaluate\",\"distributed\",\"themes\",\"amd\",\"stem\",\"st\",\"genre\",\"vegetables\",\"council\",\"bihar\",\"thick\",\"mouse\",\"worry\",\"newly\",\"updates\",\"candy\",\"prepaid\",\"wet\",\"rap\",\"motors\",\"implemented\",\"theoretical\",\"fabric\",\"mexican\",\"portfolio\",\"technique\",\"icse\",\"expansion\",\"evolutionary\",\"justify\",\"trick\",\"attached\",\"lightning\",\"pitch\",\"armed\",\"einstein\",\"conversion\",\"iitjee\",\"declared\",\"admit\",\"acquisition\",\"innovation\",\"runs\",\"wwe\",\"trial\",\"memories\",\"refuse\",\"netherlands\",\"committed\",\"fraud\",\"jailbreak\",\"settle\",\"badly\",\"approved\",\"eligibility\",\"trend\",\"increases\",\"comic\",\"quorans\",\"cellular\",\"matches\",\"receiving\",\"bmw\",\"vlsi\",\"signed\",\"lakes\",\"350\",\"communications\",\"pork\",\"joined\",\"anyway\",\"differentiate\",\"actresses\",\"29\",\"ethics\",\"premier\",\"hearing\",\"vehicles\",\"drama\",\"instant\",\"lips\",\"dates\",\"july\",\"holiday\",\"coach\",\"malayalam\",\"superior\",\"soviet\",\"plate\",\"throw\",\"worship\",\"bars\",\"sharma\",\"mothers\",\"integrated\",\"clubs\",\"bug\",\"melbourne\",\"co\",\"bisexual\",\"regions\",\"lesson\",\"heads\",\"reader\",\"snake\",\"qualify\",\"paul\",\"causing\",\"disappear\",\"era\",\"lets\",\"qualified\",\"spiritual\",\"wolf\",\"requirement\",\"journalism\",\"studied\",\"lowest\",\"vader\",\"coursera\",\"stark\",\"configuration\",\"verbal\",\"undergrad\",\"dimensions\",\"transition\",\"efficiently\",\"interstellar\",\"locked\",\"summary\",\"chandigarh\",\"ghosts\",\"included\",\"operate\",\"dimension\",\"mount\",\"noticed\",\"rating\",\"somewhere\",\"martin\",\"bra\",\"bird\",\"zuckerberg\",\"sensor\",\"audience\",\"dirty\",\"starbucks\",\"permission\",\"residential\",\"wholesale\",\"assets\",\"clearly\",\"km\",\"invade\",\"ipcc\",\"fb\",\"shell\",\"shave\",\"loud\",\"tip\",\"seeds\",\"sets\",\"polar\",\"although\",\"june\",\"judaism\",\"anti\",\"instrument\",\"seven\",\"shooting\",\"j\",\"portal\",\"tower\",\"github\",\"linked\",\"admitted\",\"punishment\",\"mid\",\"micro\",\"cured\",\"lifestyle\",\"nor\",\"upset\",\"challenge\",\"soap\",\"standards\",\"integration\",\"lottery\",\"lab\",\"williams\",\"odd\",\"soil\",\"sensitive\",\"route\",\"tattoos\",\"coin\",\"declare\",\"frame\",\"differential\",\"bowl\",\"softwares\",\"notifications\",\"maintenance\",\"inner\",\"apples\",\"converted\",\"recruiter\",\"bombay\",\"command\",\"posting\",\"controlled\",\"balls\",\"personally\",\"poker\",\"extract\",\"hired\",\"bugs\",\"providers\",\"loans\",\"calculator\",\"attractions\",\"torrents\",\"keywords\",\"profession\",\"blogging\",\"transport\",\"sue\",\"anonymously\",\"compounds\",\"robot\",\"buddhism\",\"sweet\",\"defense\",\"nobody\",\"uc\",\"defined\",\"division\",\"bags\",\"epic\",\"unhealthy\",\"craziest\",\"urban\",\"combination\",\"pair\",\"laugh\",\"cv\",\"usd\",\"launched\",\"usps\",\"visited\",\"nexus\",\"regularly\",\"brothers\",\"broker\",\"concentrate\",\"agreement\",\"nervous\",\"frozen\",\"detail\",\"sir\",\"situations\",\"borderline\",\"angularjs\",\"abusive\",\"tourism\",\"relate\",\"august\",\"communist\",\"accountant\",\"dumb\",\"arab\",\"b2b\",\"du\",\"thermal\",\"asians\",\"threat\",\"karma\",\"passive\",\"homosexuality\",\"putting\",\"quantitative\",\"relativity\",\"sanskrit\",\"opinions\",\"verify\",\"bear\",\"roll\",\"expanding\",\"teenage\",\"jeans\",\"providing\",\"shared\",\"extreme\",\"mi\",\"vr\",\"progress\",\"greece\",\"cpu\",\"ips\",\"merge\",\"reputation\",\"loving\",\"salman\",\"iss\",\"warm\",\"dental\",\"extension\",\"attraction\",\"fictional\",\"journal\",\"login\",\"secondary\",\"recognize\",\"southern\",\"ph\",\"lunch\",\"wallet\",\"ronaldo\",\"larger\",\"actions\",\"fathers\",\"adopt\",\"claims\",\"bottom\",\"therapy\",\"patient\",\"described\",\"virginity\",\"functional\",\"ionic\",\"chartered\",\"discover\",\"55\",\"21st\",\"biased\",\"mad\",\"northern\",\"onto\",\"liberals\",\"premium\",\"neutral\",\"detect\",\"diagram\",\"sperm\",\"ga\",\"bleach\",\"spread\",\"contributions\",\"activate\",\"prior\",\"safest\",\"holder\",\"360\",\"aim\",\"rental\",\"families\",\"everybody\",\"shut\",\"payments\",\"150\",\"cube\",\"vegan\",\"newspaper\",\"beef\",\"houses\",\"preferred\",\"simultaneously\",\"marked\",\"reactions\",\"emergency\",\"protection\",\"cab\",\"forex\",\"norway\",\"immigrants\",\"googles\",\"ssb\",\"wing\",\"yrs\",\"ensure\",\"spy\",\"reasoning\",\"strange\",\"forgive\",\"turkish\",\"tag\",\"ranking\",\"platforms\",\"fox\",\"existed\",\"walmart\",\"lazy\",\"ears\",\"clock\",\"beam\",\"rare\",\"bush\",\"2011\",\"stops\",\"batteries\",\"certified\",\"naked\",\"worldwide\",\"staying\",\"lifetime\",\"ted\",\"lake\",\"wealthy\",\"transit\",\"stephen\",\"rural\",\"versa\",\"pets\",\"commonly\",\"adults\",\"ultimate\",\"genius\",\"vinegar\",\"allows\",\"aid\",\"retirement\",\"airtel\",\"sciences\",\"mountain\",\"drinks\",\"tour\",\"wind\",\"seattle\",\"disabled\",\"bodies\",\"lesbian\",\"governments\",\"kinetic\",\"tumblr\",\"absolute\",\"author\",\"toilet\",\"whey\",\"sleepy\",\"molecular\",\"watches\",\"inventions\",\"rain\",\"34\",\"angular\",\"o\",\"dish\",\"however\",\"agents\",\"abs\",\"switzerland\",\"transformer\",\"clearing\",\"consciousness\",\"broadband\",\"uae\",\"automatic\",\"opposed\",\"geography\",\"astronauts\",\"decisions\",\"cement\",\"induction\",\"luxury\",\"upvotes\",\"politicians\",\"posted\",\"toefl\",\"kitchen\",\"noise\",\"radius\",\"dye\",\"miles\",\"risks\",\"scientifically\",\"mnc\",\"propose\",\"prepared\",\"iiit\",\"mention\",\"equipment\",\"darth\",\"january\",\"surname\",\"raised\",\"attitude\",\"gta\",\"david\",\"hike\",\"awkward\",\"proven\",\"productive\",\"lg\",\"filled\",\"atmosphere\",\"lee\",\"irctc\",\"addicted\",\"dynamic\",\"employment\",\"weekend\",\"replacement\",\"singing\",\"owners\",\"bipolar\",\"tomorrow\",\"poems\",\"default\",\"kvpy\",\"sauce\",\"competitors\",\"russians\",\"sample\",\"crimes\",\"hang\",\"inspired\",\"furniture\",\"throughout\",\"presence\",\"efficiency\",\"leg\",\"biological\",\"pilani\",\"conversations\",\"inspirational\",\"bachelor\",\"centers\",\"withdraw\",\"fundamental\",\"comparison\",\"november\",\"fifa\",\"penalty\",\"algebra\",\"joke\",\"htc\",\"pilots\",\"collapse\",\"texts\",\"vocabulary\",\"moved\",\"sc\",\"smile\",\"october\",\"dot\",\"genetic\",\"architect\",\"url\",\"51\",\"sore\",\"uniform\",\"re\",\"rails\",\"smaller\",\"marine\",\"terrorists\",\"nazi\",\"breast\",\"politician\",\"subtitles\",\"chosen\",\"egypt\",\"thin\",\"packages\",\"editor\",\"bands\",\"mythology\",\"reasonable\",\"permit\",\"acceptable\",\"seriously\",\"iraq\",\"fever\",\"visitor\",\"honest\",\"friction\",\"offering\",\"smarter\",\"ahmedabad\",\"replaced\",\"resolution\",\"burning\",\"bridge\",\"catholic\",\"calendar\",\"resident\",\"policies\",\"forced\",\"leading\",\"arm\",\"deserve\",\"context\",\"coolest\",\"arranged\",\"arizona\",\"comics\",\"harm\",\"democrats\",\"jail\",\"breed\",\"anywhere\",\"psu\",\"christ\",\"violence\",\"agriculture\",\"objective\",\"moments\",\"infinity\",\"supporting\",\"critical\",\"trees\",\"beyond\",\"bag\",\"vitamin\",\"assembly\",\"solved\",\"array\",\"perspective\",\"pas\",\"wwii\",\"skinny\",\"contains\",\"lift\",\"cleaning\",\"peter\",\"aap\",\"pimples\",\"initial\",\"lesserknown\",\"sights\",\"principles\",\"realize\",\"millionaire\",\"faux\",\"orbit\",\"desire\",\"hi\",\"prophet\",\"suits\",\"careers\",\"thinks\",\"quantity\",\"spots\",\"wage\",\"asleep\",\"sociology\",\"guard\",\"units\",\"structural\",\"operation\",\"pants\",\"w\",\"bulk\",\"possibly\",\"drunk\",\"fired\",\"accident\",\"inch\",\"bottle\",\"aerospace\",\"narcissist\",\"ux\",\"angeles\",\"wood\",\"index\",\"safely\",\"robotics\",\"edition\",\"metals\",\"practices\",\"scheme\",\"interior\",\"diabetes\",\"nobel\",\"youth\",\"lived\",\"september\",\"chief\",\"proposed\",\"assuming\",\"sin\",\"counter\",\"disable\",\"introduce\",\"restore\",\"swimming\",\"intern\",\"answering\",\"mentioned\",\"crash\",\"laser\",\"teenagers\",\"presentation\",\"quran\",\"classified\",\"demonetisation\",\"communicate\",\"cotton\",\"autism\",\"anger\",\"environmental\",\"stable\",\"7th\",\"bread\",\"invited\",\"wisdom\",\"wrote\",\"widely\",\"minor\",\"formal\",\"dreaming\",\"managers\",\"escape\",\"pollution\",\"taiwan\",\"verification\",\"los\",\"figures\",\"26\",\"illness\",\"sides\",\"compatible\",\"pack\",\"conspiracy\",\"hedge\",\"flights\",\"dropped\",\"former\",\"suffer\",\"aware\",\"designers\",\"mahabharata\",\"evolve\",\"weigh\",\"dies\",\"fruits\",\"cc\",\"butter\",\"sharing\",\"atoms\",\"tongue\",\"transaction\",\"poverty\",\"suffering\",\"presidents\",\"resistance\",\"adam\",\"civilization\",\"mining\",\"toronto\",\"stick\",\"increased\",\"wild\",\"freelance\",\"removal\",\"aws\",\"rio\",\"principle\",\"asus\",\"cute\",\"consumer\",\"pool\",\"variable\",\"tutorials\",\"advance\",\"keeping\",\"visible\",\"cognizant\",\"equations\",\"rooms\",\"krishna\",\"printer\",\"tooth\",\"mentally\",\"realistic\",\"automobile\",\"cake\",\"tie\",\"beach\",\"ghost\",\"comfortable\",\"mysql\",\"oral\",\"closed\",\"helps\",\"maharashtra\",\"admissions\",\"i5\",\"partners\",\"axis\",\"beliefs\",\"neck\",\"clans\",\"hidden\",\"cyber\",\"voting\",\"bacteria\",\"layer\",\"chhattisgarh\",\"5000\",\"sitting\",\"murder\",\"argument\",\"f\",\"privacy\",\"syndrome\",\"2010\",\"bite\",\"vacation\",\"isro\",\"trouble\",\"records\",\"answered\",\"digit\",\"defeat\",\"childhood\",\"5s\",\"gates\",\"f1\",\"town\",\"anal\",\"copper\",\"talks\",\"affiliate\",\"sociopath\",\"installed\",\"static\",\"copyright\",\"animation\",\"donate\",\"stranger\",\"bcom\",\"destroyed\",\"gujarat\",\"foundation\",\"prize\",\"components\",\"foreigner\",\"arms\",\"unlimited\",\"needing\",\"settings\",\"item\",\"eve\",\"competition\",\"landing\",\"beard\",\"patent\",\"ending\",\"2020\",\"incident\",\"petroleum\",\"florida\",\"particularly\",\"ups\",\"generator\",\"leather\",\"heal\",\"experiment\",\"28\",\"passing\",\"talent\",\"remote\",\"300\",\"published\",\"impossible\",\"steam\",\"80\",\"washing\",\"guilty\",\"punjab\",\"70\",\"album\",\"bullet\",\"paris\",\"interface\",\"agencies\",\"mission\",\"digits\",\"modis\",\"recruitment\",\"manipal\",\"telling\",\"meal\",\"orange\",\"stone\",\"links\",\"ab\",\"upper\",\"cameras\",\"p\",\"combat\",\"passion\",\"shower\",\"thailand\",\"beings\",\"grad\",\"27\",\"finger\",\"jump\",\"lights\",\"ui\",\"bba\",\"sweden\",\"arrive\",\"4th\",\"amendment\",\"window\",\"satellite\",\"al\",\"matlab\",\"jokes\",\"muhammad\",\"expression\",\"booking\",\"dinner\",\"skype\",\"lots\",\"2018\",\"teen\",\"finish\",\"dslr\",\"mens\",\"proud\",\"entrepreneurs\",\"ukraine\",\"coins\",\"scenario\",\"transmission\",\"ignore\",\"pride\",\"contribute\",\"grand\",\"curve\",\"false\",\"operations\",\"breakup\",\"eventually\",\"acquire\",\"commission\",\"lies\",\"spoken\",\"pills\",\"masturbating\",\"jackson\",\"airbnb\",\"delivered\",\"disk\",\"radiation\",\"plays\",\"marvel\",\"particle\",\"breakfast\",\"smartphones\",\"relevant\",\"quota\",\"refund\",\"inches\",\"telugu\",\"angel\",\"eastern\",\"inflation\",\"predict\",\"annoying\",\"obc\",\"tough\",\"conduct\",\"originate\",\"notification\",\"backup\",\"harder\",\"richest\",\"pronounce\",\"sri\",\"wheel\",\"wasnt\",\"oldest\",\"sheet\",\"soda\",\"20s\",\"wipro\",\"awesome\",\"facial\",\"z\",\"noida\",\"confident\",\"fbi\",\"corrupt\",\"succeed\",\"reddit\",\"associate\",\"input\",\"guns\",\"rahul\",\"baking\",\"description\",\"musical\",\"apache\",\"nowadays\",\"fluid\",\"capacity\",\"loose\",\"freshman\",\"cfa\",\"optional\",\"theres\",\"ps4\",\"trends\",\"jon\",\"richard\",\"legit\",\"nodejs\",\"document\",\"sexually\",\"particles\",\"singer\",\"printing\",\"captain\",\"valuable\",\"several\",\"aiims\",\"boot\",\"sit\",\"zone\",\"billionaire\",\"floor\",\"gravitational\",\"export\",\"motivation\",\"golden\",\"transgender\",\"healthcare\",\"heaven\",\"81\",\"leaves\",\"listening\",\"overall\",\"press\",\"dishes\",\"railways\",\"warming\",\"enfield\",\"extent\",\"acceleration\",\"afford\",\"bonds\",\"border\",\"registration\",\"cast\",\"hope\",\"shipping\",\"karnataka\",\"specifically\",\"opportunity\",\"arabia\",\"pump\",\"pg\",\"carrier\",\"plot\",\"kingdom\",\"contract\",\"painful\",\"kindle\",\"boring\",\"essential\",\"disney\",\"charger\",\"seconds\",\"measured\",\"honda\",\"ba\",\"makeup\",\"\\u2013\",\"mini\",\"annual\",\"traits\",\"retrieve\",\"willing\",\"swift\",\"consume\",\"hindus\",\"psychopath\",\"tells\",\"solving\",\"conditions\",\"artists\",\"spotify\",\"bomb\",\"integrate\",\"stuck\",\"nikon\",\"gadgets\",\"womens\",\"judge\",\"republicans\",\"vacuum\",\"felt\",\"putin\",\"tennis\",\"concentration\",\"fans\",\"constantly\",\"matrix\",\"secrets\",\"spot\",\"soft\",\"stored\",\"neural\",\"submit\",\"scores\",\"ola\",\"wire\",\"gdp\",\"jaipur\",\"typically\",\"airline\",\"roles\",\"cheaper\",\"machines\",\"shift\",\"impress\",\"basics\",\"32\",\"conservative\",\"birds\",\"tend\",\"duty\",\"setup\",\"rude\",\"pink\",\"church\",\"mine\",\"jack\",\"sending\",\"cooking\",\"versus\",\"expert\",\"olympic\",\"biotechnology\",\"gurgaon\",\"worked\",\"codes\",\"successfully\",\"hardware\",\"faith\",\"pr\",\"television\",\"compound\",\"vit\",\"universal\",\"thank\",\"grammatically\",\"chicago\",\"ivy\",\"worried\",\"enterprise\",\"sodium\",\"railway\",\"remedies\",\"racism\",\"tracking\",\"psychological\",\"apartment\",\"magazine\",\"martial\",\"beauty\",\"waiting\",\"attacks\",\"horror\",\"fantasy\",\"ma\",\"select\",\"increasing\",\"metro\",\"opt\",\"map\",\"watched\",\"gear\",\"icloud\",\"james\",\"comedy\",\"lollipop\",\"ireland\",\"upcoming\",\"italian\",\"oven\",\"emotionally\",\"decided\",\"lakh\",\"grey\",\"kept\",\"produced\",\"mouth\",\"manual\",\"dhoni\",\"fill\",\"throat\",\"shoot\",\"liked\",\"innovative\",\"immediately\",\"lonely\",\"fighting\",\"max\",\"accidentally\",\"schedule\",\"orgasm\",\"rape\",\"ride\",\"muscles\",\"graduates\",\"taller\",\"boost\",\"lakhs\",\"microwave\",\"electrons\",\"upon\",\"attract\",\"ap\",\"abuse\",\"earths\",\"forever\",\"underrated\",\"facing\",\"terrorist\",\"alien\",\"celebrity\",\"frequently\",\"vpn\",\"wales\",\"powder\",\"superman\",\"mixed\",\"caught\",\"goods\",\"beginning\",\"starts\",\"atomic\",\"associated\",\"triangle\",\"parties\",\"banning\",\"k\",\"honey\",\"monitor\",\"graph\",\"leaders\",\"embedded\",\"juice\",\"split\",\"lady\",\"sequence\",\"911\",\"harassment\",\"nepal\",\"pop\",\"habit\",\"setting\",\"edge\",\"ww2\",\"gps\",\"federal\",\"charged\",\"lying\",\"empty\",\"whenever\",\"airplane\",\"jet\",\"destroy\",\"ies\",\"wouldnt\",\"quick\",\"decrease\",\"robert\",\"pradesh\",\"professors\",\"massage\",\"held\",\"spending\",\"markets\",\"objects\",\"chart\",\"mechanics\",\"silver\",\"usage\",\"basketball\",\"gen\",\"periods\",\"identity\",\"individuals\",\"css\",\"soul\",\"ipod\",\"chest\",\"understanding\",\"coast\",\"classic\",\"spain\",\"babies\",\"sd\",\"hostel\",\"shirt\",\"further\",\"logical\",\"franchise\",\"obtain\",\"foreigners\",\"fully\",\"region\",\"designed\",\"cheated\",\"beneficial\",\"shes\",\"accent\",\"couldnt\",\"queen\",\"sick\",\"blowing\",\"properly\",\"stronger\",\"returns\",\"condition\",\"musk\",\"ugly\",\"teams\",\"filter\",\"snow\",\"glasses\",\"employer\",\"solid\",\"followed\",\"embarrassing\",\"auto\",\"meeting\",\"belong\",\"strike\",\"internships\",\"bachelors\",\"administration\",\"temple\",\"wealth\",\"retail\",\"speakers\",\"electoral\",\"headphones\",\"streaming\",\"mirror\",\"diesel\",\"republic\",\"antivirus\",\"customers\",\"atm\",\"vagina\",\"cigarettes\",\"aptitude\",\"lewis\",\"saudi\",\"puppy\",\"recovery\",\"jimmy\",\"obsessed\",\"domestic\",\"pen\",\"batch\",\"de\",\"drawing\",\"ai\",\"medium\",\"simply\",\"photoshop\",\"sms\",\"turning\",\"nadu\",\"appropriate\",\"adobe\",\"substitute\",\"fruit\",\"recipes\",\"fighter\",\"saving\",\"greater\",\"cheat\",\"routine\",\"push\",\"sherlock\",\"arguments\",\"sony\",\"import\",\"soldiers\",\"charges\",\"emotions\",\"ibm\",\"un\",\"innovations\",\"itunes\",\"consultant\",\"iims\",\"relations\",\"psychopaths\",\"existing\",\"angle\",\"clash\",\"bus\",\"australian\",\"crazy\",\"pull\",\"theories\",\"savings\",\"suit\",\"contrast\",\"calculus\",\"pi\",\"credits\",\"bluetooth\",\"himself\",\"traveling\",\"criminal\",\"xiaomi\",\"zealand\",\"seats\",\"electron\",\"script\",\"11th\",\"lessons\",\"programmers\",\"december\",\"flag\",\"singh\",\"arabic\",\"sale\",\"nfl\",\"grammar\",\"killing\",\"virgin\",\"differently\",\"poem\",\"provided\",\"automation\",\"shy\",\"translation\",\"mathematical\",\"45\",\"celebrities\",\"spring\",\"downloading\",\"dr\",\"organization\",\"majority\",\"clients\",\"hd\",\"motivate\",\"thats\",\"thesis\",\"door\",\"weakest\",\"saw\",\"canon\",\"younger\",\"costs\",\"river\",\"rings\",\"factory\",\"decent\",\"clintons\",\"holes\",\"desert\",\"divorce\",\"sold\",\"cheese\",\"atom\",\"taught\",\"minute\",\"ocean\",\"crisis\",\"represent\",\"surgical\",\"parent\",\"brexit\",\"possibility\",\"longest\",\"edit\",\"scholarship\",\"motivated\",\"chocolate\",\"faced\",\"90\",\"parallel\",\"foot\",\"examination\",\"friendly\",\"kinds\",\"wins\",\"islamic\",\"degrees\",\"registered\",\"distribution\",\"junior\",\"gave\",\"sing\",\"articles\",\"hadoop\",\"saved\",\"hero\",\"ear\",\"asks\",\"improved\",\"teenager\",\"forms\",\"wash\",\"provides\",\"washington\",\"strikes\",\"binary\",\"syria\",\"indonesia\",\"powers\",\"highly\",\"heshe\",\"happiness\",\"director\",\"citizenship\",\"knew\",\"humanity\",\"translate\",\"nba\",\"permanently\",\"soccer\",\"todays\",\"challenges\",\"barack\",\"title\",\"latin\",\"fitness\",\"genuine\",\"investor\",\"dislike\",\"scenes\",\"hacker\",\"bangladesh\",\"ebay\",\"earning\",\"dell\",\"paytm\",\"spouse\",\"bored\",\"roman\",\"official\",\"dragon\",\"park\",\"except\",\"habits\",\"quote\",\"astrology\",\"congress\",\"automatically\",\"island\",\"religions\",\"christianity\",\"supreme\",\"owner\",\"hell\",\"wikipedia\",\"cancel\",\"industries\",\"actress\",\"client\",\"visual\",\"michael\",\"remain\",\"ability\",\"concrete\",\"conflict\",\"string\",\"linear\",\"supposed\",\"engines\",\"2012\",\"\\u2018\",\"lesser\",\"traditional\",\"episodes\",\"goals\",\"tata\",\"opening\",\"target\",\"weak\",\"anonymous\",\"bjp\",\"resource\",\"concepts\",\"ruby\",\"friendship\",\"nyc\",\"pretty\",\"implement\",\"painting\",\"ill\",\"agency\",\"reverse\",\"confused\",\"italy\",\"response\",\"yellow\",\"dance\",\"contain\",\"vice\",\"editing\",\"acting\",\"weirdest\",\"feels\",\"govt\",\"accounting\",\"rise\",\"wise\",\"leaving\",\"lens\",\"artist\",\"arvind\",\"pattern\",\"scared\",\"attention\",\"airlines\",\"sky\",\"malaysia\",\"port\",\"attempt\",\"element\",\"classical\",\"shown\",\"safety\",\"including\",\"tablet\",\"la\",\"terrorism\",\"commit\",\"maps\",\"african\",\"viewed\",\"calling\",\"6s\",\"agent\",\"output\",\"justice\",\"don\",\"addiction\",\"lock\",\"vegetarian\",\"britain\",\"percent\",\"meditation\",\"ibps\",\"monthly\",\"writers\",\"forward\",\"stuff\",\"mr\",\"ready\",\"forgot\",\"flying\",\"recommended\",\"fields\",\"blind\",\"l\",\"hinduism\",\"desktop\",\"host\",\"tattoo\",\"maintain\",\"boards\",\"helpful\",\"semester\",\"load\",\"tier\",\"agree\",\"factor\",\"elon\",\"freshers\",\"sql\",\"cases\",\"exact\",\"confidence\",\"behavior\",\"hacked\",\"quotes\",\"hydrogen\",\"pakistani\",\"masturbate\",\"divided\",\"skill\",\"fine\",\"falling\",\"chess\",\"charging\",\"pages\",\"vector\",\"supporters\",\"waste\",\"sanders\",\"affordable\",\"unlock\",\"techniques\",\"wine\",\"keyboard\",\"cm\",\"wireless\",\"lawyer\",\"egg\",\"cope\",\"mindblowing\",\"recipe\",\"corruption\",\"scored\",\"secure\",\"teaching\",\"opposite\",\"educational\",\"bernie\",\"y\",\"library\",\"models\",\"kid\",\"stack\",\"separate\",\"19\",\"extremely\",\"properties\",\"cable\",\"magic\",\"removed\",\"computing\",\"hospital\",\"beer\",\"christians\",\"twice\",\"kg\",\"consulting\",\"whose\",\"serious\",\"petrol\",\"travelling\",\"revolution\",\"custom\",\"structures\",\"guide\",\"celebrate\",\"lenovo\",\"turned\",\"ielts\",\"grades\",\"fuel\",\"relative\",\"oracle\",\"academy\",\"lack\",\"passed\",\"relation\",\"values\",\"movement\",\"strategies\",\"eu\",\"emotional\",\"legs\",\"pokemon\",\"3g\",\"iran\",\"mostly\",\"jewish\",\"offered\",\"log\",\"hasnt\",\"explanation\",\"signal\",\"stores\",\"syllabus\",\"bits\",\"yoga\",\"weapons\",\"gods\",\"10000\",\"delivery\",\"gb\",\"sum\",\"letters\",\"venture\",\"selection\",\"winning\",\"35\",\"comment\",\"consequences\",\"sport\",\"items\",\"seems\",\"ring\",\"jealous\",\"laptops\",\"criteria\",\"fresh\",\"reference\",\"bitcoin\",\"infinite\",\"perform\",\"brazil\",\"density\",\"plans\",\"hosting\",\"clothing\",\"hong\",\"dying\",\"heavy\",\"steve\",\"gone\",\"damage\",\"missing\",\"ethical\",\"republican\",\"contacts\",\"activity\",\"electronic\",\"qualities\",\"piano\",\"hisher\",\"repair\",\"posts\",\"disease\",\"winter\",\"ten\",\"publish\",\"paint\",\"physically\",\"executive\",\"deposit\",\"elements\",\"xbox\",\"ceo\",\"visitors\",\"discovered\",\"tickets\",\"literature\",\"primary\",\"naturally\",\"senior\",\"u\",\"hardest\",\"debate\",\"frequency\",\"vietnam\",\"cry\",\"assistant\",\"gifts\",\"practical\",\"funny\",\"valid\",\"liberal\",\"refer\",\"beat\",\"shape\",\"institutes\",\"msc\",\"internal\",\"located\",\"significant\",\"scientists\",\"g\",\"ship\",\"proper\",\"independence\",\"added\",\"hes\",\"catch\",\"urine\",\"effectively\",\"named\",\"responsible\",\"strength\",\"whos\",\"immigration\",\"vehicle\",\"tesla\",\"kong\",\"meth\",\"england\",\"huge\",\"pizza\",\"rejected\",\"george\",\"fan\",\"salt\",\"browser\",\"sat\",\"loved\",\"fees\",\"walking\",\"symbol\",\"equity\",\"ubuntu\",\"alternatives\",\"theme\",\"virus\",\"manufacturing\",\"cutoff\",\"pure\",\"22\",\"introvert\",\"unable\",\"greek\",\"rice\",\"gst\",\"happening\",\"centre\",\"kiss\",\"prison\",\"bigger\",\"font\",\"construction\",\"exercises\",\"keeps\",\"gmat\",\"offers\",\"cross\",\"nasa\",\"unit\",\"advertising\",\"cup\",\"fixed\",\"limited\",\"billion\",\"subjects\",\"arts\",\"worlds\",\"stupid\",\"breaking\",\"funding\",\"tank\",\"generate\",\"efficient\",\"exists\",\"atheist\",\"entrepreneur\",\"direction\",\"broken\",\"offline\",\"firms\",\"station\",\"magnetic\",\"include\",\"aliens\",\"tinder\",\"logo\",\"photography\",\"worse\",\"besides\",\"path\",\"somebody\",\"interviews\",\"persons\",\"figure\",\"placed\",\"nation\",\"knows\",\"unmarried\",\"hp\",\"profitable\",\"tricks\",\"boss\",\"reply\",\"scam\",\"circle\",\"processor\",\"debt\",\"growing\",\"royal\",\"fiction\",\"department\",\"mistake\",\"weird\",\"graphics\",\"external\",\"article\",\"volume\",\"scratch\",\"chain\",\"protect\",\"storage\",\"texas\",\"liquid\",\"circuit\",\"graphic\",\"tired\",\"weather\",\"oxygen\",\"velocity\",\"dad\",\"band\",\"teachers\",\"drugs\",\"complex\",\"studio\",\"accenture\",\"leader\",\"levels\",\"goal\",\"logic\",\"acne\",\"plastic\",\"motion\",\"button\",\"peoples\",\"vision\",\"gap\",\"dollar\",\"computers\",\"stomach\",\"sources\",\"constant\",\"draw\",\"dress\",\"calculated\",\"sort\",\"3rd\",\"club\",\"channels\",\"creating\",\"candidates\",\"kejriwal\",\"broke\",\"sentences\",\"format\",\"emails\",\"raw\",\"stanford\",\"completed\",\"documents\",\"pan\",\"showing\",\"enter\",\"unknown\",\"bought\",\"router\",\"claim\",\"six\",\"technologies\",\"\\u20b9\",\"flipkart\",\"infosys\",\"mutual\",\"angry\",\"iits\",\"affected\",\"prices\",\"shares\",\"naruto\",\"processing\",\"finding\",\"democratic\",\"evolution\",\"harmful\",\"dual\",\"virtual\",\"member\",\"wave\",\"actual\",\"extra\",\"radio\",\"citizens\",\"e\",\"hr\",\"previous\",\"stopped\",\"walk\",\"redmi\",\"speaker\",\"torrent\",\"smoke\",\"mistakes\",\"flash\",\"iron\",\"entire\",\"individual\",\"express\",\"flow\",\"mode\",\"aircraft\",\"section\",\"planets\",\"10th\",\"respond\",\"easier\",\"evil\",\"percentile\",\"seeing\",\"calories\",\"upgrade\",\"professor\",\"v\",\"launch\",\"staff\",\"till\",\"silicon\",\"entry\",\"constitution\",\"century\",\"notice\",\"ie\",\"atheists\",\"tests\",\"21\",\"became\",\"kerala\",\"truly\",\"count\",\"essay\",\"papers\",\"accurate\",\"colors\",\"respect\",\"ideal\",\"rock\",\"reliance\",\"peace\",\"masturbation\",\"audio\",\"random\",\"independent\",\"colour\",\"hotels\",\"presidency\",\"generation\",\"paypal\",\"shot\",\"central\",\"released\",\"occur\",\"display\",\"industrial\",\"particular\",\"risk\",\"eg\",\"belly\",\"pet\",\"similarities\",\"organic\",\"marijuana\",\"networks\",\"aspects\",\"flat\",\"d\",\"comments\",\"nose\",\"identify\",\"rbi\",\"improvement\",\"directly\",\"framework\",\"suggestions\",\"designing\",\"brands\",\"religious\",\"influence\",\"novels\",\"statistics\",\"historical\",\"ground\",\"commerce\",\"pregnancy\",\"romantic\",\"failure\",\"wearing\",\"john\",\"apart\",\"bay\",\"symptoms\",\"200\",\"couple\",\"60\",\"canadian\",\"lie\",\"print\",\"carry\",\"gender\",\"experienced\",\"pounds\",\"reservation\",\"either\",\"stage\",\"artificial\",\"fit\",\"blogs\",\"developing\",\"environment\",\"learned\",\"copy\",\"phase\",\"bond\",\"democracy\",\"cgpa\",\"operating\",\"surface\",\"officers\",\"h1b\",\"ip\",\"workout\",\"fee\",\"elected\",\"hands\",\"largest\",\"sad\",\"shouldnt\",\"seat\",\"sister\",\"developers\",\"despite\",\"scene\",\"po\",\"diploma\",\"request\",\"empire\",\"ratio\",\"considering\",\"academic\",\"tree\",\"register\",\"advantage\",\"eligible\",\"nit\",\"shop\",\"intel\",\"funniest\",\"alternative\",\"fail\",\"ads\",\"nature\",\"miss\",\"involved\",\"overrated\",\"attend\",\"freedom\",\"dna\",\"beginners\",\"raise\",\"dry\",\"failed\",\"legally\",\"batman\",\"upload\",\"carbon\",\"regret\",\"applied\",\"points\",\"investors\",\"pick\",\"equivalent\",\"connected\",\"christmas\",\"lyrics\",\"nations\",\"caused\",\"bsc\",\"1st\",\"action\",\"activities\",\"biology\",\"hide\",\"asia\",\"takes\",\"require\",\"alive\",\"mom\",\"cycle\",\"generally\",\"campaign\",\"fair\",\"wake\",\"bit\",\"rules\",\"olympics\",\"racist\",\"areas\",\"eggs\",\"feature\",\"sap\",\"taxes\",\"ad\",\"shall\",\"theyre\",\"species\",\"pilot\",\"firm\",\"fish\",\"define\",\"doctors\",\"piece\",\"itself\",\"bang\",\"solutions\",\"iim\",\"2013\",\"wanted\",\"length\",\"burn\",\"waves\",\"bar\",\"gives\",\"forces\",\"christian\",\"anybody\",\"relationships\",\"nice\",\"wedding\",\"various\",\"brother\",\"films\",\"cream\",\"suddenly\",\"philippines\",\"fashion\",\"truth\",\"gpa\",\"cgl\",\"tall\",\"goa\",\"hacking\",\"statement\",\"reset\",\"materials\",\"played\",\"match\",\"usb\",\"novel\",\"unusual\",\"knowing\",\"selected\",\"valley\",\"chrome\",\"couples\",\"becomes\",\"died\",\"cheating\",\"community\",\"groups\",\"category\",\"pursuing\",\"writer\",\"mexico\",\"anymore\",\"sugar\",\"climate\",\"brown\",\"players\",\"ii\",\"reviews\",\"took\",\"led\",\"connection\",\"begin\",\"html\",\"changing\",\"received\",\"plants\",\"debit\",\"record\",\"revenue\",\"mars\",\"strongest\",\"members\",\"formed\",\"union\",\"thought\",\"existence\",\"kashmir\",\"gandhi\",\"pdf\",\"banned\",\"0\",\"plane\",\"treated\",\"electricity\",\"scale\",\"basis\",\"moral\",\"images\",\"methods\",\"certification\",\"voltage\",\"style\",\"base\",\"excel\",\"amazing\",\"regarding\",\"result\",\"rates\",\"hold\",\"indias\",\"airport\",\"businesses\",\"feet\",\"built\",\"linkedin\",\"signs\",\"above\",\"networking\",\"r\",\"shopping\",\"looks\",\"went\",\"placements\",\"bed\",\"experiences\",\"daughter\",\"tourist\",\"employee\",\"caste\",\"wait\",\"direct\",\"especially\",\"feed\",\"continue\",\"expected\",\"algorithm\",\"depressed\",\"shoes\",\"soon\",\"supply\",\"stress\",\"24\",\"inr\",\"foods\",\"rent\",\"architecture\",\"ban\",\"entrance\",\"actors\",\"messenger\",\"unique\",\"kolkata\",\"funds\",\"rupee\",\"promote\",\"rupees\",\"jews\",\"23\",\"cook\",\"cultural\",\"accepted\",\"hear\",\"glass\",\"road\",\"joining\",\"measure\",\"havent\",\"metal\",\"resume\",\"afraid\",\"turkey\",\"meat\",\"goes\",\"installation\",\"netflix\",\"benefit\",\"demand\",\"release\",\"produce\",\"report\",\"cover\",\"changes\",\"double\",\"2nd\",\"reaction\",\"killed\",\"steel\",\"requirements\",\"france\",\"exchange\",\"ac\",\"quantum\",\"reliable\",\"box\",\"results\",\"lives\",\"treatment\",\"4g\",\"ece\",\"probability\",\"sleeping\",\"philosophy\",\"handle\",\"forget\",\"driver\",\"demonetization\",\"algorithms\",\"trade\",\"rule\",\"muscle\",\"calls\",\"tried\",\"mental\",\"sure\",\"quit\",\"navy\",\"achieve\",\"francisco\",\"location\",\"until\",\"sense\",\"anxiety\",\"wordpress\",\"focus\",\"fact\",\"production\",\"conversation\",\"motor\",\"five\",\"attracted\",\"hit\",\"analyst\",\"moto\",\"isis\",\"chicken\",\"sector\",\"permanent\",\"along\",\"king\",\"slow\",\"candidate\",\"minutes\",\"purchase\",\"gun\",\"selling\",\"usually\",\"\\u2026\",\"fly\",\"round\",\"panel\",\"error\",\"stocks\",\"api\",\"remember\",\"africa\",\"paying\",\"hitler\",\"3d\",\"regular\",\"losing\",\"mail\",\"yahoo\",\"cheapest\",\"older\",\"concept\",\"characters\",\"definition\",\"lines\",\"pm\",\"cloud\",\"cats\",\"russian\",\"ipad\",\"korean\",\"proof\",\"battle\",\"stars\",\"stream\",\"recent\",\"typical\",\"performance\",\"harvard\",\"restaurant\",\"origin\",\"listen\",\"smell\",\"decide\",\"serve\",\"undergraduate\",\"profit\",\"situation\",\"surgery\",\"asking\",\"plant\",\"link\",\"square\",\"completing\",\"four\",\"trust\",\"payment\",\"gym\",\"andor\",\"worklife\",\"guitar\",\"elections\",\"half\",\"investing\",\"scientist\",\"street\",\"needs\",\"native\",\"thoughts\",\"reality\",\"40\",\"medicine\",\"race\",\"choice\",\"longer\",\"came\",\"applying\",\"hiring\",\"west\",\"weed\",\"hacks\",\"step\",\"sea\",\"crime\",\"devices\",\"event\",\"citizen\",\"14\",\"17\",\"ticket\",\"fund\",\"equation\",\"suicide\",\"whom\",\"met\",\"almost\",\"designer\",\"local\",\"departments\",\"khan\",\"customer\",\"banking\",\"javascript\",\"trip\",\"issue\",\"react\",\"cannot\",\"dubai\",\"wall\",\"touch\",\"parts\",\"loves\",\"clothes\",\"straight\",\"sexual\",\"active\",\"inpatient\",\"dreams\",\"protein\",\"table\",\"exercise\",\"lord\",\"mtech\",\"creative\",\"ball\",\"speaking\",\"son\",\"receive\",\"dollars\",\"domain\",\"prospects\",\"hour\",\"graduation\",\"commercial\",\"themselves\",\"factors\",\"jesus\",\"programmer\",\"recommend\",\"replace\",\"chat\",\"placement\",\"episode\",\"fastest\",\"restaurants\",\"object\",\"drivers\",\"gaming\",\"mark\",\"taste\",\"seem\",\"perfect\",\"potential\",\"trumps\",\"appear\",\"rights\",\"equal\",\"rest\",\"package\",\"meant\",\"drop\",\"cool\",\"material\",\"potter\",\"events\",\"convince\",\"completely\",\"n\",\"zero\",\"significance\",\"lower\",\"feelings\",\"followers\",\"evidence\",\"certain\",\"later\",\"original\",\"bible\",\"disorder\",\"testing\",\"via\",\"stand\",\"actor\",\"characteristics\",\"cities\",\"reach\",\"ago\",\"mbbs\",\"speech\",\"electric\",\"approach\",\"scientific\",\"root\",\"analytics\",\"below\",\"grade\",\"mains\",\"topic\",\"fun\",\"ancient\",\"adult\",\"standard\",\"ice\",\"everyday\",\"population\",\"invented\",\"european\",\"intelligent\",\"11\",\"subject\",\"rehab\",\"background\",\"giving\",\"platform\",\"flight\",\"thrones\",\"maths\",\"dc\",\"teeth\",\"mit\",\"weeks\",\"east\",\"means\",\"programs\",\"beginner\",\"heat\",\"third\",\"tea\",\"range\",\"london\",\"maximum\",\"enjoy\",\"2000\",\"cells\",\"quickly\",\"here\",\"expensive\",\"phrase\",\"partner\",\"league\",\"anime\",\"latest\",\"specific\",\"whether\",\"functions\",\"os\",\"fire\",\"saying\",\"secret\",\"13\",\"planet\",\"hole\",\"super\",\"teacher\",\"strong\",\"accounts\",\"minister\",\"database\",\"economic\",\"channel\",\"estate\",\"ram\",\"switch\",\"asian\",\"smoking\",\"branch\",\"israel\",\"18\",\"features\",\"success\",\"lead\",\"total\",\"key\",\"master\",\"ok\",\"favourite\",\"psychology\",\"pok\\u00e9mon\",\"nothing\",\"clean\",\"25\",\"politics\",\"drinking\",\"sometimes\",\"recently\",\"korea\",\"sent\",\"poor\",\"hindu\",\"hollywood\",\"survive\",\"cure\",\"property\",\"return\",\"narendra\",\"budget\",\"sports\",\"limit\",\"arent\",\"boys\",\"driving\",\"whole\",\"cash\",\"smartphone\",\"php\",\"developed\",\"ssc\",\"hot\",\"attractive\",\"tool\",\"physical\",\"ecommerce\",\"sbi\",\"morning\",\"animal\",\"multiple\",\"loan\",\"acid\",\"fresher\",\"spanish\",\"moving\",\"decision\",\"county\",\"determined\",\"becoming\",\"seo\",\"summer\",\"manage\",\"server\",\"competitive\",\"milk\",\"importance\",\"banks\",\"cheap\",\"powerful\",\"issues\",\"penis\",\"according\",\"analysis\",\"bike\",\"position\",\"western\",\"advanced\",\"campus\",\"highest\",\"front\",\"court\",\"status\",\"gravity\",\"positions\",\"comes\",\"steps\",\"complete\",\"electronics\",\"won\",\"hurt\",\"certificate\",\"temperature\",\"player\",\"someones\",\"communication\",\"million\",\"talking\",\"preparing\",\"finance\",\"cancer\",\"9\",\"harry\",\"accept\",\"2014\",\"plus\",\"born\",\"tcs\",\"license\",\"bring\",\"teach\",\"practice\",\"trading\",\"m\",\"might\",\"opportunities\",\"global\",\"wish\",\"outside\",\"attack\",\"procedure\",\"needed\",\"update\",\"coffee\",\"provider\",\"rather\",\"16\",\"allow\",\"tamil\",\"mix\",\"connect\",\"room\",\"watching\",\"deep\",\"york\",\"image\",\"birth\",\"sign\",\"birthday\",\"playing\",\"wars\",\"grads\",\"hire\",\"phones\",\"cbse\",\"details\",\"clear\",\"cricket\",\"dangerous\",\"track\",\"corporate\",\"voice\",\"upsc\",\"content\",\"okay\",\"san\",\"heart\",\"far\",\"heard\",\"prove\",\"positive\",\"moment\",\"sales\",\"opinion\",\"engineers\",\"block\",\"diet\",\"coding\",\"core\",\"baby\",\"father\",\"little\",\"large\",\"blocked\",\"distance\",\"land\",\"simple\",\"husband\",\"told\",\"traffic\",\"prevent\",\"pictures\",\"planning\",\"fear\",\"classes\",\"towards\",\"technical\",\"building\",\"trying\",\"photo\",\"early\",\"uses\",\"sydney\",\"startups\",\"act\",\"id\",\"describe\",\"12th\",\"may\",\"formula\",\"gets\",\"present\",\"wont\",\"cut\",\"treat\",\"mathematics\",\"visiting\",\"eye\",\"policy\",\"close\",\"cse\",\"suitable\",\"version\",\"tools\",\"head\",\"minimum\",\"chennai\",\"easily\",\"method\",\"intelligence\",\"gre\",\"mother\",\"doctor\",\"macbook\",\"deleted\",\"gas\",\"suggest\",\"cards\",\"files\",\"loss\",\"art\",\"easiest\",\"late\",\"among\",\"together\",\"depression\",\"higher\",\"alone\",\"economics\",\"dead\",\"growth\",\"insurance\",\"gold\",\"necessary\",\"neet\",\"blog\",\"example\",\"memory\",\"crack\",\"consider\",\"works\",\"currency\",\"recruit\",\"pursue\",\"strategy\",\"young\",\"cs\",\"projects\",\"50\",\"manager\",\"abroad\",\"schools\",\"illegal\",\"inside\",\"stories\",\"hand\",\"t\",\"greatest\",\"personality\",\"galaxy\",\"device\",\"views\",\"user\",\"chemistry\",\"cars\",\"iq\",\"prefer\",\"picture\",\"nuclear\",\"middle\",\"applications\",\"gmail\",\"laws\",\"final\",\"capital\",\"kids\",\"society\",\"fake\",\"bill\",\"save\",\"though\",\"likely\",\"determine\",\"shows\",\"character\",\"snapchat\",\"youre\",\"eyes\",\"islam\",\"marry\",\"brand\",\"yet\",\"impact\",\"speak\",\"within\",\"rich\",\"resources\",\"net\",\"non\",\"pressure\",\"changed\",\"allowed\",\"obama\",\"cold\",\"running\",\"feeling\",\"jio\",\"football\",\"gift\",\"written\",\"buying\",\"mac\",\"spend\",\"prime\",\"blue\",\"train\",\"studies\",\"negative\",\"thinking\",\"solution\",\"sun\",\"least\",\"following\",\"install\",\"else\",\"muslims\",\"camera\",\"vote\",\"linux\",\"expect\",\"german\",\"recover\",\"starting\",\"crush\",\"coming\",\"muslim\",\"modern\",\"battery\",\"provide\",\"access\",\"presidential\",\"interest\",\"dating\",\"pro\",\"likes\",\"french\",\"singapore\",\"useful\",\"already\",\"professional\",\"percentage\",\"drink\",\"created\",\"board\",\"passport\",\"structure\",\"case\",\"height\",\"microsoft\",\"break\",\"screen\",\"names\",\"chance\",\"special\",\"30\",\"skin\",\"natural\",\"color\",\"interested\",\"amount\",\"pain\",\"healthy\",\"hack\",\"messages\",\"ias\",\"gay\",\"disadvantages\",\"pass\",\"moon\",\"systems\",\"hindi\",\"financial\",\"taken\",\"yes\",\"sim\",\"pregnant\",\"faster\",\"animals\",\"internship\",\"let\",\"photos\",\"balance\",\"sound\",\"due\",\"knowledge\",\"charge\",\"message\",\"officer\",\"solar\",\"military\",\"meet\",\"option\",\"reading\",\"across\",\"overcome\",\"everyone\",\"everything\",\"wife\",\"reduce\",\"chances\",\"samsung\",\"income\",\"bollywood\",\"season\",\"europe\",\"boy\",\"currently\",\"ex\",\"smart\",\"california\",\"engine\",\"paid\",\"army\",\"contact\",\"address\",\"wants\",\"ones\",\"gain\",\"reasons\",\"avoid\",\"please\",\"note\",\"known\",\"pune\",\"film\",\"national\",\"once\",\"users\",\"porn\",\"scope\",\"twitter\",\"drug\",\"rank\",\"japan\",\"fight\",\"transfer\",\"political\",\"green\",\"news\",\"self\",\"uber\",\"basic\",\"british\",\"religion\",\"hyderabad\",\"topics\",\"explain\",\"phd\",\"eating\",\"letter\",\"calculate\",\"ive\",\"tech\",\"personal\",\"japanese\",\"check\",\"hotel\",\"wifi\",\"beautiful\",\"difficult\",\"paper\",\"languages\",\"investment\",\"develop\",\"north\",\"electrical\",\"ios\",\"alcohol\",\"exactly\",\"profile\",\"past\",\"exams\",\"ca\",\"convert\",\"vs\",\"understand\",\"care\",\"dream\",\"try\",\"americans\",\"lost\",\"chemical\",\"source\",\"b\",\"admission\",\"easy\",\"must\",\"three\",\"effect\",\"view\",\"options\",\"page\",\"away\",\"red\",\"said\",\"line\",\"short\",\"happy\",\"security\",\"dark\",\"preparation\",\"second\",\"fat\",\"matter\",\"few\",\"since\",\"role\",\"pc\",\"office\",\"team\",\"delete\",\"cell\",\"election\",\"economy\",\"term\",\"dogs\",\"text\",\"female\",\"effective\",\"brain\",\"share\",\"digital\",\"btech\",\"russia\",\"\\u201c\",\"party\",\"numbers\",\"20\",\"store\",\"male\",\"mass\",\"turn\",\"left\",\"married\",\"rs\",\"taking\",\"those\",\"password\",\"follow\",\"advice\",\"isnt\",\"15\",\"types\",\"network\",\"\\u201d\",\"week\",\"purpose\",\"related\",\"fix\",\"started\",\"courses\",\"masters\",\"grow\",\"8\",\"fast\",\"leave\",\"100\",\"often\",\"found\",\"pros\",\"marriage\",\"cons\",\"quality\",\"words\",\"kill\",\"price\",\"near\",\"modi\",\"enough\",\"search\",\"python\",\"x\",\"blood\",\"math\",\"yourself\",\"drive\",\"size\",\"star\",\"graduate\",\"majors\",\"500\",\"model\",\"studying\",\"general\",\"oil\",\"colleges\",\"area\",\"developer\",\"germany\",\"industry\",\"full\",\"training\",\"says\",\"period\",\"videos\",\"universe\",\"fall\",\"daily\",\"information\",\"foreign\",\"credit\",\"force\",\"12\",\"youve\",\"south\",\"offer\",\"set\",\"add\",\"send\",\"australia\",\"center\",\"1000\",\"famous\",\"2015\",\"lot\",\"function\",\"tax\",\"correct\",\"solve\",\"advantages\",\"coaching\",\"institute\",\"effects\",\"guys\",\"again\",\"group\",\"hours\",\"side\",\"sentence\",\"low\",\"similar\",\"plan\",\"children\",\"answers\",\"talk\",\"marks\",\"ideas\",\"theory\",\"death\",\"compared\",\"night\",\"remove\",\"dog\",\"anything\",\"single\",\"successful\",\"gate\",\"indians\",\"put\",\"problems\",\"move\",\"writing\",\"point\",\"invest\",\"asked\",\"biggest\",\"others\",\"stock\",\"notes\",\"story\",\"machine\",\"private\",\"sell\",\"seen\",\"required\",\"field\",\"file\",\"rate\",\"humans\",\"application\",\"face\",\"sites\",\"mind\",\"facts\",\"mumbai\",\"post\",\"stay\",\"child\",\"terms\",\"products\",\"control\",\"legal\",\"police\",\"didnt\",\"level\",\"worst\",\"hate\",\"visit\",\"called\",\"amazon\",\"causes\",\"health\",\"form\",\"physics\",\"iit\",\"skills\",\"times\",\"medical\",\"based\",\"list\",\"websites\",\"die\",\"part\",\"less\",\"benefits\",\"apple\",\"instead\",\"these\",\"boyfriend\",\"sleep\",\"canada\",\"reason\",\"education\",\"cause\",\"jee\",\"value\",\"today\",\"media\",\"public\",\"happened\",\"product\",\"research\",\"main\",\"behind\",\"international\",\"project\",\"uk\",\"differ\",\"7\",\"places\",\"wear\",\"order\",\"date\",\"etc\",\"small\",\"songs\",\"apps\",\"email\",\"given\",\"wrong\",\"site\",\"normal\",\"culture\",\"also\",\"civil\",\"city\",\"available\",\"house\",\"exist\",\"startup\",\"services\",\"ms\",\"both\",\"down\",\"2017\",\"run\",\"cat\",\"well\",\"space\",\"join\",\"deal\",\"games\",\"visa\",\"rid\",\"air\",\"speed\",\"popular\",\"problem\",\"support\",\"current\",\"pakistan\",\"choose\",\"build\",\"idea\",\"america\",\"whatsapp\",\"affect\",\"law\",\"technology\",\"call\",\"6\",\"universities\",\"family\",\"marketing\",\"major\",\"actually\",\"favorite\",\"light\",\"bangalore\",\"woman\",\"because\",\"type\",\"program\",\"looking\",\"living\",\"open\",\"believe\",\"month\",\"able\",\"management\",\"travel\",\"degree\",\"show\",\"interesting\",\"score\",\"months\",\"series\",\"chinese\",\"development\",\"end\",\"code\",\"design\",\"per\",\"employees\",\"review\",\"clinton\",\"common\",\"kind\",\"internet\",\"song\",\"download\",\"course\",\"parents\",\"jobs\",\"such\",\"increase\",\"java\",\"god\",\"another\",\"united\",\"girlfriend\",\"mechanical\",\"always\",\"next\",\"never\",\"around\",\"tips\",\"mba\",\"myself\",\"hillary\",\"apply\",\"answer\",\"something\",\"considered\",\"making\",\"differences\",\"market\",\"compare\",\"great\",\"keep\",\"test\",\"s\",\"win\",\"against\",\"states\",\"earn\",\"youtube\",\"worth\",\"delhi\",\"energy\",\"laptop\",\"american\",\"lose\",\"each\",\"hard\",\"makes\",\"age\",\"ask\",\"safe\",\"body\",\"power\",\"salary\",\"4\",\"watch\",\"white\",\"windows\",\"instagram\",\"history\",\"pay\",\"every\",\"last\",\"create\",\"relationship\",\"music\",\"too\",\"meaning\",\"state\",\"average\",\"earth\",\"got\",\"process\",\"class\",\"tv\",\"eat\",\"done\",\"happens\",\"days\",\"big\",\"off\",\"improve\",\"future\",\"place\",\"man\",\"human\",\"government\",\"play\",\"countries\",\"food\",\"service\",\"students\",\"weight\",\"game\",\"engineer\",\"write\",\"very\",\"interview\",\"web\",\"tell\",\"social\",\"girls\",\"video\",\"look\",\"having\",\"guy\",\"home\",\"hair\",\"usa\",\"doesnt\",\"word\",\"bank\",\"friend\",\"true\",\"experience\",\"career\",\"president\",\"question\",\"own\",\"china\",\"come\",\"under\",\"working\",\"him\",\"doing\",\"donald\",\"friends\",\"right\",\"5\",\"cost\",\"mobile\",\"even\",\"movies\",\"then\",\"c\",\"\\u2019\",\"exam\",\"men\",\"learning\",\"card\",\"war\",\"read\",\"programming\",\"black\",\"anyone\",\"high\",\"10\",\"companies\",\"car\",\"getting\",\"give\",\"important\",\"questions\",\"cant\",\"iphone\",\"website\",\"top\",\"water\",\"prepare\",\"during\",\"real\",\"say\",\"system\",\"name\",\"through\",\"two\",\"1\",\"our\",\"study\",\"3\",\"university\",\"made\",\"back\",\"happen\",\"stop\",\"student\",\"sex\",\"bad\",\"language\",\"going\",\"same\",\"before\",\"software\",\"school\",\"live\",\"country\",\"android\",\"science\",\"help\",\"she\",\"see\",\"thing\",\"women\",\"over\",\"data\",\"examples\",\"computer\",\"had\",\"ways\",\"change\",\"while\",\"book\",\"english\",\"account\",\"still\",\"movie\",\"books\",\"2016\",\"facebook\",\"free\",\"number\",\"college\",\"app\",\"2\",\"just\",\"now\",\"no\",\"trump\",\"company\",\"only\",\"old\",\"been\",\"google\",\"phone\",\"long\",\"different\",\"girl\",\"his\",\"her\",\"years\",\"really\",\"them\",\"using\",\"business\",\"need\",\"being\",\"buy\",\"day\",\"person\",\"things\",\"possible\",\"could\",\"were\",\"its\",\"love\",\"engineering\",\"im\",\"used\",\"online\",\"go\",\"year\",\"he\",\"into\",\"feel\",\"dont\",\"first\",\"up\"]]]}}},\"view\":{\"type\":\"object\",\"name\":\"CDSView\",\"id\":\"p1045\",\"attributes\":{\"filter\":{\"type\":\"object\",\"name\":\"AllIndices\",\"id\":\"p1046\"}}},\"glyph\":{\"type\":\"object\",\"name\":\"Scatter\",\"id\":\"p1041\",\"attributes\":{\"x\":{\"type\":\"field\",\"field\":\"x\"},\"y\":{\"type\":\"field\",\"field\":\"y\"},\"size\":{\"type\":\"value\",\"value\":10},\"line_color\":{\"type\":\"field\",\"field\":\"color\"},\"line_alpha\":{\"type\":\"value\",\"value\":0.25},\"fill_color\":{\"type\":\"field\",\"field\":\"color\"},\"fill_alpha\":{\"type\":\"value\",\"value\":0.25},\"hatch_color\":{\"type\":\"field\",\"field\":\"color\"},\"hatch_alpha\":{\"type\":\"value\",\"value\":0.25}}},\"nonselection_glyph\":{\"type\":\"object\",\"name\":\"Scatter\",\"id\":\"p1042\",\"attributes\":{\"x\":{\"type\":\"field\",\"field\":\"x\"},\"y\":{\"type\":\"field\",\"field\":\"y\"},\"size\":{\"type\":\"value\",\"value\":10},\"line_color\":{\"type\":\"field\",\"field\":\"color\"},\"line_alpha\":{\"type\":\"value\",\"value\":0.1},\"fill_color\":{\"type\":\"field\",\"field\":\"color\"},\"fill_alpha\":{\"type\":\"value\",\"value\":0.1},\"hatch_color\":{\"type\":\"field\",\"field\":\"color\"},\"hatch_alpha\":{\"type\":\"value\",\"value\":0.1}}},\"muted_glyph\":{\"type\":\"object\",\"name\":\"Scatter\",\"id\":\"p1043\",\"attributes\":{\"x\":{\"type\":\"field\",\"field\":\"x\"},\"y\":{\"type\":\"field\",\"field\":\"y\"},\"size\":{\"type\":\"value\",\"value\":10},\"line_color\":{\"type\":\"field\",\"field\":\"color\"},\"line_alpha\":{\"type\":\"value\",\"value\":0.2},\"fill_color\":{\"type\":\"field\",\"field\":\"color\"},\"fill_alpha\":{\"type\":\"value\",\"value\":0.2},\"hatch_color\":{\"type\":\"field\",\"field\":\"color\"},\"hatch_alpha\":{\"type\":\"value\",\"value\":0.2}}}}}],\"toolbar\":{\"type\":\"object\",\"name\":\"Toolbar\",\"id\":\"p1012\",\"attributes\":{\"tools\":[{\"type\":\"object\",\"name\":\"PanTool\",\"id\":\"p1025\"},{\"type\":\"object\",\"name\":\"WheelZoomTool\",\"id\":\"p1026\",\"attributes\":{\"renderers\":\"auto\"}},{\"type\":\"object\",\"name\":\"BoxZoomTool\",\"id\":\"p1027\",\"attributes\":{\"overlay\":{\"type\":\"object\",\"name\":\"BoxAnnotation\",\"id\":\"p1028\",\"attributes\":{\"syncable\":false,\"line_color\":\"black\",\"line_alpha\":1.0,\"line_width\":2,\"line_dash\":[4,4],\"fill_color\":\"lightgrey\",\"fill_alpha\":0.5,\"level\":\"overlay\",\"visible\":false,\"left\":{\"type\":\"number\",\"value\":\"nan\"},\"right\":{\"type\":\"number\",\"value\":\"nan\"},\"top\":{\"type\":\"number\",\"value\":\"nan\"},\"bottom\":{\"type\":\"number\",\"value\":\"nan\"},\"left_units\":\"canvas\",\"right_units\":\"canvas\",\"top_units\":\"canvas\",\"bottom_units\":\"canvas\",\"handles\":{\"type\":\"object\",\"name\":\"BoxInteractionHandles\",\"id\":\"p1034\",\"attributes\":{\"all\":{\"type\":\"object\",\"name\":\"AreaVisuals\",\"id\":\"p1033\",\"attributes\":{\"fill_color\":\"white\",\"hover_fill_color\":\"lightgray\"}}}}}}}},{\"type\":\"object\",\"name\":\"SaveTool\",\"id\":\"p1035\"},{\"type\":\"object\",\"name\":\"ResetTool\",\"id\":\"p1036\"},{\"type\":\"object\",\"name\":\"HelpTool\",\"id\":\"p1037\"},{\"type\":\"object\",\"name\":\"HoverTool\",\"id\":\"p1047\",\"attributes\":{\"renderers\":\"auto\",\"tooltips\":[[\"token\",\"@token\"]]}}],\"active_scroll\":{\"id\":\"p1026\"}}},\"left\":[{\"type\":\"object\",\"name\":\"LinearAxis\",\"id\":\"p1020\",\"attributes\":{\"ticker\":{\"type\":\"object\",\"name\":\"BasicTicker\",\"id\":\"p1021\",\"attributes\":{\"mantissas\":[1,2,5]}},\"formatter\":{\"type\":\"object\",\"name\":\"BasicTickFormatter\",\"id\":\"p1022\"},\"major_label_policy\":{\"type\":\"object\",\"name\":\"AllLabels\",\"id\":\"p1023\"}}}],\"below\":[{\"type\":\"object\",\"name\":\"LinearAxis\",\"id\":\"p1015\",\"attributes\":{\"ticker\":{\"type\":\"object\",\"name\":\"BasicTicker\",\"id\":\"p1016\",\"attributes\":{\"mantissas\":[1,2,5]}},\"formatter\":{\"type\":\"object\",\"name\":\"BasicTickFormatter\",\"id\":\"p1017\"},\"major_label_policy\":{\"type\":\"object\",\"name\":\"AllLabels\",\"id\":\"p1018\"}}}],\"center\":[{\"type\":\"object\",\"name\":\"Grid\",\"id\":\"p1019\",\"attributes\":{\"axis\":{\"id\":\"p1015\"}}},{\"type\":\"object\",\"name\":\"Grid\",\"id\":\"p1024\",\"attributes\":{\"dimension\":1,\"axis\":{\"id\":\"p1020\"}}}]}}]}};\n",
       "  const render_items = [{\"docid\":\"c40ca394-01af-4e9f-85ee-900efa3b372a\",\"roots\":{\"p1004\":\"fa9f158a-92a8-41dd-8ef6-dbef5ec869a7\"},\"root_ids\":[\"p1004\"]}];\n",
       "  void root.Bokeh.embed.embed_items_notebook(docs_json, render_items);\n",
       "  }\n",
       "  if (root.Bokeh !== undefined) {\n",
       "    embed_document(root);\n",
       "  } else {\n",
       "    let attempts = 0;\n",
       "    const timer = setInterval(function(root) {\n",
       "      if (root.Bokeh !== undefined) {\n",
       "        clearInterval(timer);\n",
       "        embed_document(root);\n",
       "      } else {\n",
       "        attempts++;\n",
       "        if (attempts > 100) {\n",
       "          clearInterval(timer);\n",
       "          console.log(\"Bokeh: ERROR: Unable to run BokehJS code because BokehJS library is missing\");\n",
       "        }\n",
       "      }\n",
       "    }, 10, root)\n",
       "  }\n",
       "})(window);"
      ],
      "application/vnd.bokehjs_exec.v0+json": ""
     },
     "metadata": {
      "application/vnd.bokehjs_exec.v0+json": {
       "id": "p1004"
      }
     },
     "output_type": "display_data"
    },
    {
     "data": {
      "text/html": [
       "<div style=\"display: table;\"><div style=\"display: table-row;\"><div style=\"display: table-cell;\"><b title=\"bokeh.plotting._figure.figure\">figure</b>(</div><div style=\"display: table-cell;\">id&nbsp;=&nbsp;'p1004', <span id=\"p1051\" style=\"cursor: pointer;\">&hellip;)</span></div></div><div class=\"p1050\" style=\"display: none;\"><div style=\"display: table-cell;\"></div><div style=\"display: table-cell;\">above&nbsp;=&nbsp;[],</div></div><div class=\"p1050\" style=\"display: none;\"><div style=\"display: table-cell;\"></div><div style=\"display: table-cell;\">align&nbsp;=&nbsp;'auto',</div></div><div class=\"p1050\" style=\"display: none;\"><div style=\"display: table-cell;\"></div><div style=\"display: table-cell;\">aspect_ratio&nbsp;=&nbsp;None,</div></div><div class=\"p1050\" style=\"display: none;\"><div style=\"display: table-cell;\"></div><div style=\"display: table-cell;\">aspect_scale&nbsp;=&nbsp;1,</div></div><div class=\"p1050\" style=\"display: none;\"><div style=\"display: table-cell;\"></div><div style=\"display: table-cell;\">attribution&nbsp;=&nbsp;[],</div></div><div class=\"p1050\" style=\"display: none;\"><div style=\"display: table-cell;\"></div><div style=\"display: table-cell;\">background_fill_alpha&nbsp;=&nbsp;1.0,</div></div><div class=\"p1050\" style=\"display: none;\"><div style=\"display: table-cell;\"></div><div style=\"display: table-cell;\">background_fill_color&nbsp;=&nbsp;'#ffffff',</div></div><div class=\"p1050\" style=\"display: none;\"><div style=\"display: table-cell;\"></div><div style=\"display: table-cell;\">below&nbsp;=&nbsp;[LinearAxis(id='p1015', ...)],</div></div><div class=\"p1050\" style=\"display: none;\"><div style=\"display: table-cell;\"></div><div style=\"display: table-cell;\">border_fill_alpha&nbsp;=&nbsp;1.0,</div></div><div class=\"p1050\" style=\"display: none;\"><div style=\"display: table-cell;\"></div><div style=\"display: table-cell;\">border_fill_color&nbsp;=&nbsp;'#ffffff',</div></div><div class=\"p1050\" style=\"display: none;\"><div style=\"display: table-cell;\"></div><div style=\"display: table-cell;\">center&nbsp;=&nbsp;[Grid(id='p1019', ...), Grid(id='p1024', ...)],</div></div><div class=\"p1050\" style=\"display: none;\"><div style=\"display: table-cell;\"></div><div style=\"display: table-cell;\">context_menu&nbsp;=&nbsp;None,</div></div><div class=\"p1050\" style=\"display: none;\"><div style=\"display: table-cell;\"></div><div style=\"display: table-cell;\">css_classes&nbsp;=&nbsp;[],</div></div><div class=\"p1050\" style=\"display: none;\"><div style=\"display: table-cell;\"></div><div style=\"display: table-cell;\">css_variables&nbsp;=&nbsp;{},</div></div><div class=\"p1050\" style=\"display: none;\"><div style=\"display: table-cell;\"></div><div style=\"display: table-cell;\">disabled&nbsp;=&nbsp;False,</div></div><div class=\"p1050\" style=\"display: none;\"><div style=\"display: table-cell;\"></div><div style=\"display: table-cell;\">elements&nbsp;=&nbsp;[],</div></div><div class=\"p1050\" style=\"display: none;\"><div style=\"display: table-cell;\"></div><div style=\"display: table-cell;\">extra_x_ranges&nbsp;=&nbsp;{},</div></div><div class=\"p1050\" style=\"display: none;\"><div style=\"display: table-cell;\"></div><div style=\"display: table-cell;\">extra_x_scales&nbsp;=&nbsp;{},</div></div><div class=\"p1050\" style=\"display: none;\"><div style=\"display: table-cell;\"></div><div style=\"display: table-cell;\">extra_y_ranges&nbsp;=&nbsp;{},</div></div><div class=\"p1050\" style=\"display: none;\"><div style=\"display: table-cell;\"></div><div style=\"display: table-cell;\">extra_y_scales&nbsp;=&nbsp;{},</div></div><div class=\"p1050\" style=\"display: none;\"><div style=\"display: table-cell;\"></div><div style=\"display: table-cell;\">flow_mode&nbsp;=&nbsp;'block',</div></div><div class=\"p1050\" style=\"display: none;\"><div style=\"display: table-cell;\"></div><div style=\"display: table-cell;\">frame_align&nbsp;=&nbsp;True,</div></div><div class=\"p1050\" style=\"display: none;\"><div style=\"display: table-cell;\"></div><div style=\"display: table-cell;\">frame_height&nbsp;=&nbsp;None,</div></div><div class=\"p1050\" style=\"display: none;\"><div style=\"display: table-cell;\"></div><div style=\"display: table-cell;\">frame_width&nbsp;=&nbsp;None,</div></div><div class=\"p1050\" style=\"display: none;\"><div style=\"display: table-cell;\"></div><div style=\"display: table-cell;\">height&nbsp;=&nbsp;400,</div></div><div class=\"p1050\" style=\"display: none;\"><div style=\"display: table-cell;\"></div><div style=\"display: table-cell;\">height_policy&nbsp;=&nbsp;'auto',</div></div><div class=\"p1050\" style=\"display: none;\"><div style=\"display: table-cell;\"></div><div style=\"display: table-cell;\">hidpi&nbsp;=&nbsp;True,</div></div><div class=\"p1050\" style=\"display: none;\"><div style=\"display: table-cell;\"></div><div style=\"display: table-cell;\">hold_render&nbsp;=&nbsp;False,</div></div><div class=\"p1050\" style=\"display: none;\"><div style=\"display: table-cell;\"></div><div style=\"display: table-cell;\">js_event_callbacks&nbsp;=&nbsp;{},</div></div><div class=\"p1050\" style=\"display: none;\"><div style=\"display: table-cell;\"></div><div style=\"display: table-cell;\">js_property_callbacks&nbsp;=&nbsp;{},</div></div><div class=\"p1050\" style=\"display: none;\"><div style=\"display: table-cell;\"></div><div style=\"display: table-cell;\">left&nbsp;=&nbsp;[LinearAxis(id='p1020', ...)],</div></div><div class=\"p1050\" style=\"display: none;\"><div style=\"display: table-cell;\"></div><div style=\"display: table-cell;\">lod_factor&nbsp;=&nbsp;10,</div></div><div class=\"p1050\" style=\"display: none;\"><div style=\"display: table-cell;\"></div><div style=\"display: table-cell;\">lod_interval&nbsp;=&nbsp;300,</div></div><div class=\"p1050\" style=\"display: none;\"><div style=\"display: table-cell;\"></div><div style=\"display: table-cell;\">lod_threshold&nbsp;=&nbsp;2000,</div></div><div class=\"p1050\" style=\"display: none;\"><div style=\"display: table-cell;\"></div><div style=\"display: table-cell;\">lod_timeout&nbsp;=&nbsp;500,</div></div><div class=\"p1050\" style=\"display: none;\"><div style=\"display: table-cell;\"></div><div style=\"display: table-cell;\">margin&nbsp;=&nbsp;None,</div></div><div class=\"p1050\" style=\"display: none;\"><div style=\"display: table-cell;\"></div><div style=\"display: table-cell;\">match_aspect&nbsp;=&nbsp;False,</div></div><div class=\"p1050\" style=\"display: none;\"><div style=\"display: table-cell;\"></div><div style=\"display: table-cell;\">max_height&nbsp;=&nbsp;None,</div></div><div class=\"p1050\" style=\"display: none;\"><div style=\"display: table-cell;\"></div><div style=\"display: table-cell;\">max_width&nbsp;=&nbsp;None,</div></div><div class=\"p1050\" style=\"display: none;\"><div style=\"display: table-cell;\"></div><div style=\"display: table-cell;\">min_border&nbsp;=&nbsp;5,</div></div><div class=\"p1050\" style=\"display: none;\"><div style=\"display: table-cell;\"></div><div style=\"display: table-cell;\">min_border_bottom&nbsp;=&nbsp;None,</div></div><div class=\"p1050\" style=\"display: none;\"><div style=\"display: table-cell;\"></div><div style=\"display: table-cell;\">min_border_left&nbsp;=&nbsp;None,</div></div><div class=\"p1050\" style=\"display: none;\"><div style=\"display: table-cell;\"></div><div style=\"display: table-cell;\">min_border_right&nbsp;=&nbsp;None,</div></div><div class=\"p1050\" style=\"display: none;\"><div style=\"display: table-cell;\"></div><div style=\"display: table-cell;\">min_border_top&nbsp;=&nbsp;None,</div></div><div class=\"p1050\" style=\"display: none;\"><div style=\"display: table-cell;\"></div><div style=\"display: table-cell;\">min_height&nbsp;=&nbsp;None,</div></div><div class=\"p1050\" style=\"display: none;\"><div style=\"display: table-cell;\"></div><div style=\"display: table-cell;\">min_width&nbsp;=&nbsp;None,</div></div><div class=\"p1050\" style=\"display: none;\"><div style=\"display: table-cell;\"></div><div style=\"display: table-cell;\">name&nbsp;=&nbsp;None,</div></div><div class=\"p1050\" style=\"display: none;\"><div style=\"display: table-cell;\"></div><div style=\"display: table-cell;\">outline_line_alpha&nbsp;=&nbsp;1.0,</div></div><div class=\"p1050\" style=\"display: none;\"><div style=\"display: table-cell;\"></div><div style=\"display: table-cell;\">outline_line_cap&nbsp;=&nbsp;'butt',</div></div><div class=\"p1050\" style=\"display: none;\"><div style=\"display: table-cell;\"></div><div style=\"display: table-cell;\">outline_line_color&nbsp;=&nbsp;'#e5e5e5',</div></div><div class=\"p1050\" style=\"display: none;\"><div style=\"display: table-cell;\"></div><div style=\"display: table-cell;\">outline_line_dash&nbsp;=&nbsp;[],</div></div><div class=\"p1050\" style=\"display: none;\"><div style=\"display: table-cell;\"></div><div style=\"display: table-cell;\">outline_line_dash_offset&nbsp;=&nbsp;0,</div></div><div class=\"p1050\" style=\"display: none;\"><div style=\"display: table-cell;\"></div><div style=\"display: table-cell;\">outline_line_join&nbsp;=&nbsp;'bevel',</div></div><div class=\"p1050\" style=\"display: none;\"><div style=\"display: table-cell;\"></div><div style=\"display: table-cell;\">outline_line_width&nbsp;=&nbsp;1,</div></div><div class=\"p1050\" style=\"display: none;\"><div style=\"display: table-cell;\"></div><div style=\"display: table-cell;\">output_backend&nbsp;=&nbsp;'canvas',</div></div><div class=\"p1050\" style=\"display: none;\"><div style=\"display: table-cell;\"></div><div style=\"display: table-cell;\">renderers&nbsp;=&nbsp;[GlyphRenderer(id='p1044', ...)],</div></div><div class=\"p1050\" style=\"display: none;\"><div style=\"display: table-cell;\"></div><div style=\"display: table-cell;\">reset_policy&nbsp;=&nbsp;'standard',</div></div><div class=\"p1050\" style=\"display: none;\"><div style=\"display: table-cell;\"></div><div style=\"display: table-cell;\">resizable&nbsp;=&nbsp;False,</div></div><div class=\"p1050\" style=\"display: none;\"><div style=\"display: table-cell;\"></div><div style=\"display: table-cell;\">right&nbsp;=&nbsp;[],</div></div><div class=\"p1050\" style=\"display: none;\"><div style=\"display: table-cell;\"></div><div style=\"display: table-cell;\">sizing_mode&nbsp;=&nbsp;None,</div></div><div class=\"p1050\" style=\"display: none;\"><div style=\"display: table-cell;\"></div><div style=\"display: table-cell;\">styles&nbsp;=&nbsp;{},</div></div><div class=\"p1050\" style=\"display: none;\"><div style=\"display: table-cell;\"></div><div style=\"display: table-cell;\">stylesheets&nbsp;=&nbsp;[],</div></div><div class=\"p1050\" style=\"display: none;\"><div style=\"display: table-cell;\"></div><div style=\"display: table-cell;\">subscribed_events&nbsp;=&nbsp;PropertyValueSet(),</div></div><div class=\"p1050\" style=\"display: none;\"><div style=\"display: table-cell;\"></div><div style=\"display: table-cell;\">syncable&nbsp;=&nbsp;True,</div></div><div class=\"p1050\" style=\"display: none;\"><div style=\"display: table-cell;\"></div><div style=\"display: table-cell;\">tags&nbsp;=&nbsp;[],</div></div><div class=\"p1050\" style=\"display: none;\"><div style=\"display: table-cell;\"></div><div style=\"display: table-cell;\">title&nbsp;=&nbsp;Title(id='p1011', ...),</div></div><div class=\"p1050\" style=\"display: none;\"><div style=\"display: table-cell;\"></div><div style=\"display: table-cell;\">title_location&nbsp;=&nbsp;'above',</div></div><div class=\"p1050\" style=\"display: none;\"><div style=\"display: table-cell;\"></div><div style=\"display: table-cell;\">toolbar&nbsp;=&nbsp;Toolbar(id='p1012', ...),</div></div><div class=\"p1050\" style=\"display: none;\"><div style=\"display: table-cell;\"></div><div style=\"display: table-cell;\">toolbar_inner&nbsp;=&nbsp;False,</div></div><div class=\"p1050\" style=\"display: none;\"><div style=\"display: table-cell;\"></div><div style=\"display: table-cell;\">toolbar_location&nbsp;=&nbsp;'right',</div></div><div class=\"p1050\" style=\"display: none;\"><div style=\"display: table-cell;\"></div><div style=\"display: table-cell;\">toolbar_sticky&nbsp;=&nbsp;True,</div></div><div class=\"p1050\" style=\"display: none;\"><div style=\"display: table-cell;\"></div><div style=\"display: table-cell;\">visible&nbsp;=&nbsp;True,</div></div><div class=\"p1050\" style=\"display: none;\"><div style=\"display: table-cell;\"></div><div style=\"display: table-cell;\">width&nbsp;=&nbsp;600,</div></div><div class=\"p1050\" style=\"display: none;\"><div style=\"display: table-cell;\"></div><div style=\"display: table-cell;\">width_policy&nbsp;=&nbsp;'auto',</div></div><div class=\"p1050\" style=\"display: none;\"><div style=\"display: table-cell;\"></div><div style=\"display: table-cell;\">x_range&nbsp;=&nbsp;DataRange1d(id='p1005', ...),</div></div><div class=\"p1050\" style=\"display: none;\"><div style=\"display: table-cell;\"></div><div style=\"display: table-cell;\">x_scale&nbsp;=&nbsp;LinearScale(id='p1013', ...),</div></div><div class=\"p1050\" style=\"display: none;\"><div style=\"display: table-cell;\"></div><div style=\"display: table-cell;\">y_range&nbsp;=&nbsp;DataRange1d(id='p1006', ...),</div></div><div class=\"p1050\" style=\"display: none;\"><div style=\"display: table-cell;\"></div><div style=\"display: table-cell;\">y_scale&nbsp;=&nbsp;LinearScale(id='p1014', ...))</div></div></div>\n",
       "<script>\n",
       "(function() {\n",
       "  let expanded = false;\n",
       "  const ellipsis = document.getElementById(\"p1051\");\n",
       "  ellipsis.addEventListener(\"click\", function() {\n",
       "    const rows = document.getElementsByClassName(\"p1050\");\n",
       "    for (let i = 0; i < rows.length; i++) {\n",
       "      const el = rows[i];\n",
       "      el.style.display = expanded ? \"none\" : \"table-row\";\n",
       "    }\n",
       "    ellipsis.innerHTML = expanded ? \"&hellip;)\" : \"&lsaquo;&lsaquo;&lsaquo;\";\n",
       "    expanded = !expanded;\n",
       "  });\n",
       "})();\n",
       "</script>\n"
      ],
      "text/plain": [
       "figure(id='p1004', ...)"
      ]
     },
     "execution_count": 38,
     "metadata": {},
     "output_type": "execute_result"
    }
   ],
   "source": [
    "draw_vectors(embedding[:, 0], embedding[:, 1], token=top_words)"
   ]
  },
  {
   "cell_type": "markdown",
   "metadata": {},
   "source": [
    "Для сдачи задания необходимо загрузить функции `subsample_frequent_words` и `get_negative_sampling_prob`, а также сгенерировать файл для посылки ниже и приложить в соответствующую задачу. Успехов!"
   ]
  },
  {
   "cell_type": "code",
   "execution_count": 39,
   "metadata": {},
   "outputs": [
    {
     "name": "stdout",
     "output_type": "stream",
     "text": [
      "File saved to `submission_dict.json`\n"
     ]
    }
   ],
   "source": [
    "# do not change the code in the block below\n",
    "# __________start of block__________\n",
    "import os\n",
    "import json\n",
    "\n",
    "assert os.path.exists(\n",
    "    \"words_subset.txt\"\n",
    "), \"Please, download `words_subset.txt` and place it in the working directory\"\n",
    "\n",
    "with open(\"words_subset.txt\") as iofile:\n",
    "    selected_words = iofile.read().split(\"\\n\")\n",
    "\n",
    "\n",
    "def get_matrix_for_selected_words(selected_words, embedding_matrix, word_to_index):\n",
    "    word_vectors = []\n",
    "    for word in selected_words:\n",
    "        index = word_to_index.get(word, None)\n",
    "        vector = [0.0] * embedding_matrix.shape[1]\n",
    "        if index is not None:\n",
    "            vector = embedding_matrix[index].cpu().numpy().tolist()\n",
    "        word_vectors.append(vector)\n",
    "    return word_vectors\n",
    "\n",
    "\n",
    "word_vectors = get_matrix_for_selected_words(\n",
    "    selected_words, embedding_matrix_context, word_to_index\n",
    ")\n",
    "\n",
    "with open(\"submission_dict.json\", \"w\") as iofile:\n",
    "    json.dump(word_vectors, iofile)\n",
    "print(\"File saved to `submission_dict.json`\")\n",
    "# __________end of block__________"
   ]
  },
  {
   "cell_type": "code",
   "execution_count": null,
   "metadata": {},
   "outputs": [],
   "source": []
  }
 ],
 "metadata": {
  "colab": {
   "provenance": []
  },
  "kernelspec": {
   "display_name": "Python 3 (ipykernel)",
   "language": "python",
   "name": "python3"
  },
  "language_info": {
   "codemirror_mode": {
    "name": "ipython",
    "version": 3
   },
   "file_extension": ".py",
   "mimetype": "text/x-python",
   "name": "python",
   "nbconvert_exporter": "python",
   "pygments_lexer": "ipython3",
   "version": "3.11.7"
  }
 },
 "nbformat": 4,
 "nbformat_minor": 4
}
