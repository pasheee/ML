{
 "cells": [
  {
   "cell_type": "code",
   "execution_count": 1,
   "id": "dba58bc1",
   "metadata": {},
   "outputs": [],
   "source": [
    "from torchvision.datasets import MNIST\n",
    "import torchvision.transforms as tfs\n",
    "import pandas as pd\n",
    "from torch.utils.data import DataLoader\n",
    "import torch\n",
    "import torch.nn as nn\n",
    "from torch.nn.functional import cross_entropy\n",
    "import torch.nn.functional as F"
   ]
  },
  {
   "cell_type": "code",
   "execution_count": null,
   "id": "d1870657",
   "metadata": {},
   "outputs": [],
   "source": []
  },
  {
   "cell_type": "code",
   "execution_count": 2,
   "id": "f0e495c7",
   "metadata": {},
   "outputs": [],
   "source": [
    "\n",
    "root = './'\n",
    "train = MNIST(root, train=True,  transform=tfs.ToTensor(), download=True)\n",
    "test  = MNIST(root, train=False, transform=tfs.ToTensor(), download=True)\n"
   ]
  },
  {
   "cell_type": "code",
   "execution_count": 3,
   "id": "9dd6516f",
   "metadata": {},
   "outputs": [],
   "source": [
    "batch_size = 128\n",
    "\n",
    "train_data = DataLoader(train, batch_size = batch_size, drop_last = True)\n",
    "test_data = DataLoader(test, batch_size = batch_size, drop_last = True)\n"
   ]
  },
  {
   "cell_type": "code",
   "execution_count": 4,
   "id": "d0619c72",
   "metadata": {},
   "outputs": [],
   "source": [
    "class MyModule(nn.Module):\n",
    "    def __init__(self):\n",
    "        super().__init__()\n",
    "        self.f_lin = nn.Linear(28**2, 128)\n",
    "        self.s_lin = nn.Linear(128, 64)\n",
    "        self.th_lin = nn.Linear(64, 10)\n",
    "        \n",
    "    def forward(self, X):\n",
    "        X = F.relu(self.s_lin(F.relu(self.f_lin(X))))\n",
    "        return self.th_lin(X)"
   ]
  },
  {
   "cell_type": "code",
   "execution_count": null,
   "id": "21442d99",
   "metadata": {},
   "outputs": [],
   "source": []
  },
  {
   "cell_type": "code",
   "execution_count": null,
   "id": "542a2ed9",
   "metadata": {},
   "outputs": [],
   "source": []
  },
  {
   "cell_type": "code",
   "execution_count": 5,
   "id": "3f44aed4",
   "metadata": {},
   "outputs": [],
   "source": [
    "def convmodel(X, W):\n",
    "    horrange = 26\n",
    "    vertrange = 26\n",
    "    resultpic = torch.FloatTensor(vertrange, horrange).uniform_(-1, 1)\n",
    "    for i in range(vertrange):\n",
    "        for j in range(horrange):\n",
    "            \n",
    "            horind = j\n",
    "            vertind = i\n",
    "            whorind = 0\n",
    "            wvertind = 0\n",
    "            summ = 0.\n",
    "            \n",
    "            while vertind < i + 3:\n",
    "                while horind < j + 3:\n",
    "                    \n",
    "                    #print(horind)\n",
    "                    summ += int(W.data[wvertind][whorind] * X[0][vertind][horind])\n",
    "                    \n",
    "                    horind+=1\n",
    "                    whorind+=1\n",
    "                    \n",
    "                vertind+=1\n",
    "                wvertind+=1\n",
    "                \n",
    "            resultpic[i][j] = summ\n",
    "    \n",
    "    return resultpic\n",
    "            \n",
    "            "
   ]
  },
  {
   "cell_type": "code",
   "execution_count": 6,
   "id": "cb493b91",
   "metadata": {},
   "outputs": [],
   "source": [
    "\n",
    "model = MyModule()\n"
   ]
  },
  {
   "cell_type": "code",
   "execution_count": 23,
   "id": "f2e4c78b",
   "metadata": {},
   "outputs": [],
   "source": [
    "criterion = nn.CrossEntropyLoss()     \n",
    "\n",
    "optim = torch.optim.Adam(model.parameters(), lr=1e-5)"
   ]
  },
  {
   "cell_type": "code",
   "execution_count": 24,
   "id": "f0718eaf",
   "metadata": {},
   "outputs": [
    {
     "name": "stdout",
     "output_type": "stream",
     "text": [
      "1,\t loss: 0.0016527019906789064\n",
      "2,\t loss: 0.0015019377460703254\n",
      "3,\t loss: 0.0013871893752366304\n"
     ]
    }
   ],
   "source": [
    "y_pred = torch.FloatTensor(batch_size)\n",
    "\n",
    "\n",
    "\n",
    "history = []\n",
    "epochs = 3\n",
    "\n",
    "for ind in range(epochs):\n",
    "    for x_batch, y_batch in train_data:\n",
    "        \n",
    "        \n",
    "# \n",
    "        x_batch = x_batch.view(x_batch.shape[0], -1)\n",
    "        y_pred = model(x_batch)\n",
    "        loss = criterion(y_pred, y_batch)\n",
    "        history.append(loss.item())\n",
    "        optim.zero_grad()\n",
    "        loss.backward()\n",
    "        optim.step()\n",
    "    print(f'{ind+1},\\t loss: {history[-1]}')\n",
    "        "
   ]
  },
  {
   "cell_type": "code",
   "execution_count": null,
   "id": "277f8b4e",
   "metadata": {},
   "outputs": [],
   "source": []
  },
  {
   "cell_type": "code",
   "execution_count": 15,
   "id": "4d23461d",
   "metadata": {},
   "outputs": [],
   "source": [
    "from sklearn.metrics import accuracy_score"
   ]
  },
  {
   "cell_type": "code",
   "execution_count": 25,
   "id": "f0cd3d31",
   "metadata": {},
   "outputs": [
    {
     "name": "stdout",
     "output_type": "stream",
     "text": [
      "Test accuracy 0.98\n"
     ]
    }
   ],
   "source": [
    "acc = 0\n",
    "batches = 0\n",
    "\n",
    "for x_batch, y_batch in test_data:\n",
    "  # загружаем батч данных (вытянутый в линию)\n",
    "  batches += 1\n",
    "  x_batch = x_batch.view(x_batch.shape[0], -1)\n",
    "  y_batch = y_batch\n",
    "\n",
    "  preds = torch.argmax(model(x_batch), dim=1)\n",
    "  acc += (preds==y_batch).cpu().numpy().mean()\n",
    "\n",
    "print(f'Test accuracy {acc / batches:.3}')"
   ]
  }
 ],
 "metadata": {
  "kernelspec": {
   "display_name": "Python 3 (ipykernel)",
   "language": "python",
   "name": "python3"
  },
  "language_info": {
   "codemirror_mode": {
    "name": "ipython",
    "version": 3
   },
   "file_extension": ".py",
   "mimetype": "text/x-python",
   "name": "python",
   "nbconvert_exporter": "python",
   "pygments_lexer": "ipython3",
   "version": "3.11.4"
  }
 },
 "nbformat": 4,
 "nbformat_minor": 5
}
