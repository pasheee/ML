{
 "cells": [
  {
   "cell_type": "code",
   "execution_count": 16,
   "metadata": {},
   "outputs": [],
   "source": [
    "import pandas as pd\n",
    "import numpy as np\n",
    "import torch\n",
    "import torch.nn as nn\n",
    "from sklearn.metrics import roc_auc_score, roc_curve\n",
    "from sklearn.model_selection import train_test_split\n",
    "import glob\n",
    "import torch.nn.functional as F\n",
    "from sklearn.model_selection import StratifiedKFold, KFold\n",
    "import optuna\n",
    "from optuna.visualization import plot_param_importances\n",
    "import matplotlib.pyplot as plt\n",
    "\n",
    "device = torch.device('cuda')\n",
    "torch.cuda.empty_cache()"
   ]
  },
  {
   "cell_type": "code",
   "execution_count": 2,
   "metadata": {},
   "outputs": [],
   "source": [
    "path_train = 'train'\n",
    "path_test = 'test'\n",
    "filenames_train = glob.glob(path_train + \"/*.csv\")\n",
    "data_files_train = []\n",
    "\n",
    "for filename in filenames_train:\n",
    "    data_files_train.append(pd.read_csv(filename))\n",
    "\n",
    "data_train = pd.concat(data_files_train, ignore_index=True)\n",
    "\n",
    "filenames_test = glob.glob(path_test + \"/*.csv\")\n",
    "\n",
    "data_files_test = []\n",
    "\n",
    "for filename in filenames_test:\n",
    "    data_files_test.append(pd.read_csv(filename))\n",
    "\n",
    "data_test = pd.concat(data_files_test, ignore_index=True)\n",
    "ids = data_test['id']\n",
    "\n",
    "X_train = data_train.drop(['target', 'smpl', 'id'], axis=1)\n",
    "y_train = data_train['target']\n",
    "cat_features = set(['feature_3', 'feature_10', 'feature_12', 'feature_14', 'feature_15', 'feature_17', 'feature_20', 'feature_21', 'feature_23', 'feature_54', 'feature_60', 'feature_70', 'feature_92', 'feature_98', 'feature_101', 'feature_126', 'feature_135', 'feature_137', 'feature_142', 'feature_153', 'feature_179', 'feature_187', 'feature_198', 'feature_242', 'feature_244', 'feature_255', 'feature_270', 'feature_312', 'feature_330', 'feature_339', 'feature_341', 'feature_342', 'feature_372', 'feature_375', 'feature_383', 'feature_396', 'feature_411'])\n",
    "\n",
    "\n",
    "features = X_train.columns\n",
    "idx = {}\n",
    "\n",
    "for i, feature in enumerate(features):\n",
    "    if feature in cat_features:\n",
    "        idx[i] = 0\n",
    "\n",
    "for i, feature in enumerate(features):\n",
    "    if i in idx.keys():\n",
    "        idx[i] = len(set(X_train[feature]))\n",
    "\n",
    "X_test = data_test.drop(['smpl'], axis=1)"
   ]
  },
  {
   "cell_type": "code",
   "execution_count": 3,
   "metadata": {},
   "outputs": [],
   "source": [
    "def prepare_cat_features(data: pd.DataFrame, cat_features: list) -> pd.DataFrame:\n",
    "    \"\"\"\n",
    "    Преобразует категориальные признаки в целые числа или строки для CatBoost\n",
    "    \n",
    "    Args:\n",
    "        data: исходный датафрейм\n",
    "        cat_features: список категориальных признаков\n",
    "    \n",
    "    Returns:\n",
    "        DataFrame с преобразованными категориальными признаками\n",
    "    \"\"\"\n",
    "    result = data.copy()\n",
    "    \n",
    "    for feature in cat_features:\n",
    "        if result[feature].dtype == float:\n",
    "            if result[feature].apply(lambda x: x.is_integer()).all():\n",
    "                result[feature] = result[feature].astype(int)\n",
    "            else:\n",
    "                result[feature] = result[feature].astype(str)\n",
    "        elif result[feature].dtype != int:\n",
    "            result[feature] = result[feature].astype(str)\n",
    "            \n",
    "    return result\n",
    "X_train = prepare_cat_features(X_train, cat_features)\n",
    "X_test = prepare_cat_features(X_test, cat_features)"
   ]
  },
  {
   "cell_type": "code",
   "execution_count": 5,
   "metadata": {},
   "outputs": [
    {
     "data": {
      "text/html": [
       "<div>\n",
       "<style scoped>\n",
       "    .dataframe tbody tr th:only-of-type {\n",
       "        vertical-align: middle;\n",
       "    }\n",
       "\n",
       "    .dataframe tbody tr th {\n",
       "        vertical-align: top;\n",
       "    }\n",
       "\n",
       "    .dataframe thead th {\n",
       "        text-align: right;\n",
       "    }\n",
       "</style>\n",
       "<table border=\"1\" class=\"dataframe\">\n",
       "  <thead>\n",
       "    <tr style=\"text-align: right;\">\n",
       "      <th></th>\n",
       "      <th>feature_1</th>\n",
       "      <th>feature_2</th>\n",
       "      <th>feature_3</th>\n",
       "      <th>feature_4</th>\n",
       "      <th>feature_5</th>\n",
       "      <th>feature_6</th>\n",
       "      <th>feature_7</th>\n",
       "      <th>feature_8</th>\n",
       "      <th>feature_9</th>\n",
       "      <th>feature_10</th>\n",
       "      <th>...</th>\n",
       "      <th>feature_409</th>\n",
       "      <th>feature_410</th>\n",
       "      <th>feature_411</th>\n",
       "      <th>feature_412</th>\n",
       "      <th>feature_413</th>\n",
       "      <th>feature_414</th>\n",
       "      <th>feature_415</th>\n",
       "      <th>feature_416</th>\n",
       "      <th>feature_417</th>\n",
       "      <th>feature_418</th>\n",
       "    </tr>\n",
       "  </thead>\n",
       "  <tbody>\n",
       "    <tr>\n",
       "      <th>0</th>\n",
       "      <td>0.468142</td>\n",
       "      <td>-1.045346</td>\n",
       "      <td>0</td>\n",
       "      <td>0.384487</td>\n",
       "      <td>0.435121</td>\n",
       "      <td>-1.178548</td>\n",
       "      <td>0.124543</td>\n",
       "      <td>1.801544</td>\n",
       "      <td>0.332028</td>\n",
       "      <td>0</td>\n",
       "      <td>...</td>\n",
       "      <td>-0.361507</td>\n",
       "      <td>-1.026853</td>\n",
       "      <td>0</td>\n",
       "      <td>1.418600</td>\n",
       "      <td>-0.929668</td>\n",
       "      <td>1.284014</td>\n",
       "      <td>0.731842</td>\n",
       "      <td>0.801786</td>\n",
       "      <td>-0.728297</td>\n",
       "      <td>-0.412095</td>\n",
       "    </tr>\n",
       "    <tr>\n",
       "      <th>1</th>\n",
       "      <td>-0.760983</td>\n",
       "      <td>0.515132</td>\n",
       "      <td>0</td>\n",
       "      <td>-1.673905</td>\n",
       "      <td>-0.393862</td>\n",
       "      <td>-1.584207</td>\n",
       "      <td>-0.439778</td>\n",
       "      <td>0.796104</td>\n",
       "      <td>-1.331832</td>\n",
       "      <td>0</td>\n",
       "      <td>...</td>\n",
       "      <td>-0.546275</td>\n",
       "      <td>-1.489542</td>\n",
       "      <td>0</td>\n",
       "      <td>-0.622007</td>\n",
       "      <td>-0.473156</td>\n",
       "      <td>0.780020</td>\n",
       "      <td>0.648577</td>\n",
       "      <td>0.646100</td>\n",
       "      <td>-0.789362</td>\n",
       "      <td>0.083349</td>\n",
       "    </tr>\n",
       "    <tr>\n",
       "      <th>2</th>\n",
       "      <td>1.658855</td>\n",
       "      <td>0.915052</td>\n",
       "      <td>0</td>\n",
       "      <td>-0.581082</td>\n",
       "      <td>0.477199</td>\n",
       "      <td>-0.622226</td>\n",
       "      <td>0.390642</td>\n",
       "      <td>0.753299</td>\n",
       "      <td>0.400727</td>\n",
       "      <td>0</td>\n",
       "      <td>...</td>\n",
       "      <td>-0.485999</td>\n",
       "      <td>0.586012</td>\n",
       "      <td>0</td>\n",
       "      <td>0.361481</td>\n",
       "      <td>-0.364566</td>\n",
       "      <td>-1.318596</td>\n",
       "      <td>-0.385155</td>\n",
       "      <td>0.140133</td>\n",
       "      <td>0.123245</td>\n",
       "      <td>-0.670030</td>\n",
       "    </tr>\n",
       "    <tr>\n",
       "      <th>3</th>\n",
       "      <td>-0.638854</td>\n",
       "      <td>0.314099</td>\n",
       "      <td>0</td>\n",
       "      <td>0.000919</td>\n",
       "      <td>1.102342</td>\n",
       "      <td>-0.807371</td>\n",
       "      <td>0.329158</td>\n",
       "      <td>0.484305</td>\n",
       "      <td>0.412519</td>\n",
       "      <td>1</td>\n",
       "      <td>...</td>\n",
       "      <td>0.321985</td>\n",
       "      <td>-0.075827</td>\n",
       "      <td>0</td>\n",
       "      <td>-1.629672</td>\n",
       "      <td>0.876864</td>\n",
       "      <td>0.411271</td>\n",
       "      <td>0.433440</td>\n",
       "      <td>0.997364</td>\n",
       "      <td>2.829590</td>\n",
       "      <td>-1.275588</td>\n",
       "    </tr>\n",
       "    <tr>\n",
       "      <th>4</th>\n",
       "      <td>-1.091376</td>\n",
       "      <td>0.859811</td>\n",
       "      <td>0</td>\n",
       "      <td>-0.505439</td>\n",
       "      <td>1.665086</td>\n",
       "      <td>-0.912464</td>\n",
       "      <td>-0.332054</td>\n",
       "      <td>0.707705</td>\n",
       "      <td>-1.534071</td>\n",
       "      <td>0</td>\n",
       "      <td>...</td>\n",
       "      <td>0.828886</td>\n",
       "      <td>0.140387</td>\n",
       "      <td>0</td>\n",
       "      <td>-0.624304</td>\n",
       "      <td>-2.197691</td>\n",
       "      <td>-1.479267</td>\n",
       "      <td>-0.465917</td>\n",
       "      <td>-0.014757</td>\n",
       "      <td>-0.320434</td>\n",
       "      <td>-0.511896</td>\n",
       "    </tr>\n",
       "  </tbody>\n",
       "</table>\n",
       "<p>5 rows × 418 columns</p>\n",
       "</div>"
      ],
      "text/plain": [
       "   feature_1  feature_2  feature_3  feature_4  feature_5  feature_6  \\\n",
       "0   0.468142  -1.045346          0   0.384487   0.435121  -1.178548   \n",
       "1  -0.760983   0.515132          0  -1.673905  -0.393862  -1.584207   \n",
       "2   1.658855   0.915052          0  -0.581082   0.477199  -0.622226   \n",
       "3  -0.638854   0.314099          0   0.000919   1.102342  -0.807371   \n",
       "4  -1.091376   0.859811          0  -0.505439   1.665086  -0.912464   \n",
       "\n",
       "   feature_7  feature_8  feature_9  feature_10  ...  feature_409  feature_410  \\\n",
       "0   0.124543   1.801544   0.332028           0  ...    -0.361507    -1.026853   \n",
       "1  -0.439778   0.796104  -1.331832           0  ...    -0.546275    -1.489542   \n",
       "2   0.390642   0.753299   0.400727           0  ...    -0.485999     0.586012   \n",
       "3   0.329158   0.484305   0.412519           1  ...     0.321985    -0.075827   \n",
       "4  -0.332054   0.707705  -1.534071           0  ...     0.828886     0.140387   \n",
       "\n",
       "   feature_411  feature_412  feature_413  feature_414  feature_415  \\\n",
       "0            0     1.418600    -0.929668     1.284014     0.731842   \n",
       "1            0    -0.622007    -0.473156     0.780020     0.648577   \n",
       "2            0     0.361481    -0.364566    -1.318596    -0.385155   \n",
       "3            0    -1.629672     0.876864     0.411271     0.433440   \n",
       "4            0    -0.624304    -2.197691    -1.479267    -0.465917   \n",
       "\n",
       "   feature_416  feature_417  feature_418  \n",
       "0     0.801786    -0.728297    -0.412095  \n",
       "1     0.646100    -0.789362     0.083349  \n",
       "2     0.140133     0.123245    -0.670030  \n",
       "3     0.997364     2.829590    -1.275588  \n",
       "4    -0.014757    -0.320434    -0.511896  \n",
       "\n",
       "[5 rows x 418 columns]"
      ]
     },
     "execution_count": 5,
     "metadata": {},
     "output_type": "execute_result"
    }
   ],
   "source": [
    "X_train.head()"
   ]
  },
  {
   "cell_type": "code",
   "execution_count": 6,
   "metadata": {},
   "outputs": [
    {
     "data": {
      "text/html": [
       "<div>\n",
       "<style scoped>\n",
       "    .dataframe tbody tr th:only-of-type {\n",
       "        vertical-align: middle;\n",
       "    }\n",
       "\n",
       "    .dataframe tbody tr th {\n",
       "        vertical-align: top;\n",
       "    }\n",
       "\n",
       "    .dataframe thead th {\n",
       "        text-align: right;\n",
       "    }\n",
       "</style>\n",
       "<table border=\"1\" class=\"dataframe\">\n",
       "  <thead>\n",
       "    <tr style=\"text-align: right;\">\n",
       "      <th></th>\n",
       "      <th>id</th>\n",
       "      <th>feature_1</th>\n",
       "      <th>feature_2</th>\n",
       "      <th>feature_3</th>\n",
       "      <th>feature_4</th>\n",
       "      <th>feature_5</th>\n",
       "      <th>feature_6</th>\n",
       "      <th>feature_7</th>\n",
       "      <th>feature_8</th>\n",
       "      <th>feature_9</th>\n",
       "      <th>...</th>\n",
       "      <th>feature_409</th>\n",
       "      <th>feature_410</th>\n",
       "      <th>feature_411</th>\n",
       "      <th>feature_412</th>\n",
       "      <th>feature_413</th>\n",
       "      <th>feature_414</th>\n",
       "      <th>feature_415</th>\n",
       "      <th>feature_416</th>\n",
       "      <th>feature_417</th>\n",
       "      <th>feature_418</th>\n",
       "    </tr>\n",
       "  </thead>\n",
       "  <tbody>\n",
       "    <tr>\n",
       "      <th>0</th>\n",
       "      <td>38731</td>\n",
       "      <td>0.262983</td>\n",
       "      <td>-1.153775</td>\n",
       "      <td>1</td>\n",
       "      <td>-0.648932</td>\n",
       "      <td>-0.847237</td>\n",
       "      <td>-0.462393</td>\n",
       "      <td>-1.215373</td>\n",
       "      <td>0.605520</td>\n",
       "      <td>-0.080070</td>\n",
       "      <td>...</td>\n",
       "      <td>-0.236218</td>\n",
       "      <td>-1.058259</td>\n",
       "      <td>0</td>\n",
       "      <td>0.835147</td>\n",
       "      <td>-0.176562</td>\n",
       "      <td>-1.455333</td>\n",
       "      <td>-0.766280</td>\n",
       "      <td>-1.365915</td>\n",
       "      <td>0.454763</td>\n",
       "      <td>0.809724</td>\n",
       "    </tr>\n",
       "    <tr>\n",
       "      <th>1</th>\n",
       "      <td>38732</td>\n",
       "      <td>-0.698407</td>\n",
       "      <td>-1.529096</td>\n",
       "      <td>1</td>\n",
       "      <td>0.033011</td>\n",
       "      <td>-1.166594</td>\n",
       "      <td>-0.889886</td>\n",
       "      <td>-0.900391</td>\n",
       "      <td>-1.201925</td>\n",
       "      <td>-0.921064</td>\n",
       "      <td>...</td>\n",
       "      <td>-1.157688</td>\n",
       "      <td>0.334938</td>\n",
       "      <td>0</td>\n",
       "      <td>-0.231860</td>\n",
       "      <td>-0.080340</td>\n",
       "      <td>-0.493846</td>\n",
       "      <td>-1.245681</td>\n",
       "      <td>-1.632521</td>\n",
       "      <td>0.246708</td>\n",
       "      <td>-0.226893</td>\n",
       "    </tr>\n",
       "    <tr>\n",
       "      <th>2</th>\n",
       "      <td>38733</td>\n",
       "      <td>-0.331403</td>\n",
       "      <td>-0.538437</td>\n",
       "      <td>1</td>\n",
       "      <td>-1.531462</td>\n",
       "      <td>-0.924031</td>\n",
       "      <td>-1.062342</td>\n",
       "      <td>-1.789274</td>\n",
       "      <td>-1.097902</td>\n",
       "      <td>1.447598</td>\n",
       "      <td>...</td>\n",
       "      <td>-1.159555</td>\n",
       "      <td>0.351526</td>\n",
       "      <td>0</td>\n",
       "      <td>-1.375061</td>\n",
       "      <td>-0.156735</td>\n",
       "      <td>-0.437773</td>\n",
       "      <td>-1.851818</td>\n",
       "      <td>0.984694</td>\n",
       "      <td>0.630962</td>\n",
       "      <td>0.279446</td>\n",
       "    </tr>\n",
       "    <tr>\n",
       "      <th>3</th>\n",
       "      <td>38734</td>\n",
       "      <td>0.675162</td>\n",
       "      <td>-0.077064</td>\n",
       "      <td>1</td>\n",
       "      <td>-1.893065</td>\n",
       "      <td>0.610631</td>\n",
       "      <td>-1.404934</td>\n",
       "      <td>-2.650392</td>\n",
       "      <td>-1.752463</td>\n",
       "      <td>-0.833992</td>\n",
       "      <td>...</td>\n",
       "      <td>0.180918</td>\n",
       "      <td>0.269593</td>\n",
       "      <td>0</td>\n",
       "      <td>1.054666</td>\n",
       "      <td>-0.219652</td>\n",
       "      <td>-0.438285</td>\n",
       "      <td>-0.707442</td>\n",
       "      <td>-1.498935</td>\n",
       "      <td>0.962498</td>\n",
       "      <td>-0.390251</td>\n",
       "    </tr>\n",
       "    <tr>\n",
       "      <th>4</th>\n",
       "      <td>38735</td>\n",
       "      <td>-2.162385</td>\n",
       "      <td>-1.737901</td>\n",
       "      <td>1</td>\n",
       "      <td>-1.899384</td>\n",
       "      <td>-1.384151</td>\n",
       "      <td>0.106314</td>\n",
       "      <td>-0.814678</td>\n",
       "      <td>1.111808</td>\n",
       "      <td>-1.107233</td>\n",
       "      <td>...</td>\n",
       "      <td>0.696544</td>\n",
       "      <td>1.006378</td>\n",
       "      <td>0</td>\n",
       "      <td>1.107787</td>\n",
       "      <td>-0.282357</td>\n",
       "      <td>-0.235000</td>\n",
       "      <td>-1.794316</td>\n",
       "      <td>-0.504509</td>\n",
       "      <td>-0.385182</td>\n",
       "      <td>-1.130777</td>\n",
       "    </tr>\n",
       "  </tbody>\n",
       "</table>\n",
       "<p>5 rows × 419 columns</p>\n",
       "</div>"
      ],
      "text/plain": [
       "      id  feature_1  feature_2  feature_3  feature_4  feature_5  feature_6  \\\n",
       "0  38731   0.262983  -1.153775          1  -0.648932  -0.847237  -0.462393   \n",
       "1  38732  -0.698407  -1.529096          1   0.033011  -1.166594  -0.889886   \n",
       "2  38733  -0.331403  -0.538437          1  -1.531462  -0.924031  -1.062342   \n",
       "3  38734   0.675162  -0.077064          1  -1.893065   0.610631  -1.404934   \n",
       "4  38735  -2.162385  -1.737901          1  -1.899384  -1.384151   0.106314   \n",
       "\n",
       "   feature_7  feature_8  feature_9  ...  feature_409  feature_410  \\\n",
       "0  -1.215373   0.605520  -0.080070  ...    -0.236218    -1.058259   \n",
       "1  -0.900391  -1.201925  -0.921064  ...    -1.157688     0.334938   \n",
       "2  -1.789274  -1.097902   1.447598  ...    -1.159555     0.351526   \n",
       "3  -2.650392  -1.752463  -0.833992  ...     0.180918     0.269593   \n",
       "4  -0.814678   1.111808  -1.107233  ...     0.696544     1.006378   \n",
       "\n",
       "   feature_411  feature_412  feature_413  feature_414  feature_415  \\\n",
       "0            0     0.835147    -0.176562    -1.455333    -0.766280   \n",
       "1            0    -0.231860    -0.080340    -0.493846    -1.245681   \n",
       "2            0    -1.375061    -0.156735    -0.437773    -1.851818   \n",
       "3            0     1.054666    -0.219652    -0.438285    -0.707442   \n",
       "4            0     1.107787    -0.282357    -0.235000    -1.794316   \n",
       "\n",
       "   feature_416  feature_417  feature_418  \n",
       "0    -1.365915     0.454763     0.809724  \n",
       "1    -1.632521     0.246708    -0.226893  \n",
       "2     0.984694     0.630962     0.279446  \n",
       "3    -1.498935     0.962498    -0.390251  \n",
       "4    -0.504509    -0.385182    -1.130777  \n",
       "\n",
       "[5 rows x 419 columns]"
      ]
     },
     "execution_count": 6,
     "metadata": {},
     "output_type": "execute_result"
    }
   ],
   "source": [
    "X_test.head()"
   ]
  },
  {
   "cell_type": "code",
   "execution_count": 10,
   "metadata": {},
   "outputs": [
    {
     "name": "stdout",
     "output_type": "stream",
     "text": [
      "Requirement already satisfied: lightgbm in c:\\users\\shari\\anaconda3\\lib\\site-packages (4.5.0)\n",
      "Requirement already satisfied: numpy>=1.17.0 in c:\\users\\shari\\anaconda3\\lib\\site-packages (from lightgbm) (1.26.4)\n",
      "Requirement already satisfied: scipy in c:\\users\\shari\\anaconda3\\lib\\site-packages (from lightgbm) (1.11.4)\n"
     ]
    }
   ],
   "source": [
    "!pip3 install lightgbm --upgrade"
   ]
  },
  {
   "cell_type": "code",
   "execution_count": 11,
   "metadata": {},
   "outputs": [
    {
     "name": "stdout",
     "output_type": "stream",
     "text": [
      "Requirement already satisfied: xgboost in c:\\users\\shari\\anaconda3\\lib\\site-packages (2.1.2)\n",
      "Requirement already satisfied: numpy in c:\\users\\shari\\anaconda3\\lib\\site-packages (from xgboost) (1.26.4)\n",
      "Requirement already satisfied: scipy in c:\\users\\shari\\anaconda3\\lib\\site-packages (from xgboost) (1.11.4)\n"
     ]
    }
   ],
   "source": [
    "!pip3 install xgboost --upgrade"
   ]
  },
  {
   "cell_type": "code",
   "execution_count": 12,
   "metadata": {},
   "outputs": [
    {
     "name": "stdout",
     "output_type": "stream",
     "text": [
      "Requirement already satisfied: catboost in c:\\users\\shari\\anaconda3\\lib\\site-packages (1.2)\n",
      "Collecting catboost\n",
      "  Downloading catboost-1.2.7-cp39-cp39-win_amd64.whl.metadata (1.2 kB)\n",
      "Requirement already satisfied: graphviz in c:\\users\\shari\\anaconda3\\lib\\site-packages (from catboost) (0.20.1)\n",
      "Requirement already satisfied: matplotlib in c:\\users\\shari\\anaconda3\\lib\\site-packages (from catboost) (3.6.3)\n",
      "Requirement already satisfied: numpy<2.0,>=1.16.0 in c:\\users\\shari\\anaconda3\\lib\\site-packages (from catboost) (1.26.4)\n",
      "Requirement already satisfied: pandas>=0.24 in c:\\users\\shari\\anaconda3\\lib\\site-packages (from catboost) (1.5.3)\n",
      "Requirement already satisfied: scipy in c:\\users\\shari\\anaconda3\\lib\\site-packages (from catboost) (1.11.4)\n",
      "Requirement already satisfied: plotly in c:\\users\\shari\\anaconda3\\lib\\site-packages (from catboost) (5.19.0)\n",
      "Requirement already satisfied: six in c:\\users\\shari\\anaconda3\\lib\\site-packages (from catboost) (1.16.0)\n",
      "Requirement already satisfied: python-dateutil>=2.8.1 in c:\\users\\shari\\anaconda3\\lib\\site-packages (from pandas>=0.24->catboost) (2.8.2)\n",
      "Requirement already satisfied: pytz>=2020.1 in c:\\users\\shari\\anaconda3\\lib\\site-packages (from pandas>=0.24->catboost) (2022.7.1)\n",
      "Requirement already satisfied: contourpy>=1.0.1 in c:\\users\\shari\\anaconda3\\lib\\site-packages (from matplotlib->catboost) (1.2.0)\n",
      "Requirement already satisfied: cycler>=0.10 in c:\\users\\shari\\appdata\\roaming\\python\\python39\\site-packages (from matplotlib->catboost) (0.10.0)\n",
      "Requirement already satisfied: fonttools>=4.22.0 in c:\\users\\shari\\anaconda3\\lib\\site-packages (from matplotlib->catboost) (4.54.1)\n",
      "Requirement already satisfied: kiwisolver>=1.0.1 in c:\\users\\shari\\anaconda3\\lib\\site-packages (from matplotlib->catboost) (1.4.4)\n",
      "Requirement already satisfied: packaging>=20.0 in c:\\users\\shari\\anaconda3\\lib\\site-packages (from matplotlib->catboost) (21.3)\n",
      "Requirement already satisfied: pillow>=6.2.0 in c:\\users\\shari\\anaconda3\\lib\\site-packages (from matplotlib->catboost) (10.3.0)\n",
      "Requirement already satisfied: pyparsing>=2.2.1 in c:\\users\\shari\\anaconda3\\lib\\site-packages (from matplotlib->catboost) (3.0.9)\n",
      "Requirement already satisfied: tenacity>=6.2.0 in c:\\users\\shari\\anaconda3\\lib\\site-packages (from plotly->catboost) (8.2.2)\n",
      "Downloading catboost-1.2.7-cp39-cp39-win_amd64.whl (101.8 MB)\n",
      "   ---------------------------------------- 0.0/101.8 MB ? eta -:--:--\n",
      "    --------------------------------------- 1.8/101.8 MB 11.2 MB/s eta 0:00:09\n",
      "   - -------------------------------------- 3.1/101.8 MB 11.5 MB/s eta 0:00:09\n",
      "   -- ------------------------------------- 5.2/101.8 MB 10.3 MB/s eta 0:00:10\n",
      "   -- ------------------------------------- 7.3/101.8 MB 9.8 MB/s eta 0:00:10\n",
      "   --- ------------------------------------ 9.4/101.8 MB 9.8 MB/s eta 0:00:10\n",
      "   ---- ----------------------------------- 11.5/101.8 MB 9.7 MB/s eta 0:00:10\n",
      "   ----- ---------------------------------- 13.1/101.8 MB 9.3 MB/s eta 0:00:10\n",
      "   ------ --------------------------------- 15.7/101.8 MB 10.2 MB/s eta 0:00:09\n",
      "   ------- -------------------------------- 17.8/101.8 MB 10.2 MB/s eta 0:00:09\n",
      "   ------- -------------------------------- 18.9/101.8 MB 10.1 MB/s eta 0:00:09\n",
      "   ------- -------------------------------- 18.9/101.8 MB 10.1 MB/s eta 0:00:09\n",
      "   ------- -------------------------------- 18.9/101.8 MB 10.1 MB/s eta 0:00:09\n",
      "   ------- -------------------------------- 19.9/101.8 MB 7.7 MB/s eta 0:00:11\n",
      "   -------- ------------------------------- 21.0/101.8 MB 7.4 MB/s eta 0:00:11\n",
      "   -------- ------------------------------- 22.8/101.8 MB 7.5 MB/s eta 0:00:11\n",
      "   --------- ------------------------------ 25.2/101.8 MB 7.9 MB/s eta 0:00:10\n",
      "   ---------- ----------------------------- 27.3/101.8 MB 8.0 MB/s eta 0:00:10\n",
      "   ----------- ---------------------------- 29.4/101.8 MB 8.1 MB/s eta 0:00:09\n",
      "   ----------- ---------------------------- 30.4/101.8 MB 8.1 MB/s eta 0:00:09\n",
      "   ------------ --------------------------- 31.5/101.8 MB 7.9 MB/s eta 0:00:09\n",
      "   ------------- -------------------------- 33.6/101.8 MB 7.9 MB/s eta 0:00:09\n",
      "   -------------- ------------------------- 35.7/101.8 MB 8.0 MB/s eta 0:00:09\n",
      "   -------------- ------------------------- 37.5/101.8 MB 8.0 MB/s eta 0:00:09\n",
      "   --------------- ------------------------ 38.8/101.8 MB 8.1 MB/s eta 0:00:08\n",
      "   ---------------- ----------------------- 41.9/101.8 MB 8.3 MB/s eta 0:00:08\n",
      "   ----------------- ---------------------- 44.0/101.8 MB 8.4 MB/s eta 0:00:07\n",
      "   ----------------- ---------------------- 45.1/101.8 MB 8.3 MB/s eta 0:00:07\n",
      "   ------------------ --------------------- 46.1/101.8 MB 8.3 MB/s eta 0:00:07\n",
      "   ------------------- -------------------- 49.3/101.8 MB 8.4 MB/s eta 0:00:07\n",
      "   ------------------- -------------------- 50.3/101.8 MB 8.4 MB/s eta 0:00:07\n",
      "   -------------------- ------------------- 51.4/101.8 MB 8.4 MB/s eta 0:00:07\n",
      "   --------------------- ------------------ 53.5/101.8 MB 8.3 MB/s eta 0:00:06\n",
      "   --------------------- ------------------ 55.6/101.8 MB 8.3 MB/s eta 0:00:06\n",
      "   ---------------------- ----------------- 57.7/101.8 MB 8.3 MB/s eta 0:00:06\n",
      "   ----------------------- ---------------- 58.7/101.8 MB 8.4 MB/s eta 0:00:06\n",
      "   ------------------------ --------------- 61.9/101.8 MB 8.5 MB/s eta 0:00:05\n",
      "   ------------------------ --------------- 61.9/101.8 MB 8.5 MB/s eta 0:00:05\n",
      "   ------------------------ --------------- 61.9/101.8 MB 8.5 MB/s eta 0:00:05\n",
      "   ------------------------ --------------- 61.9/101.8 MB 8.5 MB/s eta 0:00:05\n",
      "   ------------------------- -------------- 64.0/101.8 MB 7.9 MB/s eta 0:00:05\n",
      "   -------------------------- ------------- 67.1/101.8 MB 8.0 MB/s eta 0:00:05\n",
      "   -------------------------- ------------- 68.2/101.8 MB 8.0 MB/s eta 0:00:05\n",
      "   --------------------------- ------------ 70.3/101.8 MB 8.1 MB/s eta 0:00:04\n",
      "   ---------------------------- ----------- 73.4/101.8 MB 8.2 MB/s eta 0:00:04\n",
      "   ----------------------------- ---------- 74.4/101.8 MB 8.2 MB/s eta 0:00:04\n",
      "   ------------------------------ --------- 76.5/101.8 MB 8.2 MB/s eta 0:00:04\n",
      "   ------------------------------ --------- 78.6/101.8 MB 8.3 MB/s eta 0:00:03\n",
      "   -------------------------------- ------- 81.8/101.8 MB 8.4 MB/s eta 0:00:03\n",
      "   ---------------------------------- ----- 87.0/101.8 MB 8.7 MB/s eta 0:00:02\n",
      "   ---------------------------------- ----- 88.1/101.8 MB 8.7 MB/s eta 0:00:02\n",
      "   ----------------------------------- ---- 90.2/101.8 MB 8.7 MB/s eta 0:00:02\n",
      "   ------------------------------------ --- 92.3/101.8 MB 8.7 MB/s eta 0:00:02\n",
      "   ------------------------------------- -- 94.4/101.8 MB 8.8 MB/s eta 0:00:01\n",
      "   ------------------------------------- -- 96.5/101.8 MB 8.8 MB/s eta 0:00:01\n",
      "   ---------------------------------------  99.6/101.8 MB 8.9 MB/s eta 0:00:01\n",
      "   ---------------------------------------  101.7/101.8 MB 9.0 MB/s eta 0:00:01\n",
      "   ---------------------------------------- 101.8/101.8 MB 8.9 MB/s eta 0:00:00\n",
      "Installing collected packages: catboost\n",
      "  Attempting uninstall: catboost\n",
      "    Found existing installation: catboost 1.2\n",
      "    Uninstalling catboost-1.2:\n",
      "      Successfully uninstalled catboost-1.2\n",
      "Successfully installed catboost-1.2.7\n"
     ]
    }
   ],
   "source": [
    "!pip3 install catboost --upgrade"
   ]
  },
  {
   "cell_type": "code",
   "execution_count": 4,
   "metadata": {},
   "outputs": [
    {
     "data": {
      "text/plain": [
       "((30984, 418), (7747, 418), (30984,), (7747,))"
      ]
     },
     "execution_count": 4,
     "metadata": {},
     "output_type": "execute_result"
    }
   ],
   "source": [
    "X, X_eval, y, y_eval = train_test_split(X_train, y_train, test_size=0.2, random_state=42, stratify=y_train)\n",
    "\n",
    "X.shape, X_eval.shape, y.shape, y_eval.shape"
   ]
  },
  {
   "cell_type": "markdown",
   "metadata": {},
   "source": [
    "# Catboost hyperparameters tuning"
   ]
  },
  {
   "cell_type": "code",
   "execution_count": 16,
   "metadata": {},
   "outputs": [],
   "source": [
    "import catboost as cb"
   ]
  },
  {
   "cell_type": "code",
   "execution_count": 30,
   "metadata": {},
   "outputs": [
    {
     "name": "stderr",
     "output_type": "stream",
     "text": [
      "[I 2024-11-09 12:33:15,570] A new study created in memory with name: no-name-f9ed5654-5e5d-40ad-a1b5-f5a002a28474\n",
      "[I 2024-11-09 12:34:29,909] Trial 0 finished with value: 0.7327408365230401 and parameters: {'n_iterations': 701, 'learning_rate': 0.1875526608162279, 'depth': 8, 'l2_leaf_reg': 8.968900135455678, 'temperatures': 4.657358366204421}. Best is trial 0 with value: 0.7327408365230401.\n",
      "[I 2024-11-09 12:35:47,291] Trial 1 finished with value: 0.7666540171564838 and parameters: {'n_iterations': 401, 'learning_rate': 0.09997545580522839, 'depth': 8, 'l2_leaf_reg': 8.859481707241619, 'temperatures': 3.2313890443312143}. Best is trial 1 with value: 0.7666540171564838.\n",
      "[I 2024-11-09 12:36:18,588] Trial 2 finished with value: 0.7812267213875107 and parameters: {'n_iterations': 688, 'learning_rate': 0.07701624080643064, 'depth': 4, 'l2_leaf_reg': 9.343207113093833, 'temperatures': 7.7676342888764545}. Best is trial 2 with value: 0.7812267213875107.\n",
      "[I 2024-11-09 12:37:00,043] Trial 3 finished with value: 0.7731349390402926 and parameters: {'n_iterations': 1329, 'learning_rate': 0.08510798942593456, 'depth': 6, 'l2_leaf_reg': 9.792612136689092, 'temperatures': 1.9977968678457578}. Best is trial 2 with value: 0.7812267213875107.\n",
      "[I 2024-11-09 12:38:17,197] Trial 4 finished with value: 0.7563509130291517 and parameters: {'n_iterations': 720, 'learning_rate': 0.062071959076725934, 'depth': 7, 'l2_leaf_reg': 2.660680840151685, 'temperatures': 2.752930162304816}. Best is trial 2 with value: 0.7812267213875107.\n",
      "[I 2024-11-09 12:39:07,243] Trial 5 finished with value: 0.732700233157021 and parameters: {'n_iterations': 664, 'learning_rate': 0.10274920429920584, 'depth': 7, 'l2_leaf_reg': 4.399061417399708, 'temperatures': 5.408734640928941}. Best is trial 2 with value: 0.7812267213875107.\n",
      "[I 2024-11-09 12:40:50,264] Trial 6 finished with value: 0.7666727571715695 and parameters: {'n_iterations': 885, 'learning_rate': 0.029763483025594843, 'depth': 8, 'l2_leaf_reg': 4.38246209193642, 'temperatures': 6.157728982530845}. Best is trial 2 with value: 0.7812267213875107.\n",
      "[I 2024-11-09 12:41:41,184] Trial 7 finished with value: 0.7653656411193411 and parameters: {'n_iterations': 1249, 'learning_rate': 0.058905053672054584, 'depth': 6, 'l2_leaf_reg': 9.04948130690617, 'temperatures': 3.419767298630455}. Best is trial 2 with value: 0.7812267213875107.\n",
      "[I 2024-11-09 12:44:52,617] Trial 8 finished with value: 0.75439882812439 and parameters: {'n_iterations': 349, 'learning_rate': 0.0402836223512341, 'depth': 9, 'l2_leaf_reg': 8.477678640343077, 'temperatures': 2.727558758536265}. Best is trial 2 with value: 0.7812267213875107.\n",
      "[I 2024-11-09 12:45:54,884] Trial 9 finished with value: 0.7300008901507166 and parameters: {'n_iterations': 579, 'learning_rate': 0.19266526909589984, 'depth': 8, 'l2_leaf_reg': 8.275373076574184, 'temperatures': 8.354525357930486}. Best is trial 2 with value: 0.7812267213875107.\n",
      "[I 2024-11-09 12:46:10,154] Trial 10 finished with value: 0.7847740500764436 and parameters: {'n_iterations': 1032, 'learning_rate': 0.1312848954136588, 'depth': 3, 'l2_leaf_reg': 0.3988481997808764, 'temperatures': 9.784203333143934}. Best is trial 10 with value: 0.7847740500764436.\n",
      "[I 2024-11-09 12:46:27,515] Trial 11 finished with value: 0.7764042908387875 and parameters: {'n_iterations': 1029, 'learning_rate': 0.14294521500623308, 'depth': 3, 'l2_leaf_reg': 0.49997257204922363, 'temperatures': 9.891848282810775}. Best is trial 10 with value: 0.7847740500764436.\n",
      "[I 2024-11-09 12:46:45,165] Trial 12 finished with value: 0.7717895621239308 and parameters: {'n_iterations': 1047, 'learning_rate': 0.13759782623141525, 'depth': 3, 'l2_leaf_reg': 6.5021560960173055, 'temperatures': 7.851900024170383}. Best is trial 10 with value: 0.7847740500764436.\n",
      "[I 2024-11-09 12:46:52,958] Trial 13 finished with value: 0.7596038673144465 and parameters: {'n_iterations': 132, 'learning_rate': 0.13680060200663266, 'depth': 4, 'l2_leaf_reg': 0.09510827571742758, 'temperatures': 9.778436408891684}. Best is trial 10 with value: 0.7847740500764436.\n",
      "[I 2024-11-09 12:47:24,418] Trial 14 finished with value: 0.7542051813018376 and parameters: {'n_iterations': 1455, 'learning_rate': 0.16166436628839448, 'depth': 5, 'l2_leaf_reg': 1.7630137875944079, 'temperatures': 7.201465414896333}. Best is trial 10 with value: 0.7847740500764436.\n",
      "[I 2024-11-09 12:47:48,370] Trial 15 finished with value: 0.7808191260593965 and parameters: {'n_iterations': 981, 'learning_rate': 0.10634325258562666, 'depth': 4, 'l2_leaf_reg': 6.597559930184147, 'temperatures': 8.53932633232614}. Best is trial 10 with value: 0.7847740500764436.\n",
      "[I 2024-11-09 12:49:16,981] Trial 16 finished with value: 0.7819888153343297 and parameters: {'n_iterations': 1212, 'learning_rate': 0.013868205122418792, 'depth': 4, 'l2_leaf_reg': 6.224915151740354, 'temperatures': 6.934655917449519}. Best is trial 10 with value: 0.7847740500764436.\n",
      "[I 2024-11-09 12:51:25,665] Trial 17 finished with value: 0.7828227460056438 and parameters: {'n_iterations': 1198, 'learning_rate': 0.00866406143249458, 'depth': 5, 'l2_leaf_reg': 5.859970949539326, 'temperatures': 6.4921766048951755}. Best is trial 10 with value: 0.7847740500764436.\n",
      "[I 2024-11-09 12:53:46,558] Trial 18 finished with value: 0.7878802075769005 and parameters: {'n_iterations': 1173, 'learning_rate': 0.009710067425029504, 'depth': 5, 'l2_leaf_reg': 3.051872495815892, 'temperatures': 0.7335771398287685}. Best is trial 18 with value: 0.7878802075769005.\n",
      "[I 2024-11-09 12:57:00,095] Trial 19 finished with value: 0.7101349124919378 and parameters: {'n_iterations': 1487, 'learning_rate': 0.12302846350229871, 'depth': 10, 'l2_leaf_reg': 2.9880887201200137, 'temperatures': 0.2966986348380219}. Best is trial 18 with value: 0.7878802075769005.\n",
      "[I 2024-11-09 12:57:28,064] Trial 20 finished with value: 0.7510303104127332 and parameters: {'n_iterations': 896, 'learning_rate': 0.16145459513720867, 'depth': 5, 'l2_leaf_reg': 1.1763388570288156, 'temperatures': 0.5825876412918136}. Best is trial 18 with value: 0.7878802075769005.\n",
      "[I 2024-11-09 12:59:28,715] Trial 21 finished with value: 0.777399073306254 and parameters: {'n_iterations': 1154, 'learning_rate': 0.005064007778117393, 'depth': 5, 'l2_leaf_reg': 3.158369936239845, 'temperatures': 4.3935092880422335}. Best is trial 18 with value: 0.7878802075769005.\n",
      "[I 2024-11-09 12:59:57,440] Trial 22 finished with value: 0.7752346015638543 and parameters: {'n_iterations': 1147, 'learning_rate': 0.04286150021576552, 'depth': 3, 'l2_leaf_reg': 5.252750487041604, 'temperatures': 1.3990508944581967}. Best is trial 18 with value: 0.7878802075769005.\n",
      "[I 2024-11-09 13:01:02,549] Trial 23 finished with value: 0.7817748668287678 and parameters: {'n_iterations': 1379, 'learning_rate': 0.017217158204750616, 'depth': 5, 'l2_leaf_reg': 1.987666694853166, 'temperatures': 5.649569653872991}. Best is trial 18 with value: 0.7878802075769005.\n",
      "[I 2024-11-09 13:02:20,733] Trial 24 finished with value: 0.7717747262786546 and parameters: {'n_iterations': 1310, 'learning_rate': 0.02389995623631533, 'depth': 6, 'l2_leaf_reg': 3.9028781444514618, 'temperatures': 9.124949718366256}. Best is trial 18 with value: 0.7878802075769005.\n",
      "[I 2024-11-09 13:02:58,858] Trial 25 finished with value: 0.7832498621828057 and parameters: {'n_iterations': 1091, 'learning_rate': 0.04613806730158963, 'depth': 4, 'l2_leaf_reg': 5.136569780017601, 'temperatures': 6.424497419257687}. Best is trial 18 with value: 0.7878802075769005.\n",
      "[I 2024-11-09 13:03:28,220] Trial 26 finished with value: 0.788252665376729 and parameters: {'n_iterations': 878, 'learning_rate': 0.05648538834210992, 'depth': 3, 'l2_leaf_reg': 0.9807707353161685, 'temperatures': 4.104067459819644}. Best is trial 26 with value: 0.788252665376729.\n",
      "[I 2024-11-09 13:03:53,771] Trial 27 finished with value: 0.7774467041779302 and parameters: {'n_iterations': 870, 'learning_rate': 0.07287845169699189, 'depth': 3, 'l2_leaf_reg': 0.9151366358659123, 'temperatures': 4.04544698553328}. Best is trial 26 with value: 0.788252665376729.\n",
      "[I 2024-11-09 13:04:12,208] Trial 28 finished with value: 0.7879801543240242 and parameters: {'n_iterations': 958, 'learning_rate': 0.12300814457829132, 'depth': 3, 'l2_leaf_reg': 1.732157179366831, 'temperatures': 1.2626467633910932}. Best is trial 26 with value: 0.788252665376729.\n",
      "[I 2024-11-09 13:04:31,530] Trial 29 finished with value: 0.7726703428329593 and parameters: {'n_iterations': 771, 'learning_rate': 0.1631980681359011, 'depth': 4, 'l2_leaf_reg': 2.0002837899343646, 'temperatures': 1.1943650436046749}. Best is trial 26 with value: 0.788252665376729.\n",
      "[I 2024-11-09 13:04:50,135] Trial 30 finished with value: 0.7823245739379487 and parameters: {'n_iterations': 584, 'learning_rate': 0.08969993500118154, 'depth': 3, 'l2_leaf_reg': 3.5605347227491593, 'temperatures': 1.9283353208299228}. Best is trial 26 with value: 0.788252665376729.\n",
      "[I 2024-11-09 13:05:12,710] Trial 31 finished with value: 0.7868323284000244 and parameters: {'n_iterations': 966, 'learning_rate': 0.11784277847402208, 'depth': 3, 'l2_leaf_reg': 1.3251419659041381, 'temperatures': 0.8698159032309749}. Best is trial 26 with value: 0.788252665376729.\n",
      "[I 2024-11-09 13:05:34,252] Trial 32 finished with value: 0.773090431504464 and parameters: {'n_iterations': 899, 'learning_rate': 0.09871088105288786, 'depth': 3, 'l2_leaf_reg': 1.2753514688861625, 'temperatures': 0.049845925702822536}. Best is trial 26 with value: 0.788252665376729.\n",
      "[I 2024-11-09 13:05:59,253] Trial 33 finished with value: 0.778005000460692 and parameters: {'n_iterations': 954, 'learning_rate': 0.12174372701824909, 'depth': 4, 'l2_leaf_reg': 2.30278135047331, 'temperatures': 1.0103963768422592}. Best is trial 26 with value: 0.788252665376729.\n",
      "[I 2024-11-09 13:06:23,380] Trial 34 finished with value: 0.777972205434292 and parameters: {'n_iterations': 761, 'learning_rate': 0.11418668638767707, 'depth': 4, 'l2_leaf_reg': 1.4848612753889223, 'temperatures': 2.0190364019903138}. Best is trial 26 with value: 0.788252665376729.\n",
      "[I 2024-11-09 13:06:41,711] Trial 35 finished with value: 0.7797798360561013 and parameters: {'n_iterations': 809, 'learning_rate': 0.1508469564535272, 'depth': 3, 'l2_leaf_reg': 2.4987537805859557, 'temperatures': 0.7081777311253843}. Best is trial 26 with value: 0.788252665376729.\n",
      "[I 2024-11-09 13:07:17,611] Trial 36 finished with value: 0.7594968930616656 and parameters: {'n_iterations': 955, 'learning_rate': 0.06857854177027964, 'depth': 6, 'l2_leaf_reg': 0.7225767662480663, 'temperatures': 1.7232229884309462}. Best is trial 26 with value: 0.788252665376729.\n",
      "[I 2024-11-09 13:08:02,905] Trial 37 finished with value: 0.7639843458407317 and parameters: {'n_iterations': 642, 'learning_rate': 0.0558607263342224, 'depth': 7, 'l2_leaf_reg': 2.8931296859835633, 'temperatures': 2.5765499359557187}. Best is trial 26 with value: 0.788252665376729.\n",
      "[I 2024-11-09 13:08:17,737] Trial 38 finished with value: 0.776957121283816 and parameters: {'n_iterations': 1119, 'learning_rate': 0.18031296822191223, 'depth': 3, 'l2_leaf_reg': 0.0018898487641116901, 'temperatures': 3.4460929488903975}. Best is trial 26 with value: 0.788252665376729.\n",
      "[I 2024-11-09 13:08:39,517] Trial 39 finished with value: 0.7740836523040068 and parameters: {'n_iterations': 441, 'learning_rate': 0.08442745581147333, 'depth': 4, 'l2_leaf_reg': 1.5571263824871777, 'temperatures': 4.903859435872089}. Best is trial 26 with value: 0.788252665376729.\n",
      "[I 2024-11-09 13:09:40,717] Trial 40 finished with value: 0.7869674126754339 and parameters: {'n_iterations': 827, 'learning_rate': 0.03388646945733209, 'depth': 5, 'l2_leaf_reg': 3.652189356435197, 'temperatures': 2.4815402694753015}. Best is trial 26 with value: 0.788252665376729.\n",
      "[I 2024-11-09 13:10:25,246] Trial 41 finished with value: 0.7705300769433786 and parameters: {'n_iterations': 814, 'learning_rate': 0.03189075045762711, 'depth': 5, 'l2_leaf_reg': 3.6231311209446266, 'temperatures': 2.4038399109893738}. Best is trial 26 with value: 0.788252665376729.\n",
      "[I 2024-11-09 13:11:46,379] Trial 42 finished with value: 0.7762660832275303 and parameters: {'n_iterations': 843, 'learning_rate': 0.029474287805843536, 'depth': 6, 'l2_leaf_reg': 4.321357528373556, 'temperatures': 3.9216594569211782}. Best is trial 26 with value: 0.788252665376729.\n",
      "[I 2024-11-09 13:12:24,637] Trial 43 finished with value: 0.7845460465595675 and parameters: {'n_iterations': 709, 'learning_rate': 0.05019905003974784, 'depth': 4, 'l2_leaf_reg': 2.327821693254673, 'temperatures': 1.4750813334924886}. Best is trial 26 with value: 0.788252665376729.\n",
      "[I 2024-11-09 13:15:16,799] Trial 44 finished with value: 0.7767861186461589 and parameters: {'n_iterations': 987, 'learning_rate': 0.021291106309863264, 'depth': 7, 'l2_leaf_reg': 3.398897998986476, 'temperatures': 3.1969355045872017}. Best is trial 26 with value: 0.788252665376729.\n",
      "[I 2024-11-09 13:15:49,652] Trial 45 finished with value: 0.7828766235490153 and parameters: {'n_iterations': 1067, 'learning_rate': 0.03539973526170835, 'depth': 3, 'l2_leaf_reg': 4.011963922292358, 'temperatures': 0.7644374749463423}. Best is trial 26 with value: 0.788252665376729.\n",
      "[I 2024-11-09 13:16:19,426] Trial 46 finished with value: 0.7741359681794544 and parameters: {'n_iterations': 906, 'learning_rate': 0.09500862774380484, 'depth': 5, 'l2_leaf_reg': 1.0091654064233038, 'temperatures': 3.125646473626698}. Best is trial 26 with value: 0.788252665376729.\n",
      "[I 2024-11-09 13:16:41,974] Trial 47 finished with value: 0.7730685681535308 and parameters: {'n_iterations': 1279, 'learning_rate': 0.11007006800805347, 'depth': 3, 'l2_leaf_reg': 4.671695496974139, 'temperatures': 2.1387485807446183}. Best is trial 26 with value: 0.788252665376729.\n",
      "[I 2024-11-09 13:17:55,571] Trial 48 finished with value: 0.7363521935968491 and parameters: {'n_iterations': 641, 'learning_rate': 0.06469514013826948, 'depth': 8, 'l2_leaf_reg': 2.679317542607068, 'temperatures': 0.023134417842243238}. Best is trial 26 with value: 0.788252665376729.\n",
      "[I 2024-11-09 13:18:18,933] Trial 49 finished with value: 0.7734379026175116 and parameters: {'n_iterations': 1007, 'learning_rate': 0.12541651872773332, 'depth': 4, 'l2_leaf_reg': 0.45313453414744986, 'temperatures': 1.5130650345550776}. Best is trial 26 with value: 0.788252665376729.\n",
      "[I 2024-11-09 13:18:59,991] Trial 50 finished with value: 0.7613482503853416 and parameters: {'n_iterations': 740, 'learning_rate': 0.07990450772344346, 'depth': 6, 'l2_leaf_reg': 1.9751245543854887, 'temperatures': 2.917117372231531}. Best is trial 26 with value: 0.788252665376729.\n",
      "[I 2024-11-09 13:19:18,056] Trial 51 finished with value: 0.7807379193273584 and parameters: {'n_iterations': 1055, 'learning_rate': 0.13663359704564115, 'depth': 3, 'l2_leaf_reg': 0.35989846994243113, 'temperatures': 5.260723640381264}. Best is trial 26 with value: 0.788252665376729.\n",
      "[I 2024-11-09 13:19:37,989] Trial 52 finished with value: 0.7881410061201766 and parameters: {'n_iterations': 945, 'learning_rate': 0.11589502738694127, 'depth': 3, 'l2_leaf_reg': 7.454093359590821, 'temperatures': 0.9607471506597571}. Best is trial 26 with value: 0.788252665376729.\n",
      "[I 2024-11-09 13:21:37,131] Trial 53 finished with value: 0.7451935765474957 and parameters: {'n_iterations': 927, 'learning_rate': 0.11647478129174524, 'depth': 9, 'l2_leaf_reg': 7.5478527285742345, 'temperatures': 1.0835653516258577}. Best is trial 26 with value: 0.788252665376729.\n",
      "[I 2024-11-09 13:21:59,010] Trial 54 finished with value: 0.7877662058184624 and parameters: {'n_iterations': 840, 'learning_rate': 0.10407047875281807, 'depth': 3, 'l2_leaf_reg': 7.646808329420126, 'temperatures': 0.34734247810378815}. Best is trial 26 with value: 0.788252665376729.\n",
      "[I 2024-11-09 13:22:27,923] Trial 55 finished with value: 0.7765206350991113 and parameters: {'n_iterations': 837, 'learning_rate': 0.1007467435579103, 'depth': 4, 'l2_leaf_reg': 9.898145706639024, 'temperatures': 0.4130289044108481}. Best is trial 26 with value: 0.788252665376729.\n",
      "[I 2024-11-09 13:23:05,999] Trial 56 finished with value: 0.7842040412842533 and parameters: {'n_iterations': 530, 'learning_rate': 0.015313449667499583, 'depth': 3, 'l2_leaf_reg': 7.668687490969978, 'temperatures': 0.28541799655786637}. Best is trial 26 with value: 0.788252665376729.\n",
      "[I 2024-11-09 13:23:37,812] Trial 57 finished with value: 0.7915220171752239 and parameters: {'n_iterations': 1210, 'learning_rate': 0.0912342069171328, 'depth': 4, 'l2_leaf_reg': 7.485201114181726, 'temperatures': 2.1925741472874885}. Best is trial 57 with value: 0.7915220171752239.\n",
      "[I 2024-11-09 13:24:01,368] Trial 58 finished with value: 0.7855783090572055 and parameters: {'n_iterations': 1372, 'learning_rate': 0.10672440560262199, 'depth': 3, 'l2_leaf_reg': 7.089930167971567, 'temperatures': 1.2789681550108205}. Best is trial 57 with value: 0.7915220171752239.\n",
      "[I 2024-11-09 13:24:33,197] Trial 59 finished with value: 0.7820294187003487 and parameters: {'n_iterations': 1211, 'learning_rate': 0.09155190050357784, 'depth': 4, 'l2_leaf_reg': 9.289354775176566, 'temperatures': 1.7925812196328024}. Best is trial 57 with value: 0.7915220171752239.\n",
      "[I 2024-11-09 13:24:52,214] Trial 60 finished with value: 0.7789006170149967 and parameters: {'n_iterations': 1190, 'learning_rate': 0.14437962063521623, 'depth': 3, 'l2_leaf_reg': 8.396258731642583, 'temperatures': 0.5506571503723363}. Best is trial 57 with value: 0.7915220171752239.\n",
      "[I 2024-11-09 13:25:46,454] Trial 61 finished with value: 0.7832678213639295 and parameters: {'n_iterations': 1023, 'learning_rate': 0.05092852550669423, 'depth': 5, 'l2_leaf_reg': 7.962817688765987, 'temperatures': 3.744852029234245}. Best is trial 57 with value: 0.7915220171752239.\n",
      "[I 2024-11-09 13:26:12,827] Trial 62 finished with value: 0.778931069539511 and parameters: {'n_iterations': 1107, 'learning_rate': 0.07926512282052836, 'depth': 4, 'l2_leaf_reg': 5.8498854632114465, 'temperatures': 2.3390597635602686}. Best is trial 57 with value: 0.7915220171752239.\n",
      "[I 2024-11-09 13:26:42,241] Trial 63 finished with value: 0.7736276452702544 and parameters: {'n_iterations': 864, 'learning_rate': 0.12794146887933422, 'depth': 5, 'l2_leaf_reg': 6.841076445678657, 'temperatures': 1.6381103071932743}. Best is trial 57 with value: 0.7915220171752239.\n",
      "[I 2024-11-09 13:27:56,924] Trial 64 finished with value: 0.7806504659236251 and parameters: {'n_iterations': 792, 'learning_rate': 0.008637056903210108, 'depth': 4, 'l2_leaf_reg': 8.906039968804203, 'temperatures': 2.8329950663183063}. Best is trial 57 with value: 0.7915220171752239.\n",
      "[I 2024-11-09 13:28:31,823] Trial 65 finished with value: 0.7868534109169958 and parameters: {'n_iterations': 1256, 'learning_rate': 0.03896673896350063, 'depth': 3, 'l2_leaf_reg': 7.3243549442623115, 'temperatures': 0.9122150123829771}. Best is trial 57 with value: 0.7915220171752239.\n",
      "[I 2024-11-09 13:29:09,431] Trial 66 finished with value: 0.7868908909471672 and parameters: {'n_iterations': 1355, 'learning_rate': 0.025034417933201186, 'depth': 3, 'l2_leaf_reg': 8.052935442969199, 'temperatures': 4.398148555990753}. Best is trial 57 with value: 0.7915220171752239.\n",
      "[I 2024-11-09 13:29:36,943] Trial 67 finished with value: 0.7665431387338933 and parameters: {'n_iterations': 687, 'learning_rate': 0.11211081919144816, 'depth': 5, 'l2_leaf_reg': 8.64086747848404, 'temperatures': 2.119109736718086}. Best is trial 57 with value: 0.7915220171752239.\n",
      "[I 2024-11-09 13:29:45,733] Trial 68 finished with value: 0.776514388427416 and parameters: {'n_iterations': 154, 'learning_rate': 0.07141801854265786, 'depth': 4, 'l2_leaf_reg': 5.624585347265649, 'temperatures': 0.2901809364977255}. Best is trial 57 with value: 0.7915220171752239.\n",
      "[I 2024-11-09 13:30:02,836] Trial 69 finished with value: 0.7859890277211673 and parameters: {'n_iterations': 1155, 'learning_rate': 0.13392833616493782, 'depth': 3, 'l2_leaf_reg': 6.968826478029454, 'temperatures': 2.493427499610304}. Best is trial 57 with value: 0.7915220171752239.\n",
      "[I 2024-11-09 13:30:34,754] Trial 70 finished with value: 0.7761263139483494 and parameters: {'n_iterations': 919, 'learning_rate': 0.05909630857967265, 'depth': 4, 'l2_leaf_reg': 3.1083601300534647, 'temperatures': 1.2280264228556872}. Best is trial 57 with value: 0.7915220171752239.\n",
      "[I 2024-11-09 13:31:29,600] Trial 71 finished with value: 0.7863185396530911 and parameters: {'n_iterations': 1423, 'learning_rate': 0.024594053352858622, 'depth': 3, 'l2_leaf_reg': 7.947745008130287, 'temperatures': 5.930544420869248}. Best is trial 57 with value: 0.7915220171752239.\n",
      "[I 2024-11-09 13:32:50,021] Trial 72 finished with value: 0.7917008281525 and parameters: {'n_iterations': 1297, 'learning_rate': 0.011584835012244162, 'depth': 3, 'l2_leaf_reg': 6.573873570859722, 'temperatures': 4.45207565643132}. Best is trial 72 with value: 0.7917008281525.\n",
      "[I 2024-11-09 13:34:07,934] Trial 73 finished with value: 0.7928947232802522 and parameters: {'n_iterations': 1308, 'learning_rate': 0.011155420300433587, 'depth': 3, 'l2_leaf_reg': 6.297059906285809, 'temperatures': 4.689812349880806}. Best is trial 73 with value: 0.7928947232802522.\n",
      "[I 2024-11-09 13:35:23,998] Trial 74 finished with value: 0.7832709446997772 and parameters: {'n_iterations': 1290, 'learning_rate': 0.006362514398268036, 'depth': 3, 'l2_leaf_reg': 6.5394796256547005, 'temperatures': 4.760932120829895}. Best is trial 73 with value: 0.7928947232802522.\n",
      "[I 2024-11-09 13:36:32,742] Trial 75 finished with value: 0.7911620527187858 and parameters: {'n_iterations': 1327, 'learning_rate': 0.015751344269551562, 'depth': 3, 'l2_leaf_reg': 6.229280153026051, 'temperatures': 5.441510281178021}. Best is trial 73 with value: 0.7928947232802522.\n",
      "[I 2024-11-09 13:37:38,912] Trial 76 finished with value: 0.7860866319664054 and parameters: {'n_iterations': 1419, 'learning_rate': 0.01606812307493281, 'depth': 3, 'l2_leaf_reg': 5.863697134697927, 'temperatures': 5.149110178182517}. Best is trial 73 with value: 0.7928947232802522.\n",
      "[I 2024-11-09 13:38:25,777] Trial 77 finished with value: 0.7918741732920428 and parameters: {'n_iterations': 1343, 'learning_rate': 0.02134770715839417, 'depth': 3, 'l2_leaf_reg': 6.262139069785587, 'temperatures': 4.454991377747334}. Best is trial 73 with value: 0.7928947232802522.\n",
      "[I 2024-11-09 13:39:28,699] Trial 78 finished with value: 0.7934334987139664 and parameters: {'n_iterations': 1316, 'learning_rate': 0.020258387238826565, 'depth': 3, 'l2_leaf_reg': 6.2562688462323655, 'temperatures': 5.645186438279441}. Best is trial 78 with value: 0.7934334987139664.\n",
      "[I 2024-11-09 13:40:51,635] Trial 79 finished with value: 0.7900470218211859 and parameters: {'n_iterations': 1332, 'learning_rate': 0.013160474123121288, 'depth': 3, 'l2_leaf_reg': 6.212990615595126, 'temperatures': 5.585867382390578}. Best is trial 78 with value: 0.7934334987139664.\n",
      "[I 2024-11-09 13:41:44,340] Trial 80 finished with value: 0.7860296310871864 and parameters: {'n_iterations': 1331, 'learning_rate': 0.020552884594110192, 'depth': 3, 'l2_leaf_reg': 6.19446380884747, 'temperatures': 5.645111129838635}. Best is trial 78 with value: 0.7934334987139664.\n",
      "[I 2024-11-09 13:43:12,016] Trial 81 finished with value: 0.7900548301608049 and parameters: {'n_iterations': 1481, 'learning_rate': 0.010272529348760426, 'depth': 3, 'l2_leaf_reg': 6.207421718433574, 'temperatures': 5.526692131326617}. Best is trial 78 with value: 0.7934334987139664.\n",
      "[I 2024-11-09 13:44:28,459] Trial 82 finished with value: 0.7906381131303477 and parameters: {'n_iterations': 1475, 'learning_rate': 0.013453152323990688, 'depth': 3, 'l2_leaf_reg': 6.321302037539112, 'temperatures': 4.431014125187387}. Best is trial 78 with value: 0.7934334987139664.\n",
      "[I 2024-11-09 13:45:37,211] Trial 83 finished with value: 0.786761272509491 and parameters: {'n_iterations': 1498, 'learning_rate': 0.013176618270445379, 'depth': 3, 'l2_leaf_reg': 6.31760473316971, 'temperatures': 4.4976565523751955}. Best is trial 78 with value: 0.7934334987139664.\n",
      "[I 2024-11-09 13:46:17,294] Trial 84 finished with value: 0.7859765343777768 and parameters: {'n_iterations': 1443, 'learning_rate': 0.02970979259124866, 'depth': 3, 'l2_leaf_reg': 5.50652239289057, 'temperatures': 6.844804450798767}. Best is trial 78 with value: 0.7934334987139664.\n",
      "[I 2024-11-09 13:48:22,683] Trial 85 finished with value: 0.7876365873807862 and parameters: {'n_iterations': 1401, 'learning_rate': 0.010504320912817732, 'depth': 4, 'l2_leaf_reg': 6.686530343721543, 'temperatures': 5.56057012688472}. Best is trial 78 with value: 0.7934334987139664.\n",
      "[I 2024-11-09 13:50:07,547] Trial 86 finished with value: 0.7807121518066156 and parameters: {'n_iterations': 1470, 'learning_rate': 0.005107040765716312, 'depth': 3, 'l2_leaf_reg': 6.225975132588302, 'temperatures': 6.020038861823948}. Best is trial 78 with value: 0.7934334987139664.\n",
      "[I 2024-11-09 13:51:08,457] Trial 87 finished with value: 0.7895925764553574 and parameters: {'n_iterations': 1235, 'learning_rate': 0.019602259881044665, 'depth': 3, 'l2_leaf_reg': 4.9765435702524625, 'temperatures': 6.321771475943411}. Best is trial 78 with value: 0.7934334987139664.\n",
      "[I 2024-11-09 13:51:49,866] Trial 88 finished with value: 0.7917664182053 and parameters: {'n_iterations': 1331, 'learning_rate': 0.026902083578137736, 'depth': 3, 'l2_leaf_reg': 7.164354939353473, 'temperatures': 5.013969154066907}. Best is trial 78 with value: 0.7934334987139664.\n",
      "[I 2024-11-09 13:52:46,082] Trial 89 finished with value: 0.7827837043075486 and parameters: {'n_iterations': 1393, 'learning_rate': 0.02667994580491789, 'depth': 4, 'l2_leaf_reg': 7.15591156072646, 'temperatures': 5.003532310173724}. Best is trial 78 with value: 0.7934334987139664.\n",
      "[I 2024-11-09 13:53:33,414] Trial 90 finished with value: 0.7919428866806905 and parameters: {'n_iterations': 1296, 'learning_rate': 0.03810411484024834, 'depth': 3, 'l2_leaf_reg': 5.961366239006363, 'temperatures': 4.129134449641933}. Best is trial 78 with value: 0.7934334987139664.\n",
      "[I 2024-11-09 13:54:12,269] Trial 91 finished with value: 0.7884541205389004 and parameters: {'n_iterations': 1297, 'learning_rate': 0.0381466674149438, 'depth': 3, 'l2_leaf_reg': 5.892904224898098, 'temperatures': 4.188952359961282}. Best is trial 78 with value: 0.7934334987139664.\n",
      "[I 2024-11-09 13:55:17,808] Trial 92 finished with value: 0.7888453183538147 and parameters: {'n_iterations': 1333, 'learning_rate': 0.02043318745551812, 'depth': 3, 'l2_leaf_reg': 6.793256273090327, 'temperatures': 4.724288627609268}. Best is trial 78 with value: 0.7934334987139664.\n",
      "[I 2024-11-09 13:56:01,054] Trial 93 finished with value: 0.7874726122487862 and parameters: {'n_iterations': 1233, 'learning_rate': 0.028378303798981735, 'depth': 3, 'l2_leaf_reg': 5.352072482946708, 'temperatures': 5.370596453241632}. Best is trial 78 with value: 0.7934334987139664.\n",
      "[I 2024-11-09 13:57:32,432] Trial 94 finished with value: 0.7874936947657576 and parameters: {'n_iterations': 1450, 'learning_rate': 0.01093498359451465, 'depth': 3, 'l2_leaf_reg': 5.981774196378362, 'temperatures': 5.038467521695317}. Best is trial 78 with value: 0.7934334987139664.\n",
      "[I 2024-11-09 13:58:14,190] Trial 95 finished with value: 0.7836668275184628 and parameters: {'n_iterations': 1364, 'learning_rate': 0.03365049413632703, 'depth': 3, 'l2_leaf_reg': 5.630422013463126, 'temperatures': 3.825317998239332}. Best is trial 78 with value: 0.7934334987139664.\n",
      "[I 2024-11-09 13:58:44,604] Trial 96 finished with value: 0.7868315475660624 and parameters: {'n_iterations': 1272, 'learning_rate': 0.04432523176099701, 'depth': 3, 'l2_leaf_reg': 6.5667934611294, 'temperatures': 3.6511646172829275}. Best is trial 78 with value: 0.7934334987139664.\n",
      "[I 2024-11-09 14:00:01,026] Trial 97 finished with value: 0.7891420352593383 and parameters: {'n_iterations': 1418, 'learning_rate': 0.017247675962795382, 'depth': 4, 'l2_leaf_reg': 6.402123032771911, 'temperatures': 4.122754031083846}. Best is trial 78 with value: 0.7934334987139664.\n",
      "[I 2024-11-09 14:00:57,448] Trial 98 finished with value: 0.7876147240298528 and parameters: {'n_iterations': 1305, 'learning_rate': 0.022761510004166617, 'depth': 3, 'l2_leaf_reg': 4.93417690472978, 'temperatures': 4.581222468906362}. Best is trial 78 with value: 0.7934334987139664.\n",
      "[I 2024-11-09 14:02:22,055] Trial 99 finished with value: 0.7902242711305383 and parameters: {'n_iterations': 1479, 'learning_rate': 0.0179552509653614, 'depth': 4, 'l2_leaf_reg': 7.216393949311168, 'temperatures': 4.298295069602017}. Best is trial 78 with value: 0.7934334987139664.\n"
     ]
    }
   ],
   "source": [
    "def objective(trial):\n",
    "    n_iterations = trial.suggest_int('n_iterations', 100, 1500)\n",
    "    learning_rate = trial.suggest_float('learning_rate', 0.005, 0.2)\n",
    "    depth = trial.suggest_int('depth', 3, 10)\n",
    "    l2_leaf_reg = trial.suggest_float('l2_leaf_reg', 0.001, 10)\n",
    "    temperatures = trial.suggest_float('temperatures', 0.001, 10)\n",
    "\n",
    "    model = cb.CatBoostClassifier(\n",
    "        iterations=n_iterations,\n",
    "        cat_features=list(cat_features),\n",
    "        learning_rate=learning_rate,\n",
    "        depth=depth,\n",
    "        l2_leaf_reg=l2_leaf_reg,\n",
    "        bagging_temperature=temperatures,\n",
    "        auto_class_weights='Balanced',\n",
    "        random_seed=42,\n",
    "        eval_metric='AUC',\n",
    "        verbose=False,\n",
    "    )\n",
    "    model.fit(X, y, eval_set=(X_eval, y_eval), early_stopping_rounds=200)\n",
    "    return model.best_score_['validation']['AUC']\n",
    "\n",
    "study = optuna.create_study(direction='maximize', sampler=optuna.samplers.TPESampler(), pruner=optuna.pruners.MedianPruner(n_startup_trials=10, n_warmup_steps=10))\n",
    "study.optimize(objective, n_trials=100)"
   ]
  },
  {
   "cell_type": "code",
   "execution_count": 32,
   "metadata": {},
   "outputs": [
    {
     "data": {
      "application/vnd.plotly.v1+json": {
       "config": {
        "plotlyServerURL": "https://plot.ly"
       },
       "data": [
        {
         "cliponaxis": false,
         "hovertemplate": [
          "l2_leaf_reg (FloatDistribution): 0.010137138081067313<extra></extra>",
          "temperatures (FloatDistribution): 0.027727667735215275<extra></extra>",
          "n_iterations (IntDistribution): 0.06056400042363087<extra></extra>",
          "learning_rate (FloatDistribution): 0.28099589569741196<extra></extra>",
          "depth (IntDistribution): 0.6205752980626745<extra></extra>"
         ],
         "name": "Objective Value",
         "orientation": "h",
         "text": [
          "0.01",
          "0.03",
          "0.06",
          "0.28",
          "0.62"
         ],
         "textposition": "outside",
         "type": "bar",
         "x": [
          0.010137138081067313,
          0.027727667735215275,
          0.06056400042363087,
          0.28099589569741196,
          0.6205752980626745
         ],
         "y": [
          "l2_leaf_reg",
          "temperatures",
          "n_iterations",
          "learning_rate",
          "depth"
         ]
        }
       ],
       "layout": {
        "template": {
         "data": {
          "bar": [
           {
            "error_x": {
             "color": "#2a3f5f"
            },
            "error_y": {
             "color": "#2a3f5f"
            },
            "marker": {
             "line": {
              "color": "#E5ECF6",
              "width": 0.5
             },
             "pattern": {
              "fillmode": "overlay",
              "size": 10,
              "solidity": 0.2
             }
            },
            "type": "bar"
           }
          ],
          "barpolar": [
           {
            "marker": {
             "line": {
              "color": "#E5ECF6",
              "width": 0.5
             },
             "pattern": {
              "fillmode": "overlay",
              "size": 10,
              "solidity": 0.2
             }
            },
            "type": "barpolar"
           }
          ],
          "carpet": [
           {
            "aaxis": {
             "endlinecolor": "#2a3f5f",
             "gridcolor": "white",
             "linecolor": "white",
             "minorgridcolor": "white",
             "startlinecolor": "#2a3f5f"
            },
            "baxis": {
             "endlinecolor": "#2a3f5f",
             "gridcolor": "white",
             "linecolor": "white",
             "minorgridcolor": "white",
             "startlinecolor": "#2a3f5f"
            },
            "type": "carpet"
           }
          ],
          "choropleth": [
           {
            "colorbar": {
             "outlinewidth": 0,
             "ticks": ""
            },
            "type": "choropleth"
           }
          ],
          "contour": [
           {
            "colorbar": {
             "outlinewidth": 0,
             "ticks": ""
            },
            "colorscale": [
             [
              0,
              "#0d0887"
             ],
             [
              0.1111111111111111,
              "#46039f"
             ],
             [
              0.2222222222222222,
              "#7201a8"
             ],
             [
              0.3333333333333333,
              "#9c179e"
             ],
             [
              0.4444444444444444,
              "#bd3786"
             ],
             [
              0.5555555555555556,
              "#d8576b"
             ],
             [
              0.6666666666666666,
              "#ed7953"
             ],
             [
              0.7777777777777778,
              "#fb9f3a"
             ],
             [
              0.8888888888888888,
              "#fdca26"
             ],
             [
              1,
              "#f0f921"
             ]
            ],
            "type": "contour"
           }
          ],
          "contourcarpet": [
           {
            "colorbar": {
             "outlinewidth": 0,
             "ticks": ""
            },
            "type": "contourcarpet"
           }
          ],
          "heatmap": [
           {
            "colorbar": {
             "outlinewidth": 0,
             "ticks": ""
            },
            "colorscale": [
             [
              0,
              "#0d0887"
             ],
             [
              0.1111111111111111,
              "#46039f"
             ],
             [
              0.2222222222222222,
              "#7201a8"
             ],
             [
              0.3333333333333333,
              "#9c179e"
             ],
             [
              0.4444444444444444,
              "#bd3786"
             ],
             [
              0.5555555555555556,
              "#d8576b"
             ],
             [
              0.6666666666666666,
              "#ed7953"
             ],
             [
              0.7777777777777778,
              "#fb9f3a"
             ],
             [
              0.8888888888888888,
              "#fdca26"
             ],
             [
              1,
              "#f0f921"
             ]
            ],
            "type": "heatmap"
           }
          ],
          "heatmapgl": [
           {
            "colorbar": {
             "outlinewidth": 0,
             "ticks": ""
            },
            "colorscale": [
             [
              0,
              "#0d0887"
             ],
             [
              0.1111111111111111,
              "#46039f"
             ],
             [
              0.2222222222222222,
              "#7201a8"
             ],
             [
              0.3333333333333333,
              "#9c179e"
             ],
             [
              0.4444444444444444,
              "#bd3786"
             ],
             [
              0.5555555555555556,
              "#d8576b"
             ],
             [
              0.6666666666666666,
              "#ed7953"
             ],
             [
              0.7777777777777778,
              "#fb9f3a"
             ],
             [
              0.8888888888888888,
              "#fdca26"
             ],
             [
              1,
              "#f0f921"
             ]
            ],
            "type": "heatmapgl"
           }
          ],
          "histogram": [
           {
            "marker": {
             "pattern": {
              "fillmode": "overlay",
              "size": 10,
              "solidity": 0.2
             }
            },
            "type": "histogram"
           }
          ],
          "histogram2d": [
           {
            "colorbar": {
             "outlinewidth": 0,
             "ticks": ""
            },
            "colorscale": [
             [
              0,
              "#0d0887"
             ],
             [
              0.1111111111111111,
              "#46039f"
             ],
             [
              0.2222222222222222,
              "#7201a8"
             ],
             [
              0.3333333333333333,
              "#9c179e"
             ],
             [
              0.4444444444444444,
              "#bd3786"
             ],
             [
              0.5555555555555556,
              "#d8576b"
             ],
             [
              0.6666666666666666,
              "#ed7953"
             ],
             [
              0.7777777777777778,
              "#fb9f3a"
             ],
             [
              0.8888888888888888,
              "#fdca26"
             ],
             [
              1,
              "#f0f921"
             ]
            ],
            "type": "histogram2d"
           }
          ],
          "histogram2dcontour": [
           {
            "colorbar": {
             "outlinewidth": 0,
             "ticks": ""
            },
            "colorscale": [
             [
              0,
              "#0d0887"
             ],
             [
              0.1111111111111111,
              "#46039f"
             ],
             [
              0.2222222222222222,
              "#7201a8"
             ],
             [
              0.3333333333333333,
              "#9c179e"
             ],
             [
              0.4444444444444444,
              "#bd3786"
             ],
             [
              0.5555555555555556,
              "#d8576b"
             ],
             [
              0.6666666666666666,
              "#ed7953"
             ],
             [
              0.7777777777777778,
              "#fb9f3a"
             ],
             [
              0.8888888888888888,
              "#fdca26"
             ],
             [
              1,
              "#f0f921"
             ]
            ],
            "type": "histogram2dcontour"
           }
          ],
          "mesh3d": [
           {
            "colorbar": {
             "outlinewidth": 0,
             "ticks": ""
            },
            "type": "mesh3d"
           }
          ],
          "parcoords": [
           {
            "line": {
             "colorbar": {
              "outlinewidth": 0,
              "ticks": ""
             }
            },
            "type": "parcoords"
           }
          ],
          "pie": [
           {
            "automargin": true,
            "type": "pie"
           }
          ],
          "scatter": [
           {
            "fillpattern": {
             "fillmode": "overlay",
             "size": 10,
             "solidity": 0.2
            },
            "type": "scatter"
           }
          ],
          "scatter3d": [
           {
            "line": {
             "colorbar": {
              "outlinewidth": 0,
              "ticks": ""
             }
            },
            "marker": {
             "colorbar": {
              "outlinewidth": 0,
              "ticks": ""
             }
            },
            "type": "scatter3d"
           }
          ],
          "scattercarpet": [
           {
            "marker": {
             "colorbar": {
              "outlinewidth": 0,
              "ticks": ""
             }
            },
            "type": "scattercarpet"
           }
          ],
          "scattergeo": [
           {
            "marker": {
             "colorbar": {
              "outlinewidth": 0,
              "ticks": ""
             }
            },
            "type": "scattergeo"
           }
          ],
          "scattergl": [
           {
            "marker": {
             "colorbar": {
              "outlinewidth": 0,
              "ticks": ""
             }
            },
            "type": "scattergl"
           }
          ],
          "scattermapbox": [
           {
            "marker": {
             "colorbar": {
              "outlinewidth": 0,
              "ticks": ""
             }
            },
            "type": "scattermapbox"
           }
          ],
          "scatterpolar": [
           {
            "marker": {
             "colorbar": {
              "outlinewidth": 0,
              "ticks": ""
             }
            },
            "type": "scatterpolar"
           }
          ],
          "scatterpolargl": [
           {
            "marker": {
             "colorbar": {
              "outlinewidth": 0,
              "ticks": ""
             }
            },
            "type": "scatterpolargl"
           }
          ],
          "scatterternary": [
           {
            "marker": {
             "colorbar": {
              "outlinewidth": 0,
              "ticks": ""
             }
            },
            "type": "scatterternary"
           }
          ],
          "surface": [
           {
            "colorbar": {
             "outlinewidth": 0,
             "ticks": ""
            },
            "colorscale": [
             [
              0,
              "#0d0887"
             ],
             [
              0.1111111111111111,
              "#46039f"
             ],
             [
              0.2222222222222222,
              "#7201a8"
             ],
             [
              0.3333333333333333,
              "#9c179e"
             ],
             [
              0.4444444444444444,
              "#bd3786"
             ],
             [
              0.5555555555555556,
              "#d8576b"
             ],
             [
              0.6666666666666666,
              "#ed7953"
             ],
             [
              0.7777777777777778,
              "#fb9f3a"
             ],
             [
              0.8888888888888888,
              "#fdca26"
             ],
             [
              1,
              "#f0f921"
             ]
            ],
            "type": "surface"
           }
          ],
          "table": [
           {
            "cells": {
             "fill": {
              "color": "#EBF0F8"
             },
             "line": {
              "color": "white"
             }
            },
            "header": {
             "fill": {
              "color": "#C8D4E3"
             },
             "line": {
              "color": "white"
             }
            },
            "type": "table"
           }
          ]
         },
         "layout": {
          "annotationdefaults": {
           "arrowcolor": "#2a3f5f",
           "arrowhead": 0,
           "arrowwidth": 1
          },
          "autotypenumbers": "strict",
          "coloraxis": {
           "colorbar": {
            "outlinewidth": 0,
            "ticks": ""
           }
          },
          "colorscale": {
           "diverging": [
            [
             0,
             "#8e0152"
            ],
            [
             0.1,
             "#c51b7d"
            ],
            [
             0.2,
             "#de77ae"
            ],
            [
             0.3,
             "#f1b6da"
            ],
            [
             0.4,
             "#fde0ef"
            ],
            [
             0.5,
             "#f7f7f7"
            ],
            [
             0.6,
             "#e6f5d0"
            ],
            [
             0.7,
             "#b8e186"
            ],
            [
             0.8,
             "#7fbc41"
            ],
            [
             0.9,
             "#4d9221"
            ],
            [
             1,
             "#276419"
            ]
           ],
           "sequential": [
            [
             0,
             "#0d0887"
            ],
            [
             0.1111111111111111,
             "#46039f"
            ],
            [
             0.2222222222222222,
             "#7201a8"
            ],
            [
             0.3333333333333333,
             "#9c179e"
            ],
            [
             0.4444444444444444,
             "#bd3786"
            ],
            [
             0.5555555555555556,
             "#d8576b"
            ],
            [
             0.6666666666666666,
             "#ed7953"
            ],
            [
             0.7777777777777778,
             "#fb9f3a"
            ],
            [
             0.8888888888888888,
             "#fdca26"
            ],
            [
             1,
             "#f0f921"
            ]
           ],
           "sequentialminus": [
            [
             0,
             "#0d0887"
            ],
            [
             0.1111111111111111,
             "#46039f"
            ],
            [
             0.2222222222222222,
             "#7201a8"
            ],
            [
             0.3333333333333333,
             "#9c179e"
            ],
            [
             0.4444444444444444,
             "#bd3786"
            ],
            [
             0.5555555555555556,
             "#d8576b"
            ],
            [
             0.6666666666666666,
             "#ed7953"
            ],
            [
             0.7777777777777778,
             "#fb9f3a"
            ],
            [
             0.8888888888888888,
             "#fdca26"
            ],
            [
             1,
             "#f0f921"
            ]
           ]
          },
          "colorway": [
           "#636efa",
           "#EF553B",
           "#00cc96",
           "#ab63fa",
           "#FFA15A",
           "#19d3f3",
           "#FF6692",
           "#B6E880",
           "#FF97FF",
           "#FECB52"
          ],
          "font": {
           "color": "#2a3f5f"
          },
          "geo": {
           "bgcolor": "white",
           "lakecolor": "white",
           "landcolor": "#E5ECF6",
           "showlakes": true,
           "showland": true,
           "subunitcolor": "white"
          },
          "hoverlabel": {
           "align": "left"
          },
          "hovermode": "closest",
          "mapbox": {
           "style": "light"
          },
          "paper_bgcolor": "white",
          "plot_bgcolor": "#E5ECF6",
          "polar": {
           "angularaxis": {
            "gridcolor": "white",
            "linecolor": "white",
            "ticks": ""
           },
           "bgcolor": "#E5ECF6",
           "radialaxis": {
            "gridcolor": "white",
            "linecolor": "white",
            "ticks": ""
           }
          },
          "scene": {
           "xaxis": {
            "backgroundcolor": "#E5ECF6",
            "gridcolor": "white",
            "gridwidth": 2,
            "linecolor": "white",
            "showbackground": true,
            "ticks": "",
            "zerolinecolor": "white"
           },
           "yaxis": {
            "backgroundcolor": "#E5ECF6",
            "gridcolor": "white",
            "gridwidth": 2,
            "linecolor": "white",
            "showbackground": true,
            "ticks": "",
            "zerolinecolor": "white"
           },
           "zaxis": {
            "backgroundcolor": "#E5ECF6",
            "gridcolor": "white",
            "gridwidth": 2,
            "linecolor": "white",
            "showbackground": true,
            "ticks": "",
            "zerolinecolor": "white"
           }
          },
          "shapedefaults": {
           "line": {
            "color": "#2a3f5f"
           }
          },
          "ternary": {
           "aaxis": {
            "gridcolor": "white",
            "linecolor": "white",
            "ticks": ""
           },
           "baxis": {
            "gridcolor": "white",
            "linecolor": "white",
            "ticks": ""
           },
           "bgcolor": "#E5ECF6",
           "caxis": {
            "gridcolor": "white",
            "linecolor": "white",
            "ticks": ""
           }
          },
          "title": {
           "x": 0.05
          },
          "xaxis": {
           "automargin": true,
           "gridcolor": "white",
           "linecolor": "white",
           "ticks": "",
           "title": {
            "standoff": 15
           },
           "zerolinecolor": "white",
           "zerolinewidth": 2
          },
          "yaxis": {
           "automargin": true,
           "gridcolor": "white",
           "linecolor": "white",
           "ticks": "",
           "title": {
            "standoff": 15
           },
           "zerolinecolor": "white",
           "zerolinewidth": 2
          }
         }
        },
        "title": {
         "text": "Hyperparameter Importances"
        },
        "xaxis": {
         "title": {
          "text": "Hyperparameter Importance"
         }
        },
        "yaxis": {
         "title": {
          "text": "Hyperparameter"
         }
        }
       }
      }
     },
     "metadata": {},
     "output_type": "display_data"
    }
   ],
   "source": [
    "\n",
    "plot_param_importances(study)\n"
   ]
  },
  {
   "cell_type": "code",
   "execution_count": 33,
   "metadata": {},
   "outputs": [
    {
     "data": {
      "text/plain": [
       "{'n_iterations': 1316,\n",
       " 'learning_rate': 0.020258387238826565,\n",
       " 'depth': 3,\n",
       " 'l2_leaf_reg': 6.2562688462323655,\n",
       " 'temperatures': 5.645186438279441}"
      ]
     },
     "execution_count": 33,
     "metadata": {},
     "output_type": "execute_result"
    }
   ],
   "source": [
    "best_catboost_cat = study.best_params\n",
    "best_catboost_cat"
   ]
  },
  {
   "cell_type": "code",
   "execution_count": null,
   "metadata": {},
   "outputs": [],
   "source": [
    "best_catboost = study.best_params"
   ]
  },
  {
   "cell_type": "code",
   "execution_count": 34,
   "metadata": {},
   "outputs": [
    {
     "data": {
      "text/plain": [
       "{'n_iterations': 623,\n",
       " 'learning_rate': 0.045540279087432946,\n",
       " 'depth': 4,\n",
       " 'l2_leaf_reg': 6.629781850199995,\n",
       " 'temperatures': 2.397836894779192}"
      ]
     },
     "execution_count": 34,
     "metadata": {},
     "output_type": "execute_result"
    }
   ],
   "source": [
    "best_catboost"
   ]
  },
  {
   "cell_type": "markdown",
   "metadata": {},
   "source": [
    "# LightGBM hyperparameters tuning"
   ]
  },
  {
   "cell_type": "code",
   "execution_count": 5,
   "metadata": {},
   "outputs": [
    {
     "name": "stderr",
     "output_type": "stream",
     "text": [
      "[I 2024-11-09 14:26:51,588] A new study created in memory with name: no-name-e576d5e9-4e05-494c-bc53-9026cf0ae0f8\n",
      "[I 2024-11-09 14:26:57,384] Trial 0 finished with value: 0.7300407126827737 and parameters: {'n_estimators': 153, 'learning_rate': 0.10691210816301262, 'reg_alpha': 0.4082203989876364, 'min_child_weight': 2, 'max_depth': 11, 'min_child_samples': 161}. Best is trial 0 with value: 0.7300407126827737.\n",
      "[I 2024-11-09 14:27:04,159] Trial 1 finished with value: 0.740539415717563 and parameters: {'n_estimators': 829, 'learning_rate': 0.19854630375075755, 'reg_alpha': 0.9522902359967629, 'min_child_weight': 2, 'max_depth': 41, 'min_child_samples': 147}. Best is trial 1 with value: 0.740539415717563.\n",
      "[I 2024-11-09 14:27:12,038] Trial 2 finished with value: 0.768077477469036 and parameters: {'n_estimators': 840, 'learning_rate': 0.038774091764055774, 'reg_alpha': 0.1275769716859925, 'min_child_weight': 0, 'max_depth': 10, 'min_child_samples': 180}. Best is trial 2 with value: 0.768077477469036.\n",
      "[I 2024-11-09 14:27:19,041] Trial 3 finished with value: 0.7153688425385849 and parameters: {'n_estimators': 1290, 'learning_rate': 0.17308986224892883, 'reg_alpha': 0.048707743915712226, 'min_child_weight': 2, 'max_depth': 21, 'min_child_samples': 172}. Best is trial 2 with value: 0.768077477469036.\n",
      "[I 2024-11-09 14:27:26,030] Trial 4 finished with value: 0.7041740260267576 and parameters: {'n_estimators': 201, 'learning_rate': 0.18376520089538956, 'reg_alpha': 0.25462675029426846, 'min_child_weight': 1, 'max_depth': 14, 'min_child_samples': 62}. Best is trial 2 with value: 0.768077477469036.\n",
      "[I 2024-11-09 14:27:33,608] Trial 5 finished with value: 0.7844445381445199 and parameters: {'n_estimators': 491, 'learning_rate': 0.04652598038675887, 'reg_alpha': 0.954964260881604, 'min_child_weight': 4, 'max_depth': 14, 'min_child_samples': 144}. Best is trial 5 with value: 0.7844445381445199.\n",
      "[I 2024-11-09 14:27:40,993] Trial 6 finished with value: 0.7615317463663892 and parameters: {'n_estimators': 1302, 'learning_rate': 0.0956725508561359, 'reg_alpha': 0.7977050463800874, 'min_child_weight': 0, 'max_depth': 12, 'min_child_samples': 127}. Best is trial 5 with value: 0.7844445381445199.\n",
      "[I 2024-11-09 14:27:48,554] Trial 7 finished with value: 0.7341970918619923 and parameters: {'n_estimators': 1119, 'learning_rate': 0.13336014764218918, 'reg_alpha': 0.6872291384741406, 'min_child_weight': 0, 'max_depth': 12, 'min_child_samples': 90}. Best is trial 5 with value: 0.7844445381445199.\n",
      "[I 2024-11-09 14:27:56,551] Trial 8 finished with value: 0.7681985067331313 and parameters: {'n_estimators': 1495, 'learning_rate': 0.03500085691127572, 'reg_alpha': 0.02698043872427262, 'min_child_weight': 3, 'max_depth': 7, 'min_child_samples': 168}. Best is trial 5 with value: 0.7844445381445199.\n",
      "[I 2024-11-09 14:28:07,145] Trial 9 finished with value: 0.7300485210223927 and parameters: {'n_estimators': 681, 'learning_rate': 0.1498315322641379, 'reg_alpha': 0.02068412180618091, 'min_child_weight': 0, 'max_depth': 21, 'min_child_samples': 164}. Best is trial 5 with value: 0.7844445381445199.\n",
      "[I 2024-11-09 14:28:16,146] Trial 10 finished with value: 0.7796857455636919 and parameters: {'n_estimators': 461, 'learning_rate': 0.007063310319580254, 'reg_alpha': 0.568151479274533, 'min_child_weight': 5, 'max_depth': 34, 'min_child_samples': 5}. Best is trial 5 with value: 0.7844445381445199.\n",
      "[I 2024-11-09 14:28:24,030] Trial 11 finished with value: 0.7777231194004445 and parameters: {'n_estimators': 457, 'learning_rate': 0.012239496309264408, 'reg_alpha': 0.5680824259301909, 'min_child_weight': 5, 'max_depth': 37, 'min_child_samples': 12}. Best is trial 5 with value: 0.7844445381445199.\n",
      "[I 2024-11-09 14:28:31,960] Trial 12 finished with value: 0.7841556295786152 and parameters: {'n_estimators': 477, 'learning_rate': 0.06414138607964834, 'reg_alpha': 0.9897997768370685, 'min_child_weight': 5, 'max_depth': 32, 'min_child_samples': 2}. Best is trial 5 with value: 0.7844445381445199.\n",
      "[I 2024-11-09 14:28:39,828] Trial 13 finished with value: 0.7671802992468075 and parameters: {'n_estimators': 393, 'learning_rate': 0.06936106037499946, 'reg_alpha': 0.9187186884339915, 'min_child_weight': 4, 'max_depth': 31, 'min_child_samples': 74}. Best is trial 5 with value: 0.7844445381445199.\n",
      "[I 2024-11-09 14:28:48,248] Trial 14 finished with value: 0.771296855893969 and parameters: {'n_estimators': 639, 'learning_rate': 0.06264658273850032, 'reg_alpha': 0.9956616656198826, 'min_child_weight': 4, 'max_depth': 50, 'min_child_samples': 39}. Best is trial 5 with value: 0.7844445381445199.\n",
      "[I 2024-11-09 14:28:55,638] Trial 15 finished with value: 0.7731856932478164 and parameters: {'n_estimators': 314, 'learning_rate': 0.07463018042856552, 'reg_alpha': 0.7801128908069527, 'min_child_weight': 4, 'max_depth': 24, 'min_child_samples': 119}. Best is trial 5 with value: 0.7844445381445199.\n",
      "[I 2024-11-09 14:29:00,012] Trial 16 finished with value: 0.7830081940715963 and parameters: {'n_estimators': 603, 'learning_rate': 0.03753903046844345, 'reg_alpha': 0.8265726580596492, 'min_child_weight': 5, 'max_depth': 3, 'min_child_samples': 93}. Best is trial 5 with value: 0.7844445381445199.\n",
      "[I 2024-11-09 14:29:07,842] Trial 17 finished with value: 0.737860764811249 and parameters: {'n_estimators': 925, 'learning_rate': 0.098116617591115, 'reg_alpha': 0.6763376737287664, 'min_child_weight': 3, 'max_depth': 28, 'min_child_samples': 193}. Best is trial 5 with value: 0.7844445381445199.\n",
      "[I 2024-11-09 14:29:16,112] Trial 18 finished with value: 0.7745045218094734 and parameters: {'n_estimators': 556, 'learning_rate': 0.0543610920829279, 'reg_alpha': 0.8715294322857345, 'min_child_weight': 4, 'max_depth': 19, 'min_child_samples': 38}. Best is trial 5 with value: 0.7844445381445199.\n",
      "[I 2024-11-09 14:29:23,098] Trial 19 finished with value: 0.7301094260714214 and parameters: {'n_estimators': 270, 'learning_rate': 0.12547295872850178, 'reg_alpha': 0.4248565639948992, 'min_child_weight': 5, 'max_depth': 43, 'min_child_samples': 123}. Best is trial 5 with value: 0.7844445381445199.\n",
      "[I 2024-11-09 14:29:30,545] Trial 20 finished with value: 0.7692987017854549 and parameters: {'n_estimators': 1016, 'learning_rate': 0.07842105638293419, 'reg_alpha': 0.69680057646372, 'min_child_weight': 3, 'max_depth': 27, 'min_child_samples': 142}. Best is trial 5 with value: 0.7844445381445199.\n",
      "[I 2024-11-09 14:29:35,676] Trial 21 finished with value: 0.7677979389106742 and parameters: {'n_estimators': 712, 'learning_rate': 0.03457273280992007, 'reg_alpha': 0.8652075399078564, 'min_child_weight': 5, 'max_depth': 5, 'min_child_samples': 94}. Best is trial 5 with value: 0.7844445381445199.\n",
      "[I 2024-11-09 14:29:40,347] Trial 22 finished with value: 0.7713226234147118 and parameters: {'n_estimators': 538, 'learning_rate': 0.04985901244480838, 'reg_alpha': 0.9900503162462492, 'min_child_weight': 5, 'max_depth': 4, 'min_child_samples': 51}. Best is trial 5 with value: 0.7844445381445199.\n",
      "[I 2024-11-09 14:29:48,986] Trial 23 finished with value: 0.7923575095144618 and parameters: {'n_estimators': 364, 'learning_rate': 0.027714835801900768, 'reg_alpha': 0.8002319151831893, 'min_child_weight': 4, 'max_depth': 17, 'min_child_samples': 24}. Best is trial 23 with value: 0.7923575095144618.\n",
      "[I 2024-11-09 14:29:59,920] Trial 24 finished with value: 0.7885790539728051 and parameters: {'n_estimators': 380, 'learning_rate': 0.02069326631983496, 'reg_alpha': 0.7424249163461756, 'min_child_weight': 4, 'max_depth': 15, 'min_child_samples': 23}. Best is trial 23 with value: 0.7923575095144618.\n",
      "[I 2024-11-09 14:30:04,320] Trial 25 finished with value: 0.7803990373878917 and parameters: {'n_estimators': 117, 'learning_rate': 0.018130393669643446, 'reg_alpha': 0.754261768502692, 'min_child_weight': 4, 'max_depth': 17, 'min_child_samples': 24}. Best is trial 23 with value: 0.7923575095144618.\n",
      "[I 2024-11-09 14:30:12,344] Trial 26 finished with value: 0.784001414871139 and parameters: {'n_estimators': 363, 'learning_rate': 0.022785650497098575, 'reg_alpha': 0.5609369506877722, 'min_child_weight': 3, 'max_depth': 15, 'min_child_samples': 26}. Best is trial 23 with value: 0.7923575095144618.\n",
      "[I 2024-11-09 14:30:20,628] Trial 27 finished with value: 0.7748035812168829 and parameters: {'n_estimators': 249, 'learning_rate': 0.023155430403574772, 'reg_alpha': 0.6277848083807115, 'min_child_weight': 4, 'max_depth': 23, 'min_child_samples': 79}. Best is trial 23 with value: 0.7923575095144618.\n",
      "[I 2024-11-09 14:30:28,154] Trial 28 finished with value: 0.7791614155582729 and parameters: {'n_estimators': 365, 'learning_rate': 0.04876557240982238, 'reg_alpha': 0.89457986955889, 'min_child_weight': 3, 'max_depth': 8, 'min_child_samples': 108}. Best is trial 23 with value: 0.7923575095144618.\n",
      "[I 2024-11-09 14:30:32,628] Trial 29 finished with value: 0.7532962905701805 and parameters: {'n_estimators': 124, 'learning_rate': 0.08327228701536704, 'reg_alpha': 0.44091280019491297, 'min_child_weight': 4, 'max_depth': 17, 'min_child_samples': 146}. Best is trial 23 with value: 0.7923575095144618.\n",
      "[I 2024-11-09 14:30:39,744] Trial 30 finished with value: 0.7835133936449485 and parameters: {'n_estimators': 217, 'learning_rate': 0.007897521626275803, 'reg_alpha': 0.7541171322338756, 'min_child_weight': 1, 'max_depth': 9, 'min_child_samples': 57}. Best is trial 23 with value: 0.7923575095144618.\n",
      "[I 2024-11-09 14:30:47,567] Trial 31 finished with value: 0.7780276446455873 and parameters: {'n_estimators': 488, 'learning_rate': 0.027352938010527406, 'reg_alpha': 0.9254087837475639, 'min_child_weight': 4, 'max_depth': 33, 'min_child_samples': 14}. Best is trial 23 with value: 0.7923575095144618.\n",
      "[I 2024-11-09 14:30:55,162] Trial 32 finished with value: 0.7806723292745584 and parameters: {'n_estimators': 419, 'learning_rate': 0.058710587664939404, 'reg_alpha': 0.8570692059002207, 'min_child_weight': 5, 'max_depth': 25, 'min_child_samples': 4}. Best is trial 23 with value: 0.7923575095144618.\n",
      "[I 2024-11-09 14:31:03,027] Trial 33 finished with value: 0.7785933588509872 and parameters: {'n_estimators': 758, 'learning_rate': 0.04268032738319257, 'reg_alpha': 0.9532551571384218, 'min_child_weight': 4, 'max_depth': 16, 'min_child_samples': 32}. Best is trial 23 with value: 0.7923575095144618.\n",
      "[I 2024-11-09 14:31:10,867] Trial 34 finished with value: 0.7307957791239356 and parameters: {'n_estimators': 555, 'learning_rate': 0.08918581539359399, 'reg_alpha': 0.27031851970330445, 'min_child_weight': 2, 'max_depth': 19, 'min_child_samples': 48}. Best is trial 23 with value: 0.7923575095144618.\n",
      "[I 2024-11-09 14:31:17,794] Trial 35 finished with value: 0.7520938062688474 and parameters: {'n_estimators': 817, 'learning_rate': 0.11453485765484014, 'reg_alpha': 0.9904755538229726, 'min_child_weight': 5, 'max_depth': 39, 'min_child_samples': 20}. Best is trial 23 with value: 0.7923575095144618.\n",
      "[I 2024-11-09 14:31:25,272] Trial 36 finished with value: 0.7684999086424265 and parameters: {'n_estimators': 303, 'learning_rate': 0.06339217799691615, 'reg_alpha': 0.8134517521189351, 'min_child_weight': 3, 'max_depth': 12, 'min_child_samples': 3}. Best is trial 23 with value: 0.7923575095144618.\n",
      "[I 2024-11-09 14:31:32,003] Trial 37 finished with value: 0.7789193570300824 and parameters: {'n_estimators': 197, 'learning_rate': 0.04489178956877797, 'reg_alpha': 0.7257444762404072, 'min_child_weight': 4, 'max_depth': 21, 'min_child_samples': 67}. Best is trial 23 with value: 0.7923575095144618.\n",
      "[I 2024-11-09 14:31:39,961] Trial 38 finished with value: 0.7828403147697868 and parameters: {'n_estimators': 494, 'learning_rate': 0.027724763383836483, 'reg_alpha': 0.6260624936860282, 'min_child_weight': 2, 'max_depth': 29, 'min_child_samples': 134}. Best is trial 23 with value: 0.7923575095144618.\n",
      "[I 2024-11-09 14:31:50,435] Trial 39 finished with value: 0.7851894537441769 and parameters: {'n_estimators': 330, 'learning_rate': 0.015338059704527209, 'reg_alpha': 0.35026426804907956, 'min_child_weight': 5, 'max_depth': 14, 'min_child_samples': 179}. Best is trial 23 with value: 0.7923575095144618.\n",
      "[I 2024-11-09 14:31:59,734] Trial 40 finished with value: 0.7880597993881385 and parameters: {'n_estimators': 335, 'learning_rate': 0.017314578717789793, 'reg_alpha': 0.21642095276830428, 'min_child_weight': 1, 'max_depth': 12, 'min_child_samples': 180}. Best is trial 23 with value: 0.7923575095144618.\n",
      "[I 2024-11-09 14:32:10,455] Trial 41 finished with value: 0.7870290985584243 and parameters: {'n_estimators': 333, 'learning_rate': 0.016370798974107866, 'reg_alpha': 0.3145040983480666, 'min_child_weight': 1, 'max_depth': 13, 'min_child_samples': 186}. Best is trial 23 with value: 0.7923575095144618.\n",
      "[I 2024-11-09 14:32:20,163] Trial 42 finished with value: 0.7946523805284996 and parameters: {'n_estimators': 313, 'learning_rate': 0.014915730653312153, 'reg_alpha': 0.2862900391405942, 'min_child_weight': 1, 'max_depth': 12, 'min_child_samples': 182}. Best is trial 42 with value: 0.7946523805284996.\n",
      "[I 2024-11-09 14:32:26,850] Trial 43 finished with value: 0.7847670225707865 and parameters: {'n_estimators': 210, 'learning_rate': 0.030186348390604627, 'reg_alpha': 0.17098354772809324, 'min_child_weight': 1, 'max_depth': 11, 'min_child_samples': 198}. Best is trial 42 with value: 0.7946523805284996.\n",
      "[I 2024-11-09 14:32:31,377] Trial 44 finished with value: 0.7682469184387694 and parameters: {'n_estimators': 160, 'learning_rate': 0.005185184984669916, 'reg_alpha': 0.10380256074206465, 'min_child_weight': 1, 'max_depth': 6, 'min_child_samples': 186}. Best is trial 42 with value: 0.7946523805284996.\n",
      "[I 2024-11-09 14:32:42,269] Trial 45 finished with value: 0.7798016994070347 and parameters: {'n_estimators': 431, 'learning_rate': 0.01943520828703339, 'reg_alpha': 0.2853633949278708, 'min_child_weight': 0, 'max_depth': 9, 'min_child_samples': 158}. Best is trial 42 with value: 0.7946523805284996.\n",
      "[I 2024-11-09 14:32:49,320] Trial 46 finished with value: 0.7266956199899741 and parameters: {'n_estimators': 275, 'learning_rate': 0.1720169775110521, 'reg_alpha': 0.1910548131094882, 'min_child_weight': 1, 'max_depth': 13, 'min_child_samples': 176}. Best is trial 42 with value: 0.7946523805284996.\n",
      "[I 2024-11-09 14:32:57,791] Trial 47 finished with value: 0.7900887964381478 and parameters: {'n_estimators': 386, 'learning_rate': 0.011672297112532933, 'reg_alpha': 0.34580735041682836, 'min_child_weight': 2, 'max_depth': 19, 'min_child_samples': 159}. Best is trial 42 with value: 0.7946523805284996.\n",
      "[I 2024-11-09 14:33:06,849] Trial 48 finished with value: 0.7874694889129386 and parameters: {'n_estimators': 1235, 'learning_rate': 0.03928549575013203, 'reg_alpha': 0.48626845467071994, 'min_child_weight': 2, 'max_depth': 19, 'min_child_samples': 156}. Best is trial 42 with value: 0.7946523805284996.\n",
      "[I 2024-11-09 14:33:17,866] Trial 49 finished with value: 0.7881023548390623 and parameters: {'n_estimators': 616, 'learning_rate': 0.01170945437861735, 'reg_alpha': 0.37186636991598326, 'min_child_weight': 2, 'max_depth': 22, 'min_child_samples': 169}. Best is trial 42 with value: 0.7946523805284996.\n",
      "[I 2024-11-09 14:33:28,936] Trial 50 finished with value: 0.7878450700486147 and parameters: {'n_estimators': 597, 'learning_rate': 0.0103239766276329, 'reg_alpha': 0.3919108370357335, 'min_child_weight': 2, 'max_depth': 22, 'min_child_samples': 162}. Best is trial 42 with value: 0.7946523805284996.\n",
      "[I 2024-11-09 14:33:37,862] Trial 51 finished with value: 0.7784617883284063 and parameters: {'n_estimators': 397, 'learning_rate': 0.03188171957090248, 'reg_alpha': 0.2081450156903505, 'min_child_weight': 2, 'max_depth': 18, 'min_child_samples': 188}. Best is trial 42 with value: 0.7946523805284996.\n",
      "[I 2024-11-09 14:33:50,449] Trial 52 finished with value: 0.7871821420149576 and parameters: {'n_estimators': 649, 'learning_rate': 0.01339136799250297, 'reg_alpha': 0.35327379210890536, 'min_child_weight': 0, 'max_depth': 25, 'min_child_samples': 170}. Best is trial 42 with value: 0.7946523805284996.\n",
      "[I 2024-11-09 14:33:59,380] Trial 53 finished with value: 0.7865937836246625 and parameters: {'n_estimators': 885, 'learning_rate': 0.02385864512261774, 'reg_alpha': 0.2314137006113923, 'min_child_weight': 1, 'max_depth': 21, 'min_child_samples': 152}. Best is trial 42 with value: 0.7946523805284996.\n",
      "[I 2024-11-09 14:34:15,073] Trial 54 finished with value: 0.7894621771837192 and parameters: {'n_estimators': 517, 'learning_rate': 0.0073249885562553674, 'reg_alpha': 0.4690535913797704, 'min_child_weight': 2, 'max_depth': 15, 'min_child_samples': 200}. Best is trial 42 with value: 0.7946523805284996.\n",
      "[I 2024-11-09 14:34:27,520] Trial 55 finished with value: 0.7883170841785861 and parameters: {'n_estimators': 449, 'learning_rate': 0.0070848842422651034, 'reg_alpha': 0.49918198745717085, 'min_child_weight': 2, 'max_depth': 15, 'min_child_samples': 199}. Best is trial 42 with value: 0.7946523805284996.\n",
      "[I 2024-11-09 14:34:40,617] Trial 56 finished with value: 0.7858020179872911 and parameters: {'n_estimators': 420, 'learning_rate': 0.005853158828624578, 'reg_alpha': 0.4895928653944156, 'min_child_weight': 2, 'max_depth': 16, 'min_child_samples': 198}. Best is trial 42 with value: 0.7946523805284996.\n",
      "[I 2024-11-09 14:34:48,917] Trial 57 finished with value: 0.782592399986882 and parameters: {'n_estimators': 541, 'learning_rate': 0.031620323454767243, 'reg_alpha': 0.5247014079973183, 'min_child_weight': 3, 'max_depth': 15, 'min_child_samples': 195}. Best is trial 42 with value: 0.7946523805284996.\n",
      "[I 2024-11-09 14:34:57,332] Trial 58 finished with value: 0.7786960385169777 and parameters: {'n_estimators': 1467, 'learning_rate': 0.02300856949548171, 'reg_alpha': 0.4596865278486566, 'min_child_weight': 2, 'max_depth': 10, 'min_child_samples': 190}. Best is trial 42 with value: 0.7946523805284996.\n",
      "[I 2024-11-09 14:35:04,573] Trial 59 finished with value: 0.7750760922695876 and parameters: {'n_estimators': 501, 'learning_rate': 0.03652745968618506, 'reg_alpha': 0.3156069956518439, 'min_child_weight': 3, 'max_depth': 19, 'min_child_samples': 108}. Best is trial 42 with value: 0.7946523805284996.\n",
      "[I 2024-11-09 14:35:11,285] Trial 60 finished with value: 0.7272437654312311 and parameters: {'n_estimators': 257, 'learning_rate': 0.1429809605590045, 'reg_alpha': 0.6268463872727525, 'min_child_weight': 2, 'max_depth': 14, 'min_child_samples': 199}. Best is trial 42 with value: 0.7946523805284996.\n",
      "[I 2024-11-09 14:35:22,525] Trial 61 finished with value: 0.7854135530912436 and parameters: {'n_estimators': 697, 'learning_rate': 0.011278933365026427, 'reg_alpha': 0.4010714558496331, 'min_child_weight': 2, 'max_depth': 17, 'min_child_samples': 166}. Best is trial 42 with value: 0.7946523805284996.\n",
      "[I 2024-11-09 14:35:40,232] Trial 62 finished with value: 0.7884806688936051 and parameters: {'n_estimators': 610, 'learning_rate': 0.0051111523684614765, 'reg_alpha': 0.37977295946006673, 'min_child_weight': 2, 'max_depth': 23, 'min_child_samples': 173}. Best is trial 42 with value: 0.7946523805284996.\n",
      "[I 2024-11-09 14:35:54,506] Trial 63 finished with value: 0.7908622124774144 and parameters: {'n_estimators': 443, 'learning_rate': 0.005411855181520044, 'reg_alpha': 0.5536255909747615, 'min_child_weight': 3, 'max_depth': 20, 'min_child_samples': 181}. Best is trial 42 with value: 0.7946523805284996.\n",
      "[I 2024-11-09 14:36:02,407] Trial 64 finished with value: 0.7783969791095682 and parameters: {'n_estimators': 749, 'learning_rate': 0.02061280058830148, 'reg_alpha': 0.5382336255669098, 'min_child_weight': 3, 'max_depth': 25, 'min_child_samples': 181}. Best is trial 42 with value: 0.7946523805284996.\n",
      "[I 2024-11-09 14:36:12,220] Trial 65 finished with value: 0.7788201911169205 and parameters: {'n_estimators': 374, 'learning_rate': 0.02557537156856619, 'reg_alpha': 0.3087398393942938, 'min_child_weight': 3, 'max_depth': 20, 'min_child_samples': 173}. Best is trial 42 with value: 0.7946523805284996.\n",
      "[I 2024-11-09 14:36:21,783] Trial 66 finished with value: 0.7821141391852153 and parameters: {'n_estimators': 572, 'learning_rate': 0.013334197988333442, 'reg_alpha': 0.34586000652233806, 'min_child_weight': 3, 'max_depth': 23, 'min_child_samples': 41}. Best is trial 42 with value: 0.7946523805284996.\n",
      "[I 2024-11-09 14:36:27,929] Trial 67 finished with value: 0.7291302602831928 and parameters: {'n_estimators': 528, 'learning_rate': 0.1925601789460081, 'reg_alpha': 0.5931550935117448, 'min_child_weight': 4, 'max_depth': 27, 'min_child_samples': 83}. Best is trial 42 with value: 0.7946523805284996.\n",
      "[I 2024-11-09 14:36:35,867] Trial 68 finished with value: 0.7743460125152067 and parameters: {'n_estimators': 456, 'learning_rate': 0.05199258131686882, 'reg_alpha': 0.4573782446130308, 'min_child_weight': 3, 'max_depth': 30, 'min_child_samples': 12}. Best is trial 42 with value: 0.7946523805284996.\n",
      "[I 2024-11-09 14:36:43,777] Trial 69 finished with value: 0.7840966766144913 and parameters: {'n_estimators': 387, 'learning_rate': 0.03745931131522737, 'reg_alpha': 0.6633599326790547, 'min_child_weight': 2, 'max_depth': 18, 'min_child_samples': 133}. Best is trial 42 with value: 0.7946523805284996.\n",
      "[I 2024-11-09 14:36:56,015] Trial 70 finished with value: 0.7880847860749195 and parameters: {'n_estimators': 649, 'learning_rate': 0.005521402887093839, 'reg_alpha': 0.2559986103141953, 'min_child_weight': 4, 'max_depth': 20, 'min_child_samples': 190}. Best is trial 42 with value: 0.7946523805284996.\n",
      "[I 2024-11-09 14:37:06,570] Trial 71 finished with value: 0.7945602421209949 and parameters: {'n_estimators': 457, 'learning_rate': 0.019081077184899858, 'reg_alpha': 0.4350546398806383, 'min_child_weight': 2, 'max_depth': 16, 'min_child_samples': 184}. Best is trial 42 with value: 0.7946523805284996.\n",
      "[I 2024-11-09 14:37:15,527] Trial 72 finished with value: 0.7937805794100331 and parameters: {'n_estimators': 287, 'learning_rate': 0.01700212510250083, 'reg_alpha': 0.3938070284584142, 'min_child_weight': 2, 'max_depth': 17, 'min_child_samples': 184}. Best is trial 42 with value: 0.7946523805284996.\n",
      "[I 2024-11-09 14:37:24,652] Trial 73 finished with value: 0.7907193198623859 and parameters: {'n_estimators': 296, 'learning_rate': 0.01721984841859385, 'reg_alpha': 0.41890110660224705, 'min_child_weight': 2, 'max_depth': 16, 'min_child_samples': 183}. Best is trial 42 with value: 0.7946523805284996.\n",
      "[I 2024-11-09 14:37:32,627] Trial 74 finished with value: 0.7858582380325483 and parameters: {'n_estimators': 298, 'learning_rate': 0.016643273749972994, 'reg_alpha': 0.42565961752750714, 'min_child_weight': 2, 'max_depth': 17, 'min_child_samples': 183}. Best is trial 42 with value: 0.7946523805284996.\n",
      "[I 2024-11-09 14:37:40,408] Trial 75 finished with value: 0.7798134119164633 and parameters: {'n_estimators': 248, 'learning_rate': 0.02796654173101033, 'reg_alpha': 0.42346540421625695, 'min_child_weight': 2, 'max_depth': 10, 'min_child_samples': 176}. Best is trial 42 with value: 0.7946523805284996.\n",
      "[I 2024-11-09 14:37:46,567] Trial 76 finished with value: 0.7639109474483127 and parameters: {'n_estimators': 188, 'learning_rate': 0.04362612163239504, 'reg_alpha': 0.4584430735991449, 'min_child_weight': 1, 'max_depth': 13, 'min_child_samples': 193}. Best is trial 42 with value: 0.7946523805284996.\n",
      "[I 2024-11-09 14:37:54,401] Trial 77 finished with value: 0.7918597278637476 and parameters: {'n_estimators': 350, 'learning_rate': 0.0200954916523852, 'reg_alpha': 0.5284053755543485, 'min_child_weight': 1, 'max_depth': 16, 'min_child_samples': 152}. Best is trial 42 with value: 0.7946523805284996.\n",
      "[I 2024-11-09 14:37:58,260] Trial 78 finished with value: 0.7864075547247482 and parameters: {'n_estimators': 103, 'learning_rate': 0.033767032817401316, 'reg_alpha': 0.5373811113080825, 'min_child_weight': 1, 'max_depth': 16, 'min_child_samples': 143}. Best is trial 42 with value: 0.7946523805284996.\n",
      "[I 2024-11-09 14:38:03,460] Trial 79 finished with value: 0.7530464237023711 and parameters: {'n_estimators': 150, 'learning_rate': 0.11142911809643846, 'reg_alpha': 0.577815099918398, 'min_child_weight': 1, 'max_depth': 18, 'min_child_samples': 153}. Best is trial 42 with value: 0.7946523805284996.\n",
      "[I 2024-11-09 14:38:12,538] Trial 80 finished with value: 0.7768317974329303 and parameters: {'n_estimators': 299, 'learning_rate': 0.019998676756440136, 'reg_alpha': 0.5219869272005916, 'min_child_weight': 1, 'max_depth': 47, 'min_child_samples': 164}. Best is trial 42 with value: 0.7946523805284996.\n",
      "[I 2024-11-09 14:38:20,765] Trial 81 finished with value: 0.7860226035815292 and parameters: {'n_estimators': 348, 'learning_rate': 0.01157735773972214, 'reg_alpha': 0.4079499992127333, 'min_child_weight': 2, 'max_depth': 14, 'min_child_samples': 185}. Best is trial 42 with value: 0.7946523805284996.\n",
      "[I 2024-11-09 14:38:28,330] Trial 82 finished with value: 0.7761919040011493 and parameters: {'n_estimators': 236, 'learning_rate': 0.0267294908662237, 'reg_alpha': 0.47487334926617636, 'min_child_weight': 2, 'max_depth': 12, 'min_child_samples': 178}. Best is trial 42 with value: 0.7946523805284996.\n",
      "[I 2024-11-09 14:38:37,774] Trial 83 finished with value: 0.7868729317660434 and parameters: {'n_estimators': 417, 'learning_rate': 0.016950401603136128, 'reg_alpha': 0.3335096766743033, 'min_child_weight': 1, 'max_depth': 16, 'min_child_samples': 192}. Best is trial 42 with value: 0.7946523805284996.\n",
      "[I 2024-11-09 14:38:46,953] Trial 84 finished with value: 0.7852140500139769 and parameters: {'n_estimators': 276, 'learning_rate': 0.011226375074992757, 'reg_alpha': 0.2943740466915432, 'min_child_weight': 2, 'max_depth': 20, 'min_child_samples': 183}. Best is trial 42 with value: 0.7946523805284996.\n",
      "[I 2024-11-09 14:38:56,135] Trial 85 finished with value: 0.7732567491383497 and parameters: {'n_estimators': 336, 'learning_rate': 0.020384633560450005, 'reg_alpha': 0.3681017638389212, 'min_child_weight': 0, 'max_depth': 7, 'min_child_samples': 116}. Best is trial 42 with value: 0.7946523805284996.\n",
      "[I 2024-11-09 14:39:05,259] Trial 86 finished with value: 0.768454620272636 and parameters: {'n_estimators': 455, 'learning_rate': 0.040806060722779425, 'reg_alpha': 0.43330321113735626, 'min_child_weight': 2, 'max_depth': 11, 'min_child_samples': 160}. Best is trial 42 with value: 0.7946523805284996.\n",
      "[I 2024-11-09 14:39:15,296] Trial 87 finished with value: 0.779659587625968 and parameters: {'n_estimators': 505, 'learning_rate': 0.028628306436574547, 'reg_alpha': 0.6065694274797124, 'min_child_weight': 1, 'max_depth': 18, 'min_child_samples': 168}. Best is trial 42 with value: 0.7946523805284996.\n",
      "[I 2024-11-09 14:39:25,812] Trial 88 finished with value: 0.789866258759005 and parameters: {'n_estimators': 393, 'learning_rate': 0.015272874279863622, 'reg_alpha': 0.6571030690923685, 'min_child_weight': 2, 'max_depth': 15, 'min_child_samples': 151}. Best is trial 42 with value: 0.7946523805284996.\n",
      "[I 2024-11-09 14:39:35,474] Trial 89 finished with value: 0.7894246971535479 and parameters: {'n_estimators': 307, 'learning_rate': 0.01745907139988088, 'reg_alpha': 0.6548532745804193, 'min_child_weight': 3, 'max_depth': 13, 'min_child_samples': 137}. Best is trial 42 with value: 0.7946523805284996.\n",
      "[I 2024-11-09 14:39:44,050] Trial 90 finished with value: 0.7952770476980234 and parameters: {'n_estimators': 397, 'learning_rate': 0.03295268192279781, 'reg_alpha': 0.7957477031833287, 'min_child_weight': 2, 'max_depth': 21, 'min_child_samples': 149}. Best is trial 90 with value: 0.7952770476980234.\n",
      "[I 2024-11-09 14:39:52,984] Trial 91 finished with value: 0.7919577225259666 and parameters: {'n_estimators': 372, 'learning_rate': 0.03346867418017253, 'reg_alpha': 0.7015562257267145, 'min_child_weight': 2, 'max_depth': 17, 'min_child_samples': 150}. Best is trial 90 with value: 0.7952770476980234.\n",
      "[I 2024-11-09 14:40:00,322] Trial 92 finished with value: 0.7792613623053967 and parameters: {'n_estimators': 226, 'learning_rate': 0.04844622602368448, 'reg_alpha': 0.7775640449734694, 'min_child_weight': 2, 'max_depth': 22, 'min_child_samples': 146}. Best is trial 90 with value: 0.7952770476980234.\n",
      "[I 2024-11-09 14:40:07,514] Trial 93 finished with value: 0.7787495256433682 and parameters: {'n_estimators': 363, 'learning_rate': 0.0332878918447, 'reg_alpha': 0.8119978955087594, 'min_child_weight': 2, 'max_depth': 20, 'min_child_samples': 128}. Best is trial 90 with value: 0.7952770476980234.\n",
      "[I 2024-11-09 14:40:13,580] Trial 94 finished with value: 0.7749753646885019 and parameters: {'n_estimators': 181, 'learning_rate': 0.022812143905077017, 'reg_alpha': 0.715357376769484, 'min_child_weight': 2, 'max_depth': 17, 'min_child_samples': 160}. Best is trial 90 with value: 0.7952770476980234.\n",
      "[I 2024-11-09 14:40:22,009] Trial 95 finished with value: 0.7736659061343878 and parameters: {'n_estimators': 471, 'learning_rate': 0.05657985342749208, 'reg_alpha': 0.8376428463293082, 'min_child_weight': 1, 'max_depth': 19, 'min_child_samples': 139}. Best is trial 90 with value: 0.7952770476980234.\n",
      "[I 2024-11-09 14:40:32,010] Trial 96 finished with value: 0.7801725955389394 and parameters: {'n_estimators': 420, 'learning_rate': 0.029907500694048825, 'reg_alpha': 0.7826130047486403, 'min_child_weight': 2, 'max_depth': 21, 'min_child_samples': 174}. Best is trial 90 with value: 0.7952770476980234.\n",
      "[I 2024-11-09 14:40:40,634] Trial 97 finished with value: 0.7860706248701863 and parameters: {'n_estimators': 279, 'learning_rate': 0.02496570713713475, 'reg_alpha': 0.9235278655045064, 'min_child_weight': 0, 'max_depth': 16, 'min_child_samples': 149}. Best is trial 90 with value: 0.7952770476980234.\n",
      "[I 2024-11-09 14:40:49,000] Trial 98 finished with value: 0.7736713719721211 and parameters: {'n_estimators': 353, 'learning_rate': 0.037275846082745284, 'reg_alpha': 0.8786733577400305, 'min_child_weight': 2, 'max_depth': 17, 'min_child_samples': 157}. Best is trial 90 with value: 0.7952770476980234.\n",
      "[I 2024-11-09 14:40:59,245] Trial 99 finished with value: 0.7899494175759478 and parameters: {'n_estimators': 320, 'learning_rate': 0.010069462674163174, 'reg_alpha': 0.5063792522934402, 'min_child_weight': 1, 'max_depth': 18, 'min_child_samples': 164}. Best is trial 90 with value: 0.7952770476980234.\n",
      "[I 2024-11-09 14:41:05,909] Trial 100 finished with value: 0.7241212104175744 and parameters: {'n_estimators': 374, 'learning_rate': 0.17287884691000355, 'reg_alpha': 0.7088443842049623, 'min_child_weight': 3, 'max_depth': 24, 'min_child_samples': 171}. Best is trial 90 with value: 0.7952770476980234.\n",
      "[I 2024-11-09 14:41:16,683] Trial 101 finished with value: 0.7866390719944529 and parameters: {'n_estimators': 1016, 'learning_rate': 0.009718872662217142, 'reg_alpha': 0.5661629423055945, 'min_child_weight': 1, 'max_depth': 18, 'min_child_samples': 166}. Best is trial 90 with value: 0.7952770476980234.\n",
      "[I 2024-11-09 14:41:26,712] Trial 102 finished with value: 0.7895113697233193 and parameters: {'n_estimators': 429, 'learning_rate': 0.014183257673790077, 'reg_alpha': 0.7498603568897118, 'min_child_weight': 1, 'max_depth': 14, 'min_child_samples': 156}. Best is trial 90 with value: 0.7952770476980234.\n",
      "[I 2024-11-09 14:41:36,263] Trial 103 finished with value: 0.7827837043075486 and parameters: {'n_estimators': 319, 'learning_rate': 0.02174646663909721, 'reg_alpha': 0.8342032138056736, 'min_child_weight': 1, 'max_depth': 19, 'min_child_samples': 179}. Best is trial 90 with value: 0.7952770476980234.\n",
      "[I 2024-11-09 14:41:45,597] Trial 104 finished with value: 0.7880695598126624 and parameters: {'n_estimators': 399, 'learning_rate': 0.010129329020537634, 'reg_alpha': 0.4406821233664637, 'min_child_weight': 1, 'max_depth': 21, 'min_child_samples': 164}. Best is trial 90 with value: 0.7952770476980234.\n",
      "[I 2024-11-09 14:41:52,510] Trial 105 finished with value: 0.7151185852537945 and parameters: {'n_estimators': 283, 'learning_rate': 0.16621719168631152, 'reg_alpha': 0.40185712183887534, 'min_child_weight': 2, 'max_depth': 16, 'min_child_samples': 184}. Best is trial 90 with value: 0.7952770476980234.\n",
      "[I 2024-11-09 14:42:02,634] Trial 106 finished with value: 0.7743881775491496 and parameters: {'n_estimators': 324, 'learning_rate': 0.02498315033345403, 'reg_alpha': 0.5114793863919237, 'min_child_weight': 2, 'max_depth': 20, 'min_child_samples': 170}. Best is trial 90 with value: 0.7952770476980234.\n",
      "[I 2024-11-09 14:42:09,589] Trial 107 finished with value: 0.7499789174830286 and parameters: {'n_estimators': 237, 'learning_rate': 0.07349538312571582, 'reg_alpha': 0.32958730417253235, 'min_child_weight': 2, 'max_depth': 14, 'min_child_samples': 154}. Best is trial 90 with value: 0.7952770476980234.\n",
      "[I 2024-11-09 14:42:20,906] Trial 108 finished with value: 0.7819974045079107 and parameters: {'n_estimators': 479, 'learning_rate': 0.031155835265139747, 'reg_alpha': 0.546087682534522, 'min_child_weight': 1, 'max_depth': 22, 'min_child_samples': 176}. Best is trial 90 with value: 0.7952770476980234.\n",
      "[I 2024-11-09 14:42:33,474] Trial 109 finished with value: 0.7899205267193573 and parameters: {'n_estimators': 443, 'learning_rate': 0.014611490974008164, 'reg_alpha': 0.3798584333949843, 'min_child_weight': 3, 'max_depth': 18, 'min_child_samples': 188}. Best is trial 90 with value: 0.7952770476980234.\n",
      "[I 2024-11-09 14:42:46,865] Trial 110 finished with value: 0.7977433117666993 and parameters: {'n_estimators': 402, 'learning_rate': 0.020231285075910963, 'reg_alpha': 0.504656746519248, 'min_child_weight': 2, 'max_depth': 24, 'min_child_samples': 148}. Best is trial 110 with value: 0.7977433117666993.\n",
      "[I 2024-11-09 14:42:58,692] Trial 111 finished with value: 0.785262852136596 and parameters: {'n_estimators': 346, 'learning_rate': 0.019423909441144936, 'reg_alpha': 0.4505112190572877, 'min_child_weight': 2, 'max_depth': 23, 'min_child_samples': 140}. Best is trial 110 with value: 0.7977433117666993.\n",
      "[I 2024-11-09 14:43:13,320] Trial 112 finished with value: 0.7873488500658243 and parameters: {'n_estimators': 402, 'learning_rate': 0.008899647592896274, 'reg_alpha': 0.49785212128031076, 'min_child_weight': 2, 'max_depth': 17, 'min_child_samples': 149}. Best is trial 110 with value: 0.7977433117666993.\n",
      "[I 2024-11-09 14:43:25,506] Trial 113 finished with value: 0.7808331810707108 and parameters: {'n_estimators': 369, 'learning_rate': 0.01778386258513357, 'reg_alpha': 0.41859636160814445, 'min_child_weight': 2, 'max_depth': 26, 'min_child_samples': 145}. Best is trial 110 with value: 0.7977433117666993.\n",
      "[I 2024-11-09 14:43:35,091] Trial 114 finished with value: 0.7780858167757492 and parameters: {'n_estimators': 258, 'learning_rate': 0.025579623060652746, 'reg_alpha': 0.4825562412835025, 'min_child_weight': 2, 'max_depth': 24, 'min_child_samples': 162}. Best is trial 110 with value: 0.7977433117666993.\n",
      "[I 2024-11-09 14:43:45,498] Trial 115 finished with value: 0.7790032966809871 and parameters: {'n_estimators': 324, 'learning_rate': 0.012782203242820377, 'reg_alpha': 0.2740974305474666, 'min_child_weight': 1, 'max_depth': 19, 'min_child_samples': 101}. Best is trial 110 with value: 0.7977433117666993.\n",
      "[I 2024-11-09 14:43:56,533] Trial 116 finished with value: 0.7778621078456635 and parameters: {'n_estimators': 304, 'learning_rate': 0.03536837645339952, 'reg_alpha': 0.3644341024623511, 'min_child_weight': 2, 'max_depth': 15, 'min_child_samples': 128}. Best is trial 110 with value: 0.7977433117666993.\n",
      "[I 2024-11-09 14:44:04,176] Trial 117 finished with value: 0.7745466868434162 and parameters: {'n_estimators': 166, 'learning_rate': 0.04568527730366252, 'reg_alpha': 0.5084986938851346, 'min_child_weight': 3, 'max_depth': 21, 'min_child_samples': 196}. Best is trial 110 with value: 0.7977433117666993.\n",
      "[I 2024-11-09 14:44:11,915] Trial 118 finished with value: 0.7420932753017533 and parameters: {'n_estimators': 442, 'learning_rate': 0.12219838384272004, 'reg_alpha': 0.5551763027888562, 'min_child_weight': 1, 'max_depth': 18, 'min_child_samples': 68}. Best is trial 110 with value: 0.7977433117666993.\n",
      "[I 2024-11-09 14:44:19,092] Trial 119 finished with value: 0.7393833910369632 and parameters: {'n_estimators': 209, 'learning_rate': 0.09890233988062214, 'reg_alpha': 0.38970199404228606, 'min_child_weight': 2, 'max_depth': 13, 'min_child_samples': 180}. Best is trial 110 with value: 0.7977433117666993.\n",
      "[I 2024-11-09 14:44:28,871] Trial 120 finished with value: 0.7883514408729099 and parameters: {'n_estimators': 391, 'learning_rate': 0.021663372217821837, 'reg_alpha': 0.6018400366041787, 'min_child_weight': 2, 'max_depth': 20, 'min_child_samples': 132}. Best is trial 110 with value: 0.7977433117666993.\n",
      "[I 2024-11-09 14:44:41,981] Trial 121 finished with value: 0.7854147243421864 and parameters: {'n_estimators': 473, 'learning_rate': 0.013214618238877587, 'reg_alpha': 0.34151422009274135, 'min_child_weight': 3, 'max_depth': 18, 'min_child_samples': 189}. Best is trial 110 with value: 0.7977433117666993.\n",
      "[I 2024-11-09 14:44:52,865] Trial 122 finished with value: 0.7917956994788714 and parameters: {'n_estimators': 337, 'learning_rate': 0.01665495417035356, 'reg_alpha': 0.3807621131603748, 'min_child_weight': 3, 'max_depth': 16, 'min_child_samples': 187}. Best is trial 110 with value: 0.7977433117666993.\n",
      "[I 2024-11-09 14:45:05,577] Trial 123 finished with value: 0.7843422488955104 and parameters: {'n_estimators': 355, 'learning_rate': 0.008363940256168838, 'reg_alpha': 0.5232779124852479, 'min_child_weight': 4, 'max_depth': 16, 'min_child_samples': 194}. Best is trial 110 with value: 0.7977433117666993.\n",
      "[I 2024-11-09 14:45:17,409] Trial 124 finished with value: 0.7839346535673961 and parameters: {'n_estimators': 283, 'learning_rate': 0.02923903493628741, 'reg_alpha': 0.31120980924789354, 'min_child_weight': 3, 'max_depth': 17, 'min_child_samples': 183}. Best is trial 110 with value: 0.7977433117666993.\n",
      "[I 2024-11-09 14:45:32,232] Trial 125 finished with value: 0.7890292047518431 and parameters: {'n_estimators': 420, 'learning_rate': 0.00531371515440583, 'reg_alpha': 0.2510308664410816, 'min_child_weight': 2, 'max_depth': 12, 'min_child_samples': 167}. Best is trial 110 with value: 0.7977433117666993.\n",
      "[I 2024-11-09 14:45:42,863] Trial 126 finished with value: 0.7792863489921776 and parameters: {'n_estimators': 314, 'learning_rate': 0.01797691712715734, 'reg_alpha': 0.4693155021625056, 'min_child_weight': 3, 'max_depth': 16, 'min_child_samples': 174}. Best is trial 110 with value: 0.7977433117666993.\n",
      "[I 2024-11-09 14:45:52,697] Trial 127 finished with value: 0.7822179901021487 and parameters: {'n_estimators': 258, 'learning_rate': 0.02228590850138748, 'reg_alpha': 0.41066715668534914, 'min_child_weight': 2, 'max_depth': 15, 'min_child_samples': 143}. Best is trial 110 with value: 0.7977433117666993.\n",
      "[I 2024-11-09 14:46:08,634] Trial 128 finished with value: 0.7862029762267292 and parameters: {'n_estimators': 371, 'learning_rate': 0.015920255706070904, 'reg_alpha': 0.7867831926987149, 'min_child_weight': 2, 'max_depth': 19, 'min_child_samples': 159}. Best is trial 110 with value: 0.7977433117666993.\n",
      "[I 2024-11-09 14:46:20,631] Trial 129 finished with value: 0.7825408649453963 and parameters: {'n_estimators': 344, 'learning_rate': 0.03952011608575752, 'reg_alpha': 0.729607866522803, 'min_child_weight': 1, 'max_depth': 22, 'min_child_samples': 121}. Best is trial 110 with value: 0.7977433117666993.\n",
      "[I 2024-11-09 14:46:30,578] Trial 130 finished with value: 0.781166987589425 and parameters: {'n_estimators': 403, 'learning_rate': 0.026852040452189762, 'reg_alpha': 0.44280831167275697, 'min_child_weight': 0, 'max_depth': 26, 'min_child_samples': 178}. Best is trial 110 with value: 0.7977433117666993.\n",
      "[I 2024-11-09 14:46:42,716] Trial 131 finished with value: 0.7932351668876427 and parameters: {'n_estimators': 446, 'learning_rate': 0.013839246710827495, 'reg_alpha': 0.37904530225640276, 'min_child_weight': 3, 'max_depth': 18, 'min_child_samples': 187}. Best is trial 110 with value: 0.7977433117666993.\n",
      "[I 2024-11-09 14:46:54,112] Trial 132 finished with value: 0.78720361494891 and parameters: {'n_estimators': 450, 'learning_rate': 0.009417759874625124, 'reg_alpha': 0.36234042667231325, 'min_child_weight': 3, 'max_depth': 17, 'min_child_samples': 187}. Best is trial 110 with value: 0.7977433117666993.\n",
      "[I 2024-11-09 14:47:07,099] Trial 133 finished with value: 0.7880832244069956 and parameters: {'n_estimators': 518, 'learning_rate': 0.01978869684795775, 'reg_alpha': 0.900881393703611, 'min_child_weight': 3, 'max_depth': 11, 'min_child_samples': 185}. Best is trial 110 with value: 0.7977433117666993.\n",
      "[I 2024-11-09 14:47:18,389] Trial 134 finished with value: 0.7869557001660052 and parameters: {'n_estimators': 386, 'learning_rate': 0.01177509019901984, 'reg_alpha': 0.39109312112149575, 'min_child_weight': 3, 'max_depth': 20, 'min_child_samples': 192}. Best is trial 110 with value: 0.7977433117666993.\n",
      "[I 2024-11-09 14:47:32,173] Trial 135 finished with value: 0.7897912986986622 and parameters: {'n_estimators': 559, 'learning_rate': 0.005052591584058432, 'reg_alpha': 0.691449820595073, 'min_child_weight': 3, 'max_depth': 21, 'min_child_samples': 151}. Best is trial 110 with value: 0.7977433117666993.\n",
      "[I 2024-11-09 14:47:41,712] Trial 136 finished with value: 0.7823698623077392 and parameters: {'n_estimators': 486, 'learning_rate': 0.03173104537392905, 'reg_alpha': 0.32772684640043287, 'min_child_weight': 4, 'max_depth': 19, 'min_child_samples': 172}. Best is trial 110 with value: 0.7977433117666993.\n",
      "[I 2024-11-09 14:47:51,862] Trial 137 finished with value: 0.785098877004596 and parameters: {'n_estimators': 334, 'learning_rate': 0.015794310948824164, 'reg_alpha': 0.2990875076145898, 'min_child_weight': 2, 'max_depth': 15, 'min_child_samples': 178}. Best is trial 110 with value: 0.7977433117666993.\n",
      "[I 2024-11-09 14:48:02,887] Trial 138 finished with value: 0.7711320999280071 and parameters: {'n_estimators': 304, 'learning_rate': 0.023727239325141716, 'reg_alpha': 0.4840223302092008, 'min_child_weight': 2, 'max_depth': 14, 'min_child_samples': 182}. Best is trial 110 with value: 0.7977433117666993.\n",
      "[I 2024-11-09 14:48:14,113] Trial 139 finished with value: 0.7931071101178903 and parameters: {'n_estimators': 428, 'learning_rate': 0.013669539398257251, 'reg_alpha': 0.35474306350162316, 'min_child_weight': 3, 'max_depth': 17, 'min_child_samples': 154}. Best is trial 110 with value: 0.7977433117666993.\n",
      "[I 2024-11-09 14:48:24,145] Trial 140 finished with value: 0.7804982033010537 and parameters: {'n_estimators': 428, 'learning_rate': 0.020082380991240597, 'reg_alpha': 0.34811352862236167, 'min_child_weight': 3, 'max_depth': 17, 'min_child_samples': 136}. Best is trial 110 with value: 0.7977433117666993.\n",
      "[I 2024-11-09 14:48:35,284] Trial 141 finished with value: 0.7897791957722526 and parameters: {'n_estimators': 362, 'learning_rate': 0.014158583545931526, 'reg_alpha': 0.4205358798656087, 'min_child_weight': 3, 'max_depth': 18, 'min_child_samples': 154}. Best is trial 110 with value: 0.7977433117666993.\n",
      "[I 2024-11-09 14:48:47,502] Trial 142 finished with value: 0.7849536418876817 and parameters: {'n_estimators': 408, 'learning_rate': 0.00944957100053746, 'reg_alpha': 0.7676781785539001, 'min_child_weight': 3, 'max_depth': 36, 'min_child_samples': 147}. Best is trial 110 with value: 0.7977433117666993.\n",
      "[I 2024-11-09 14:48:58,065] Trial 143 finished with value: 0.7819751507399963 and parameters: {'n_estimators': 465, 'learning_rate': 0.01766822580673666, 'reg_alpha': 0.38733123201595093, 'min_child_weight': 3, 'max_depth': 16, 'min_child_samples': 157}. Best is trial 110 with value: 0.7977433117666993.\n",
      "[I 2024-11-09 14:49:07,583] Trial 144 finished with value: 0.7773537849364636 and parameters: {'n_estimators': 283, 'learning_rate': 0.027254500104415928, 'reg_alpha': 0.35923220157597907, 'min_child_weight': 4, 'max_depth': 19, 'min_child_samples': 163}. Best is trial 110 with value: 0.7977433117666993.\n",
      "[I 2024-11-09 14:49:17,789] Trial 145 finished with value: 0.7869229051396053 and parameters: {'n_estimators': 378, 'learning_rate': 0.012851039233034618, 'reg_alpha': 0.5822833586454481, 'min_child_weight': 2, 'max_depth': 23, 'min_child_samples': 189}. Best is trial 110 with value: 0.7977433117666993.\n",
      "[I 2024-11-09 14:49:28,103] Trial 146 finished with value: 0.78314913460172 and parameters: {'n_estimators': 341, 'learning_rate': 0.02244301501057358, 'reg_alpha': 0.2809804715329565, 'min_child_weight': 1, 'max_depth': 14, 'min_child_samples': 167}. Best is trial 110 with value: 0.7977433117666993.\n",
      "[I 2024-11-09 14:49:40,099] Trial 147 finished with value: 0.7807367480764156 and parameters: {'n_estimators': 501, 'learning_rate': 0.008521948914717773, 'reg_alpha': 0.8169616653314988, 'min_child_weight': 3, 'max_depth': 17, 'min_child_samples': 193}. Best is trial 110 with value: 0.7977433117666993.\n",
      "[I 2024-11-09 14:49:49,041] Trial 148 finished with value: 0.7778339978230349 and parameters: {'n_estimators': 234, 'learning_rate': 0.03435067844959491, 'reg_alpha': 0.4377608799058539, 'min_child_weight': 5, 'max_depth': 15, 'min_child_samples': 151}. Best is trial 110 with value: 0.7977433117666993.\n",
      "[I 2024-11-09 14:49:59,930] Trial 149 finished with value: 0.7794023028355205 and parameters: {'n_estimators': 431, 'learning_rate': 0.017558510346241896, 'reg_alpha': 0.8492785027365477, 'min_child_weight': 2, 'max_depth': 18, 'min_child_samples': 83}. Best is trial 110 with value: 0.7977433117666993.\n",
      "[I 2024-11-09 14:50:09,295] Trial 150 finished with value: 0.7429596105824865 and parameters: {'n_estimators': 317, 'learning_rate': 0.09081557927329728, 'reg_alpha': 0.40735438011762515, 'min_child_weight': 2, 'max_depth': 20, 'min_child_samples': 186}. Best is trial 110 with value: 0.7977433117666993.\n",
      "[I 2024-11-09 14:50:21,099] Trial 151 finished with value: 0.789341928753586 and parameters: {'n_estimators': 437, 'learning_rate': 0.01307646275059665, 'reg_alpha': 0.37125713826124296, 'min_child_weight': 3, 'max_depth': 18, 'min_child_samples': 190}. Best is trial 110 with value: 0.7977433117666993.\n",
      "[I 2024-11-09 14:50:31,505] Trial 152 finished with value: 0.7872902875186815 and parameters: {'n_estimators': 452, 'learning_rate': 0.014075584019229332, 'reg_alpha': 0.3283950666467914, 'min_child_weight': 3, 'max_depth': 16, 'min_child_samples': 197}. Best is trial 110 with value: 0.7977433117666993.\n",
      "[I 2024-11-09 14:50:42,201] Trial 153 finished with value: 0.7826736067189201 and parameters: {'n_estimators': 393, 'learning_rate': 0.023472797015297687, 'reg_alpha': 0.37756043262427125, 'min_child_weight': 3, 'max_depth': 19, 'min_child_samples': 182}. Best is trial 110 with value: 0.7977433117666993.\n",
      "[I 2024-11-09 14:50:53,295] Trial 154 finished with value: 0.7897530378345288 and parameters: {'n_estimators': 537, 'learning_rate': 0.018653286286679806, 'reg_alpha': 0.38772586708672474, 'min_child_weight': 3, 'max_depth': 17, 'min_child_samples': 175}. Best is trial 110 with value: 0.7977433117666993.\n",
      "[I 2024-11-09 14:51:07,478] Trial 155 finished with value: 0.7863509442625102 and parameters: {'n_estimators': 354, 'learning_rate': 0.005052903206655645, 'reg_alpha': 0.46334605584292293, 'min_child_weight': 3, 'max_depth': 22, 'min_child_samples': 188}. Best is trial 110 with value: 0.7977433117666993.\n",
      "[I 2024-11-09 14:51:19,117] Trial 156 finished with value: 0.7882831179012433 and parameters: {'n_estimators': 1182, 'learning_rate': 0.02964188704637782, 'reg_alpha': 0.5382852350571354, 'min_child_weight': 2, 'max_depth': 18, 'min_child_samples': 142}. Best is trial 110 with value: 0.7977433117666993.\n",
      "[I 2024-11-09 14:51:29,968] Trial 157 finished with value: 0.7821477150455772 and parameters: {'n_estimators': 1363, 'learning_rate': 0.010551848902615894, 'reg_alpha': 0.5096323229745032, 'min_child_weight': 1, 'max_depth': 21, 'min_child_samples': 29}. Best is trial 110 with value: 0.7977433117666993.\n",
      "[I 2024-11-09 14:51:44,585] Trial 158 finished with value: 0.7796139088391966 and parameters: {'n_estimators': 407, 'learning_rate': 0.015526792827419176, 'reg_alpha': 0.3497095135786369, 'min_child_weight': 3, 'max_depth': 16, 'min_child_samples': 55}. Best is trial 110 with value: 0.7977433117666993.\n",
      "[I 2024-11-09 14:51:53,430] Trial 159 finished with value: 0.786418095983234 and parameters: {'n_estimators': 275, 'learning_rate': 0.025961404730954894, 'reg_alpha': 0.42674674166431464, 'min_child_weight': 2, 'max_depth': 20, 'min_child_samples': 160}. Best is trial 110 with value: 0.7977433117666993.\n",
      "[I 2024-11-09 14:52:04,416] Trial 160 finished with value: 0.7867581491736434 and parameters: {'n_estimators': 374, 'learning_rate': 0.020766879267863272, 'reg_alpha': 0.39760958251163175, 'min_child_weight': 4, 'max_depth': 13, 'min_child_samples': 200}. Best is trial 110 with value: 0.7977433117666993.\n",
      "[I 2024-11-09 14:52:15,405] Trial 161 finished with value: 0.7880168535202338 and parameters: {'n_estimators': 394, 'learning_rate': 0.014319862007081265, 'reg_alpha': 0.7993583234279854, 'min_child_weight': 2, 'max_depth': 15, 'min_child_samples': 154}. Best is trial 110 with value: 0.7977433117666993.\n",
      "[I 2024-11-09 14:52:25,738] Trial 162 finished with value: 0.7869322751471481 and parameters: {'n_estimators': 474, 'learning_rate': 0.015468346282658366, 'reg_alpha': 0.6637852372989421, 'min_child_weight': 2, 'max_depth': 15, 'min_child_samples': 149}. Best is trial 110 with value: 0.7977433117666993.\n",
      "[I 2024-11-09 14:52:36,065] Trial 163 finished with value: 0.7908219995283763 and parameters: {'n_estimators': 334, 'learning_rate': 0.008513932725354164, 'reg_alpha': 0.632838401407247, 'min_child_weight': 2, 'max_depth': 17, 'min_child_samples': 146}. Best is trial 110 with value: 0.7977433117666993.\n",
      "[I 2024-11-09 14:52:47,343] Trial 164 finished with value: 0.7815968366854535 and parameters: {'n_estimators': 327, 'learning_rate': 0.009469215425047032, 'reg_alpha': 0.5749060117548791, 'min_child_weight': 2, 'max_depth': 17, 'min_child_samples': 181}. Best is trial 110 with value: 0.7977433117666993.\n",
      "[I 2024-11-09 14:52:59,109] Trial 165 finished with value: 0.7881597461352623 and parameters: {'n_estimators': 352, 'learning_rate': 0.007997123036584166, 'reg_alpha': 0.6263856341429143, 'min_child_weight': 2, 'max_depth': 18, 'min_child_samples': 146}. Best is trial 110 with value: 0.7977433117666993.\n",
      "[I 2024-11-09 14:53:08,993] Trial 166 finished with value: 0.7832346359205485 and parameters: {'n_estimators': 301, 'learning_rate': 0.0196432379282987, 'reg_alpha': 0.6098981133138528, 'min_child_weight': 1, 'max_depth': 19, 'min_child_samples': 141}. Best is trial 110 with value: 0.7977433117666993.\n",
      "[I 2024-11-09 14:53:20,527] Trial 167 finished with value: 0.775998257178597 and parameters: {'n_estimators': 439, 'learning_rate': 0.02439235342280588, 'reg_alpha': 0.4922317168760215, 'min_child_weight': 2, 'max_depth': 16, 'min_child_samples': 171}. Best is trial 110 with value: 0.7977433117666993.\n",
      "[I 2024-11-09 14:53:29,637] Trial 168 finished with value: 0.7865879273699482 and parameters: {'n_estimators': 258, 'learning_rate': 0.011462940883539139, 'reg_alpha': 0.5298401491894019, 'min_child_weight': 2, 'max_depth': 24, 'min_child_samples': 186}. Best is trial 110 with value: 0.7977433117666993.\n",
      "[I 2024-11-09 14:53:42,294] Trial 169 finished with value: 0.7769766421328635 and parameters: {'n_estimators': 370, 'learning_rate': 0.008037140734150763, 'reg_alpha': 0.5536597394667113, 'min_child_weight': 3, 'max_depth': 9, 'min_child_samples': 156}. Best is trial 110 with value: 0.7977433117666993.\n",
      "[I 2024-11-09 14:54:05,567] Trial 170 finished with value: 0.7894582730139098 and parameters: {'n_estimators': 854, 'learning_rate': 0.005052347422189796, 'reg_alpha': 0.4490393572419002, 'min_child_weight': 2, 'max_depth': 18, 'min_child_samples': 164}. Best is trial 110 with value: 0.7977433117666993.\n",
      "[I 2024-11-09 14:54:17,100] Trial 171 finished with value: 0.7881203140201861 and parameters: {'n_estimators': 417, 'learning_rate': 0.015387546667912201, 'reg_alpha': 0.6325461713728018, 'min_child_weight': 2, 'max_depth': 14, 'min_child_samples': 147}. Best is trial 110 with value: 0.7977433117666993.\n",
      "[I 2024-11-09 14:54:27,412] Trial 172 finished with value: 0.7861194269928053 and parameters: {'n_estimators': 322, 'learning_rate': 0.017029656378311005, 'reg_alpha': 0.6482241486021778, 'min_child_weight': 2, 'max_depth': 16, 'min_child_samples': 151}. Best is trial 110 with value: 0.7977433117666993.\n",
      "[I 2024-11-09 14:54:39,740] Trial 173 finished with value: 0.7895488497534907 and parameters: {'n_estimators': 393, 'learning_rate': 0.012200425425506048, 'reg_alpha': 0.6871131892132197, 'min_child_weight': 2, 'max_depth': 17, 'min_child_samples': 159}. Best is trial 110 with value: 0.7977433117666993.\n",
      "[I 2024-11-09 14:54:50,454] Trial 174 finished with value: 0.7972283517688232 and parameters: {'n_estimators': 300, 'learning_rate': 0.02114538215031264, 'reg_alpha': 0.6773362854114849, 'min_child_weight': 1, 'max_depth': 15, 'min_child_samples': 153}. Best is trial 110 with value: 0.7977433117666993.\n",
      "[I 2024-11-09 14:54:59,979] Trial 175 finished with value: 0.7761594993917303 and parameters: {'n_estimators': 291, 'learning_rate': 0.021171025809246055, 'reg_alpha': 0.37003601896787347, 'min_child_weight': 1, 'max_depth': 12, 'min_child_samples': 113}. Best is trial 110 with value: 0.7977433117666993.\n",
      "[I 2024-11-09 14:55:07,292] Trial 176 finished with value: 0.7730880890025783 and parameters: {'n_estimators': 211, 'learning_rate': 0.02875865710562723, 'reg_alpha': 0.7077421949254923, 'min_child_weight': 1, 'max_depth': 13, 'min_child_samples': 177}. Best is trial 110 with value: 0.7977433117666993.\n",
      "[I 2024-11-09 14:55:17,394] Trial 177 finished with value: 0.7831015037300438 and parameters: {'n_estimators': 346, 'learning_rate': 0.023155702221315213, 'reg_alpha': 0.3177903286263752, 'min_child_weight': 1, 'max_depth': 19, 'min_child_samples': 192}. Best is trial 110 with value: 0.7977433117666993.\n",
      "[I 2024-11-09 14:55:27,110] Trial 178 finished with value: 0.7884908197351099 and parameters: {'n_estimators': 302, 'learning_rate': 0.01836590077081362, 'reg_alpha': 0.7646694395431615, 'min_child_weight': 1, 'max_depth': 15, 'min_child_samples': 138}. Best is trial 110 with value: 0.7977433117666993.\n",
      "[I 2024-11-09 14:55:35,759] Trial 179 finished with value: 0.7749398367432353 and parameters: {'n_estimators': 252, 'learning_rate': 0.032336808817536575, 'reg_alpha': 0.7436690664548649, 'min_child_weight': 1, 'max_depth': 17, 'min_child_samples': 155}. Best is trial 110 with value: 0.7977433117666993.\n",
      "[I 2024-11-09 14:55:44,124] Trial 180 finished with value: 0.7253033930358981 and parameters: {'n_estimators': 334, 'learning_rate': 0.13857150201055823, 'reg_alpha': 0.4161497231172874, 'min_child_weight': 3, 'max_depth': 42, 'min_child_samples': 96}. Best is trial 110 with value: 0.7977433117666993.\n",
      "[I 2024-11-09 14:55:51,130] Trial 181 finished with value: 0.7442237807668102 and parameters: {'n_estimators': 414, 'learning_rate': 0.15536094998821984, 'reg_alpha': 0.6421265070293958, 'min_child_weight': 2, 'max_depth': 16, 'min_child_samples': 152}. Best is trial 110 with value: 0.7977433117666993.\n",
      "[I 2024-11-09 14:56:02,017] Trial 182 finished with value: 0.7867526833359101 and parameters: {'n_estimators': 376, 'learning_rate': 0.013549799758727417, 'reg_alpha': 0.6625650141832722, 'min_child_weight': 2, 'max_depth': 15, 'min_child_samples': 144}. Best is trial 110 with value: 0.7977433117666993.\n",
      "[I 2024-11-09 14:56:14,193] Trial 183 finished with value: 0.7933187161215665 and parameters: {'n_estimators': 459, 'learning_rate': 0.010021101763005129, 'reg_alpha': 0.6746775418512732, 'min_child_weight': 2, 'max_depth': 18, 'min_child_samples': 148}. Best is trial 110 with value: 0.7977433117666993.\n",
      "[I 2024-11-09 14:56:23,657] Trial 184 finished with value: 0.7942490797871758 and parameters: {'n_estimators': 456, 'learning_rate': 0.009398725642258016, 'reg_alpha': 0.1351749652380695, 'min_child_weight': 2, 'max_depth': 18, 'min_child_samples': 148}. Best is trial 110 with value: 0.7977433117666993.\n",
      "[I 2024-11-09 14:56:34,155] Trial 185 finished with value: 0.7896011656289383 and parameters: {'n_estimators': 506, 'learning_rate': 0.009377477784723028, 'reg_alpha': 0.7194083713097037, 'min_child_weight': 2, 'max_depth': 19, 'min_child_samples': 142}. Best is trial 110 with value: 0.7977433117666993.\n",
      "[I 2024-11-09 14:56:42,852] Trial 186 finished with value: 0.7791333055356443 and parameters: {'n_estimators': 468, 'learning_rate': 0.010499419104865477, 'reg_alpha': 0.1861274631556179, 'min_child_weight': 2, 'max_depth': 17, 'min_child_samples': 43}. Best is trial 110 with value: 0.7977433117666993.\n",
      "[I 2024-11-09 14:56:51,133] Trial 187 finished with value: 0.7913693641356715 and parameters: {'n_estimators': 454, 'learning_rate': 0.019656502490016978, 'reg_alpha': 0.22645626477504815, 'min_child_weight': 2, 'max_depth': 20, 'min_child_samples': 152}. Best is trial 110 with value: 0.7977433117666993.\n",
      "[I 2024-11-09 14:56:59,826] Trial 188 finished with value: 0.7833494185129486 and parameters: {'n_estimators': 457, 'learning_rate': 0.027334213041964532, 'reg_alpha': 0.10512651399536142, 'min_child_weight': 2, 'max_depth': 20, 'min_child_samples': 148}. Best is trial 110 with value: 0.7977433117666993.\n",
      "[I 2024-11-09 14:57:10,954] Trial 189 finished with value: 0.7927338714840999 and parameters: {'n_estimators': 519, 'learning_rate': 0.019309434519589847, 'reg_alpha': 0.01641558797603243, 'min_child_weight': 2, 'max_depth': 21, 'min_child_samples': 131}. Best is trial 110 with value: 0.7977433117666993.\n",
      "[I 2024-11-09 14:57:21,739] Trial 190 finished with value: 0.7839174752202342 and parameters: {'n_estimators': 531, 'learning_rate': 0.02050596727054087, 'reg_alpha': 0.14468418442561418, 'min_child_weight': 2, 'max_depth': 20, 'min_child_samples': 132}. Best is trial 110 with value: 0.7977433117666993.\n",
      "[I 2024-11-09 14:57:31,924] Trial 191 finished with value: 0.7808577773405108 and parameters: {'n_estimators': 488, 'learning_rate': 0.02314035850453384, 'reg_alpha': 0.21902334145681177, 'min_child_weight': 2, 'max_depth': 21, 'min_child_samples': 148}. Best is trial 110 with value: 0.7977433117666993.\n",
      "[I 2024-11-09 14:57:42,999] Trial 192 finished with value: 0.7901789827607478 and parameters: {'n_estimators': 422, 'learning_rate': 0.017117929393364352, 'reg_alpha': 0.0983909324285092, 'min_child_weight': 2, 'max_depth': 21, 'min_child_samples': 153}. Best is trial 110 with value: 0.7977433117666993.\n",
      "[I 2024-11-09 14:57:57,655] Trial 193 finished with value: 0.7907802249114144 and parameters: {'n_estimators': 437, 'learning_rate': 0.018527241105836544, 'reg_alpha': 0.0811678968092249, 'min_child_weight': 2, 'max_depth': 22, 'min_child_samples': 154}. Best is trial 110 with value: 0.7977433117666993.\n",
      "[I 2024-11-09 14:58:08,443] Trial 194 finished with value: 0.7806746717764441 and parameters: {'n_estimators': 484, 'learning_rate': 0.02631991812868182, 'reg_alpha': 0.13762486328901896, 'min_child_weight': 2, 'max_depth': 23, 'min_child_samples': 136}. Best is trial 110 with value: 0.7977433117666993.\n",
      "[I 2024-11-09 14:58:18,582] Trial 195 finished with value: 0.7872028341149482 and parameters: {'n_estimators': 444, 'learning_rate': 0.019147847085129552, 'reg_alpha': 0.008900055710545859, 'min_child_weight': 2, 'max_depth': 22, 'min_child_samples': 145}. Best is trial 110 with value: 0.7977433117666993.\n",
      "[I 2024-11-09 14:58:30,192] Trial 196 finished with value: 0.7858398884344435 and parameters: {'n_estimators': 461, 'learning_rate': 0.023989964324274318, 'reg_alpha': 0.039504518090736386, 'min_child_weight': 2, 'max_depth': 17, 'min_child_samples': 151}. Best is trial 110 with value: 0.7977433117666993.\n",
      "[I 2024-11-09 14:58:40,081] Trial 197 finished with value: 0.787310589201691 and parameters: {'n_estimators': 492, 'learning_rate': 0.01569421205256401, 'reg_alpha': 0.08197668297750446, 'min_child_weight': 2, 'max_depth': 24, 'min_child_samples': 140}. Best is trial 110 with value: 0.7977433117666993.\n",
      "[I 2024-11-09 14:58:51,315] Trial 198 finished with value: 0.7898768000174907 and parameters: {'n_estimators': 561, 'learning_rate': 0.020494654097584976, 'reg_alpha': 0.049112549480184745, 'min_child_weight': 2, 'max_depth': 22, 'min_child_samples': 159}. Best is trial 110 with value: 0.7977433117666993.\n",
      "[I 2024-11-09 14:59:00,027] Trial 199 finished with value: 0.7895675897685764 and parameters: {'n_estimators': 520, 'learning_rate': 0.012702669543409255, 'reg_alpha': 0.052093759159694726, 'min_child_weight': 2, 'max_depth': 20, 'min_child_samples': 144}. Best is trial 110 with value: 0.7977433117666993.\n"
     ]
    }
   ],
   "source": [
    "import lightgbm as lgb\n",
    "def objective(trial):\n",
    "    try:\n",
    "        n_estimators = trial.suggest_int('n_estimators', 100, 1500)\n",
    "        learning_rate = trial.suggest_float('learning_rate', 0.005, 0.2)\n",
    "        reg_alpha = trial.suggest_float('reg_alpha', 0.001, 1)\n",
    "        min_child_weight = trial.suggest_int('min_child_weight', 0, 5)\n",
    "        max_depth = trial.suggest_int('max_depth', 3, 50)\n",
    "        min_child_samples = trial.suggest_int('min_child_samples', 1, 200)\n",
    "\n",
    "        model = lgb.LGBMClassifier(\n",
    "            n_estimators=n_estimators,\n",
    "            learning_rate=learning_rate,\n",
    "            is_unbalance=True,\n",
    "            max_depth=max_depth,\n",
    "            reg_alpha=reg_alpha,\n",
    "            random_state=42,\n",
    "            verbose=-1,\n",
    "            n_jobs=-1,\n",
    "            metric='auc',\n",
    "            min_child_weight=min_child_weight,\n",
    "            min_child_samples=min_child_samples,\n",
    "            device='cpu',\n",
    "            early_stopping_round=200\n",
    "        )\n",
    "        model.fit(X, y, eval_set=(X_eval, y_eval), categorical_feature=list(cat_features))\n",
    "        return model.best_score_['valid_0']['auc']\n",
    "    except:\n",
    "        return float('-inf')\n",
    "\n",
    "study = optuna.create_study(direction='maximize', sampler=optuna.samplers.TPESampler(), pruner=optuna.pruners.MedianPruner(n_startup_trials=10, n_warmup_steps=10))\n",
    "study.optimize(objective, n_trials=200)\n"
   ]
  },
  {
   "cell_type": "code",
   "execution_count": 6,
   "metadata": {},
   "outputs": [
    {
     "data": {
      "text/plain": [
       "{'n_estimators': 402,\n",
       " 'learning_rate': 0.020231285075910963,\n",
       " 'reg_alpha': 0.504656746519248,\n",
       " 'min_child_weight': 2,\n",
       " 'max_depth': 24,\n",
       " 'min_child_samples': 148}"
      ]
     },
     "execution_count": 6,
     "metadata": {},
     "output_type": "execute_result"
    }
   ],
   "source": [
    "study.best_params"
   ]
  },
  {
   "cell_type": "code",
   "execution_count": 7,
   "metadata": {},
   "outputs": [
    {
     "data": {
      "application/vnd.plotly.v1+json": {
       "config": {
        "plotlyServerURL": "https://plot.ly"
       },
       "data": [
        {
         "cliponaxis": false,
         "hovertemplate": [
          "min_child_weight (IntDistribution): 0.0022389985540842467<extra></extra>",
          "max_depth (IntDistribution): 0.003627604062948222<extra></extra>",
          "min_child_samples (IntDistribution): 0.007770580988219387<extra></extra>",
          "n_estimators (IntDistribution): 0.010577746823480024<extra></extra>",
          "reg_alpha (FloatDistribution): 0.03744398646401255<extra></extra>",
          "learning_rate (FloatDistribution): 0.9383410831072555<extra></extra>"
         ],
         "name": "Objective Value",
         "orientation": "h",
         "text": [
          "<0.01",
          "<0.01",
          "<0.01",
          "0.01",
          "0.04",
          "0.94"
         ],
         "textposition": "outside",
         "type": "bar",
         "x": [
          0.0022389985540842467,
          0.003627604062948222,
          0.007770580988219387,
          0.010577746823480024,
          0.03744398646401255,
          0.9383410831072555
         ],
         "y": [
          "min_child_weight",
          "max_depth",
          "min_child_samples",
          "n_estimators",
          "reg_alpha",
          "learning_rate"
         ]
        }
       ],
       "layout": {
        "template": {
         "data": {
          "bar": [
           {
            "error_x": {
             "color": "#2a3f5f"
            },
            "error_y": {
             "color": "#2a3f5f"
            },
            "marker": {
             "line": {
              "color": "#E5ECF6",
              "width": 0.5
             },
             "pattern": {
              "fillmode": "overlay",
              "size": 10,
              "solidity": 0.2
             }
            },
            "type": "bar"
           }
          ],
          "barpolar": [
           {
            "marker": {
             "line": {
              "color": "#E5ECF6",
              "width": 0.5
             },
             "pattern": {
              "fillmode": "overlay",
              "size": 10,
              "solidity": 0.2
             }
            },
            "type": "barpolar"
           }
          ],
          "carpet": [
           {
            "aaxis": {
             "endlinecolor": "#2a3f5f",
             "gridcolor": "white",
             "linecolor": "white",
             "minorgridcolor": "white",
             "startlinecolor": "#2a3f5f"
            },
            "baxis": {
             "endlinecolor": "#2a3f5f",
             "gridcolor": "white",
             "linecolor": "white",
             "minorgridcolor": "white",
             "startlinecolor": "#2a3f5f"
            },
            "type": "carpet"
           }
          ],
          "choropleth": [
           {
            "colorbar": {
             "outlinewidth": 0,
             "ticks": ""
            },
            "type": "choropleth"
           }
          ],
          "contour": [
           {
            "colorbar": {
             "outlinewidth": 0,
             "ticks": ""
            },
            "colorscale": [
             [
              0,
              "#0d0887"
             ],
             [
              0.1111111111111111,
              "#46039f"
             ],
             [
              0.2222222222222222,
              "#7201a8"
             ],
             [
              0.3333333333333333,
              "#9c179e"
             ],
             [
              0.4444444444444444,
              "#bd3786"
             ],
             [
              0.5555555555555556,
              "#d8576b"
             ],
             [
              0.6666666666666666,
              "#ed7953"
             ],
             [
              0.7777777777777778,
              "#fb9f3a"
             ],
             [
              0.8888888888888888,
              "#fdca26"
             ],
             [
              1,
              "#f0f921"
             ]
            ],
            "type": "contour"
           }
          ],
          "contourcarpet": [
           {
            "colorbar": {
             "outlinewidth": 0,
             "ticks": ""
            },
            "type": "contourcarpet"
           }
          ],
          "heatmap": [
           {
            "colorbar": {
             "outlinewidth": 0,
             "ticks": ""
            },
            "colorscale": [
             [
              0,
              "#0d0887"
             ],
             [
              0.1111111111111111,
              "#46039f"
             ],
             [
              0.2222222222222222,
              "#7201a8"
             ],
             [
              0.3333333333333333,
              "#9c179e"
             ],
             [
              0.4444444444444444,
              "#bd3786"
             ],
             [
              0.5555555555555556,
              "#d8576b"
             ],
             [
              0.6666666666666666,
              "#ed7953"
             ],
             [
              0.7777777777777778,
              "#fb9f3a"
             ],
             [
              0.8888888888888888,
              "#fdca26"
             ],
             [
              1,
              "#f0f921"
             ]
            ],
            "type": "heatmap"
           }
          ],
          "heatmapgl": [
           {
            "colorbar": {
             "outlinewidth": 0,
             "ticks": ""
            },
            "colorscale": [
             [
              0,
              "#0d0887"
             ],
             [
              0.1111111111111111,
              "#46039f"
             ],
             [
              0.2222222222222222,
              "#7201a8"
             ],
             [
              0.3333333333333333,
              "#9c179e"
             ],
             [
              0.4444444444444444,
              "#bd3786"
             ],
             [
              0.5555555555555556,
              "#d8576b"
             ],
             [
              0.6666666666666666,
              "#ed7953"
             ],
             [
              0.7777777777777778,
              "#fb9f3a"
             ],
             [
              0.8888888888888888,
              "#fdca26"
             ],
             [
              1,
              "#f0f921"
             ]
            ],
            "type": "heatmapgl"
           }
          ],
          "histogram": [
           {
            "marker": {
             "pattern": {
              "fillmode": "overlay",
              "size": 10,
              "solidity": 0.2
             }
            },
            "type": "histogram"
           }
          ],
          "histogram2d": [
           {
            "colorbar": {
             "outlinewidth": 0,
             "ticks": ""
            },
            "colorscale": [
             [
              0,
              "#0d0887"
             ],
             [
              0.1111111111111111,
              "#46039f"
             ],
             [
              0.2222222222222222,
              "#7201a8"
             ],
             [
              0.3333333333333333,
              "#9c179e"
             ],
             [
              0.4444444444444444,
              "#bd3786"
             ],
             [
              0.5555555555555556,
              "#d8576b"
             ],
             [
              0.6666666666666666,
              "#ed7953"
             ],
             [
              0.7777777777777778,
              "#fb9f3a"
             ],
             [
              0.8888888888888888,
              "#fdca26"
             ],
             [
              1,
              "#f0f921"
             ]
            ],
            "type": "histogram2d"
           }
          ],
          "histogram2dcontour": [
           {
            "colorbar": {
             "outlinewidth": 0,
             "ticks": ""
            },
            "colorscale": [
             [
              0,
              "#0d0887"
             ],
             [
              0.1111111111111111,
              "#46039f"
             ],
             [
              0.2222222222222222,
              "#7201a8"
             ],
             [
              0.3333333333333333,
              "#9c179e"
             ],
             [
              0.4444444444444444,
              "#bd3786"
             ],
             [
              0.5555555555555556,
              "#d8576b"
             ],
             [
              0.6666666666666666,
              "#ed7953"
             ],
             [
              0.7777777777777778,
              "#fb9f3a"
             ],
             [
              0.8888888888888888,
              "#fdca26"
             ],
             [
              1,
              "#f0f921"
             ]
            ],
            "type": "histogram2dcontour"
           }
          ],
          "mesh3d": [
           {
            "colorbar": {
             "outlinewidth": 0,
             "ticks": ""
            },
            "type": "mesh3d"
           }
          ],
          "parcoords": [
           {
            "line": {
             "colorbar": {
              "outlinewidth": 0,
              "ticks": ""
             }
            },
            "type": "parcoords"
           }
          ],
          "pie": [
           {
            "automargin": true,
            "type": "pie"
           }
          ],
          "scatter": [
           {
            "fillpattern": {
             "fillmode": "overlay",
             "size": 10,
             "solidity": 0.2
            },
            "type": "scatter"
           }
          ],
          "scatter3d": [
           {
            "line": {
             "colorbar": {
              "outlinewidth": 0,
              "ticks": ""
             }
            },
            "marker": {
             "colorbar": {
              "outlinewidth": 0,
              "ticks": ""
             }
            },
            "type": "scatter3d"
           }
          ],
          "scattercarpet": [
           {
            "marker": {
             "colorbar": {
              "outlinewidth": 0,
              "ticks": ""
             }
            },
            "type": "scattercarpet"
           }
          ],
          "scattergeo": [
           {
            "marker": {
             "colorbar": {
              "outlinewidth": 0,
              "ticks": ""
             }
            },
            "type": "scattergeo"
           }
          ],
          "scattergl": [
           {
            "marker": {
             "colorbar": {
              "outlinewidth": 0,
              "ticks": ""
             }
            },
            "type": "scattergl"
           }
          ],
          "scattermapbox": [
           {
            "marker": {
             "colorbar": {
              "outlinewidth": 0,
              "ticks": ""
             }
            },
            "type": "scattermapbox"
           }
          ],
          "scatterpolar": [
           {
            "marker": {
             "colorbar": {
              "outlinewidth": 0,
              "ticks": ""
             }
            },
            "type": "scatterpolar"
           }
          ],
          "scatterpolargl": [
           {
            "marker": {
             "colorbar": {
              "outlinewidth": 0,
              "ticks": ""
             }
            },
            "type": "scatterpolargl"
           }
          ],
          "scatterternary": [
           {
            "marker": {
             "colorbar": {
              "outlinewidth": 0,
              "ticks": ""
             }
            },
            "type": "scatterternary"
           }
          ],
          "surface": [
           {
            "colorbar": {
             "outlinewidth": 0,
             "ticks": ""
            },
            "colorscale": [
             [
              0,
              "#0d0887"
             ],
             [
              0.1111111111111111,
              "#46039f"
             ],
             [
              0.2222222222222222,
              "#7201a8"
             ],
             [
              0.3333333333333333,
              "#9c179e"
             ],
             [
              0.4444444444444444,
              "#bd3786"
             ],
             [
              0.5555555555555556,
              "#d8576b"
             ],
             [
              0.6666666666666666,
              "#ed7953"
             ],
             [
              0.7777777777777778,
              "#fb9f3a"
             ],
             [
              0.8888888888888888,
              "#fdca26"
             ],
             [
              1,
              "#f0f921"
             ]
            ],
            "type": "surface"
           }
          ],
          "table": [
           {
            "cells": {
             "fill": {
              "color": "#EBF0F8"
             },
             "line": {
              "color": "white"
             }
            },
            "header": {
             "fill": {
              "color": "#C8D4E3"
             },
             "line": {
              "color": "white"
             }
            },
            "type": "table"
           }
          ]
         },
         "layout": {
          "annotationdefaults": {
           "arrowcolor": "#2a3f5f",
           "arrowhead": 0,
           "arrowwidth": 1
          },
          "autotypenumbers": "strict",
          "coloraxis": {
           "colorbar": {
            "outlinewidth": 0,
            "ticks": ""
           }
          },
          "colorscale": {
           "diverging": [
            [
             0,
             "#8e0152"
            ],
            [
             0.1,
             "#c51b7d"
            ],
            [
             0.2,
             "#de77ae"
            ],
            [
             0.3,
             "#f1b6da"
            ],
            [
             0.4,
             "#fde0ef"
            ],
            [
             0.5,
             "#f7f7f7"
            ],
            [
             0.6,
             "#e6f5d0"
            ],
            [
             0.7,
             "#b8e186"
            ],
            [
             0.8,
             "#7fbc41"
            ],
            [
             0.9,
             "#4d9221"
            ],
            [
             1,
             "#276419"
            ]
           ],
           "sequential": [
            [
             0,
             "#0d0887"
            ],
            [
             0.1111111111111111,
             "#46039f"
            ],
            [
             0.2222222222222222,
             "#7201a8"
            ],
            [
             0.3333333333333333,
             "#9c179e"
            ],
            [
             0.4444444444444444,
             "#bd3786"
            ],
            [
             0.5555555555555556,
             "#d8576b"
            ],
            [
             0.6666666666666666,
             "#ed7953"
            ],
            [
             0.7777777777777778,
             "#fb9f3a"
            ],
            [
             0.8888888888888888,
             "#fdca26"
            ],
            [
             1,
             "#f0f921"
            ]
           ],
           "sequentialminus": [
            [
             0,
             "#0d0887"
            ],
            [
             0.1111111111111111,
             "#46039f"
            ],
            [
             0.2222222222222222,
             "#7201a8"
            ],
            [
             0.3333333333333333,
             "#9c179e"
            ],
            [
             0.4444444444444444,
             "#bd3786"
            ],
            [
             0.5555555555555556,
             "#d8576b"
            ],
            [
             0.6666666666666666,
             "#ed7953"
            ],
            [
             0.7777777777777778,
             "#fb9f3a"
            ],
            [
             0.8888888888888888,
             "#fdca26"
            ],
            [
             1,
             "#f0f921"
            ]
           ]
          },
          "colorway": [
           "#636efa",
           "#EF553B",
           "#00cc96",
           "#ab63fa",
           "#FFA15A",
           "#19d3f3",
           "#FF6692",
           "#B6E880",
           "#FF97FF",
           "#FECB52"
          ],
          "font": {
           "color": "#2a3f5f"
          },
          "geo": {
           "bgcolor": "white",
           "lakecolor": "white",
           "landcolor": "#E5ECF6",
           "showlakes": true,
           "showland": true,
           "subunitcolor": "white"
          },
          "hoverlabel": {
           "align": "left"
          },
          "hovermode": "closest",
          "mapbox": {
           "style": "light"
          },
          "paper_bgcolor": "white",
          "plot_bgcolor": "#E5ECF6",
          "polar": {
           "angularaxis": {
            "gridcolor": "white",
            "linecolor": "white",
            "ticks": ""
           },
           "bgcolor": "#E5ECF6",
           "radialaxis": {
            "gridcolor": "white",
            "linecolor": "white",
            "ticks": ""
           }
          },
          "scene": {
           "xaxis": {
            "backgroundcolor": "#E5ECF6",
            "gridcolor": "white",
            "gridwidth": 2,
            "linecolor": "white",
            "showbackground": true,
            "ticks": "",
            "zerolinecolor": "white"
           },
           "yaxis": {
            "backgroundcolor": "#E5ECF6",
            "gridcolor": "white",
            "gridwidth": 2,
            "linecolor": "white",
            "showbackground": true,
            "ticks": "",
            "zerolinecolor": "white"
           },
           "zaxis": {
            "backgroundcolor": "#E5ECF6",
            "gridcolor": "white",
            "gridwidth": 2,
            "linecolor": "white",
            "showbackground": true,
            "ticks": "",
            "zerolinecolor": "white"
           }
          },
          "shapedefaults": {
           "line": {
            "color": "#2a3f5f"
           }
          },
          "ternary": {
           "aaxis": {
            "gridcolor": "white",
            "linecolor": "white",
            "ticks": ""
           },
           "baxis": {
            "gridcolor": "white",
            "linecolor": "white",
            "ticks": ""
           },
           "bgcolor": "#E5ECF6",
           "caxis": {
            "gridcolor": "white",
            "linecolor": "white",
            "ticks": ""
           }
          },
          "title": {
           "x": 0.05
          },
          "xaxis": {
           "automargin": true,
           "gridcolor": "white",
           "linecolor": "white",
           "ticks": "",
           "title": {
            "standoff": 15
           },
           "zerolinecolor": "white",
           "zerolinewidth": 2
          },
          "yaxis": {
           "automargin": true,
           "gridcolor": "white",
           "linecolor": "white",
           "ticks": "",
           "title": {
            "standoff": 15
           },
           "zerolinecolor": "white",
           "zerolinewidth": 2
          }
         }
        },
        "title": {
         "text": "Hyperparameter Importances"
        },
        "xaxis": {
         "title": {
          "text": "Hyperparameter Importance"
         }
        },
        "yaxis": {
         "title": {
          "text": "Hyperparameter"
         }
        }
       }
      }
     },
     "metadata": {},
     "output_type": "display_data"
    }
   ],
   "source": [
    "plot_param_importances(study)"
   ]
  },
  {
   "cell_type": "code",
   "execution_count": null,
   "metadata": {},
   "outputs": [],
   "source": []
  },
  {
   "cell_type": "code",
   "execution_count": 14,
   "metadata": {},
   "outputs": [
    {
     "data": {
      "text/plain": [
       "<AxesSubplot: title={'center': 'Feature importance'}, xlabel='Feature importance', ylabel='Features'>"
      ]
     },
     "execution_count": 14,
     "metadata": {},
     "output_type": "execute_result"
    },
    {
     "data": {
      "image/png": "[encoded data removed]",
      "text/plain": [
       "<Figure size 640x480 with 1 Axes>"
      ]
     },
     "metadata": {},
     "output_type": "display_data"
    }
   ],
   "source": [
    "model = lgb.LGBMClassifier(**study.best_params, metric='auc', device='cpu', verbose=-1, n_jobs=-1, early_stopping_round=200)\n",
    "model.fit(X, y, eval_set=(X_eval, y_eval), categorical_feature=list(cat_features))\n",
    "lgb.plot_importance(model)"
   ]
  },
  {
   "cell_type": "code",
   "execution_count": 34,
   "metadata": {},
   "outputs": [
    {
     "data": {
      "text/plain": [
       "defaultdict(collections.OrderedDict,\n",
       "            {'valid_0': OrderedDict([('auc', 0.8032017315773939)])})"
      ]
     },
     "execution_count": 34,
     "metadata": {},
     "output_type": "execute_result"
    }
   ],
   "source": [
    "model.best_score_"
   ]
  },
  {
   "cell_type": "code",
   "execution_count": 28,
   "metadata": {},
   "outputs": [
    {
     "data": {
      "image/png": "[encoded data removed]",
      "text/plain": [
       "<Figure size 1000x800 with 1 Axes>"
      ]
     },
     "metadata": {},
     "output_type": "display_data"
    }
   ],
   "source": [
    "importances = model.feature_importances_\n",
    "feature_names = X.columns\n",
    "\n",
    "importance_df = pd.DataFrame({\n",
    "    'Feature': feature_names,\n",
    "    'Importance': importances\n",
    "})\n",
    "\n",
    "importance_df = importance_df.sort_values(by='Importance', ascending=False)\n",
    "\n",
    "\n",
    "plt.figure(figsize=(10, 8))\n",
    "plt.barh(importance_df['Feature'][-50:], importance_df['Importance'][-50:], color='skyblue')\n",
    "plt.xlabel('Importance')\n",
    "plt.title('Top 20 Feature Importances')\n",
    "plt.gca().invert_yaxis()  # Invert y-axis to have the highest importance on top\n",
    "plt.show()"
   ]
  },
  {
   "cell_type": "code",
   "execution_count": 46,
   "metadata": {},
   "outputs": [
    {
     "data": {
      "text/plain": [
       "['feature_51',\n",
       " 'feature_354',\n",
       " 'feature_256',\n",
       " 'feature_291',\n",
       " 'feature_11',\n",
       " 'feature_321',\n",
       " 'feature_7',\n",
       " 'feature_296',\n",
       " 'feature_324',\n",
       " 'feature_52',\n",
       " 'feature_45',\n",
       " 'feature_285',\n",
       " 'feature_74',\n",
       " 'feature_384',\n",
       " 'feature_339',\n",
       " 'feature_131',\n",
       " 'feature_114',\n",
       " 'feature_288',\n",
       " 'feature_258',\n",
       " 'feature_344',\n",
       " 'feature_136',\n",
       " 'feature_87',\n",
       " 'feature_94',\n",
       " 'feature_402',\n",
       " 'feature_193',\n",
       " 'feature_281',\n",
       " 'feature_86',\n",
       " 'feature_227',\n",
       " 'feature_282',\n",
       " 'feature_61',\n",
       " 'feature_247',\n",
       " 'feature_195',\n",
       " 'feature_186',\n",
       " 'feature_190',\n",
       " 'feature_394',\n",
       " 'feature_118',\n",
       " 'feature_213',\n",
       " 'feature_371',\n",
       " 'feature_310',\n",
       " 'feature_311',\n",
       " 'feature_25',\n",
       " 'feature_106',\n",
       " 'feature_366',\n",
       " 'feature_278',\n",
       " 'feature_283',\n",
       " 'feature_75',\n",
       " 'feature_39',\n",
       " 'feature_83',\n",
       " 'feature_217',\n",
       " 'feature_381',\n",
       " 'feature_53',\n",
       " 'feature_263',\n",
       " 'feature_300',\n",
       " 'feature_346',\n",
       " 'feature_343',\n",
       " 'feature_58',\n",
       " 'feature_199',\n",
       " 'feature_215',\n",
       " 'feature_233',\n",
       " 'feature_33',\n",
       " 'feature_325',\n",
       " 'feature_228',\n",
       " 'feature_104',\n",
       " 'feature_355',\n",
       " 'feature_412',\n",
       " 'feature_293',\n",
       " 'feature_401',\n",
       " 'feature_175',\n",
       " 'feature_67',\n",
       " 'feature_345',\n",
       " 'feature_2',\n",
       " 'feature_188',\n",
       " 'feature_309',\n",
       " 'feature_387',\n",
       " 'feature_216',\n",
       " 'feature_392',\n",
       " 'feature_251',\n",
       " 'feature_119',\n",
       " 'feature_301',\n",
       " 'feature_159',\n",
       " 'feature_173',\n",
       " 'feature_182',\n",
       " 'feature_262',\n",
       " 'feature_332',\n",
       " 'feature_160',\n",
       " 'feature_206',\n",
       " 'feature_4',\n",
       " 'feature_201',\n",
       " 'feature_407',\n",
       " 'feature_269',\n",
       " 'feature_88',\n",
       " 'feature_378',\n",
       " 'feature_178',\n",
       " 'feature_156',\n",
       " 'feature_359',\n",
       " 'feature_34',\n",
       " 'feature_219',\n",
       " 'feature_145',\n",
       " 'feature_139',\n",
       " 'feature_144',\n",
       " 'feature_26',\n",
       " 'feature_363',\n",
       " 'feature_200',\n",
       " 'feature_364',\n",
       " 'feature_273',\n",
       " 'feature_353',\n",
       " 'feature_150',\n",
       " 'feature_194',\n",
       " 'feature_133',\n",
       " 'feature_100',\n",
       " 'feature_90',\n",
       " 'feature_327',\n",
       " 'feature_96',\n",
       " 'feature_267',\n",
       " 'feature_239',\n",
       " 'feature_357',\n",
       " 'feature_41',\n",
       " 'feature_146',\n",
       " 'feature_226',\n",
       " 'feature_223',\n",
       " 'feature_80',\n",
       " 'feature_369',\n",
       " 'feature_89',\n",
       " 'feature_236',\n",
       " 'feature_203',\n",
       " 'feature_284',\n",
       " 'feature_208',\n",
       " 'feature_185',\n",
       " 'feature_307',\n",
       " 'feature_280',\n",
       " 'feature_38',\n",
       " 'feature_358',\n",
       " 'feature_231',\n",
       " 'feature_243',\n",
       " 'feature_56',\n",
       " 'feature_42',\n",
       " 'feature_380',\n",
       " 'feature_222',\n",
       " 'feature_418',\n",
       " 'feature_138',\n",
       " 'feature_265',\n",
       " 'feature_362',\n",
       " 'feature_277',\n",
       " 'feature_268',\n",
       " 'feature_316',\n",
       " 'feature_29',\n",
       " 'feature_31',\n",
       " 'feature_382',\n",
       " 'feature_229',\n",
       " 'feature_8',\n",
       " 'feature_162',\n",
       " 'feature_389',\n",
       " 'feature_9',\n",
       " 'feature_221',\n",
       " 'feature_374',\n",
       " 'feature_19',\n",
       " 'feature_365',\n",
       " 'feature_167',\n",
       " 'feature_295',\n",
       " 'feature_360',\n",
       " 'feature_76',\n",
       " 'feature_328',\n",
       " 'feature_110',\n",
       " 'feature_297',\n",
       " 'feature_261',\n",
       " 'feature_107',\n",
       " 'feature_91',\n",
       " 'feature_340',\n",
       " 'feature_305',\n",
       " 'feature_99',\n",
       " 'feature_302',\n",
       " 'feature_238',\n",
       " 'feature_16',\n",
       " 'feature_399',\n",
       " 'feature_196',\n",
       " 'feature_406',\n",
       " 'feature_274',\n",
       " 'feature_155',\n",
       " 'feature_250',\n",
       " 'feature_82',\n",
       " 'feature_334',\n",
       " 'feature_294',\n",
       " 'feature_65',\n",
       " 'feature_170',\n",
       " 'feature_347',\n",
       " 'feature_351',\n",
       " 'feature_46',\n",
       " 'feature_245',\n",
       " 'feature_400',\n",
       " 'feature_202',\n",
       " 'feature_241',\n",
       " 'feature_230',\n",
       " 'feature_218',\n",
       " 'feature_292',\n",
       " 'feature_398',\n",
       " 'feature_318',\n",
       " 'feature_391',\n",
       " 'feature_314',\n",
       " 'feature_272',\n",
       " 'feature_1',\n",
       " 'feature_120',\n",
       " 'feature_78',\n",
       " 'feature_59',\n",
       " 'feature_168',\n",
       " 'feature_165',\n",
       " 'feature_24',\n",
       " 'feature_5',\n",
       " 'feature_117',\n",
       " 'feature_189',\n",
       " 'feature_161',\n",
       " 'feature_152',\n",
       " 'feature_47',\n",
       " 'feature_174',\n",
       " 'feature_105',\n",
       " 'feature_257',\n",
       " 'feature_148',\n",
       " 'feature_143',\n",
       " 'feature_249',\n",
       " 'feature_317',\n",
       " 'feature_308',\n",
       " 'feature_264',\n",
       " 'feature_97',\n",
       " 'feature_32',\n",
       " 'feature_336',\n",
       " 'feature_192',\n",
       " 'feature_315',\n",
       " 'feature_414',\n",
       " 'feature_207',\n",
       " 'feature_66',\n",
       " 'feature_124',\n",
       " 'feature_6',\n",
       " 'feature_279',\n",
       " 'feature_286',\n",
       " 'feature_290',\n",
       " 'feature_275',\n",
       " 'feature_337',\n",
       " 'feature_68',\n",
       " 'feature_134',\n",
       " 'feature_72',\n",
       " 'feature_71',\n",
       " 'feature_36',\n",
       " 'feature_210',\n",
       " 'feature_376',\n",
       " 'feature_235',\n",
       " 'feature_319',\n",
       " 'feature_408',\n",
       " 'feature_93',\n",
       " 'feature_177',\n",
       " 'feature_220',\n",
       " 'feature_30',\n",
       " 'feature_166',\n",
       " 'feature_331',\n",
       " 'feature_157',\n",
       " 'feature_326',\n",
       " 'feature_253',\n",
       " 'feature_254',\n",
       " 'feature_209',\n",
       " 'feature_338',\n",
       " 'feature_313',\n",
       " 'feature_246',\n",
       " 'feature_320',\n",
       " 'feature_13',\n",
       " 'feature_276',\n",
       " 'feature_181',\n",
       " 'feature_115',\n",
       " 'feature_130',\n",
       " 'feature_113',\n",
       " 'feature_112',\n",
       " 'feature_172',\n",
       " 'feature_322',\n",
       " 'feature_352',\n",
       " 'feature_368',\n",
       " 'feature_103',\n",
       " 'feature_390',\n",
       " 'feature_141',\n",
       " 'feature_333',\n",
       " 'feature_21',\n",
       " 'feature_385',\n",
       " 'feature_232',\n",
       " 'feature_147',\n",
       " 'feature_234',\n",
       " 'feature_73',\n",
       " 'feature_116',\n",
       " 'feature_289',\n",
       " 'feature_102',\n",
       " 'feature_361',\n",
       " 'feature_123',\n",
       " 'feature_40',\n",
       " 'feature_417',\n",
       " 'feature_191',\n",
       " 'feature_397',\n",
       " 'feature_393',\n",
       " 'feature_18',\n",
       " 'feature_224',\n",
       " 'feature_237',\n",
       " 'feature_379',\n",
       " 'feature_125',\n",
       " 'feature_37',\n",
       " 'feature_151',\n",
       " 'feature_260',\n",
       " 'feature_350',\n",
       " 'feature_63',\n",
       " 'feature_128',\n",
       " 'feature_349',\n",
       " 'feature_55',\n",
       " 'feature_50',\n",
       " 'feature_84',\n",
       " 'feature_27',\n",
       " 'feature_323',\n",
       " 'feature_49',\n",
       " 'feature_348',\n",
       " 'feature_62',\n",
       " 'feature_35',\n",
       " 'feature_403',\n",
       " 'feature_409',\n",
       " 'feature_64',\n",
       " 'feature_95',\n",
       " 'feature_85',\n",
       " 'feature_304',\n",
       " 'feature_211',\n",
       " 'feature_212',\n",
       " 'feature_180',\n",
       " 'feature_158',\n",
       " 'feature_140',\n",
       " 'feature_266',\n",
       " 'feature_132',\n",
       " 'feature_122',\n",
       " 'feature_248',\n",
       " 'feature_225',\n",
       " 'feature_109',\n",
       " 'feature_129',\n",
       " 'feature_395',\n",
       " 'feature_410',\n",
       " 'feature_171',\n",
       " 'feature_163',\n",
       " 'feature_335',\n",
       " 'feature_373',\n",
       " 'feature_377',\n",
       " 'feature_164',\n",
       " 'feature_22',\n",
       " 'feature_388',\n",
       " 'feature_57',\n",
       " 'feature_367',\n",
       " 'feature_44',\n",
       " 'feature_240',\n",
       " 'feature_259',\n",
       " 'feature_197',\n",
       " 'feature_79',\n",
       " 'feature_183',\n",
       " 'feature_356',\n",
       " 'feature_12',\n",
       " 'feature_28',\n",
       " 'feature_413',\n",
       " 'feature_271',\n",
       " 'feature_108',\n",
       " 'feature_111',\n",
       " 'feature_416',\n",
       " 'feature_404',\n",
       " 'feature_179',\n",
       " 'feature_204',\n",
       " 'feature_298',\n",
       " 'feature_169',\n",
       " 'feature_415',\n",
       " 'feature_329',\n",
       " 'feature_43',\n",
       " 'feature_121',\n",
       " 'feature_48',\n",
       " 'feature_184',\n",
       " 'feature_127',\n",
       " 'feature_154',\n",
       " 'feature_214',\n",
       " 'feature_205',\n",
       " 'feature_77',\n",
       " 'feature_370',\n",
       " 'feature_386',\n",
       " 'feature_299',\n",
       " 'feature_176',\n",
       " 'feature_312',\n",
       " 'feature_81',\n",
       " 'feature_405',\n",
       " 'feature_198',\n",
       " 'feature_303',\n",
       " 'feature_69',\n",
       " 'feature_153',\n",
       " 'feature_306',\n",
       " 'feature_137',\n",
       " 'feature_149',\n",
       " 'feature_252',\n",
       " 'feature_242',\n",
       " 'feature_287',\n",
       " 'feature_255',\n",
       " 'feature_70',\n",
       " 'feature_342',\n",
       " 'feature_396',\n",
       " 'feature_98']"
      ]
     },
     "execution_count": 46,
     "metadata": {},
     "output_type": "execute_result"
    }
   ],
   "source": [
    "important_columns = importance_df[importance_df['Importance'] > 0]['Feature'].tolist()\n",
    "important_columns"
   ]
  },
  {
   "cell_type": "code",
   "execution_count": 47,
   "metadata": {},
   "outputs": [],
   "source": [
    "X_important = X[important_columns]\n",
    "X_eval_important = X_eval[important_columns]\n",
    "categorical_important = [col for col in cat_features if col in important_columns]\n"
   ]
  },
  {
   "cell_type": "code",
   "execution_count": 48,
   "metadata": {},
   "outputs": [
    {
     "data": {
      "text/plain": [
       "defaultdict(collections.OrderedDict,\n",
       "            {'valid_0': OrderedDict([('auc', 0.8032017315773939)])})"
      ]
     },
     "execution_count": 48,
     "metadata": {},
     "output_type": "execute_result"
    }
   ],
   "source": [
    "model_imp = lgb.LGBMClassifier(**study.best_params, metric='auc', device='cpu', verbose=-1, n_jobs=-1, early_stopping_round=200)\n",
    "model_imp.fit(X_important, y, eval_set=(X_eval_important, y_eval), categorical_feature=categorical_important)\n",
    "model_imp.best_score_"
   ]
  },
  {
   "cell_type": "markdown",
   "metadata": {},
   "source": [
    "# LightGBM submit ensemble"
   ]
  },
  {
   "cell_type": "code",
   "execution_count": 51,
   "metadata": {},
   "outputs": [
    {
     "name": "stdout",
     "output_type": "stream",
     "text": [
      "0.847798241698527\n",
      "0.8117782909930716\n",
      "0.798599924958436\n",
      "0.7805792351582665\n",
      "0.777738254310376\n",
      "0.772989028260989\n",
      "0.7714461280013712\n",
      "0.7740073699587726\n",
      "0.764623904207622\n",
      "0.7694203466433626\n"
     ]
    }
   ],
   "source": [
    "cv = StratifiedKFold(n_splits=10, shuffle=True, random_state=42, )\n",
    "models = []\n",
    "avg_auc = []\n",
    "for train_index, test_index in cv.split(X, y):\n",
    "    X_train_cv, X_test_cv = X.iloc[train_index], X.iloc[test_index]\n",
    "    y_train_cv, y_test_cv = y.iloc[train_index], y.iloc[test_index]\n",
    "    model = lgb.LGBMClassifier(**study.best_params, metric='auc', device='cpu', verbose=-1, n_jobs=-1, early_stopping_round=200)\n",
    "    model.fit(X_train_cv, y_train_cv, eval_set=(X_test_cv, y_test_cv), categorical_feature=list(cat_features))\n",
    "    avg_auc.append(model.best_score_['valid_0']['auc'])\n",
    "    print(sum(avg_auc) / len(avg_auc))\n",
    "    models.append(model)"
   ]
  },
  {
   "cell_type": "code",
   "execution_count": 56,
   "metadata": {},
   "outputs": [
    {
     "data": {
      "text/plain": [
       "[LGBMClassifier(device='cpu', early_stopping_round=200,\n",
       "                learning_rate=0.020231285075910963, max_depth=24, metric='auc',\n",
       "                min_child_samples=148, min_child_weight=2, n_estimators=402,\n",
       "                n_jobs=-1, reg_alpha=0.504656746519248, verbose=-1),\n",
       " LGBMClassifier(device='cpu', early_stopping_round=200,\n",
       "                learning_rate=0.020231285075910963, max_depth=24, metric='auc',\n",
       "                min_child_samples=148, min_child_weight=2, n_estimators=402,\n",
       "                n_jobs=-1, reg_alpha=0.504656746519248, verbose=-1),\n",
       " LGBMClassifier(device='cpu', early_stopping_round=200,\n",
       "                learning_rate=0.020231285075910963, max_depth=24, metric='auc',\n",
       "                min_child_samples=148, min_child_weight=2, n_estimators=402,\n",
       "                n_jobs=-1, reg_alpha=0.504656746519248, verbose=-1),\n",
       " LGBMClassifier(device='cpu', early_stopping_round=200,\n",
       "                learning_rate=0.020231285075910963, max_depth=24, metric='auc',\n",
       "                min_child_samples=148, min_child_weight=2, n_estimators=402,\n",
       "                n_jobs=-1, reg_alpha=0.504656746519248, verbose=-1),\n",
       " LGBMClassifier(device='cpu', early_stopping_round=200,\n",
       "                learning_rate=0.020231285075910963, max_depth=24, metric='auc',\n",
       "                min_child_samples=148, min_child_weight=2, n_estimators=402,\n",
       "                n_jobs=-1, reg_alpha=0.504656746519248, verbose=-1),\n",
       " LGBMClassifier(device='cpu', early_stopping_round=200,\n",
       "                learning_rate=0.020231285075910963, max_depth=24, metric='auc',\n",
       "                min_child_samples=148, min_child_weight=2, n_estimators=402,\n",
       "                n_jobs=-1, reg_alpha=0.504656746519248, verbose=-1),\n",
       " LGBMClassifier(device='cpu', early_stopping_round=200,\n",
       "                learning_rate=0.020231285075910963, max_depth=24, metric='auc',\n",
       "                min_child_samples=148, min_child_weight=2, n_estimators=402,\n",
       "                n_jobs=-1, reg_alpha=0.504656746519248, verbose=-1),\n",
       " LGBMClassifier(device='cpu', early_stopping_round=200,\n",
       "                learning_rate=0.020231285075910963, max_depth=24, metric='auc',\n",
       "                min_child_samples=148, min_child_weight=2, n_estimators=402,\n",
       "                n_jobs=-1, reg_alpha=0.504656746519248, verbose=-1),\n",
       " LGBMClassifier(device='cpu', early_stopping_round=200,\n",
       "                learning_rate=0.020231285075910963, max_depth=24, metric='auc',\n",
       "                min_child_samples=148, min_child_weight=2, n_estimators=402,\n",
       "                n_jobs=-1, reg_alpha=0.504656746519248, verbose=-1),\n",
       " LGBMClassifier(device='cpu', early_stopping_round=200,\n",
       "                learning_rate=0.020231285075910963, max_depth=24, metric='auc',\n",
       "                min_child_samples=148, min_child_weight=2, n_estimators=402,\n",
       "                n_jobs=-1, reg_alpha=0.504656746519248, verbose=-1)]"
      ]
     },
     "execution_count": 56,
     "metadata": {},
     "output_type": "execute_result"
    }
   ],
   "source": [
    "models"
   ]
  },
  {
   "cell_type": "code",
   "execution_count": 90,
   "metadata": {},
   "outputs": [],
   "source": [
    "from sklearn.linear_model import LogisticRegression\n",
    "from sklearn.metrics import roc_curve, auc\n",
    "from sklearn.model_selection import GridSearchCV\n",
    "ensemble_data = []\n",
    "for model in models:\n",
    "    ensemble_data.append(model.predict_proba(X)[:, 1])\n",
    "ensemble_data = pd.DataFrame(np.array(ensemble_data).T)"
   ]
  },
  {
   "cell_type": "code",
   "execution_count": 92,
   "metadata": {},
   "outputs": [
    {
     "data": {
      "image/png": "[encoded data removed]",
      "text/plain": [
       "<Figure size 640x480 with 1 Axes>"
      ]
     },
     "metadata": {},
     "output_type": "display_data"
    }
   ],
   "source": [
    "linear_model = LogisticRegression().fit(ensemble_data, y)\n",
    "eval_data = []\n",
    "for model in models:\n",
    "    eval_data.append(model.predict_proba(X_eval)[:, 1])\n",
    "eval_data = pd.DataFrame(np.array(eval_data).T)\n",
    "\n",
    "final_preds = linear_model.predict_proba(eval_data)[:, 1]\n",
    "fpr, tpr, threshold = roc_curve(y_eval, final_preds)\n",
    "roc_auc = auc(fpr, tpr)\n",
    "\n",
    "plt.title('Receiver Operating Characteristic')\n",
    "plt.plot(fpr, tpr, 'b', label = 'AUC = %0.2f' % roc_auc)\n",
    "plt.legend(loc = 'lower right')\n",
    "plt.plot([0, 1], [0, 1],'r--')\n",
    "plt.xlim([0, 1])\n",
    "plt.ylim([0, 1])\n",
    "plt.ylabel('True Positive Rate')\n",
    "plt.xlabel('False Positive Rate')\n",
    "plt.show()"
   ]
  },
  {
   "cell_type": "code",
   "execution_count": 88,
   "metadata": {},
   "outputs": [],
   "source": [
    "X_test = X_test.drop(columns=['id'])"
   ]
  },
  {
   "cell_type": "code",
   "execution_count": 93,
   "metadata": {},
   "outputs": [],
   "source": [
    "x_set = []\n",
    "for model in models:\n",
    "    x_set.append(model.predict_proba(X_test)[:, 1])\n",
    "x_set = pd.DataFrame(np.array(x_set).T)\n",
    "y_pred = linear_model.predict_proba(x_set)[:, 1]\n",
    "y_pred = pd.DataFrame(y_pred)\n",
    "y_pred['id'] = ids"
   ]
  },
  {
   "cell_type": "code",
   "execution_count": null,
   "metadata": {},
   "outputs": [],
   "source": [
    "y_pred.columns = ['target', 'id']\n",
    "y_pred = y_pred[['id', 'target']]\n",
    "y_pred.to_csv('submission.csv', index=False)\n"
   ]
  },
  {
   "cell_type": "code",
   "execution_count": null,
   "metadata": {},
   "outputs": [
    {
     "data": {
      "text/plain": [
       "39"
      ]
     },
     "execution_count": 98,
     "metadata": {},
     "output_type": "execute_result"
    }
   ],
   "source": [
    "(y_pred.target > 0.5)"
   ]
  }
 ],
 "metadata": {
  "kernelspec": {
   "display_name": "base",
   "language": "python",
   "name": "python3"
  },
  "language_info": {
   "codemirror_mode": {
    "name": "ipython",
    "version": 3
   },
   "file_extension": ".py",
   "mimetype": "text/x-python",
   "name": "python",
   "nbconvert_exporter": "python",
   "pygments_lexer": "ipython3",
   "version": "3.9.18"
  }
 },
 "nbformat": 4,
 "nbformat_minor": 2
}
