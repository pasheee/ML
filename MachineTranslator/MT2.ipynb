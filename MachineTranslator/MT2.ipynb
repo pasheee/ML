{
 "cells": [
  {
   "cell_type": "code",
   "execution_count": 4,
   "id": "412c94f4-c7f6-46dc-82b9-104125ef8797",
   "metadata": {},
   "outputs": [],
   "source": [
    "import nltk\n",
    "import torch\n",
    "import torch.nn as nn\n",
    "from nltk.tokenize import RegexpTokenizer\n",
    "from torch.utils.data import Dataset, DataLoader\n",
    "from WordDataset import WordDataset\n",
    "from Translator import Translator\n",
    "from tqdm import tqdm\n",
    "import matplotlib.pyplot as plt\n",
    "\n",
    "device = torch.device('cuda')\n",
    "torch.cuda.empty_cache()"
   ]
  },
  {
   "cell_type": "code",
   "execution_count": 5,
   "id": "0f033578-275d-4e94-ae1b-fcbaa7100fae",
   "metadata": {},
   "outputs": [],
   "source": [
    "source = []\n",
    "target = []\n",
    "\n",
    "with open('rus.txt') as f:\n",
    "    for line in f:\n",
    "        t, s = line.split('\\t')[:2]\n",
    "        target.append(s.lower())\n",
    "        source.append(t.lower())\n",
    "\n",
    "tokenizer = RegexpTokenizer(r\"[\\w']+\") \n",
    "\n",
    "target_bag_of_words = []\n",
    "source_bag_of_words = []\n",
    "\n",
    "target_sentences = []\n",
    "source_sentences = []\n",
    "\n",
    "for i in range(len(target)):\n",
    "    t_sent = target[i]\n",
    "    s_sent = source[i]\n",
    "    t_tokens = tokenizer.tokenize(t_sent)\n",
    "    s_tokens = tokenizer.tokenize(s_sent)\n",
    "    \n",
    "    target_bag_of_words.extend(t_tokens)\n",
    "    source_bag_of_words.extend(s_tokens)\n",
    "\n",
    "    target_sentences.append(t_tokens)\n",
    "    source_sentences.append(s_tokens)\n",
    "    \n",
    "\n",
    "special_symbols = ['<SOS>', '<EOS>', '<PAD>', '<UNK>']\n",
    "\n",
    "target_bag_of_words.extend(special_symbols)\n",
    "source_bag_of_words.extend(special_symbols)\n",
    "target_bag_of_words = set(target_bag_of_words)\n",
    "source_bag_of_words = set(source_bag_of_words)\n",
    "\n",
    "source_word2ind = {word: ind for ind, word in enumerate(source_bag_of_words)}\n",
    "target_word2ind = {word: ind for ind, word in enumerate(target_bag_of_words)}\n",
    "source_ind2word = {ind: word for ind, word in enumerate(source_bag_of_words)}\n",
    "target_ind2word = {ind: word for ind, word in enumerate(target_bag_of_words)}\n"
   ]
  },
  {
   "cell_type": "code",
   "execution_count": 6,
   "id": "f2a7e47d-5cfa-4fce-8381-cc8ff991528f",
   "metadata": {},
   "outputs": [],
   "source": [
    "del target_bag_of_words\n",
    "del source_bag_of_words\n",
    "del special_symbols"
   ]
  },
  {
   "cell_type": "code",
   "execution_count": 7,
   "id": "e359bea2-c10d-41a2-900f-6c6c9ee76008",
   "metadata": {},
   "outputs": [],
   "source": [
    "max_len = max(max([len(sentence) for sentence in target_sentences]), max([len(sentence) for sentence in source_sentences]))"
   ]
  },
  {
   "cell_type": "code",
   "execution_count": 8,
   "id": "37042454-ce5a-46e4-8b23-5180eab999f5",
   "metadata": {},
   "outputs": [],
   "source": [
    "dataset = WordDataset(source_sentences, target_sentences, source_word2ind, target_word2ind, max_len = 2)\n",
    "dataloader = DataLoader(dataset, batch_size=1100, shuffle=True)"
   ]
  },
  {
   "cell_type": "code",
   "execution_count": 9,
   "id": "0ecc545e-c992-4a24-a117-a77410291635",
   "metadata": {},
   "outputs": [],
   "source": [
    "def train_model(model, criterion, optimizer, dataloader, num_epoch):\n",
    "    model.train()\n",
    "    losses = []\n",
    "    for epoch in range(1, num_epoch+1):\n",
    "        print(f'epoch:{epoch}')\n",
    "        for source, target in tqdm(dataloader):\n",
    "            optimizer.zero_grad()\n",
    "            \n",
    "            target_input = target[:, :-1].to(device)\n",
    "            target_output = target[:, 1:].to(device).flatten(start_dim = 0, end_dim = 1)\n",
    "\n",
    "            outp = model(source.to(device), target_input).squeeze()\n",
    "            outp = outp.flatten(start_dim = 0, end_dim = 1)\n",
    "\n",
    "            \n",
    "            loss = criterion(outp.to(device), target_output)\n",
    "            loss.backward()\n",
    "            optimizer.step()\n",
    "\n",
    "            \n",
    "            losses.append(loss.item())\n",
    "            \n",
    "    \n",
    "    return losses\n",
    "            "
   ]
  },
  {
   "cell_type": "code",
   "execution_count": 10,
   "id": "7b3bdca9-906b-449e-b348-9bb54f2e7087",
   "metadata": {},
   "outputs": [
    {
     "name": "stdout",
     "output_type": "stream",
     "text": [
      "53270\n"
     ]
    }
   ],
   "source": [
    "print(len(target_word2ind))"
   ]
  },
  {
   "cell_type": "code",
   "execution_count": 38,
   "id": "82925db7-f427-4d44-8bc1-742f20078c13",
   "metadata": {},
   "outputs": [],
   "source": [
    "model = Translator(len(source_word2ind), len(target_word2ind), 1024, dropout_prob=0.1).to(device)\n",
    "criterion = nn.CrossEntropyLoss(label_smoothing=0.1, ignore_index=target_word2ind['<PAD>'])\n",
    "optimizer = torch.optim.Adam(model.parameters(), weight_decay=1e-5)"
   ]
  },
  {
   "cell_type": "code",
   "execution_count": 39,
   "id": "428fc442-93dc-4db2-a12c-bde311eb2a20",
   "metadata": {},
   "outputs": [
    {
     "name": "stdout",
     "output_type": "stream",
     "text": [
      "epoch:1\n"
     ]
    },
    {
     "name": "stderr",
     "output_type": "stream",
     "text": [
      "100%|██████████| 331/331 [01:25<00:00,  3.87it/s]\n"
     ]
    },
    {
     "name": "stdout",
     "output_type": "stream",
     "text": [
      "epoch:2\n"
     ]
    },
    {
     "name": "stderr",
     "output_type": "stream",
     "text": [
      "100%|██████████| 331/331 [01:25<00:00,  3.85it/s]\n"
     ]
    }
   ],
   "source": [
    "losses = train_model(model, criterion, optimizer, dataloader, 2)"
   ]
  },
  {
   "cell_type": "code",
   "execution_count": 41,
   "id": "3c279919-6bf7-42a3-a143-0f2727d644a9",
   "metadata": {},
   "outputs": [
    {
     "data": {
      "image/png": "[encoded data removed]",
      "text/plain": [
       "<Figure size 640x480 with 1 Axes>"
      ]
     },
     "metadata": {},
     "output_type": "display_data"
    }
   ],
   "source": [
    "plt.plot(losses)\n",
    "plt.show()"
   ]
  },
  {
   "cell_type": "code",
   "execution_count": 49,
   "id": "2f171a6c-b999-4fb7-b26a-52fa22930d22",
   "metadata": {},
   "outputs": [],
   "source": [
    "import torch.nn.functional as F\n",
    "def translate_sentence(model, sentence, tokenizer, device='cuda', max_length=2, temperature = 1):\n",
    "    model.eval()\n",
    "    \n",
    "    source_tokens = tokenizer.tokenize(sentence)\n",
    "    # Добавляем размерность батча\n",
    "    source_tokens = [source_word2ind['<SOS>']]+[source_word2ind[word] for word in source_tokens]\n",
    "    for _ in range(max_len+1 - len(source_tokens)):\n",
    "        source_tokens += [source_word2ind['<PAD>']]\n",
    "    source_tokens += [source_word2ind['<EOS>']]\n",
    "    source_tensor = torch.LongTensor([source_tokens]).to(device)\n",
    "    # source_tensor = torch.LongTensor([[source_word2ind[word] for word in source_tokens]]).to(device)\n",
    "    target_tokens = [target_word2ind['<SOS>']]\n",
    "    \n",
    "    with torch.no_grad():\n",
    "        source_embeddings = model.source_embeddings(source_tensor)  \n",
    "        _, hidden = model.encoder(source_embeddings) \n",
    "        for _ in range(max_length):\n",
    "            target_tensor = torch.LongTensor([target_tokens]).to(device) \n",
    "            \n",
    "            target_embeddings = model.target_embeddings(target_tensor)  \n",
    "            \n",
    "            output, _ = model.decoder(target_embeddings, hidden)\n",
    "            output = model.non_lin(model.linear(output))\n",
    "            logits = model.projection(output)/temperature\n",
    "            \n",
    "            probabilities = F.softmax(logits[0, -1], dim=-1)\n",
    "            next_token = torch.multinomial(probabilities, num_samples=1).item()\n",
    "            target_tokens.append(next_token)\n",
    "            \n",
    "            if next_token == target_word2ind['<EOS>']:\n",
    "                break\n",
    "    \n",
    "    translated_tokens = target_tokens[1:-1] \n",
    "    translated_sentence = \" \".join(target_ind2word[idx] for idx in translated_tokens)\n",
    "    \n",
    "    return translated_sentence"
   ]
  },
  {
   "cell_type": "code",
   "execution_count": 51,
   "id": "606e4fcd-1df4-4804-9998-745ebf5f830b",
   "metadata": {},
   "outputs": [
    {
     "data": {
      "text/plain": [
       "'том не просто просто просто просто надеялся просто надеялся'"
      ]
     },
     "execution_count": 51,
     "metadata": {},
     "output_type": "execute_result"
    }
   ],
   "source": [
    "translate_sentence(model, 'say',  tokenizer, max_length = 10, temperature = 0.001)"
   ]
  },
  {
   "cell_type": "code",
   "execution_count": null,
   "id": "ed6fdb62-6efd-4e72-a537-4ddcf0d414d0",
   "metadata": {},
   "outputs": [],
   "source": []
  }
 ],
 "metadata": {
  "kernelspec": {
   "display_name": "Python 3 (ipykernel)",
   "language": "python",
   "name": "python3"
  },
  "language_info": {
   "codemirror_mode": {
    "name": "ipython",
    "version": 3
   },
   "file_extension": ".py",
   "mimetype": "text/x-python",
   "name": "python",
   "nbconvert_exporter": "python",
   "pygments_lexer": "ipython3",
   "version": "3.12.2"
  }
 },
 "nbformat": 4,
 "nbformat_minor": 5
}
