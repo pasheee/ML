{
 "cells": [
  {
   "cell_type": "code",
   "execution_count": 2,
   "id": "412c94f4-c7f6-46dc-82b9-104125ef8797",
   "metadata": {},
   "outputs": [],
   "source": [
    "import nltk\n",
    "import torch\n",
    "import torch.nn as nn\n",
    "from nltk.tokenize import RegexpTokenizer\n",
    "from torch.utils.data import Dataset, DataLoader\n",
    "from WordDataset import WordDataset\n",
    "from Translator import Translator\n",
    "from tqdm import tqdm\n",
    "import matplotlib.pyplot as plt\n",
    "\n",
    "device = torch.device('cuda')\n",
    "torch.cuda.empty_cache()"
   ]
  },
  {
   "cell_type": "code",
   "execution_count": 3,
   "id": "0f033578-275d-4e94-ae1b-fcbaa7100fae",
   "metadata": {},
   "outputs": [],
   "source": [
    "source = []\n",
    "target = []\n",
    "\n",
    "with open('rus.txt') as f:\n",
    "    for line in f:\n",
    "        t, s = line.split('\\t')[:2]\n",
    "        target.append(s.lower())\n",
    "        source.append(t.lower())\n",
    "\n",
    "tokenizer = RegexpTokenizer(r\"[\\w']+\") \n",
    "\n",
    "target_bag_of_words = []\n",
    "source_bag_of_words = []\n",
    "\n",
    "target_sentences = []\n",
    "source_sentences = []\n",
    "\n",
    "for i in range(len(target)):\n",
    "    t_sent = target[i]\n",
    "    s_sent = source[i]\n",
    "    t_tokens = tokenizer.tokenize(t_sent)\n",
    "    s_tokens = tokenizer.tokenize(s_sent)\n",
    "    \n",
    "    target_bag_of_words.extend(t_tokens)\n",
    "    source_bag_of_words.extend(s_tokens)\n",
    "\n",
    "    target_sentences.append(t_tokens)\n",
    "    source_sentences.append(s_tokens)\n",
    "    \n",
    "\n",
    "special_symbols = ['<SOS>', '<EOS>', '<PAD>', '<UNK>']\n",
    "\n",
    "target_bag_of_words.extend(special_symbols)\n",
    "source_bag_of_words.extend(special_symbols)\n",
    "target_bag_of_words = set(target_bag_of_words)\n",
    "source_bag_of_words = set(source_bag_of_words)\n",
    "\n",
    "source_word2ind = {word: ind for ind, word in enumerate(source_bag_of_words)}\n",
    "target_word2ind = {word: ind for ind, word in enumerate(target_bag_of_words)}\n",
    "source_ind2word = {ind: word for ind, word in enumerate(source_bag_of_words)}\n",
    "target_ind2word = {ind: word for ind, word in enumerate(target_bag_of_words)}\n"
   ]
  },
  {
   "cell_type": "code",
   "execution_count": 4,
   "id": "f2a7e47d-5cfa-4fce-8381-cc8ff991528f",
   "metadata": {},
   "outputs": [],
   "source": [
    "del target_bag_of_words\n",
    "del source_bag_of_words\n",
    "del special_symbols"
   ]
  },
  {
   "cell_type": "code",
   "execution_count": 5,
   "id": "e359bea2-c10d-41a2-900f-6c6c9ee76008",
   "metadata": {},
   "outputs": [],
   "source": [
    "max_len = max(max([len(sentence) for sentence in target_sentences]), max([len(sentence) for sentence in source_sentences]))"
   ]
  },
  {
   "cell_type": "code",
   "execution_count": 6,
   "id": "37042454-ce5a-46e4-8b23-5180eab999f5",
   "metadata": {},
   "outputs": [],
   "source": [
    "dataset = WordDataset(source_sentences, target_sentences, source_word2ind, target_word2ind, max_len = 4)\n",
    "dataloader = DataLoader(dataset, batch_size=1000, shuffle=True)"
   ]
  },
  {
   "cell_type": "code",
   "execution_count": 7,
   "id": "0ecc545e-c992-4a24-a117-a77410291635",
   "metadata": {},
   "outputs": [],
   "source": [
    "def train_model(model, criterion, optimizer, dataloader, num_epoch):\n",
    "    model.train()\n",
    "    losses = []\n",
    "    for epoch in range(1, num_epoch+1):\n",
    "        print(f'epoch:{epoch}')\n",
    "        for source, target in tqdm(dataloader):\n",
    "            optimizer.zero_grad()\n",
    "            \n",
    "            target_input = target[:, :-1].to(device)\n",
    "            target_output = target[:, 1:].to(device).flatten(start_dim = 0, end_dim = 1)\n",
    "\n",
    "            outp = model(source.to(device), target_input).squeeze()\n",
    "            outp = outp.flatten(start_dim = 0, end_dim = 1)\n",
    "\n",
    "            \n",
    "            loss = criterion(outp.to(device), target_output)\n",
    "            loss.backward()\n",
    "            optimizer.step()\n",
    "\n",
    "            \n",
    "            losses.append(loss.item())\n",
    "            \n",
    "    \n",
    "    return losses\n",
    "            "
   ]
  },
  {
   "cell_type": "code",
   "execution_count": 8,
   "id": "7b3bdca9-906b-449e-b348-9bb54f2e7087",
   "metadata": {},
   "outputs": [
    {
     "name": "stdout",
     "output_type": "stream",
     "text": [
      "53270\n"
     ]
    }
   ],
   "source": [
    "print(len(target_word2ind))"
   ]
  },
  {
   "cell_type": "code",
   "execution_count": 9,
   "id": "82925db7-f427-4d44-8bc1-742f20078c13",
   "metadata": {},
   "outputs": [],
   "source": [
    "model = Translator(len(source_word2ind), len(target_word2ind), 512, dropout_prob=0.1).to(device)\n",
    "criterion = nn.CrossEntropyLoss()\n",
    "optimizer = torch.optim.Adam(model.parameters())"
   ]
  },
  {
   "cell_type": "code",
   "execution_count": 10,
   "id": "428fc442-93dc-4db2-a12c-bde311eb2a20",
   "metadata": {},
   "outputs": [
    {
     "name": "stdout",
     "output_type": "stream",
     "text": [
      "epoch:1\n"
     ]
    },
    {
     "name": "stderr",
     "output_type": "stream",
     "text": [
      "100%|██████████| 364/364 [03:13<00:00,  1.88it/s]\n"
     ]
    }
   ],
   "source": [
    "losses = train_model(model, criterion, optimizer, dataloader, 1)"
   ]
  },
  {
   "cell_type": "code",
   "execution_count": 11,
   "id": "3c279919-6bf7-42a3-a143-0f2727d644a9",
   "metadata": {},
   "outputs": [
    {
     "data": {
      "image/png": "[encoded data removed]",
      "text/plain": [
       "<Figure size 640x480 with 1 Axes>"
      ]
     },
     "metadata": {},
     "output_type": "display_data"
    }
   ],
   "source": [
    "plt.plot(losses)\n",
    "plt.show()"
   ]
  },
  {
   "cell_type": "code",
   "execution_count": 12,
   "id": "2f171a6c-b999-4fb7-b26a-52fa22930d22",
   "metadata": {},
   "outputs": [],
   "source": [
    "import torch.nn.functional as F\n",
    "def translate_sentence(model, sentence, tokenizer, device='cuda', max_length=5, temperature = 1):\n",
    "    model.eval()\n",
    "    \n",
    "    source_tokens = tokenizer.tokenize(sentence)\n",
    "    # Добавляем размерность батча\n",
    "    source_tensor = torch.LongTensor([[source_word2ind['<SOS>']]+[source_word2ind[word] for word in source_tokens]+[source_word2ind['<EOS>']]]).to(device)\n",
    "    # source_tensor = torch.LongTensor([[source_word2ind[word] for word in source_tokens]]).to(device)\n",
    "    target_tokens = [target_word2ind['<SOS>']]\n",
    "    \n",
    "    with torch.no_grad():\n",
    "        source_embeddings = model.source_embeddings(source_tensor)  \n",
    "        _, (hidden, cell) = model.encoder(source_embeddings) \n",
    "        hidden = torch.cat((hidden[0], hidden[1]), dim=1).unsqueeze(0)\n",
    "        cell = torch.cat((cell[0], cell[1]), dim=1).unsqueeze(0)\n",
    "        for _ in range(max_length):\n",
    "            target_tensor = torch.LongTensor([target_tokens]).to(device) \n",
    "            \n",
    "            target_embeddings = model.target_embeddings(target_tensor)  \n",
    "            \n",
    "            output, _ = model.decoder(target_embeddings, (hidden, cell)))\n",
    "            output = model.non_lin(model.linear2(model.non_lin(model.linear(model.non_lin(output)))))\n",
    "            logits = model.projection(output)/temperature\n",
    "            \n",
    "            probabilities = F.softmax(logits[0, -1], dim=-1)\n",
    "            next_token = torch.multinomial(probabilities, num_samples=1).item()\n",
    "            target_tokens.append(next_token)\n",
    "            \n",
    "            if next_token == target_word2ind['<EOS>']:\n",
    "                break\n",
    "    \n",
    "    translated_tokens = target_tokens[1:-1] \n",
    "    translated_sentence = \" \".join(target_ind2word[idx] for idx in translated_tokens)\n",
    "    \n",
    "    return translated_sentence"
   ]
  },
  {
   "cell_type": "code",
   "execution_count": 13,
   "id": "606e4fcd-1df4-4804-9998-745ebf5f830b",
   "metadata": {},
   "outputs": [
    {
     "ename": "RuntimeError",
     "evalue": "Expected hidden[0] size (1, 1, 1024), got [2, 1, 512]",
     "output_type": "error",
     "traceback": [
      "\u001b[0;31m---------------------------------------------------------------------------\u001b[0m",
      "\u001b[0;31mRuntimeError\u001b[0m                              Traceback (most recent call last)",
      "Cell \u001b[0;32mIn[13], line 1\u001b[0m\n\u001b[0;32m----> 1\u001b[0m translate_sentence(model, \u001b[38;5;124m'\u001b[39m\u001b[38;5;124mhello\u001b[39m\u001b[38;5;124m'\u001b[39m,  tokenizer, max_length \u001b[38;5;241m=\u001b[39m \u001b[38;5;241m10\u001b[39m, temperature \u001b[38;5;241m=\u001b[39m \u001b[38;5;241m0.1\u001b[39m)\n",
      "Cell \u001b[0;32mIn[12], line 20\u001b[0m, in \u001b[0;36mtranslate_sentence\u001b[0;34m(model, sentence, tokenizer, device, max_length, temperature)\u001b[0m\n\u001b[1;32m     16\u001b[0m target_tensor \u001b[38;5;241m=\u001b[39m torch\u001b[38;5;241m.\u001b[39mLongTensor([target_tokens])\u001b[38;5;241m.\u001b[39mto(device) \n\u001b[1;32m     18\u001b[0m target_embeddings \u001b[38;5;241m=\u001b[39m model\u001b[38;5;241m.\u001b[39mtarget_embeddings(target_tensor)  \n\u001b[0;32m---> 20\u001b[0m output, _ \u001b[38;5;241m=\u001b[39m model\u001b[38;5;241m.\u001b[39mdecoder(target_embeddings, encoded_hidden)\n\u001b[1;32m     21\u001b[0m output \u001b[38;5;241m=\u001b[39m model\u001b[38;5;241m.\u001b[39mnon_lin(model\u001b[38;5;241m.\u001b[39mlinear2(model\u001b[38;5;241m.\u001b[39mnon_lin(model\u001b[38;5;241m.\u001b[39mlinear(model\u001b[38;5;241m.\u001b[39mnon_lin(output)))))\n\u001b[1;32m     22\u001b[0m logits \u001b[38;5;241m=\u001b[39m model\u001b[38;5;241m.\u001b[39mprojection(output)\u001b[38;5;241m/\u001b[39mtemperature\n",
      "File \u001b[0;32m~/anaconda3/lib/python3.12/site-packages/torch/nn/modules/module.py:1736\u001b[0m, in \u001b[0;36mModule._wrapped_call_impl\u001b[0;34m(self, *args, **kwargs)\u001b[0m\n\u001b[1;32m   1734\u001b[0m     \u001b[38;5;28;01mreturn\u001b[39;00m \u001b[38;5;28mself\u001b[39m\u001b[38;5;241m.\u001b[39m_compiled_call_impl(\u001b[38;5;241m*\u001b[39margs, \u001b[38;5;241m*\u001b[39m\u001b[38;5;241m*\u001b[39mkwargs)  \u001b[38;5;66;03m# type: ignore[misc]\u001b[39;00m\n\u001b[1;32m   1735\u001b[0m \u001b[38;5;28;01melse\u001b[39;00m:\n\u001b[0;32m-> 1736\u001b[0m     \u001b[38;5;28;01mreturn\u001b[39;00m \u001b[38;5;28mself\u001b[39m\u001b[38;5;241m.\u001b[39m_call_impl(\u001b[38;5;241m*\u001b[39margs, \u001b[38;5;241m*\u001b[39m\u001b[38;5;241m*\u001b[39mkwargs)\n",
      "File \u001b[0;32m~/anaconda3/lib/python3.12/site-packages/torch/nn/modules/module.py:1747\u001b[0m, in \u001b[0;36mModule._call_impl\u001b[0;34m(self, *args, **kwargs)\u001b[0m\n\u001b[1;32m   1742\u001b[0m \u001b[38;5;66;03m# If we don't have any hooks, we want to skip the rest of the logic in\u001b[39;00m\n\u001b[1;32m   1743\u001b[0m \u001b[38;5;66;03m# this function, and just call forward.\u001b[39;00m\n\u001b[1;32m   1744\u001b[0m \u001b[38;5;28;01mif\u001b[39;00m \u001b[38;5;129;01mnot\u001b[39;00m (\u001b[38;5;28mself\u001b[39m\u001b[38;5;241m.\u001b[39m_backward_hooks \u001b[38;5;129;01mor\u001b[39;00m \u001b[38;5;28mself\u001b[39m\u001b[38;5;241m.\u001b[39m_backward_pre_hooks \u001b[38;5;129;01mor\u001b[39;00m \u001b[38;5;28mself\u001b[39m\u001b[38;5;241m.\u001b[39m_forward_hooks \u001b[38;5;129;01mor\u001b[39;00m \u001b[38;5;28mself\u001b[39m\u001b[38;5;241m.\u001b[39m_forward_pre_hooks\n\u001b[1;32m   1745\u001b[0m         \u001b[38;5;129;01mor\u001b[39;00m _global_backward_pre_hooks \u001b[38;5;129;01mor\u001b[39;00m _global_backward_hooks\n\u001b[1;32m   1746\u001b[0m         \u001b[38;5;129;01mor\u001b[39;00m _global_forward_hooks \u001b[38;5;129;01mor\u001b[39;00m _global_forward_pre_hooks):\n\u001b[0;32m-> 1747\u001b[0m     \u001b[38;5;28;01mreturn\u001b[39;00m forward_call(\u001b[38;5;241m*\u001b[39margs, \u001b[38;5;241m*\u001b[39m\u001b[38;5;241m*\u001b[39mkwargs)\n\u001b[1;32m   1749\u001b[0m result \u001b[38;5;241m=\u001b[39m \u001b[38;5;28;01mNone\u001b[39;00m\n\u001b[1;32m   1750\u001b[0m called_always_called_hooks \u001b[38;5;241m=\u001b[39m \u001b[38;5;28mset\u001b[39m()\n",
      "File \u001b[0;32m~/anaconda3/lib/python3.12/site-packages/torch/nn/modules/rnn.py:1119\u001b[0m, in \u001b[0;36mLSTM.forward\u001b[0;34m(self, input, hx)\u001b[0m\n\u001b[1;32m   1116\u001b[0m             hx \u001b[38;5;241m=\u001b[39m (hx[\u001b[38;5;241m0\u001b[39m]\u001b[38;5;241m.\u001b[39munsqueeze(\u001b[38;5;241m1\u001b[39m), hx[\u001b[38;5;241m1\u001b[39m]\u001b[38;5;241m.\u001b[39munsqueeze(\u001b[38;5;241m1\u001b[39m))\n\u001b[1;32m   1117\u001b[0m         \u001b[38;5;66;03m# Each batch of the hidden state should match the input sequence that\u001b[39;00m\n\u001b[1;32m   1118\u001b[0m         \u001b[38;5;66;03m# the user believes he/she is passing in.\u001b[39;00m\n\u001b[0;32m-> 1119\u001b[0m         \u001b[38;5;28mself\u001b[39m\u001b[38;5;241m.\u001b[39mcheck_forward_args(\u001b[38;5;28minput\u001b[39m, hx, batch_sizes)\n\u001b[1;32m   1120\u001b[0m         hx \u001b[38;5;241m=\u001b[39m \u001b[38;5;28mself\u001b[39m\u001b[38;5;241m.\u001b[39mpermute_hidden(hx, sorted_indices)\n\u001b[1;32m   1122\u001b[0m \u001b[38;5;28;01mif\u001b[39;00m batch_sizes \u001b[38;5;129;01mis\u001b[39;00m \u001b[38;5;28;01mNone\u001b[39;00m:\n",
      "File \u001b[0;32m~/anaconda3/lib/python3.12/site-packages/torch/nn/modules/rnn.py:1001\u001b[0m, in \u001b[0;36mLSTM.check_forward_args\u001b[0;34m(self, input, hidden, batch_sizes)\u001b[0m\n\u001b[1;32m    994\u001b[0m \u001b[38;5;28;01mdef\u001b[39;00m \u001b[38;5;21mcheck_forward_args\u001b[39m(\n\u001b[1;32m    995\u001b[0m     \u001b[38;5;28mself\u001b[39m,\n\u001b[1;32m    996\u001b[0m     \u001b[38;5;28minput\u001b[39m: Tensor,\n\u001b[1;32m    997\u001b[0m     hidden: Tuple[Tensor, Tensor],  \u001b[38;5;66;03m# type: ignore[override]\u001b[39;00m\n\u001b[1;32m    998\u001b[0m     batch_sizes: Optional[Tensor],\n\u001b[1;32m    999\u001b[0m ):\n\u001b[1;32m   1000\u001b[0m     \u001b[38;5;28mself\u001b[39m\u001b[38;5;241m.\u001b[39mcheck_input(\u001b[38;5;28minput\u001b[39m, batch_sizes)\n\u001b[0;32m-> 1001\u001b[0m     \u001b[38;5;28mself\u001b[39m\u001b[38;5;241m.\u001b[39mcheck_hidden_size(\n\u001b[1;32m   1002\u001b[0m         hidden[\u001b[38;5;241m0\u001b[39m],\n\u001b[1;32m   1003\u001b[0m         \u001b[38;5;28mself\u001b[39m\u001b[38;5;241m.\u001b[39mget_expected_hidden_size(\u001b[38;5;28minput\u001b[39m, batch_sizes),\n\u001b[1;32m   1004\u001b[0m         \u001b[38;5;124m\"\u001b[39m\u001b[38;5;124mExpected hidden[0] size \u001b[39m\u001b[38;5;132;01m{}\u001b[39;00m\u001b[38;5;124m, got \u001b[39m\u001b[38;5;132;01m{}\u001b[39;00m\u001b[38;5;124m\"\u001b[39m,\n\u001b[1;32m   1005\u001b[0m     )\n\u001b[1;32m   1006\u001b[0m     \u001b[38;5;28mself\u001b[39m\u001b[38;5;241m.\u001b[39mcheck_hidden_size(\n\u001b[1;32m   1007\u001b[0m         hidden[\u001b[38;5;241m1\u001b[39m],\n\u001b[1;32m   1008\u001b[0m         \u001b[38;5;28mself\u001b[39m\u001b[38;5;241m.\u001b[39mget_expected_cell_size(\u001b[38;5;28minput\u001b[39m, batch_sizes),\n\u001b[1;32m   1009\u001b[0m         \u001b[38;5;124m\"\u001b[39m\u001b[38;5;124mExpected hidden[1] size \u001b[39m\u001b[38;5;132;01m{}\u001b[39;00m\u001b[38;5;124m, got \u001b[39m\u001b[38;5;132;01m{}\u001b[39;00m\u001b[38;5;124m\"\u001b[39m,\n\u001b[1;32m   1010\u001b[0m     )\n",
      "File \u001b[0;32m~/anaconda3/lib/python3.12/site-packages/torch/nn/modules/rnn.py:345\u001b[0m, in \u001b[0;36mRNNBase.check_hidden_size\u001b[0;34m(self, hx, expected_hidden_size, msg)\u001b[0m\n\u001b[1;32m    338\u001b[0m \u001b[38;5;28;01mdef\u001b[39;00m \u001b[38;5;21mcheck_hidden_size\u001b[39m(\n\u001b[1;32m    339\u001b[0m     \u001b[38;5;28mself\u001b[39m,\n\u001b[1;32m    340\u001b[0m     hx: Tensor,\n\u001b[1;32m    341\u001b[0m     expected_hidden_size: Tuple[\u001b[38;5;28mint\u001b[39m, \u001b[38;5;28mint\u001b[39m, \u001b[38;5;28mint\u001b[39m],\n\u001b[1;32m    342\u001b[0m     msg: \u001b[38;5;28mstr\u001b[39m \u001b[38;5;241m=\u001b[39m \u001b[38;5;124m\"\u001b[39m\u001b[38;5;124mExpected hidden size \u001b[39m\u001b[38;5;132;01m{}\u001b[39;00m\u001b[38;5;124m, got \u001b[39m\u001b[38;5;132;01m{}\u001b[39;00m\u001b[38;5;124m\"\u001b[39m,\n\u001b[1;32m    343\u001b[0m ) \u001b[38;5;241m-\u001b[39m\u001b[38;5;241m>\u001b[39m \u001b[38;5;28;01mNone\u001b[39;00m:\n\u001b[1;32m    344\u001b[0m     \u001b[38;5;28;01mif\u001b[39;00m hx\u001b[38;5;241m.\u001b[39msize() \u001b[38;5;241m!=\u001b[39m expected_hidden_size:\n\u001b[0;32m--> 345\u001b[0m         \u001b[38;5;28;01mraise\u001b[39;00m \u001b[38;5;167;01mRuntimeError\u001b[39;00m(msg\u001b[38;5;241m.\u001b[39mformat(expected_hidden_size, \u001b[38;5;28mlist\u001b[39m(hx\u001b[38;5;241m.\u001b[39msize())))\n",
      "\u001b[0;31mRuntimeError\u001b[0m: Expected hidden[0] size (1, 1, 1024), got [2, 1, 512]"
     ]
    }
   ],
   "source": [
    "translate_sentence(model, 'hello',  tokenizer, max_length = 10, temperature = 0.1)"
   ]
  },
  {
   "cell_type": "code",
   "execution_count": null,
   "id": "a240e31d-6fe2-454a-b6c8-73b057ada162",
   "metadata": {},
   "outputs": [],
   "source": []
  }
 ],
 "metadata": {
  "kernelspec": {
   "display_name": "Python 3 (ipykernel)",
   "language": "python",
   "name": "python3"
  },
  "language_info": {
   "codemirror_mode": {
    "name": "ipython",
    "version": 3
   },
   "file_extension": ".py",
   "mimetype": "text/x-python",
   "name": "python",
   "nbconvert_exporter": "python",
   "pygments_lexer": "ipython3",
   "version": "3.12.2"
  }
 },
 "nbformat": 4,
 "nbformat_minor": 5
}
