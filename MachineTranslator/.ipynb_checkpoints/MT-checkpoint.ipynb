{
 "cells": [
  {
   "cell_type": "code",
   "execution_count": 1,
   "id": "412c94f4-c7f6-46dc-82b9-104125ef8797",
   "metadata": {},
   "outputs": [],
   "source": [
    "import nltk\n",
    "import torch\n",
    "import torch.nn as nn\n",
    "from torch.utils.data import Dataset, DataLoader\n",
    "\n",
    "import matplotlib.pyplot as plt\n",
    "from torch.optim.lr_scheduler import ReduceLROnPlateau, StepLR\n",
    "from nltk.tokenize import RegexpTokenizer\n",
    "from tqdm import tqdm\n",
    "\n",
    "from training import train_transformer\n",
    "from data_preprocessing import make_wordinddicts\n",
    "from utils import read_json, write_json, translate\n",
    "from Translator import Translator, Translatorv2, Translatorv3\n",
    "\n",
    "device = torch.device('cuda')\n",
    "torch.cuda.empty_cache()\n",
    "\n",
    "tokenizer = RegexpTokenizer(r\"\\b\\w+(?:'\\w+)?\\b\")\n",
    "\n",
    "\n",
    "BATCH_SIZE = 200"
   ]
  },
  {
   "cell_type": "code",
   "execution_count": 2,
   "id": "81996a38-823a-406d-a6ed-b0434fb1ac45",
   "metadata": {},
   "outputs": [],
   "source": [
    "class LabelSmoothingLoss(nn.Module):\n",
    "    def __init__(self, smoothing=0.1, ignore_index=-1):\n",
    "        super(LabelSmoothingLoss, self).__init__()\n",
    "        self.smoothing = smoothing\n",
    "        self.ignore_index = ignore_index\n",
    "\n",
    "    def forward(self, pred, target):\n",
    "        \"\"\"\n",
    "        Args:\n",
    "            pred: [batch_size, seq_len, n_classes] — логиты модели.\n",
    "            target: [batch_size, seq_len] — индексы целевых классов.\n",
    "        \"\"\"\n",
    "        log_prob = nn.functional.log_softmax(pred, dim=-1)\n",
    "        n_classes = pred.size(-1)\n",
    "\n",
    "        # Создаем true distribution\n",
    "        true_dist = torch.zeros_like(pred)\n",
    "        true_dist.fill_(self.smoothing / (n_classes - 1))\n",
    "        true_dist.scatter_(2, target.unsqueeze(2), 1.0 - self.smoothing)\n",
    "\n",
    "        # Маскируем позиции с ignore_index\n",
    "        mask = (target != self.ignore_index).unsqueeze(-1)  # [batch_size, seq_len, 1]\n",
    "        log_prob = log_prob * mask  # Маскируем логарифмы\n",
    "        true_dist = true_dist * mask  # Маскируем распределение\n",
    "\n",
    "        # Нормализация true_dist (восстановление корректного распределения)\n",
    "        true_dist = true_dist / true_dist.sum(dim=-1, keepdim=True).clamp_min(1e-12)\n",
    "\n",
    "        # Вычисляем потери (усреднение по валидным токенам)\n",
    "        loss = (-true_dist * log_prob).sum(dim=-1)  # Суммируем по классам\n",
    "        loss = loss.sum() / mask.sum()  # Учитываем только валидные элементы\n",
    "\n",
    "        return loss"
   ]
  },
  {
   "cell_type": "code",
   "execution_count": 3,
   "id": "7bba4f77-40d4-46fe-9d13-dcd3d4708bef",
   "metadata": {},
   "outputs": [],
   "source": [
    "data = read_json('train')\n",
    "val_data = read_json('val')\n",
    "\n",
    "\n",
    "source_word2ind, source_ind2word, target_word2ind, target_ind2word, source_max_len, target_max_len, dataset = make_wordinddicts(data, tokenizer)\n",
    "_, _, _, _, _, _,  eval_dataset = make_wordinddicts(val_data, tokenizer)\n",
    "\n",
    "\n",
    "eval_dataloader = DataLoader(eval_dataset, batch_size = BATCH_SIZE, shuffle = True)\n",
    "dataloader = DataLoader(dataset, batch_size=BATCH_SIZE, shuffle = True)"
   ]
  },
  {
   "cell_type": "code",
   "execution_count": 4,
   "id": "0776209c-4bb3-4238-ba2e-adbefbfb11ab",
   "metadata": {},
   "outputs": [
    {
     "name": "stdout",
     "output_type": "stream",
     "text": [
      "44 66\n"
     ]
    }
   ],
   "source": [
    "print(source_max_len, target_max_len)"
   ]
  },
  {
   "cell_type": "code",
   "execution_count": 5,
   "id": "965ed56c-250b-45ac-ab93-745089be96f2",
   "metadata": {},
   "outputs": [],
   "source": [
    "sp = source_word2ind['<PAD>']\n",
    "tp = target_word2ind['<PAD>']\n",
    "\n",
    "model = Translatorv3(len(source_word2ind), len(target_word2ind), sp, tp, num_encoder_layers=6, num_decoder_layers=6, hidden_dim = 512, dropout=0.4 , n_heads = 8).to(device)\n",
    "criterion = nn.CrossEntropyLoss(ignore_index = tp)\n",
    "optimizer = torch.optim.Adam(model.parameters(), lr=1e-4, weight_decay=1e-6)\n",
    "scheduler = ReduceLROnPlateau(optimizer, mode='min', factor=0.5, patience=1, verbose=True)"
   ]
  },
  {
   "cell_type": "code",
   "execution_count": 6,
   "id": "428fc442-93dc-4db2-a12c-bde311eb2a20",
   "metadata": {},
   "outputs": [
    {
     "name": "stdout",
     "output_type": "stream",
     "text": [
      "Epoch: 1\n"
     ]
    },
    {
     "name": "stderr",
     "output_type": "stream",
     "text": [
      "100%|██████████| 1500/1500 [04:19<00:00,  5.78it/s]\n"
     ]
    },
    {
     "name": "stdout",
     "output_type": "stream",
     "text": [
      "Average train loss: 5.6489\n"
     ]
    },
    {
     "name": "stderr",
     "output_type": "stream",
     "text": [
      "  0%|          | 0/3 [00:00<?, ?it/s]F:\\Anaconda\\envs\\newenvpls\\Lib\\site-packages\\torch\\nn\\modules\\transformer.py:296: UserWarning: The PyTorch API of nested tensors is in prototype stage and will change in the near future. (Triggered internally at ..\\aten\\src\\ATen\\NestedTensorImpl.cpp:179.)\n",
      "  output = torch._nested_tensor_from_mask(output, src_key_padding_mask.logical_not(), mask_check=False)\n",
      "F:\\Anaconda\\envs\\newenvpls\\Lib\\site-packages\\torch\\nn\\modules\\activation.py:1160: UserWarning: Converting mask without torch.bool dtype to bool; this will negatively affect performance. Prefer to use a boolean mask directly. (Triggered internally at ..\\aten\\src\\ATen\\native\\transformers\\attention.cpp:152.)\n",
      "  return torch._native_multi_head_attention(\n",
      "100%|██████████| 3/3 [00:00<00:00, 25.20it/s]\n"
     ]
    },
    {
     "name": "stdout",
     "output_type": "stream",
     "text": [
      "Average val loss: 13.4409\n",
      "Model saved.\n",
      "Epoch: 2\n"
     ]
    },
    {
     "name": "stderr",
     "output_type": "stream",
     "text": [
      "100%|██████████| 1500/1500 [04:12<00:00,  5.93it/s]\n"
     ]
    },
    {
     "name": "stdout",
     "output_type": "stream",
     "text": [
      "Average train loss: 4.5876\n"
     ]
    },
    {
     "name": "stderr",
     "output_type": "stream",
     "text": [
      "100%|██████████| 3/3 [00:00<00:00, 26.08it/s]\n"
     ]
    },
    {
     "name": "stdout",
     "output_type": "stream",
     "text": [
      "Average val loss: 14.7017\n",
      "Epoch: 3\n"
     ]
    },
    {
     "name": "stderr",
     "output_type": "stream",
     "text": [
      "100%|██████████| 1500/1500 [04:12<00:00,  5.94it/s]\n"
     ]
    },
    {
     "name": "stdout",
     "output_type": "stream",
     "text": [
      "Average train loss: 4.0243\n"
     ]
    },
    {
     "name": "stderr",
     "output_type": "stream",
     "text": [
      "100%|██████████| 3/3 [00:00<00:00, 26.78it/s]\n"
     ]
    },
    {
     "name": "stdout",
     "output_type": "stream",
     "text": [
      "Average val loss: 15.7769\n",
      "Epoch 00003: reducing learning rate of group 0 to 5.0000e-05.\n",
      "Epoch: 4\n"
     ]
    },
    {
     "name": "stderr",
     "output_type": "stream",
     "text": [
      "100%|██████████| 1500/1500 [04:12<00:00,  5.94it/s]\n"
     ]
    },
    {
     "name": "stdout",
     "output_type": "stream",
     "text": [
      "Average train loss: 3.5678\n"
     ]
    },
    {
     "name": "stderr",
     "output_type": "stream",
     "text": [
      "100%|██████████| 3/3 [00:00<00:00, 26.78it/s]\n"
     ]
    },
    {
     "name": "stdout",
     "output_type": "stream",
     "text": [
      "Average val loss: 16.7418\n",
      "Epoch: 5\n"
     ]
    },
    {
     "name": "stderr",
     "output_type": "stream",
     "text": [
      "100%|██████████| 1500/1500 [04:12<00:00,  5.94it/s]\n"
     ]
    },
    {
     "name": "stdout",
     "output_type": "stream",
     "text": [
      "Average train loss: 3.2596\n"
     ]
    },
    {
     "name": "stderr",
     "output_type": "stream",
     "text": [
      "100%|██████████| 3/3 [00:00<00:00, 26.54it/s]\n"
     ]
    },
    {
     "name": "stdout",
     "output_type": "stream",
     "text": [
      "Average val loss: 17.3415\n",
      "Epoch 00005: reducing learning rate of group 0 to 2.5000e-05.\n",
      "Epoch: 6\n"
     ]
    },
    {
     "name": "stderr",
     "output_type": "stream",
     "text": [
      "100%|██████████| 1500/1500 [04:10<00:00,  5.99it/s]\n"
     ]
    },
    {
     "name": "stdout",
     "output_type": "stream",
     "text": [
      "Average train loss: 3.0171\n"
     ]
    },
    {
     "name": "stderr",
     "output_type": "stream",
     "text": [
      "100%|██████████| 3/3 [00:00<00:00, 27.52it/s]\n"
     ]
    },
    {
     "name": "stdout",
     "output_type": "stream",
     "text": [
      "Average val loss: 17.8865\n",
      "Epoch: 7\n"
     ]
    },
    {
     "name": "stderr",
     "output_type": "stream",
     "text": [
      "100%|██████████| 1500/1500 [04:09<00:00,  6.01it/s]\n"
     ]
    },
    {
     "name": "stdout",
     "output_type": "stream",
     "text": [
      "Average train loss: 2.8678\n"
     ]
    },
    {
     "name": "stderr",
     "output_type": "stream",
     "text": [
      "100%|██████████| 3/3 [00:00<00:00, 27.77it/s]\n"
     ]
    },
    {
     "name": "stdout",
     "output_type": "stream",
     "text": [
      "Average val loss: 18.1496\n",
      "Epoch 00007: reducing learning rate of group 0 to 1.2500e-05.\n",
      "Epoch: 8\n"
     ]
    },
    {
     "name": "stderr",
     "output_type": "stream",
     "text": [
      "100%|██████████| 1500/1500 [04:09<00:00,  6.01it/s]\n"
     ]
    },
    {
     "name": "stdout",
     "output_type": "stream",
     "text": [
      "Average train loss: 2.7374\n"
     ]
    },
    {
     "name": "stderr",
     "output_type": "stream",
     "text": [
      "100%|██████████| 3/3 [00:00<00:00, 26.78it/s]\n"
     ]
    },
    {
     "name": "stdout",
     "output_type": "stream",
     "text": [
      "Average val loss: 18.3250\n",
      "Epoch: 9\n"
     ]
    },
    {
     "name": "stderr",
     "output_type": "stream",
     "text": [
      "100%|██████████| 1500/1500 [04:09<00:00,  6.01it/s]\n"
     ]
    },
    {
     "name": "stdout",
     "output_type": "stream",
     "text": [
      "Average train loss: 2.6631\n"
     ]
    },
    {
     "name": "stderr",
     "output_type": "stream",
     "text": [
      "100%|██████████| 3/3 [00:00<00:00, 27.02it/s]\n"
     ]
    },
    {
     "name": "stdout",
     "output_type": "stream",
     "text": [
      "Average val loss: 18.5362\n",
      "Epoch 00009: reducing learning rate of group 0 to 6.2500e-06.\n",
      "Epoch: 10\n"
     ]
    },
    {
     "name": "stderr",
     "output_type": "stream",
     "text": [
      "100%|██████████| 1500/1500 [04:09<00:00,  6.00it/s]\n"
     ]
    },
    {
     "name": "stdout",
     "output_type": "stream",
     "text": [
      "Average train loss: 2.5955\n"
     ]
    },
    {
     "name": "stderr",
     "output_type": "stream",
     "text": [
      "100%|██████████| 3/3 [00:00<00:00, 27.52it/s]\n"
     ]
    },
    {
     "name": "stdout",
     "output_type": "stream",
     "text": [
      "Average val loss: 18.6800\n",
      "Epoch: 11\n"
     ]
    },
    {
     "name": "stderr",
     "output_type": "stream",
     "text": [
      "100%|██████████| 1500/1500 [04:09<00:00,  6.01it/s]\n"
     ]
    },
    {
     "name": "stdout",
     "output_type": "stream",
     "text": [
      "Average train loss: 2.5584\n"
     ]
    },
    {
     "name": "stderr",
     "output_type": "stream",
     "text": [
      "100%|██████████| 3/3 [00:00<00:00, 27.02it/s]\n"
     ]
    },
    {
     "name": "stdout",
     "output_type": "stream",
     "text": [
      "Average val loss: 18.6963\n",
      "Epoch 00011: reducing learning rate of group 0 to 3.1250e-06.\n",
      "Epoch: 12\n"
     ]
    },
    {
     "name": "stderr",
     "output_type": "stream",
     "text": [
      "100%|██████████| 1500/1500 [04:09<00:00,  6.00it/s]\n"
     ]
    },
    {
     "name": "stdout",
     "output_type": "stream",
     "text": [
      "Average train loss: 2.5239\n"
     ]
    },
    {
     "name": "stderr",
     "output_type": "stream",
     "text": [
      "100%|██████████| 3/3 [00:00<00:00, 27.02it/s]"
     ]
    },
    {
     "name": "stdout",
     "output_type": "stream",
     "text": [
      "Average val loss: 18.7394\n"
     ]
    },
    {
     "name": "stderr",
     "output_type": "stream",
     "text": [
      "\n"
     ]
    }
   ],
   "source": [
    "train_losses, val_losses = train_transformer(model, criterion, optimizer, scheduler, dataloader, eval_dataloader, 12)"
   ]
  },
  {
   "cell_type": "code",
   "execution_count": 7,
   "id": "3c279919-6bf7-42a3-a143-0f2727d644a9",
   "metadata": {},
   "outputs": [
    {
     "data": {
      "image/png": "[encoded data removed]",
      "text/plain": [
       "<Figure size 640x480 with 1 Axes>"
      ]
     },
     "metadata": {},
     "output_type": "display_data"
    }
   ],
   "source": [
    "plt.plot(train_losses, label = 'val')\n",
    "plt.plot(val_losses, label = 'val')\n",
    "plt.show()"
   ]
  },
  {
   "cell_type": "code",
   "execution_count": null,
   "id": "9a957399-05ad-4ddc-ab91-e68c4edbbf07",
   "metadata": {},
   "outputs": [],
   "source": [
    "# для ускорения самообучения ии помоги ребятам написать программу её задача проверять является ли "
   ]
  },
  {
   "cell_type": "code",
   "execution_count": 8,
   "id": "7d56a2a8-1d73-4813-934c-d4b17d89dc7f",
   "metadata": {},
   "outputs": [],
   "source": [
    "# model.load_state_dict(torch.load('best_model.pth'))"
   ]
  },
  {
   "cell_type": "code",
   "execution_count": 9,
   "id": "2d320caf-dcaa-4e0a-989d-4b8bfd32502b",
   "metadata": {},
   "outputs": [
    {
     "name": "stderr",
     "output_type": "stream",
     "text": [
      "100%|██████████| 1000/1000 [06:27<00:00,  2.58it/s]\n"
     ]
    }
   ],
   "source": [
    "from utils import translate\n",
    "from tqdm import tqdm\n",
    "data = read_json('test_no_reference')\n",
    "result = []\n",
    "for line in tqdm(data):\n",
    "    sentence = [char for char in line['src']]\n",
    "    translated_sentence = translate(model, sentence, source_word2ind, target_word2ind)\n",
    "    # print(translated_sentence)\n",
    "    result.append({'src': line['src'],\n",
    "                   'dst': ''.join(translated_sentence)})\n"
   ]
  },
  {
   "cell_type": "code",
   "execution_count": 10,
   "id": "4d03332e-0501-41f9-9392-1457670b43c0",
   "metadata": {},
   "outputs": [],
   "source": [
    "write_json(result)"
   ]
  },
  {
   "cell_type": "code",
   "execution_count": 11,
   "id": "17baca77-909c-4a18-82b2-14da72b1859b",
   "metadata": {},
   "outputs": [],
   "source": [
    "# import nltk\n",
    "# import torch\n",
    "# import torch.nn as nn\n",
    "# from torch.utils.data import Dataset, DataLoader\n",
    "\n",
    "# import matplotlib.pyplot as plt\n",
    "# from torch.optim.lr_scheduler import ReduceLROnPlateau, StepLR\n",
    "# from nltk.tokenize import RegexpTokenizer\n",
    "# from tqdm import tqdm\n",
    "\n",
    "# from training import train_transformer\n",
    "# from data_preprocessing import make_wordinddicts\n",
    "# from utils import read_json, write_json, translate\n",
    "# from Translator import Translator, Translatorv2, Translatorv3\n",
    "\n",
    "# device = torch.device('cuda')\n",
    "# torch.cuda.empty_cache()\n",
    "\n",
    "# tokenizer = RegexpTokenizer(r\"\\b\\w+(?:'\\w+)?\\b\")\n",
    "\n",
    "\n",
    "# BATCH_SIZE = 500\n",
    "# data = read_json('train')\n",
    "# val_data = read_json('val')\n",
    "\n",
    "\n",
    "# source_word2ind, source_ind2word, target_word2ind, target_ind2word, max_len, dataset = make_wordinddicts(data, tokenizer)\n",
    "# _, _, _, _, _, eval_dataset = make_wordinddicts(val_data, tokenizer)\n",
    "\n",
    "\n",
    "# eval_dataloader = DataLoader(eval_dataset, batch_size = BATCH_SIZE, shuffle = True)\n",
    "# dataloader = DataLoader(dataset, batch_size=BATCH_SIZE, shuffle = True)\n",
    "# sp = source_word2ind['<PAD>']\n",
    "# tp = target_word2ind['<PAD>']\n",
    "\n",
    "# model = Translatorv3(len(source_word2ind), len(target_word2ind), sp, tp, num_encoder_layers=1, num_decoder_layers=1, hidden_dim = 256, dropout=0.3).to(device)\n",
    "# criterion = nn.CrossEntropyLoss(ignore_index=target_word2ind['<PAD>'])\n",
    "# optimizer = torch.optim.Adam(model.parameters(), weight_decay = 0.000001)\n",
    "# train_losses, val_losses = train_transformer(model, criterion, optimizer, dataloader, eval_dataloader, 10)\n",
    "# from utils import translate\n",
    "# from tqdm import tqdm\n",
    "# data = read_json('test_no_reference')\n",
    "# result = []\n",
    "# for line in tqdm(data):\n",
    "#     sentence = [char for char in line['src']]\n",
    "#     translated_sentence = translate(model, sentence, source_word2ind, target_word2ind)\n",
    "#     # print(translated_sentence)\n",
    "#     result.append({'src': line['src'],\n",
    "#                    'dst': ''.join(translated_sentence)})\n"
   ]
  }
 ],
 "metadata": {
  "kernelspec": {
   "display_name": "Python 3 (ipykernel)",
   "language": "python",
   "name": "python3"
  },
  "language_info": {
   "codemirror_mode": {
    "name": "ipython",
    "version": 3
   },
   "file_extension": ".py",
   "mimetype": "text/x-python",
   "name": "python",
   "nbconvert_exporter": "python",
   "pygments_lexer": "ipython3",
   "version": "3.11.10"
  }
 },
 "nbformat": 4,
 "nbformat_minor": 5
}
