{
 "cells": [
  {
   "cell_type": "code",
   "execution_count": 2,
   "id": "412c94f4-c7f6-46dc-82b9-104125ef8797",
   "metadata": {},
   "outputs": [],
   "source": [
    "import nltk\n",
    "import torch\n",
    "import torch.nn as nn\n",
    "from torch.utils.data import Dataset, DataLoader\n",
    "from Translator import Translator, Translatorv2\n",
    "import matplotlib.pyplot as plt\n",
    "from torch.optim.lr_scheduler import ReduceLROnPlateau, StepLR\n",
    "from utils import read_json, train_model, make_wordinddicts, evaluation\n",
    "from nltk.tokenize import RegexpTokenizer\n",
    "\n",
    "device = torch.device('cuda')\n",
    "torch.cuda.empty_cache()\n",
    "\n",
    "tokenizer = RegexpTokenizer(r'[\\w]+|[^\\w\\s]')"
   ]
  },
  {
   "cell_type": "code",
   "execution_count": 3,
   "id": "7bba4f77-40d4-46fe-9d13-dcd3d4708bef",
   "metadata": {},
   "outputs": [],
   "source": [
    "data = read_json('train')\n",
    "source_word2ind, source_ind2word, target_word2ind, target_ind2word, max_len, dataset = make_wordinddicts(data, tokenizer)\n",
    "dataloader = DataLoader(dataset, batch_size=10, shuffle=True)"
   ]
  },
  {
   "cell_type": "code",
   "execution_count": 4,
   "id": "82925db7-f427-4d44-8bc1-742f20078c13",
   "metadata": {},
   "outputs": [],
   "source": [
    "model = Translatorv2(len(source_word2ind), len(target_word2ind), 1024, dropout_prob=0.2).to(device)\n",
    "criterion = nn.CrossEntropyLoss(ignore_index=target_word2ind['<PAD>'])\n",
    "optimizer = torch.optim.Adam(model.parameters())\n",
    "lr_scheduler = ReduceLROnPlateau(optimizer, factor=0.5, patience=30)"
   ]
  },
  {
   "cell_type": "code",
   "execution_count": 5,
   "id": "428fc442-93dc-4db2-a12c-bde311eb2a20",
   "metadata": {},
   "outputs": [
    {
     "name": "stdout",
     "output_type": "stream",
     "text": [
      "epoch:1\n"
     ]
    },
    {
     "name": "stderr",
     "output_type": "stream",
     "text": [
      "100%|██████████| 30000/30000 [2:20:34<00:00,  3.56it/s]  \n"
     ]
    }
   ],
   "source": [
    "losses = train_model(model, criterion, optimizer, dataloader, 1)"
   ]
  },
  {
   "cell_type": "code",
   "execution_count": 6,
   "id": "3c279919-6bf7-42a3-a143-0f2727d644a9",
   "metadata": {},
   "outputs": [
    {
     "data": {
      "image/png": "[encoded data removed]",
      "text/plain": [
       "<Figure size 640x480 with 1 Axes>"
      ]
     },
     "metadata": {},
     "output_type": "display_data"
    }
   ],
   "source": [
    "plt.plot(losses)\n",
    "plt.show()"
   ]
  },
  {
   "cell_type": "code",
   "execution_count": 7,
   "id": "bf19b1ac-41a4-436f-8daf-631e3f7af00d",
   "metadata": {},
   "outputs": [
    {
     "name": "stderr",
     "output_type": "stream",
     "text": [
      "100%|██████████| 500/500 [1:30:38<00:00, 10.88s/it]"
     ]
    },
    {
     "name": "stdout",
     "output_type": "stream",
     "text": [
      "Average BLEU score: 0.0\n"
     ]
    },
    {
     "name": "stderr",
     "output_type": "stream",
     "text": [
      "\n"
     ]
    }
   ],
   "source": [
    "data = read_json('val')\n",
    "_, _, _, _, max_len, dataset = make_wordinddicts(data, tokenizer)\n",
    "source_sentences = dataset.source_samples\n",
    "target_sentences = dataset.target_samples\n",
    "evaluation(model, None, max_len, source_sentences, target_sentences, source_word2ind, source_ind2word, target_word2ind, target_ind2word, temperature = 0.2)"
   ]
  },
  {
   "cell_type": "code",
   "execution_count": 14,
   "id": "2d320caf-dcaa-4e0a-989d-4b8bfd32502b",
   "metadata": {},
   "outputs": [
    {
     "name": "stderr",
     "output_type": "stream",
     "text": [
      "  0%|          | 0/1000 [00:10<?, ?it/s]"
     ]
    },
    {
     "name": "stdout",
     "output_type": "stream",
     "text": [
      "cedric swabbie mongols mut mongols electrocuting electrocuting electrocuting electrocuting electrocuting electrocuting electrocuting electrocuting electrocuting electrocuting electrocuting electrocuting electrocuting electrocuting electrocuting electrocuting electrocuting electrocuting electrocuting electrocuting electrocuting electrocuting electrocuting electrocuting electrocuting electrocuting electrocuting agitating agitating electrocuting agitating electrocuting electrocuting electrocuting agitating electrocuting electrocuting electrocuting electrocuting electrocuting electrocuting electrocuting electrocuting electrocuting electrocuting electrocuting electrocuting electrocuting electrocuting agitating agitating agitating agitating electrocuting electrocuting electrocuting electrocuting electrocuting electrocuting electrocuting electrocuting 83 electrocuting 83 83 83 83 83 83 83 83 83 83 83 83 83 83 83 83 tinkle tinkle agitating agitating agitating agitating agitating agitating andomai bewildering bewildering bewildering bewildering andomai andomai andomai andomai andomai andomai andomai andomai andomai andomai muddle madden madden madden madden madden madden madden madden madden madden madden madden madden madden madden madden madden madden madden madden madden madden madden madden madden madden madden madden madden madden madden madden madden madden madden madden madden madden madden madden madden madden madden madden madden madden madden madden madden madden madden madden madden madden madden madden madden madden madden madden madden madden madden madden madden madden madden madden madden madden madden madden madden madden madden madden madden madden madden madden madden madden madden madden madden madden madden madden madden madden madden madden madden madden madden madden madden madden madden madden madden madden madden madden madden madden madden madden madden madden madden madden madden madden madden madden madden madden madden madden madden madden madden madden madden madden madden madden madden madden madden madden madden madden madden madden madden madden madden madden madden madden madden madden madden madden madden madden madden madden madden madden madden madden madden madden madden madden madden madden madden madden madden madden madden madden madden madden madden madden madden madden madden madden madden madden madden madden madden madden madden madden madden madden madden madden madden madden madden madden madden madden madden madden madden madden madden madden madden madden madden madden madden madden madden madden madden madden madden madden madden madden madden madden madden madden madden madden madden madden madden madden madden madden madden madden madden madden madden madden madden madden madden madden madden madden madden madden madden madden madden madden madden madden madden madden madden madden madden madden madden madden madden madden madden madden madden madden madden madden madden madden madden madden madden madden madden madden madden madden madden madden madden madden madden madden madden madden madden madden madden madden madden madden madden madden madden madden madden madden madden madden madden madden madden madden madden madden madden madden madden madden madden madden madden madden madden madden madden madden madden madden madden madden madden madden madden madden madden madden madden madden madden madden madden madden madden madden madden madden madden madden madden madden madden madden madden madden madden madden madden madden madden madden madden madden madden madden madden madden madden madden madden madden madden madden madden madden madden madden madden madden madden madden madden madden madden madden madden madden madden madden madden madden madden madden madden madden madden madden madden madden madden madden madden madden madden madden madden madden madden madden madden madden madden\n"
     ]
    },
    {
     "name": "stderr",
     "output_type": "stream",
     "text": [
      "\n"
     ]
    }
   ],
   "source": [
    "from utils import translate_sentence\n",
    "from tqdm import tqdm\n",
    "data = read_json('test_no_reference')\n",
    "# result = []\n",
    "for line in tqdm(data):\n",
    "    sentence = [char for char in line['src']]\n",
    "    translated_sentence = translate_sentence(model, sentence, source_word2ind, source_ind2word, target_word2ind, target_ind2word, max_length=max_len, temperature=0.1)\n",
    "    print(translated_sentence)\n",
    "    break\n",
    "    result.append({'src': line['src'],\n",
    "                   'dst': ''.join(translated_sentence)})\n"
   ]
  },
  {
   "cell_type": "code",
   "execution_count": null,
   "id": "55430d7f-788d-4008-9366-4644aada62d1",
   "metadata": {},
   "outputs": [],
   "source": [
    "result[5]"
   ]
  },
  {
   "cell_type": "code",
   "execution_count": null,
   "id": "4d03332e-0501-41f9-9392-1457670b43c0",
   "metadata": {},
   "outputs": [],
   "source": []
  }
 ],
 "metadata": {
  "kernelspec": {
   "display_name": "Python 3 (ipykernel)",
   "language": "python",
   "name": "python3"
  },
  "language_info": {
   "codemirror_mode": {
    "name": "ipython",
    "version": 3
   },
   "file_extension": ".py",
   "mimetype": "text/x-python",
   "name": "python",
   "nbconvert_exporter": "python",
   "pygments_lexer": "ipython3",
   "version": "3.12.2"
  }
 },
 "nbformat": 4,
 "nbformat_minor": 5
}
