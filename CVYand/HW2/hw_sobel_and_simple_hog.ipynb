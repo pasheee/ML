{
 "cells": [
  {
   "cell_type": "markdown",
   "metadata": {
    "id": "nDsVMGiVgSq2"
   },
   "source": [
    "## Фильтры границ\n",
    "\n",
    "##### Автор: [Радослав Нейчев](https://www.linkedin.com/in/radoslav-neychev/), https://t.me/s/girafe_ai"
   ]
  },
  {
   "cell_type": "code",
   "execution_count": 1,
   "metadata": {
    "id": "3isBRG6PgSq6"
   },
   "outputs": [],
   "source": [
    "# do not change the code in the block below\n",
    "# __________start of block__________\n",
    "import json\n",
    "import os\n",
    "import cv2\n",
    "import random\n",
    "\n",
    "import numpy as np\n",
    "import torch\n",
    "import torchvision\n",
    "from IPython.display import clear_output\n",
    "from matplotlib import pyplot as plt\n",
    "from torchvision.datasets import FashionMNIST\n",
    "\n",
    "# __________end of block__________"
   ]
  },
  {
   "cell_type": "markdown",
   "metadata": {
    "id": "zeA6Q5-CgSq7"
   },
   "source": [
    "Продолжим работать с набором данных [FashionMNIST](https://github.com/zalandoresearch/fashion-mnist).\n",
    "\n",
    "__Ваша задача: реализовать механизм выделения границ (Sobel filter) и упрощенный вариант построения гистограммы ориентированных градиентов.__\n",
    "\n",
    "Точность классификации оцениваться не будет, вам лишь необходимо реализовать функции и сдать их в контест.\n",
    "\n",
    "В ноутбуке присутствует несколько тестов, которые помогут вам отладить свое решение."
   ]
  },
  {
   "cell_type": "code",
   "execution_count": 2,
   "metadata": {
    "colab": {
     "base_uri": "https://localhost:8080/",
     "height": 809
    },
    "id": "aYcL28OsgSq8",
    "outputId": "93aafa07-fb56-43bd-f928-918f45fe30e6"
   },
   "outputs": [
    {
     "name": "stdout",
     "output_type": "stream",
     "text": [
      "Downloading http://fashion-mnist.s3-website.eu-central-1.amazonaws.com/train-images-idx3-ubyte.gz\n",
      "Downloading http://fashion-mnist.s3-website.eu-central-1.amazonaws.com/train-images-idx3-ubyte.gz to .\\FashionMNIST\\raw\\train-images-idx3-ubyte.gz\n"
     ]
    },
    {
     "name": "stderr",
     "output_type": "stream",
     "text": [
      "100.0%\n"
     ]
    },
    {
     "name": "stdout",
     "output_type": "stream",
     "text": [
      "Extracting .\\FashionMNIST\\raw\\train-images-idx3-ubyte.gz to .\\FashionMNIST\\raw\n",
      "\n",
      "Downloading http://fashion-mnist.s3-website.eu-central-1.amazonaws.com/train-labels-idx1-ubyte.gz\n",
      "Downloading http://fashion-mnist.s3-website.eu-central-1.amazonaws.com/train-labels-idx1-ubyte.gz to .\\FashionMNIST\\raw\\train-labels-idx1-ubyte.gz\n"
     ]
    },
    {
     "name": "stderr",
     "output_type": "stream",
     "text": [
      "100.0%\n"
     ]
    },
    {
     "name": "stdout",
     "output_type": "stream",
     "text": [
      "Extracting .\\FashionMNIST\\raw\\train-labels-idx1-ubyte.gz to .\\FashionMNIST\\raw\n",
      "\n",
      "Downloading http://fashion-mnist.s3-website.eu-central-1.amazonaws.com/t10k-images-idx3-ubyte.gz\n",
      "Downloading http://fashion-mnist.s3-website.eu-central-1.amazonaws.com/t10k-images-idx3-ubyte.gz to .\\FashionMNIST\\raw\\t10k-images-idx3-ubyte.gz\n"
     ]
    },
    {
     "name": "stderr",
     "output_type": "stream",
     "text": [
      "100.0%\n"
     ]
    },
    {
     "name": "stdout",
     "output_type": "stream",
     "text": [
      "Extracting .\\FashionMNIST\\raw\\t10k-images-idx3-ubyte.gz to .\\FashionMNIST\\raw\n",
      "\n",
      "Downloading http://fashion-mnist.s3-website.eu-central-1.amazonaws.com/t10k-labels-idx1-ubyte.gz\n",
      "Downloading http://fashion-mnist.s3-website.eu-central-1.amazonaws.com/t10k-labels-idx1-ubyte.gz to .\\FashionMNIST\\raw\\t10k-labels-idx1-ubyte.gz\n"
     ]
    },
    {
     "name": "stderr",
     "output_type": "stream",
     "text": [
      "100.0%\n"
     ]
    },
    {
     "name": "stdout",
     "output_type": "stream",
     "text": [
      "Extracting .\\FashionMNIST\\raw\\t10k-labels-idx1-ubyte.gz to .\\FashionMNIST\\raw\n",
      "\n"
     ]
    },
    {
     "data": {
      "text/plain": [
       "Text(0.5, 1.0, 'Image label: 9')"
      ]
     },
     "execution_count": 2,
     "metadata": {},
     "output_type": "execute_result"
    },
    {
     "data": {
      "image/png": "[encoded data removed]",
      "text/plain": [
       "<Figure size 640x480 with 1 Axes>"
      ]
     },
     "metadata": {},
     "output_type": "display_data"
    }
   ],
   "source": [
    "# do not change the code in the block below\n",
    "# __________start of block__________\n",
    "\n",
    "train_fmnist_data = FashionMNIST(\n",
    "    \".\", train=True, transform=torchvision.transforms.ToTensor(), download=True\n",
    ")\n",
    "\n",
    "train_data_loader = torch.utils.data.DataLoader(\n",
    "    train_fmnist_data, batch_size=32, shuffle=True, num_workers=2\n",
    ")\n",
    "\n",
    "random_batch = next(iter(train_data_loader))\n",
    "_image, _label = random_batch[0][0], random_batch[1][0]\n",
    "plt.figure()\n",
    "plt.imshow(_image.reshape(28, 28))\n",
    "plt.title(f\"Image label: {_label}\")\n",
    "# __________end of block__________"
   ]
  },
  {
   "cell_type": "markdown",
   "metadata": {},
   "source": [
    "#### Шаг 1. Sobel filtering\n",
    "Реализуйте функцию `compute_sobel_gradients_two_loops`. Часть функции уже написана, пожалуйста, не меняйте написанный код."
   ]
  },
  {
   "cell_type": "code",
   "execution_count": 129,
   "metadata": {},
   "outputs": [],
   "source": [
    "# do not change the code in the block below\n",
    "# __________start of block__________\n",
    "import numpy as np\n",
    "def compute_sobel_gradients_two_loops(image):\n",
    "    # Get image dimensions\n",
    "    height, width = image.shape\n",
    "\n",
    "    # Initialize output gradients\n",
    "    gradient_x = np.zeros_like(image, dtype=np.float64)\n",
    "    gradient_y = np.zeros_like(image, dtype=np.float64)\n",
    "\n",
    "    # Pad the image with zeros to handle borders\n",
    "    padded_image = np.pad(image, ((1, 1), (1, 1)), mode='constant', constant_values=0)\n",
    "\n",
    "# __________end of block__________\n",
    "\n",
    "    # Define the Sobel kernels for X and Y gradients\n",
    "    sobel_x = [[-1, 0, 1], [-2, 0, 2], [-1, 0, 1]]\n",
    "    sobel_y = [[-1, -2, -1], [0, 0, 0], [1, 2, 1]]\n",
    "\n",
    "    # Apply Sobel filter for X and Y gradients using convolution\n",
    "    for i in range(height):\n",
    "        for j in range(width):\n",
    "            fragment = padded_image[i:i + 3, j:j + 3] \n",
    "            gradient_x[i, j] = np.sum(fragment * sobel_x)\n",
    "            gradient_y[i, j] = np.sum(fragment * sobel_y)\n",
    "            \n",
    "    return gradient_x, gradient_y"
   ]
  },
  {
   "cell_type": "markdown",
   "metadata": {},
   "source": [
    "Для проверки написанного кода мы обратимся к уже реализованной версии в из opencv. Ввиду того, что операция padding'а может произвоиться иначе, будем игнорировать расхождения на краях изображения."
   ]
  },
  {
   "cell_type": "code",
   "execution_count": 130,
   "metadata": {},
   "outputs": [],
   "source": [
    "# do not change the code in the block below\n",
    "# __________start of block__________\n",
    "def compute_sobel_gradients_opencv(image):\n",
    "    # Apply Sobel filter for horizontal and vertical gradients\n",
    "    sobel_x = cv2.Sobel(image, cv2.CV_64F, 1, 0, ksize=3)\n",
    "    sobel_y = cv2.Sobel(image, cv2.CV_64F, 0, 1, ksize=3)\n",
    "    \n",
    "    # Return gradients in both directions\n",
    "    return sobel_x, sobel_y\n",
    "# __________end of block__________\n"
   ]
  },
  {
   "cell_type": "code",
   "execution_count": 131,
   "metadata": {},
   "outputs": [
    {
     "name": "stdout",
     "output_type": "stream",
     "text": [
      "Everything seems fine!\n"
     ]
    }
   ],
   "source": [
    "# do not change the code in the block below\n",
    "# __________start of block__________\n",
    "image = train_fmnist_data[7][0][0].numpy()\n",
    "gradients_two_loops = compute_sobel_gradients_two_loops(image)\n",
    "gradients_opencv = compute_sobel_gradients_opencv(image)\n",
    "\n",
    "assert np.allclose(gradients_two_loops[0][1:-1, 1:-1], gradients_opencv[0][1:-1, 1:-1], atol=1e-2), \"gradients_two_loops[0] and gradients_opencv[0] are not close\"\n",
    "assert np.allclose(gradients_two_loops[1][1:-1, 1:-1], gradients_opencv[1][1:-1, 1:-1], atol=1e-2), \"gradients_two_loops[1] and gradients_opencv[1] are not close\"\n",
    "print(\"Everything seems fine!\")\n",
    "# __________end of block__________\n"
   ]
  },
  {
   "cell_type": "code",
   "execution_count": 132,
   "metadata": {},
   "outputs": [
    {
     "data": {
      "text/plain": [
       "<matplotlib.image.AxesImage at 0x249f1c20690>"
      ]
     },
     "execution_count": 132,
     "metadata": {},
     "output_type": "execute_result"
    },
    {
     "data": {
      "image/png": "[encoded data removed]",
      "text/plain": [
       "<Figure size 640x480 with 3 Axes>"
      ]
     },
     "metadata": {},
     "output_type": "display_data"
    }
   ],
   "source": [
    "image = random.choice(train_fmnist_data)[0][0].numpy()\n",
    "gradients_two_loops = compute_sobel_gradients_two_loops(image)\n",
    "\n",
    "plt.subplot(1, 3, 1)\n",
    "plt.imshow(image, cmap='gray')\n",
    "plt.subplot(1, 3, 2)\n",
    "plt.imshow(gradients_two_loops[0], cmap='gray')\n",
    "plt.subplot(1, 3, 3)\n",
    "plt.imshow(gradients_two_loops[1], cmap='gray')\n"
   ]
  },
  {
   "cell_type": "markdown",
   "metadata": {},
   "source": [
    "#### Шаг 2. Подсчет градиентов в полярных координатах.\n",
    "Реализуйте две функции:\n",
    " * `compute_gradient_magnitude`, котрая считает евклидову норму градиента\n",
    " * `compute_gradient_direction`, которая счиает его направление в виде угла относительно оси $x$. Возвращаемый угол должен быть в диапазоне $(-180; 180]$."
   ]
  },
  {
   "cell_type": "code",
   "execution_count": 133,
   "metadata": {},
   "outputs": [],
   "source": [
    "import numpy as np # for your convenience when you copy the code to the contest\n",
    "def compute_gradient_magnitude(sobel_x, sobel_y):\n",
    "    '''\n",
    "    Compute the magnitude of the gradient given the x and y gradients.\n",
    "\n",
    "    Inputs:\n",
    "        sobel_x: numpy array of the x gradient.\n",
    "        sobel_y: numpy array of the y gradient.\n",
    "\n",
    "    Returns:\n",
    "        magnitude: numpy array of the same shape as the input [0] with the magnitude of the gradient.\n",
    "    '''\n",
    "    return np.sqrt(sobel_x ** 2 + sobel_y ** 2)\n",
    "\n",
    "\n",
    "def compute_gradient_direction(sobel_x, sobel_y):\n",
    "    '''\n",
    "    Compute the direction of the gradient given the x and y gradients. Angle must be in degrees in the range (-180; 180].\n",
    "    Use arctan2 function to compute the angle.\n",
    "\n",
    "    Inputs:\n",
    "        sobel_x: numpy array of the x gradient.\n",
    "        sobel_y: numpy array of the y gradient.\n",
    "\n",
    "    Returns:\n",
    "        gradient_direction: numpy array of the same shape as the input [0] with the direction of the gradient.\n",
    "    '''\n",
    "    return np.degrees(np.arctan2(sobel_y, sobel_x))\n"
   ]
  },
  {
   "cell_type": "markdown",
   "metadata": {},
   "source": [
    "Небольшие тесты для функции `compute_gradient_direction`"
   ]
  },
  {
   "cell_type": "code",
   "execution_count": 134,
   "metadata": {},
   "outputs": [
    {
     "name": "stdout",
     "output_type": "stream",
     "text": [
      "Everything seems fine!\n"
     ]
    }
   ],
   "source": [
    "# do not change the code in the block below\n",
    "# __________start of block__________\n",
    "image = train_fmnist_data[7][0][0].numpy()\n",
    "gradients_two_loops = compute_sobel_gradients_two_loops(image)\n",
    "\n",
    "magnitudes = compute_gradient_magnitude(gradients_two_loops[0], gradients_two_loops[1])\n",
    "angles = compute_gradient_direction(gradients_two_loops[0], gradients_two_loops[1])\n",
    "assert np.all(magnitudes >= 0), \"Magnitudes should be non-negative\"\n",
    "assert np.all(angles > -180) and np.all(angles <= 180), \"Angles should be in the range (-180, 180]\"\n",
    "print(\"Everything seems fine!\")\n",
    "# __________end of block__________\n"
   ]
  },
  {
   "cell_type": "markdown",
   "metadata": {},
   "source": [
    "Пример визуализации итоговых границ, полученных с помощью фильтра Собеля:"
   ]
  },
  {
   "cell_type": "code",
   "execution_count": 135,
   "metadata": {},
   "outputs": [
    {
     "data": {
      "text/plain": [
       "<matplotlib.image.AxesImage at 0x249f2f90790>"
      ]
     },
     "execution_count": 135,
     "metadata": {},
     "output_type": "execute_result"
    },
    {
     "data": {
      "image/png": "[encoded data removed]",
      "text/plain": [
       "<Figure size 640x480 with 2 Axes>"
      ]
     },
     "metadata": {},
     "output_type": "display_data"
    }
   ],
   "source": [
    "image = random.choice(train_fmnist_data)[0][0].numpy()\n",
    "magnitudes = compute_gradient_magnitude(*compute_sobel_gradients_two_loops(image))\n",
    "\n",
    "plt.subplot(1, 2, 1)\n",
    "plt.imshow(image)\n",
    "plt.subplot(1, 2, 2)\n",
    "plt.imshow(magnitudes)"
   ]
  },
  {
   "cell_type": "markdown",
   "metadata": {},
   "source": [
    "#### Шаг 3. Упрощённый вариант HoG.\n",
    "Вам предстоит реализовать гистограмму ориентированных градиентов (HoG). В общем виде это происходит следующим образом:\n",
    "1. Перевод изображения в одноканальное. Если изображение цветное, то оно долнжо быть преобразовано в оттенки серого. Можно воспользоваться формулой из [Wiki](https://en.wikipedia.org/wiki/Grayscale):\n",
    "$$\n",
    "\\text{brightness}_{i, j} = \\text{Red}_{i, j} * 0.2126 + \\text{Green}_{i, j} * 0.7152 + \\text{Blue}_{i, j} * 0.0722,\n",
    "$$\n",
    "но для простоты просто будем усреднять все каналы.\n",
    "\n",
    "*Примечание: это далеко не единственный способ преобразования, и он может быть нелинейным. Подробности доступны по ссылке выше*.\n",
    "\n",
    "2. Вычисление градиентов изображения с помощью фитра Собеля.\n",
    "\n",
    "3. Определение направления и нормы градиента для каждого пикселя.\n",
    "\n",
    "4. Построение гистограмм направлений градиентов. Для этого изображение разбивается на непересекающиеся квадратные ячейки. Размер каждой ячейки задается параметром `pixels_per_cell`, который по умолчанию равен равным (8, 8). Для каждой ячейки изображения строится гистограмму направлений градиентов. Для этого:\n",
    "    * Каждое направление градиента будет отнесено к определенному бину (всего 9 бинов от -180 до 180).\n",
    "    * Для каждого бина все попавшие в нее нормы суммируются.\n",
    "    * Построенная гистограмма нормируется (чтобы сумма всех бинов была равна 1).\n",
    "5. Групповая нормализация гистограмм. Для большей адаптивности метода к изменениям освещенности производится нормировка. Подробнее о ней можно почитать [здесь](https://scikit-image.org/docs/dev/auto_examples/features_detection/plot_hog.html). В данном задании она производиться **не будет**.\n",
    "\n",
    "На этом этапе вам нужно выполнить только шаги 1-4. Обратите внимание, что **групповая нормализация** гистограмм не выполняется (этот шаг пропущен)."
   ]
  },
  {
   "cell_type": "code",
   "execution_count": null,
   "metadata": {},
   "outputs": [],
   "source": [
    "cell_size = 7\n",
    "def compute_hog(image, pixels_per_cell=(cell_size, cell_size), bins=9):\n",
    "    # 1. Convert the image to grayscale if it's not already (assuming the image is in RGB or BGR)\n",
    "    if len(image.shape) == 3:\n",
    "        image = np.mean(image, axis=2)  # Simple averaging to convert to grayscale\n",
    "    \n",
    "    # 2. Compute gradients with Sobel filter\n",
    "    gradient_x, gradient_y = compute_sobel_gradients_two_loops(image)\n",
    "\n",
    "    # 3. Compute gradient magnitude and direction\n",
    "    magnitude = compute_gradient_magnitude(gradient_x, gradient_y)\n",
    "    direction = compute_gradient_direction(gradient_x, gradient_y)\n",
    "\n",
    "    # 4. Create histograms of gradient directions for each cell\n",
    "    cell_height, cell_width = pixels_per_cell\n",
    "    n_cells_x = image.shape[1] // cell_width\n",
    "    n_cells_y = image.shape[0] // cell_height\n",
    "\n",
    "    histograms = np.zeros((n_cells_y, n_cells_x, bins))\n",
    "\n",
    "    def compute_hist(x, y):\n",
    "        hist = np.zeros(bins)\n",
    "        for i in range(y, y + cell_height):\n",
    "            for j in range(x, x + cell_width):\n",
    "                mod, angle = magnitude[i][j], direction[i][j]\n",
    "                bin_number = int(angle * bins // 360) % bins\n",
    "                hist[bin_number] += mod\n",
    "\n",
    "        norm = np.sum(hist)\n",
    "        return hist / norm if norm != 0 else hist\n",
    "                \n",
    "\n",
    "\n",
    "    for i in range(n_cells_y):\n",
    "        for j in range(n_cells_x):\n",
    "            x, y = j * cell_width, i * cell_height\n",
    "            histograms[i][j] = compute_hist(x, y)\n",
    "\n",
    "    return histograms"
   ]
  },
  {
   "cell_type": "markdown",
   "metadata": {},
   "source": [
    "Для запуска тестов ниже файлы `hog_data.npy` и `image_data.npy` из репозитория должны быть доступны в той же директории, что и ноутбук. Вы можете скачать их в репозитории."
   ]
  },
  {
   "cell_type": "code",
   "execution_count": 137,
   "metadata": {},
   "outputs": [
    {
     "name": "stdout",
     "output_type": "stream",
     "text": [
      "Everything seems fine!\n"
     ]
    },
    {
     "ename": "AssertionError",
     "evalue": "hog should be the same",
     "output_type": "error",
     "traceback": [
      "\u001b[31m---------------------------------------------------------------------------\u001b[39m",
      "\u001b[31mAssertionError\u001b[39m                            Traceback (most recent call last)",
      "\u001b[36mCell\u001b[39m\u001b[36m \u001b[39m\u001b[32mIn[137]\u001b[39m\u001b[32m, line 16\u001b[39m\n\u001b[32m     14\u001b[39m \u001b[38;5;28;01mfor\u001b[39;00m test_image, test_hog \u001b[38;5;129;01min\u001b[39;00m \u001b[38;5;28mzip\u001b[39m(image_data, hog_data):\n\u001b[32m     15\u001b[39m     hog = compute_hog(test_image)\n\u001b[32m---> \u001b[39m\u001b[32m16\u001b[39m     \u001b[38;5;28;01massert\u001b[39;00m np.allclose(hog, test_hog), \u001b[33m\"\u001b[39m\u001b[33mhog should be the same\u001b[39m\u001b[33m\"\u001b[39m\n\u001b[32m     18\u001b[39m \u001b[38;5;66;03m# __________end of block__________\u001b[39;00m\n",
      "\u001b[31mAssertionError\u001b[39m: hog should be the same"
     ]
    }
   ],
   "source": [
    "# do not change the code in the block below\n",
    "# __________start of block__________\n",
    "image = random.choice(train_fmnist_data)[0][0].numpy()\n",
    "\n",
    "hog = compute_hog(image)\n",
    "assert hog.shape == (4, 4, 9), \"hog should have shape (4, 4, 9) for the FashionMNIST image with default parameters\"\n",
    "print(\"Everything seems fine!\")\n",
    "\n",
    "assert os.path.exists(\"hog_data.npy\") and os.path.exists(\"image_data.npy\"), \"hog_data.npy and image_data.npy should be in the same directory as the notebook\"\n",
    "with open(\"hog_data.npy\", \"rb\") as f:\n",
    "    hog_data = np.load(f, allow_pickle=True)\n",
    "with open(\"image_data.npy\", \"rb\") as f:\n",
    "    image_data = np.load(f, allow_pickle=True)\n",
    "for test_image, test_hog in zip(image_data, hog_data):\n",
    "    hog = compute_hog(test_image)\n",
    "    assert np.allclose(hog, test_hog), \"hog should be the same\"\n",
    "\n",
    "# __________end of block__________\n"
   ]
  },
  {
   "cell_type": "markdown",
   "metadata": {},
   "source": [
    "Визуализация полученных гистограмм. Сетка выглядит чуть сдвинутой из-за существенного размера пискеля, это нормально."
   ]
  },
  {
   "cell_type": "code",
   "execution_count": 95,
   "metadata": {},
   "outputs": [
    {
     "data": {
      "image/png": "[encoded data removed]",
      "text/plain": [
       "<Figure size 640x480 with 1 Axes>"
      ]
     },
     "metadata": {},
     "output_type": "display_data"
    },
    {
     "data": {
      "image/png": "[encoded data removed]",
      "text/plain": [
       "<Figure size 1000x1000 with 16 Axes>"
      ]
     },
     "metadata": {},
     "output_type": "display_data"
    }
   ],
   "source": [
    "#plot all the histograms for (3, 3) cells:\n",
    "image = random.choice(train_fmnist_data)[0][0].numpy()\n",
    "hog = compute_hog(image)\n",
    "\n",
    "# draw cells on the image\n",
    "plt.imshow(image)\n",
    "for i in range(4):\n",
    "    for j in range(4):\n",
    "        plt.gca().add_patch(plt.Rectangle((j * cell_size, i * cell_size), cell_size, cell_size, fill=False, edgecolor='red', linewidth=1))\n",
    "plt.show()\n",
    "\n",
    "\n",
    "plt.figure(figsize=(10, 10))\n",
    "for i in range(4):\n",
    "    for j in range(4):\n",
    "        plt.subplot(4, 4, i * 4 + j + 1)\n",
    "        plt.bar(range(len(hog[i, j])), hog[i, j])\n",
    "        plt.title(f\"Cell {i}, {j}\")\n",
    "plt.show()\n"
   ]
  },
  {
   "cell_type": "markdown",
   "metadata": {},
   "source": [
    "### Сдача задания\n",
    "Сдайте функции в задачу в соревновании. Не забудьте, что при вставке кода все импортируемые библиотеки также должны вставляться вместе с вашим кодом. Вы не должны использовать что-либо, кроме `numpy` при написании решения."
   ]
  },
  {
   "cell_type": "markdown",
   "metadata": {
    "id": "OtWnYAN_gSrA"
   },
   "source": [
    "На этом задание завершено. Поздравляем!"
   ]
  }
 ],
 "metadata": {
  "accelerator": "GPU",
  "colab": {
   "gpuType": "T4",
   "provenance": []
  },
  "kernelspec": {
   "display_name": ".cv_venv",
   "language": "python",
   "name": "python3"
  },
  "language_info": {
   "codemirror_mode": {
    "name": "ipython",
    "version": 3
   },
   "file_extension": ".py",
   "mimetype": "text/x-python",
   "name": "python",
   "nbconvert_exporter": "python",
   "pygments_lexer": "ipython3",
   "version": "3.11.0"
  },
  "toc": {
   "base_numbering": 1,
   "nav_menu": {},
   "number_sections": true,
   "sideBar": true,
   "skip_h1_title": false,
   "title_cell": "Table of Contents",
   "title_sidebar": "Contents",
   "toc_cell": false,
   "toc_position": {},
   "toc_section_display": true,
   "toc_window_display": false
  }
 },
 "nbformat": 4,
 "nbformat_minor": 4
}
