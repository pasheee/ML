{
 "cells": [
  {
   "cell_type": "code",
   "execution_count": 4,
   "id": "ceb9a3ab",
   "metadata": {},
   "outputs": [],
   "source": [
    "import os\n",
    "import torch\n",
    "import pandas as pd\n",
    "import numpy as np\n",
    "from PIL import Image\n",
    "from tqdm import tqdm\n",
    "from sklearn.neighbors import NearestNeighbors\n",
    "import clip \n",
    "device = torch.device('cuda')\n",
    "IMAGE_DIR = './dataset'\n",
    "model, preprocess = clip.load('ViT-B/32', device = device)"
   ]
  },
  {
   "cell_type": "code",
   "execution_count": null,
   "id": "2ce7aa43",
   "metadata": {},
   "outputs": [
    {
     "name": "stderr",
     "output_type": "stream",
     "text": [
      "100%|██████████| 9605/9605 [02:13<00:00, 71.79it/s]\n"
     ]
    }
   ],
   "source": [
    "filenames = sorted([f for f in os.listdir(IMAGE_DIR) if f.endswith(('.png', '.jpg', '.jpeg'))])\n",
    "\n",
    "features = []\n",
    "for fname in tqdm(filenames):\n",
    "    image = preprocess(Image.open(os.path.join(IMAGE_DIR, fname)).convert(\"RGB\")).unsqueeze(0).to(device)\n",
    "    with torch.no_grad():\n",
    "        feat = model.encode_image(image).cpu().numpy()\n",
    "        features.append(feat[0])\n",
    "features = np.stack(features)\n",
    "\n",
    "features = features / np.linalg.norm(features, axis=1, keepdims=True)\n",
    "\n",
    "nn = NearestNeighbors(n_neighbors=7, metric='cosine').fit(features)\n",
    "distances, indices = nn.kneighbors(features)\n",
    "\n",
    "rows = []\n",
    "for i, fname in enumerate(filenames):\n",
    "    neighbors = [filenames[idx] for idx in indices[i] if idx != i][:6]\n",
    "    rows.append({\n",
    "        \"filename\": fname,\n",
    "        \"ranking\": \" \".join(neighbors)\n",
    "    })\n",
    "\n",
    "df = pd.DataFrame(rows)\n",
    "df.to_csv(\"submission.csv\", index=False)"
   ]
  }
 ],
 "metadata": {
  "kernelspec": {
   "display_name": ".cv_venv",
   "language": "python",
   "name": "python3"
  },
  "language_info": {
   "codemirror_mode": {
    "name": "ipython",
    "version": 3
   },
   "file_extension": ".py",
   "mimetype": "text/x-python",
   "name": "python",
   "nbconvert_exporter": "python",
   "pygments_lexer": "ipython3",
   "version": "3.11.0"
  }
 },
 "nbformat": 4,
 "nbformat_minor": 5
}
