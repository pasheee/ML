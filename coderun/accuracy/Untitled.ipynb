{
 "cells": [
  {
   "cell_type": "code",
   "execution_count": 33,
   "id": "a438005f-7274-4656-bdcb-30f3873119ac",
   "metadata": {},
   "outputs": [
    {
     "name": "stdin",
     "output_type": "stream",
     "text": [
      " 2 3 4\n",
      " 1 2 4\n",
      " 2 5 3\n"
     ]
    },
    {
     "name": "stdout",
     "output_type": "stream",
     "text": [
      "2\n",
      "-1.581138830084189 0.0\n",
      "1.5811388300841895 0.0\n"
     ]
    }
   ],
   "source": [
    "import numpy as np\n",
    "from sklearn.decomposition import PCA\n",
    "f = open('00.txt')\n",
    "# n, m, p = list(map(float, f.readline().split()))\n",
    "n, m, p = list(map(float, input().split()))\n",
    "n = int(n)\n",
    "m = int(m)\n",
    "data = []\n",
    "\n",
    "for i in range(n):\n",
    "    # data.append(list(map(float, line.split())))\n",
    "    data.append(list(map(float, input().split())))\n",
    "data = np.array(data)\n",
    "\n",
    "X = data[:, :-1]\n",
    "\n",
    "max_v = int(m * (2/3))\n",
    "pca = PCA(n_components=max_v)\n",
    "X_reduced = pca.fit_transform(X)\n",
    "print(X_reduced.shape[1])\n",
    "for i in range(len(X_reduced)):\n",
    "    print(*X_reduced[i])"
   ]
  }
 ],
 "metadata": {
  "kernelspec": {
   "display_name": "Python 3 (ipykernel)",
   "language": "python",
   "name": "python3"
  },
  "language_info": {
   "codemirror_mode": {
    "name": "ipython",
    "version": 3
   },
   "file_extension": ".py",
   "mimetype": "text/x-python",
   "name": "python",
   "nbconvert_exporter": "python",
   "pygments_lexer": "ipython3",
   "version": "3.11.7"
  }
 },
 "nbformat": 4,
 "nbformat_minor": 5
}
