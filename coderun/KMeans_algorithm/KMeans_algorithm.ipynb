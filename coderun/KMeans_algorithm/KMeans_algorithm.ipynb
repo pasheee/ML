{
 "cells": [
  {
   "cell_type": "code",
   "execution_count": 1,
   "id": "429ff70c-2d69-4bda-b9d6-c77ba6a704bc",
   "metadata": {},
   "outputs": [],
   "source": [
    "from sklearn.cluster import KMeans\n",
    "import numpy as np\n",
    "from scipy.spatial import distance"
   ]
  },
  {
   "cell_type": "code",
   "execution_count": 2,
   "id": "6e1d93f8-25a3-4168-9d35-59e0c19a54a4",
   "metadata": {},
   "outputs": [],
   "source": [
    "f = open('easy_pursuit_of_profit_input.txt')"
   ]
  },
  {
   "cell_type": "code",
   "execution_count": 3,
   "id": "512be0a2-024f-4d8a-963e-eb9962f1b03f",
   "metadata": {},
   "outputs": [
    {
     "name": "stdout",
     "output_type": "stream",
     "text": [
      "402 17038 10 25000\n"
     ]
    }
   ],
   "source": [
    "k, n, c, C = list(map(int, f.readline().split()))\n",
    "print(k, n, c, C)\n",
    "coordinates = []\n",
    "for line in f:\n",
    "    x, y = list(map(int, line.split()))\n",
    "    coordinates.append([x, y])\n"
   ]
  },
  {
   "cell_type": "code",
   "execution_count": 4,
   "id": "70641b80-3211-4b30-b035-4d698e0c9882",
   "metadata": {},
   "outputs": [],
   "source": [
    "coordinates = np.array(coordinates)"
   ]
  },
  {
   "cell_type": "code",
   "execution_count": 5,
   "id": "5e6b5990-94eb-4ec6-8e35-6988e30890e8",
   "metadata": {},
   "outputs": [],
   "source": [
    "kmeans = KMeans(n_clusters=k, random_state=0, n_init=\"auto\").fit(coordinates)"
   ]
  },
  {
   "cell_type": "code",
   "execution_count": 6,
   "id": "e4362259-6cc4-4910-bfb7-fc833cf04ef4",
   "metadata": {},
   "outputs": [],
   "source": [
    "pvp_centers = kmeans.cluster_centers_\n",
    "nearest_centers = kmeans.predict(coordinates)"
   ]
  },
  {
   "cell_type": "code",
   "execution_count": 7,
   "id": "ce7a586f-cf55-421e-9d95-5631cb790173",
   "metadata": {},
   "outputs": [],
   "source": [
    "distances = []\n",
    "num_of_homes_in_i_cluster = []\n",
    "res_loss = 0"
   ]
  },
  {
   "cell_type": "code",
   "execution_count": 8,
   "id": "c64342ab-b23f-4127-a3cf-8a13e294d57f",
   "metadata": {},
   "outputs": [],
   "source": [
    "m = list(nearest_centers)\n",
    "for i in range(402):\n",
    "    count = m.count(i)\n",
    "    num_of_homes_in_i_cluster.append(count)"
   ]
  },
  {
   "cell_type": "code",
   "execution_count": 9,
   "id": "77603947-206a-4a6a-8e7a-beedcec8b652",
   "metadata": {},
   "outputs": [],
   "source": [
    "for i in range(len(coordinates)):\n",
    "    distances.append(distance.euclidean(coordinates[i], pvp_centers[nearest_centers[i]]))"
   ]
  },
  {
   "cell_type": "code",
   "execution_count": 10,
   "id": "b9410ada-aeef-4db5-86e8-a5c024f3d874",
   "metadata": {},
   "outputs": [],
   "source": [
    "for i in range(len(coordinates)):\n",
    "    dist = distances[i]\n",
    "    ki = num_of_homes_in_i_cluster[nearest_centers[i]]\n",
    "    res_loss += c*((dist**(0.25)+1)/ki)"
   ]
  },
  {
   "cell_type": "code",
   "execution_count": 12,
   "id": "84e793eb-da24-46e2-a65b-520c9a333978",
   "metadata": {},
   "outputs": [],
   "source": [
    "result = C - res_loss"
   ]
  },
  {
   "cell_type": "code",
   "execution_count": 13,
   "id": "e590d02b-a0fe-4e60-abdf-d6dd43ba9f85",
   "metadata": {},
   "outputs": [
    {
     "data": {
      "text/plain": [
       "10170.007348719117"
      ]
     },
     "execution_count": 13,
     "metadata": {},
     "output_type": "execute_result"
    }
   ],
   "source": [
    "result"
   ]
  },
  {
   "cell_type": "code",
   "execution_count": 11,
   "id": "53d493d6-3d71-481f-a57d-f04810cc50fa",
   "metadata": {},
   "outputs": [],
   "source": [
    "f.close()"
   ]
  }
 ],
 "metadata": {
  "kernelspec": {
   "display_name": "Python 3 (ipykernel)",
   "language": "python",
   "name": "python3"
  },
  "language_info": {
   "codemirror_mode": {
    "name": "ipython",
    "version": 3
   },
   "file_extension": ".py",
   "mimetype": "text/x-python",
   "name": "python",
   "nbconvert_exporter": "python",
   "pygments_lexer": "ipython3",
   "version": "3.11.7"
  }
 },
 "nbformat": 4,
 "nbformat_minor": 5
}
