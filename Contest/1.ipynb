{
 "cells": [
  {
   "cell_type": "code",
   "execution_count": 15,
   "id": "15b7c2e2-b86c-4c61-bf8b-c4e4a479a137",
   "metadata": {},
   "outputs": [],
   "source": [
    "import pandas as pd\n",
    "import numpy as np\n",
    "from sklearn.linear_model import LinearRegression\n",
    "\n",
    "# Загрузка данных\n",
    "train_data = pd.read_csv('train.tsv', sep='\\t', header=None)\n",
    "test_data = pd.read_csv('test.tsv', sep='\\t', header=None)\n",
    "\n",
    "# Разделение признаков и целевой переменной\n",
    "X_train = train_data.iloc[:, :-1].values\n",
    "y_train = train_data.iloc[:, -1].values\n",
    "\n",
    "# Обучение модели линейной регрессии\n",
    "model = LinearRegression()\n",
    "model.fit(X_train, y_train)\n",
    "\n",
    "# Прогнозирование на тестовом датасете\n",
    "X_test = test_data.values\n",
    "predictions = model.predict(X_test)\n",
    "\n",
    "# Округление до 3 значащих цифр\n",
    "rounded_predictions = np.round(predictions, 3)\n",
    "\n",
    "# Сохранение в файл answer.tsv\n",
    "pd.DataFrame(predictions).to_csv('answer.tsv', sep='\\t', header=False, index=False)"
   ]
  },
  {
   "cell_type": "code",
   "execution_count": null,
   "id": "2aaca018-21d4-4852-bf23-526e40742024",
   "metadata": {},
   "outputs": [],
   "source": []
  }
 ],
 "metadata": {
  "kernelspec": {
   "display_name": "Python 3 (ipykernel)",
   "language": "python",
   "name": "python3"
  },
  "language_info": {
   "codemirror_mode": {
    "name": "ipython",
    "version": 3
   },
   "file_extension": ".py",
   "mimetype": "text/x-python",
   "name": "python",
   "nbconvert_exporter": "python",
   "pygments_lexer": "ipython3",
   "version": "3.11.10"
  }
 },
 "nbformat": 4,
 "nbformat_minor": 5
}
