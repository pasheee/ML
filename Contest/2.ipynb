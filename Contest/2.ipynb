{
 "cells": [
  {
   "cell_type": "code",
   "execution_count": null,
   "id": "2c1f928e-aee6-4230-9b3d-fe498e8c1099",
   "metadata": {},
   "outputs": [],
   "source": [
    "input_data = sys.stdin.read().strip().splitlines()\n",
    "\n",
    "n, m = map(int, input_data[0].split())\n",
    "\n",
    "X = []\n",
    "y = []\n",
    "for line in input_data[1:]:\n",
    "    values = list(map(float, line.split()))\n",
    "    X.append(values[:m])\n",
    "    y.append(int(values[m]))\n",
    "\n",
    "X = np.array(X)\n",
    "y = np.array(y)\n",
    "\n",
    "a = np.zeros(m)\n",
    "learning_rate = 1.0\n",
    "max_iterations = 10000  \n",
    "\n",
    "for _ in range(max_iterations):\n",
    "    correctly_classified = True\n",
    "    for i in range(n):\n",
    "        if y[i] * np.dot(a, X[i]) <= 0:\n",
    "            a += learning_rate * y[i] * X[i]\n",
    "            correctly_classified = False\n",
    "    if correctly_classified:\n",
    "        break\n",
    "\n",
    "print(\" \".join(map(str, a)))"
   ]
  },
  {
   "cell_type": "code",
   "execution_count": null,
   "id": "be1c5b3b-26f6-4f6e-8faf-0adae780a27e",
   "metadata": {},
   "outputs": [],
   "source": [
    "import sys\n",
    "import numpy as np\n",
    "from sklearn.linear_model import SGDClassifier\n",
    "\n",
    "def main():\n",
    "    # Read the input data from stdin\n",
    "    input_data = sys.stdin.read().strip().splitlines()\n",
    "    \n",
    "    # First line contains n (number of samples) and m (number of features)\n",
    "    n, m = map(int, input_data[0].split())\n",
    "    \n",
    "    # Parse feature vectors and labels\n",
    "    X = []\n",
    "    y = []\n",
    "    for line in input_data[1:]:\n",
    "        values = list(map(float, line.split()))\n",
    "        X.append(values[:m])\n",
    "        y.append(int(values[m]))\n",
    "    \n",
    "    X = np.array(X)\n",
    "    y = np.array(y)\n",
    "    \n",
    "    # Use SGDClassifier as a linear classifier\n",
    "    clf = SGDClassifier(loss=\"hinge\", max_iter=1000, tol=1e-3)\n",
    "    clf.fit(X, y)\n",
    "    \n",
    "    # Get the weight vector (separating hyperplane) from the classifier\n",
    "    a = clf.coef_.flatten()\n",
    "    \n",
    "    # Output the weight vector a as a space-separated string\n",
    "    print(\" \".join(map(str, a)))"
   ]
  }
 ],
 "metadata": {
  "kernelspec": {
   "display_name": "Python 3 (ipykernel)",
   "language": "python",
   "name": "python3"
  },
  "language_info": {
   "codemirror_mode": {
    "name": "ipython",
    "version": 3
   },
   "file_extension": ".py",
   "mimetype": "text/x-python",
   "name": "python",
   "nbconvert_exporter": "python",
   "pygments_lexer": "ipython3",
   "version": "3.11.10"
  }
 },
 "nbformat": 4,
 "nbformat_minor": 5
}
