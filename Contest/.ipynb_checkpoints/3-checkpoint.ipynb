{
 "cells": [
  {
   "cell_type": "code",
   "execution_count": 4,
   "id": "f60dbe9d-193e-49b9-94e4-59a7c8f1ae62",
   "metadata": {},
   "outputs": [
    {
     "name": "stdout",
     "output_type": "stream",
     "text": [
      "             r         d  score\n",
      "0     8.154642  0.000552    0.0\n",
      "1    -1.000000  0.000483    1.0\n",
      "2    -1.000000  0.075709    0.0\n",
      "3     9.105132  0.024765    1.0\n",
      "4     7.349630  0.045557    1.0\n",
      "...        ...       ...    ...\n",
      "1995  5.335786  0.001366    1.0\n",
      "1996  9.143142  0.441040    0.0\n",
      "1997 -1.000000  0.172363    1.0\n",
      "1998 -1.000000  0.005809    0.0\n",
      "1999 -1.000000  0.003495    1.0\n",
      "\n",
      "[2000 rows x 3 columns]\n"
     ]
    }
   ],
   "source": [
    "import pandas as pd\n",
    "import numpy as np\n",
    "from sklearn.preprocessing import StandardScaler\n",
    "from sklearn.linear_model import LinearRegression\n",
    "# или другие регрессоры\n",
    "\n",
    "def prepare_training_data(df):\n",
    "    # Создаем тренировочный датасет, где для каждой пары\n",
    "    # мы знаем, какое кафе лучше\n",
    "    rows = []\n",
    "    for _, row in df.iterrows():\n",
    "        # Если winner=0, первое кафе лучше второго\n",
    "        if row['winner'] == 0:\n",
    "            rows.append({'r': row['r1'], 'd': row['d1'], 'score': 1.0})\n",
    "            rows.append({'r': row['r2'], 'd': row['d2'], 'score': 0.0})\n",
    "        else:\n",
    "            rows.append({'r': row['r1'], 'd': row['d1'], 'score': 0.0})\n",
    "            rows.append({'r': row['r2'], 'd': row['d2'], 'score': 1.0})\n",
    "    return pd.DataFrame(rows)\n",
    "\n",
    "# Загрузка данных\n",
    "train_df = pd.read_csv('restaurants_train.txt', sep='\\t',\n",
    "                      names=['winner', 'r1', 'r2', 'd1', 'd2'])\n",
    "\n",
    "# Подготовка данных\n",
    "train_data = prepare_training_data(train_df)\n",
    "print(train_data)\n",
    "X_train = train_data[['r', 'd']]\n",
    "y_train = train_data['score']\n",
    "\n",
    "# Обучение модели\n",
    "model = LinearRegression()\n",
    "model.fit(X_train, y_train)\n",
    "\n",
    "# Для тестовых данных\n",
    "def predict_scores(test_df):\n",
    "    X_test = test_df[['r', 'd']]\n",
    "    return model.predict(X_test)"
   ]
  },
  {
   "cell_type": "code",
   "execution_count": 5,
   "id": "2d4af2f3-e713-4910-9332-a72cd8b096c6",
   "metadata": {},
   "outputs": [
    {
     "name": "stdout",
     "output_type": "stream",
     "text": [
      "Веса (коэффициенты): [ 0.014655   -0.08129705]\n",
      "Смещение (intercept): 0.4430660597264145\n"
     ]
    }
   ],
   "source": [
    "print(\"Веса (коэффициенты):\", model.coef_)  # Выведет веса для каждого признака\n",
    "print(\"Смещение (intercept):\", model.intercept_) "
   ]
  },
  {
   "cell_type": "code",
   "execution_count": 8,
   "id": "e9f0ddb6-f982-43e3-8197-4c491154e054",
   "metadata": {},
   "outputs": [
    {
     "ename": "FileNotFoundError",
     "evalue": "[Errno 2] No such file or directory: 'restaurants.in'",
     "output_type": "error",
     "traceback": [
      "\u001b[1;31m---------------------------------------------------------------------------\u001b[0m",
      "\u001b[1;31mFileNotFoundError\u001b[0m                         Traceback (most recent call last)",
      "Cell \u001b[1;32mIn[8], line 9\u001b[0m\n\u001b[0;32m      6\u001b[0m     y_pred \u001b[38;5;241m=\u001b[39m r_w\u001b[38;5;241m*\u001b[39mX_test[:,\u001b[38;5;241m0\u001b[39m] \u001b[38;5;241m+\u001b[39m r_d\u001b[38;5;241m*\u001b[39mX_test[:, \u001b[38;5;241m1\u001b[39m] \u001b[38;5;241m+\u001b[39m bias\n\u001b[0;32m      7\u001b[0m     \u001b[38;5;28;01mreturn\u001b[39;00m y_pred\n\u001b[1;32m----> 9\u001b[0m \u001b[38;5;28;01mwith\u001b[39;00m \u001b[38;5;28mopen\u001b[39m(\u001b[38;5;124m'\u001b[39m\u001b[38;5;124mrestaurants.in\u001b[39m\u001b[38;5;124m'\u001b[39m, \u001b[38;5;124m'\u001b[39m\u001b[38;5;124mr\u001b[39m\u001b[38;5;124m'\u001b[39m) \u001b[38;5;28;01mas\u001b[39;00m file:\n\u001b[0;32m     11\u001b[0m     n \u001b[38;5;241m=\u001b[39m \u001b[38;5;28mint\u001b[39m(file\u001b[38;5;241m.\u001b[39mreadline()\u001b[38;5;241m.\u001b[39mstrip()) \n\u001b[0;32m     12\u001b[0m     cafes \u001b[38;5;241m=\u001b[39m []\n",
      "File \u001b[1;32mF:\\Anaconda\\envs\\newenvpls\\Lib\\site-packages\\IPython\\core\\interactiveshell.py:324\u001b[0m, in \u001b[0;36m_modified_open\u001b[1;34m(file, *args, **kwargs)\u001b[0m\n\u001b[0;32m    317\u001b[0m \u001b[38;5;28;01mif\u001b[39;00m file \u001b[38;5;129;01min\u001b[39;00m {\u001b[38;5;241m0\u001b[39m, \u001b[38;5;241m1\u001b[39m, \u001b[38;5;241m2\u001b[39m}:\n\u001b[0;32m    318\u001b[0m     \u001b[38;5;28;01mraise\u001b[39;00m \u001b[38;5;167;01mValueError\u001b[39;00m(\n\u001b[0;32m    319\u001b[0m         \u001b[38;5;124mf\u001b[39m\u001b[38;5;124m\"\u001b[39m\u001b[38;5;124mIPython won\u001b[39m\u001b[38;5;124m'\u001b[39m\u001b[38;5;124mt let you open fd=\u001b[39m\u001b[38;5;132;01m{\u001b[39;00mfile\u001b[38;5;132;01m}\u001b[39;00m\u001b[38;5;124m by default \u001b[39m\u001b[38;5;124m\"\u001b[39m\n\u001b[0;32m    320\u001b[0m         \u001b[38;5;124m\"\u001b[39m\u001b[38;5;124mas it is likely to crash IPython. If you know what you are doing, \u001b[39m\u001b[38;5;124m\"\u001b[39m\n\u001b[0;32m    321\u001b[0m         \u001b[38;5;124m\"\u001b[39m\u001b[38;5;124myou can use builtins\u001b[39m\u001b[38;5;124m'\u001b[39m\u001b[38;5;124m open.\u001b[39m\u001b[38;5;124m\"\u001b[39m\n\u001b[0;32m    322\u001b[0m     )\n\u001b[1;32m--> 324\u001b[0m \u001b[38;5;28;01mreturn\u001b[39;00m io_open(file, \u001b[38;5;241m*\u001b[39margs, \u001b[38;5;241m*\u001b[39m\u001b[38;5;241m*\u001b[39mkwargs)\n",
      "\u001b[1;31mFileNotFoundError\u001b[0m: [Errno 2] No such file or directory: 'restaurants.in'"
     ]
    }
   ],
   "source": [
    "def predict(X_test):\n",
    "    r_w = 0.14655\n",
    "    d_w = -0.08129705\n",
    "    bias = 0.4430660597264145\n",
    "    bias = np.array([bias for i in range(len(X_test))])\n",
    "    y_pred = r_w*X_test[:,0] + d_w*X_test[:, 1] + bias\n",
    "    return y_pred\n",
    "\n",
    "with open('restaurants.in', 'r') as file:\n",
    "    \n",
    "    n = int(file.readline().strip()) \n",
    "    cafes = []\n",
    "    \n",
    "    for _ in range(n):\n",
    "        r, d = map(float, file.readline().strip().split())\n",
    "        cafes.append([r, d])\n",
    "\n",
    "y_pred = predict(np.array(cafes))\n",
    "for i in range(len(y_pred)):\n",
    "    print(y_pred[i])"
   ]
  },
  {
   "cell_type": "code",
   "execution_count": 13,
   "id": "a75d031d-05d7-4e43-90f2-9c5018f3308e",
   "metadata": {},
   "outputs": [
    {
     "name": "stdout",
     "output_type": "stream",
     "text": [
      "[1 4]\n",
      "[3 6]\n"
     ]
    },
    {
     "data": {
      "text/plain": [
       "array([ 9, 24])"
      ]
     },
     "execution_count": 13,
     "metadata": {},
     "output_type": "execute_result"
    }
   ],
   "source": []
  },
  {
   "cell_type": "code",
   "execution_count": null,
   "id": "9ff33235-ff54-4a26-8b87-68ce686876b9",
   "metadata": {},
   "outputs": [],
   "source": []
  }
 ],
 "metadata": {
  "kernelspec": {
   "display_name": "Python 3 (ipykernel)",
   "language": "python",
   "name": "python3"
  },
  "language_info": {
   "codemirror_mode": {
    "name": "ipython",
    "version": 3
   },
   "file_extension": ".py",
   "mimetype": "text/x-python",
   "name": "python",
   "nbconvert_exporter": "python",
   "pygments_lexer": "ipython3",
   "version": "3.11.10"
  }
 },
 "nbformat": 4,
 "nbformat_minor": 5
}
