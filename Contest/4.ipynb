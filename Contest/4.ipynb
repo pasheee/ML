{
 "cells": [
  {
   "cell_type": "code",
   "execution_count": 3,
   "id": "25c90161-1b18-4bc0-9925-bc4a9d450d43",
   "metadata": {},
   "outputs": [],
   "source": [
    "import numpy as np\n",
    "import scipy.optimize as optimize\n",
    "import pandas as pd\n",
    "\n",
    "data = pd.read_csv('data.csv')"
   ]
  },
  {
   "cell_type": "code",
   "execution_count": 8,
   "id": "880771ff-8e4f-4b62-9962-37cb7185c391",
   "metadata": {},
   "outputs": [],
   "source": [
    "x_data = np.array(data.iloc[:, 0])\n",
    "y_data = np.array(data.iloc[:, 1])"
   ]
  },
  {
   "cell_type": "code",
   "execution_count": 9,
   "id": "5b9154f8-1a7d-436c-b33d-5ffd9088846b",
   "metadata": {},
   "outputs": [
    {
     "name": "stdout",
     "output_type": "stream",
     "text": [
      "3.14 2.72 4.00\n"
     ]
    }
   ],
   "source": [
    "\n",
    "# Define the function to fit\n",
    "def func(x, a, b, c):\n",
    "    return ((a) * np.sin(x) + (b) * np.log(x))**2 + (c) * x**2\n",
    "\n",
    "# Set initial guesses and bounds for the parameters\n",
    "initial_guess = [1.0, 1.0, 1.0]  # Initial guess for a, b, c\n",
    "bounds = ([0.0, 0.0, 0.0], [np.inf, np.inf, np.inf]) # Positive constraints\n",
    "\n",
    "# Fit the curve using curve_fit\n",
    "popt, _ = optimize.curve_fit(func, x_data, y_data, p0=initial_guess, bounds=bounds)\n",
    "\n",
    "# Extract the optimized parameters\n",
    "a, b, c = popt\n",
    "\n",
    "# Print the results with two decimal places\n",
    "print(f\"{a:.2f} {b:.2f} {c:.2f}\")"
   ]
  },
  {
   "cell_type": "code",
   "execution_count": 11,
   "id": "574e5666-fe0e-4eae-9101-d4edda4fdb13",
   "metadata": {},
   "outputs": [],
   "source": [
    "a = [0 for _ in range(2)]"
   ]
  },
  {
   "cell_type": "code",
   "execution_count": 12,
   "id": "8edc2864-b9b4-4ae5-b56e-a1d7e1c4689a",
   "metadata": {},
   "outputs": [
    {
     "data": {
      "text/plain": [
       "[0, 0]"
      ]
     },
     "execution_count": 12,
     "metadata": {},
     "output_type": "execute_result"
    }
   ],
   "source": [
    "a"
   ]
  },
  {
   "cell_type": "code",
   "execution_count": null,
   "id": "7aad2d73-21dd-4a55-b2ed-3a421f564ab1",
   "metadata": {},
   "outputs": [],
   "source": []
  }
 ],
 "metadata": {
  "kernelspec": {
   "display_name": "Python 3 (ipykernel)",
   "language": "python",
   "name": "python3"
  },
  "language_info": {
   "codemirror_mode": {
    "name": "ipython",
    "version": 3
   },
   "file_extension": ".py",
   "mimetype": "text/x-python",
   "name": "python",
   "nbconvert_exporter": "python",
   "pygments_lexer": "ipython3",
   "version": "3.11.10"
  }
 },
 "nbformat": 4,
 "nbformat_minor": 5
}
