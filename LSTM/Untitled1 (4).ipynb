{
 "cells": [
  {
   "cell_type": "code",
   "execution_count": 1,
   "id": "2c014664-5408-41d5-a1ae-85d12451ab66",
   "metadata": {},
   "outputs": [],
   "source": [
    "import numpy as np\n",
    "import matplotlib.pyplot as plt\n",
    "import pandas as pd\n",
    "import torch\n",
    "from sklearn.model_selection import train_test_split\n",
    "from copy import deepcopy as dc\n",
    "from sklearn.preprocessing import MinMaxScaler\n",
    "import torch.nn as nn\n",
    "from torch.utils.data import DataLoader\n",
    "import torch.nn.functional as F\n",
    "from torch.optim import Adam\n",
    "from functools import reduce\n",
    "from tqdm.notebook import tqdm"
   ]
  },
  {
   "cell_type": "code",
   "execution_count": 2,
   "id": "f81bf489-101a-4b59-ba73-df267ca0a41d",
   "metadata": {},
   "outputs": [
    {
     "data": {
      "text/html": [
       "<div>\n",
       "<style scoped>\n",
       "    .dataframe tbody tr th:only-of-type {\n",
       "        vertical-align: middle;\n",
       "    }\n",
       "\n",
       "    .dataframe tbody tr th {\n",
       "        vertical-align: top;\n",
       "    }\n",
       "\n",
       "    .dataframe thead th {\n",
       "        text-align: right;\n",
       "    }\n",
       "</style>\n",
       "<table border=\"1\" class=\"dataframe\">\n",
       "  <thead>\n",
       "    <tr style=\"text-align: right;\">\n",
       "      <th></th>\n",
       "      <th>Open</th>\n",
       "      <th>High</th>\n",
       "      <th>Low</th>\n",
       "      <th>Close</th>\n",
       "      <th>Volume</th>\n",
       "    </tr>\n",
       "    <tr>\n",
       "      <th>Timestamp</th>\n",
       "      <th></th>\n",
       "      <th></th>\n",
       "      <th></th>\n",
       "      <th></th>\n",
       "      <th></th>\n",
       "    </tr>\n",
       "  </thead>\n",
       "  <tbody>\n",
       "    <tr>\n",
       "      <th>2024-05-15 00:01:00</th>\n",
       "      <td>0.012225</td>\n",
       "      <td>0.012268</td>\n",
       "      <td>0.012006</td>\n",
       "      <td>0.012144</td>\n",
       "      <td>102856.52</td>\n",
       "    </tr>\n",
       "    <tr>\n",
       "      <th>2024-05-15 00:02:00</th>\n",
       "      <td>0.012144</td>\n",
       "      <td>0.012144</td>\n",
       "      <td>0.012071</td>\n",
       "      <td>0.012113</td>\n",
       "      <td>4833.34</td>\n",
       "    </tr>\n",
       "    <tr>\n",
       "      <th>2024-05-15 00:03:00</th>\n",
       "      <td>0.012113</td>\n",
       "      <td>0.012145</td>\n",
       "      <td>0.011963</td>\n",
       "      <td>0.011963</td>\n",
       "      <td>83727.00</td>\n",
       "    </tr>\n",
       "    <tr>\n",
       "      <th>2024-05-15 00:04:00</th>\n",
       "      <td>0.011963</td>\n",
       "      <td>0.011963</td>\n",
       "      <td>0.011900</td>\n",
       "      <td>0.011900</td>\n",
       "      <td>16614.13</td>\n",
       "    </tr>\n",
       "    <tr>\n",
       "      <th>2024-05-15 00:05:00</th>\n",
       "      <td>0.011900</td>\n",
       "      <td>0.011946</td>\n",
       "      <td>0.011889</td>\n",
       "      <td>0.011889</td>\n",
       "      <td>21205.43</td>\n",
       "    </tr>\n",
       "  </tbody>\n",
       "</table>\n",
       "</div>"
      ],
      "text/plain": [
       "                         Open      High       Low     Close     Volume\n",
       "Timestamp                                                             \n",
       "2024-05-15 00:01:00  0.012225  0.012268  0.012006  0.012144  102856.52\n",
       "2024-05-15 00:02:00  0.012144  0.012144  0.012071  0.012113    4833.34\n",
       "2024-05-15 00:03:00  0.012113  0.012145  0.011963  0.011963   83727.00\n",
       "2024-05-15 00:04:00  0.011963  0.011963  0.011900  0.011900   16614.13\n",
       "2024-05-15 00:05:00  0.011900  0.011946  0.011889  0.011889   21205.43"
      ]
     },
     "execution_count": 2,
     "metadata": {},
     "output_type": "execute_result"
    }
   ],
   "source": [
    "df = pd.read_csv('BUBBLE_USDT.csv')\n",
    "df['Timestamp'] = pd.to_datetime(df['Timestamp'])\n",
    "df.set_index('Timestamp', inplace=True)\n",
    "df.sort_index(inplace=True)\n",
    "df = df[~(df.Volume == 0)]\n",
    "df.head()"
   ]
  },
  {
   "cell_type": "code",
   "execution_count": 3,
   "id": "b7c087d6-3842-4fbb-8d19-ddfb012fca33",
   "metadata": {},
   "outputs": [],
   "source": [
    "lookback = 25\n",
    "columns_mass = ['High', 'Low', 'Close', 'Volume']\n",
    "target_column = 'Close'\n",
    "INPUT_SIZE = len(columns_mass)"
   ]
  },
  {
   "cell_type": "code",
   "execution_count": 4,
   "id": "b483bd2b-56c0-4591-b304-2bd9920f37d3",
   "metadata": {},
   "outputs": [],
   "source": [
    "X_train_masses = []\n",
    "X_test_masses = []\n",
    "for column in columns_mass:\n",
    "    data1 = pd.DataFrame(df[column])\n",
    "    def df_lstm(df, n_steps, Column):\n",
    "        df = dc(df)\n",
    "        for i in range(1, n_steps+1):\n",
    "            df[f'column(t-{i})'] = df[Column].shift(i)\n",
    "        return df\n",
    "    \n",
    "    shifted_df1 = df_lstm(data1, lookback, column)\n",
    "    df1 = shifted_df1[lookback:]\n",
    "    time_list = df1.index.tolist()\n",
    "    \n",
    "    \n",
    "    scaler = MinMaxScaler(feature_range=(-1, 1))\n",
    "    \n",
    "    X = df1.to_numpy()\n",
    "    x = X[:, 1:]\n",
    "    y = X[:, :1]\n",
    "    \n",
    "    train = X[:int(df.shape[0]*0.8), :]\n",
    "    test = X[int(df.shape[0]*0.8)::]\n",
    "    \n",
    "    scaler.fit(train)\n",
    "    train = scaler.transform(train)\n",
    "    test = scaler.transform(test)\n",
    "    \n",
    "    X_train = train[:, 1:]\n",
    "    X_train = dc(np.flip(X_train, axis = 1))\n",
    "    X_train = X_train.reshape(-1, lookback, 1)\n",
    "    X_train = torch.tensor(X_train).float()\n",
    "    \n",
    "    \n",
    "    X_test = test[:, 1:]\n",
    "    X_test = dc(np.flip(X_test, axis = 1))\n",
    "    X_test = X_test.reshape(-1, lookback, 1)\n",
    "    X_test = torch.tensor(X_test).float()\n",
    "    \n",
    "    \n",
    "    y_train = train[:, 0]\n",
    "    y_train = y_train.reshape(-1, 1)\n",
    "    y_train = torch.tensor(y_train).float()\n",
    "    \n",
    "    \n",
    "    y_test = test[:, 0]\n",
    "    y_test = y_test.reshape(-1, 1)\n",
    "    y_test = torch.tensor(y_test).float()\n",
    "    \n",
    "    X_train_column = dc(X_train)\n",
    "    X_test_column = dc(X_test)\n",
    "    \n",
    "    X_train_masses.append(X_train_column)\n",
    "    X_test_masses.append(X_test_column)\n",
    "\n",
    "column = target_column\n",
    "data1 = pd.DataFrame(df[column])\n",
    "def df_lstm(df, n_steps, Column):\n",
    "    df = dc(df)\n",
    "    for i in range(1, n_steps+1):\n",
    "        df[f'column(t-{i})'] = df[Column].shift(i)\n",
    "    return df\n",
    "\n",
    "shifted_df1 = df_lstm(data1, lookback, column)\n",
    "df1 = shifted_df1[lookback:]\n",
    "time_list = df1.index.tolist()\n",
    "\n",
    "\n",
    "scaler = MinMaxScaler(feature_range=(-1, 1))\n",
    "\n",
    "X = df1.to_numpy()\n",
    "x = X[:, 1:]\n",
    "y = X[:, :1]\n",
    "\n",
    "train = X[:int(df.shape[0]*0.8), :]\n",
    "test = X[int(df.shape[0]*0.8)::]\n",
    "\n",
    "scaler.fit(train)\n",
    "train = scaler.transform(train)\n",
    "test = scaler.transform(test)\n",
    "\n",
    "y_train = train[:, 0]\n",
    "y_train = y_train.reshape(-1, 1)\n",
    "y_train = torch.tensor(y_train).float()\n",
    "\n",
    "y_test = test[:, 0]\n",
    "y_test = y_test.reshape(-1, 1)\n",
    "y_test = torch.tensor(y_test).float()"
   ]
  },
  {
   "cell_type": "code",
   "execution_count": 5,
   "id": "15788f69-44ec-4864-bef6-b0ba3e138ba2",
   "metadata": {},
   "outputs": [],
   "source": [
    "X_train = np.concatenate(X_train_masses, axis = 2)\n",
    "X_test = np.concatenate(X_test_masses, axis = 2)\n",
    "X_train = torch.tensor(X_train).float()\n",
    "X_test = torch.tensor(X_test).float()"
   ]
  },
  {
   "cell_type": "code",
   "execution_count": 6,
   "id": "c81c56a4-72f3-4653-bbf3-6f1d0cb6cbf4",
   "metadata": {},
   "outputs": [],
   "source": [
    "from torch.utils.data import Dataset\n",
    "class LstmDataset(Dataset):\n",
    "    def __init__(self, X, y):\n",
    "        self.x  = X\n",
    "        self.y = y\n",
    "    def __len__(self):\n",
    "        return len(self.x)\n",
    "    def __getitem__(self, i):\n",
    "        return self.x[i], self.y[i]"
   ]
  },
  {
   "cell_type": "code",
   "execution_count": 7,
   "id": "366baecb-10c9-4286-a858-c5eb283bf6ee",
   "metadata": {},
   "outputs": [
    {
     "name": "stdout",
     "output_type": "stream",
     "text": [
      "torch.Size([124, 25, 4])\n"
     ]
    }
   ],
   "source": [
    "train_data = LstmDataset(X_train, y_train)\n",
    "test_data = LstmDataset(X_test, y_test)\n",
    "\n",
    "train_loader = DataLoader(train_data, batch_size = 124)\n",
    "test_loader = DataLoader(test_data, batch_size = 124)\n",
    "\n",
    "for i, batch in enumerate(train_loader):\n",
    "    print(batch[0].shape)\n",
    "    break"
   ]
  },
  {
   "cell_type": "code",
   "execution_count": 8,
   "id": "a386f3f3-f5df-4c54-9214-9656aeaedf28",
   "metadata": {},
   "outputs": [
    {
     "data": {
      "text/plain": [
       "LSTM_WOF(\n",
       "  (lstm): LSTM(4, 75, batch_first=True)\n",
       "  (linear): Linear(in_features=75, out_features=1, bias=True)\n",
       ")"
      ]
     },
     "execution_count": 8,
     "metadata": {},
     "output_type": "execute_result"
    }
   ],
   "source": [
    "class LSTM_WOF(nn.Module):\n",
    "    def __init__(self, input_size, hidden_size, num_layers):\n",
    "        super().__init__()\n",
    "        self.input_size = input_size\n",
    "        self.hidden_size = hidden_size\n",
    "        self.num_layers = num_layers\n",
    "\n",
    "        self.lstm = nn.LSTM(input_size, hidden_size, num_layers, batch_first=True)\n",
    "        self.linear = nn.Linear(hidden_size, 1)\n",
    "\n",
    "    def forward(self, X):\n",
    "        batch_size = X.size(0)\n",
    "        device = X.device\n",
    "        h0 = torch.zeros(self.num_layers, batch_size, self.hidden_size).to(device)\n",
    "        c0 = torch.zeros(self.num_layers, batch_size, self.hidden_size).to(device)\n",
    "\n",
    "        out, _ = self.lstm(X, (h0, c0))\n",
    "        out = self.linear(out[:, -1, :])\n",
    "\n",
    "        return out\n",
    "\n",
    "\n",
    "model = LSTM_WOF(input_size = INPUT_SIZE, hidden_size = 75, num_layers = 1)\n",
    "model"
   ]
  },
  {
   "cell_type": "code",
   "execution_count": 24,
   "id": "5bc243a4-4b6d-4854-b878-3bd0fce8150b",
   "metadata": {},
   "outputs": [],
   "source": [
    "num_epochs = 10\n",
    "criterion = nn.MSELoss()\n",
    "optimizer = torch.optim.Adam(model.parameters(), lr = 0.001)"
   ]
  },
  {
   "cell_type": "code",
   "execution_count": 25,
   "id": "a0c47bca-dded-428e-9571-a8bbf572f815",
   "metadata": {},
   "outputs": [],
   "source": [
    "def training():\n",
    "    model.train()\n",
    "    \n",
    "    for batch_index, batch in enumerate(train_loader):\n",
    "        X_batch, y_batch = batch[0], batch[1]\n",
    "\n",
    "        outp = model(X_batch)\n",
    "\n",
    "        loss = criterion(outp, y_batch)\n",
    "\n",
    "        optimizer.zero_grad()\n",
    "\n",
    "        loss.backward()\n",
    "        optimizer.step()\n",
    "\n",
    "def validating():\n",
    "    model.eval()\n",
    "    for batch in test_loader:\n",
    "        optimizer.zero_grad()\n",
    "        \n",
    "        X_batch, y_batch = batch[0], batch[1]\n",
    "\n",
    "        with torch.no_grad():\n",
    "            outp = model(X_batch)\n",
    "            loss = criterion(outp, y_batch)"
   ]
  },
  {
   "cell_type": "code",
   "execution_count": 27,
   "id": "c59fc115-8aaf-44bd-a305-2ba77a4f160d",
   "metadata": {},
   "outputs": [
    {
     "name": "stdout",
     "output_type": "stream",
     "text": [
      "1\n",
      "2\n",
      "3\n",
      "4\n",
      "5\n",
      "6\n",
      "7\n",
      "8\n",
      "9\n",
      "10\n"
     ]
    }
   ],
   "source": [
    "for epoch in range(num_epochs):\n",
    "    training()\n",
    "    # validating()\n",
    "    print(epoch+1)"
   ]
  },
  {
   "cell_type": "code",
   "execution_count": 28,
   "id": "feef8f3a-a40f-4b98-ab39-2a04c070150f",
   "metadata": {},
   "outputs": [],
   "source": [
    "model.eval()\n",
    "with torch.no_grad():\n",
    "    y_pred = model.forward(X_test)"
   ]
  },
  {
   "cell_type": "code",
   "execution_count": 29,
   "id": "9d266249-a66e-4e77-9768-b3251aa24ca2",
   "metadata": {},
   "outputs": [
    {
     "data": {
      "image/png": "[encoded data removed]",
      "text/plain": [
       "<Figure size 640x480 with 1 Axes>"
      ]
     },
     "metadata": {},
     "output_type": "display_data"
    }
   ],
   "source": [
    "\n",
    "plt.plot(y_test)\n",
    "plt.plot(y_pred)\n",
    "plt.show()"
   ]
  }
 ],
 "metadata": {
  "kernelspec": {
   "display_name": "Python 3 (ipykernel)",
   "language": "python",
   "name": "python3"
  },
  "language_info": {
   "codemirror_mode": {
    "name": "ipython",
    "version": 3
   },
   "file_extension": ".py",
   "mimetype": "text/x-python",
   "name": "python",
   "nbconvert_exporter": "python",
   "pygments_lexer": "ipython3",
   "version": "3.11.9"
  }
 },
 "nbformat": 4,
 "nbformat_minor": 5
}
