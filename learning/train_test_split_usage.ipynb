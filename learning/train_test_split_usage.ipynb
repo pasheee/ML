{
 "cells": [
  {
   "cell_type": "code",
   "execution_count": 3,
   "id": "89765e13-5d6a-48a7-93d9-3a2c86804822",
   "metadata": {},
   "outputs": [],
   "source": [
    "from sklearn.model_selection import train_test_split\n",
    "import numpy as np"
   ]
  },
  {
   "cell_type": "code",
   "execution_count": 4,
   "id": "531401fd-c6f2-4d7a-a0ab-aecc2c5a6e4f",
   "metadata": {},
   "outputs": [],
   "source": [
    "X, y = np.random.rand(10, 2), np.random.rand(10)"
   ]
  },
  {
   "cell_type": "code",
   "execution_count": 5,
   "id": "7d84e59e-dd82-4816-b3a6-5acc60afb711",
   "metadata": {},
   "outputs": [
    {
     "data": {
      "text/plain": [
       "(array([[0.96169427, 0.15279307],\n",
       "        [0.25217143, 0.90104521],\n",
       "        [0.09077503, 0.41864781],\n",
       "        [0.84341479, 0.37926503],\n",
       "        [0.74174687, 0.0725599 ],\n",
       "        [0.86219996, 0.05935711],\n",
       "        [0.45396412, 0.04223812],\n",
       "        [0.64596169, 0.19271987],\n",
       "        [0.27370356, 0.86654815],\n",
       "        [0.37076412, 0.38800182]]),\n",
       " array([0.92968721, 0.31197558, 0.13885281, 0.19442485, 0.25517576,\n",
       "        0.38333445, 0.427572  , 0.52516085, 0.97938583, 0.57426618]))"
      ]
     },
     "execution_count": 5,
     "metadata": {},
     "output_type": "execute_result"
    }
   ],
   "source": [
    "X, y"
   ]
  },
  {
   "cell_type": "code",
   "execution_count": 8,
   "id": "0d751c22-a4d8-40ca-8428-702c5f9c4eda",
   "metadata": {},
   "outputs": [],
   "source": [
    "X_train, X_test, y_train, y_test = train_test_split(X, y)"
   ]
  },
  {
   "cell_type": "code",
   "execution_count": 9,
   "id": "68099a0d-7ee3-43d7-9c1c-e0df6e969f2d",
   "metadata": {},
   "outputs": [
    {
     "data": {
      "text/plain": [
       "(array([[0.45396412, 0.04223812],\n",
       "        [0.84341479, 0.37926503],\n",
       "        [0.96169427, 0.15279307],\n",
       "        [0.86219996, 0.05935711],\n",
       "        [0.09077503, 0.41864781],\n",
       "        [0.64596169, 0.19271987],\n",
       "        [0.37076412, 0.38800182]]),\n",
       " array([[0.25217143, 0.90104521],\n",
       "        [0.27370356, 0.86654815],\n",
       "        [0.74174687, 0.0725599 ]]),\n",
       " array([0.427572  , 0.19442485, 0.92968721, 0.38333445, 0.13885281,\n",
       "        0.52516085, 0.57426618]),\n",
       " array([0.31197558, 0.97938583, 0.25517576]))"
      ]
     },
     "execution_count": 9,
     "metadata": {},
     "output_type": "execute_result"
    }
   ],
   "source": [
    "X_train, X_test, y_train, y_test"
   ]
  },
  {
   "cell_type": "code",
   "execution_count": 10,
   "id": "82f8415e-4581-4733-b800-f13cb3bcbbbf",
   "metadata": {},
   "outputs": [
    {
     "data": {
      "text/plain": [
       "True"
      ]
     },
     "execution_count": 10,
     "metadata": {},
     "output_type": "execute_result"
    }
   ],
   "source": [
    "X_train.shape[0] == y_train.shape[0] and X_test.shape[0] == y_test.shape[0]"
   ]
  }
 ],
 "metadata": {
  "kernelspec": {
   "display_name": "Python 3 (ipykernel)",
   "language": "python",
   "name": "python3"
  },
  "language_info": {
   "codemirror_mode": {
    "name": "ipython",
    "version": 3
   },
   "file_extension": ".py",
   "mimetype": "text/x-python",
   "name": "python",
   "nbconvert_exporter": "python",
   "pygments_lexer": "ipython3",
   "version": "3.11.7"
  }
 },
 "nbformat": 4,
 "nbformat_minor": 5
}
