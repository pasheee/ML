{
 "cells": [
  {
   "cell_type": "markdown",
   "metadata": {
    "id": "d0ADTojbpfLt"
   },
   "source": [
    "<p style=\"align: center;\"><img src=\"https://static.tildacdn.com/tild6636-3531-4239-b465-376364646465/Deep_Learning_School.png\" width=\"400\"></p>\n",
    "\n",
    "# Домашнее задание. Обучение языковой модели с помощью LSTM (10 баллов)"
   ]
  },
  {
   "cell_type": "markdown",
   "metadata": {
    "id": "ldHSmYY6p_mZ"
   },
   "source": [
    "Э\n",
    "В этом задании Вам предстоит обучить языковую модель с помощью рекуррентной нейронной сети. В отличие от семинарского занятия, Вам необходимо будет работать с отдельными словами, а не буквами.\n",
    "\n",
    "\n",
    "Установим модуль ```datasets```, чтобы нам проще было работать с данными."
   ]
  },
  {
   "cell_type": "markdown",
   "metadata": {
    "id": "rh9ZXSeCpng9"
   },
   "source": [
    "Импорт необходимых библиотек"
   ]
  },
  {
   "cell_type": "code",
   "execution_count": 1,
   "metadata": {
    "id": "XOJi16bLpd_O"
   },
   "outputs": [],
   "source": [
    "import torch\n",
    "import torch.nn as nn\n",
    "from torch.utils.data import Dataset, DataLoader\n",
    "\n",
    "import numpy as np\n",
    "import matplotlib.pyplot as plt\n",
    "\n",
    "from tqdm.auto import tqdm\n",
    "from datasets import load_dataset\n",
    "from nltk.tokenize import sent_tokenize, word_tokenize\n",
    "from sklearn.model_selection import train_test_split\n",
    "import nltk\n",
    "\n",
    "from collections import Counter\n",
    "from typing import List\n",
    "\n",
    "import seaborn\n",
    "seaborn.set(palette='summer')"
   ]
  },
  {
   "cell_type": "code",
   "execution_count": 2,
   "metadata": {
    "id": "91JuM0SQvXud"
   },
   "outputs": [],
   "source": [
    "# nltk.download('punkt')\n",
    "# nltk.download('punkt_tab')"
   ]
  },
  {
   "cell_type": "code",
   "execution_count": 3,
   "metadata": {
    "id": "adJC8ShFq9HM"
   },
   "outputs": [
    {
     "data": {
      "text/plain": [
       "'cuda'"
      ]
     },
     "execution_count": 3,
     "metadata": {},
     "output_type": "execute_result"
    }
   ],
   "source": [
    "device = 'cuda' if torch.cuda.is_available() else 'cpu'\n",
    "device"
   ]
  },
  {
   "cell_type": "markdown",
   "metadata": {
    "id": "pwsfS1ENq5ig"
   },
   "source": [
    "## Подготовка данных\n",
    "\n",
    "Воспользуемся датасетом imdb. В нем хранятся отзывы о фильмах с сайта imdb. Загрузим данные с помощью функции ```load_dataset```"
   ]
  },
  {
   "cell_type": "code",
   "execution_count": 4,
   "metadata": {
    "id": "qHLNWOfJqSfc"
   },
   "outputs": [],
   "source": [
    "# Загрузим датасет\n",
    "dataset = load_dataset('imdb')"
   ]
  },
  {
   "cell_type": "markdown",
   "metadata": {
    "id": "24gn7CuZ9agP"
   },
   "source": [
    "### Препроцессинг данных и создание словаря (1 балл)\n",
    "\n",
    "Далее вам необходмо самостоятельно произвести препроцессинг данных и получить словарь или же просто ```set``` строк. Что необходимо сделать:\n",
    "\n",
    "1. Разделить отдельные тренировочные примеры на отдельные предложения с помощью функции ```sent_tokenize``` из бибилиотеки ```nltk```. Каждое отдельное предложение будет одним тренировочным примером.\n",
    "2. Оставить только те предложения, в которых меньше ```word_threshold``` слов.\n",
    "3. Посчитать частоту вхождения каждого слова в оставшихся предложениях. Для деления предлоения на отдельные слова удобно использовать функцию ```word_tokenize```.\n",
    "4. Создать объект ```vocab``` класса ```set```, положить в него служебные токены '\\<unk\\>', '\\<bos\\>', '\\<eos\\>', '\\<pad\\>' и vocab_size самых частовстречающихся слов.   "
   ]
  },
  {
   "cell_type": "code",
   "execution_count": 5,
   "metadata": {
    "id": "Ins2tVCdsS47"
   },
   "outputs": [],
   "source": [
    "sentences = []\n",
    "word_threshold = 32\n",
    "train_dataset = dataset['train']\n",
    "test_dataset = dataset['test']\n",
    "\n",
    "for sample in train_dataset['text']:\n",
    "    sentences.extend([sentence for sentence in sent_tokenize(sample) if len(sentence.split()) < word_threshold])\n"
   ]
  },
  {
   "cell_type": "code",
   "execution_count": 6,
   "metadata": {
    "id": "bxeBxP3J1Rj3"
   },
   "outputs": [
    {
     "name": "stdout",
     "output_type": "stream",
     "text": [
      "Всего предложений: 219930\n"
     ]
    }
   ],
   "source": [
    "print(\"Всего предложений:\", len(sentences))"
   ]
  },
  {
   "cell_type": "markdown",
   "metadata": {
    "id": "iT82XkT6ULA_"
   },
   "source": [
    "Посчитаем для каждого слова его встречаемость."
   ]
  },
  {
   "cell_type": "code",
   "execution_count": 7,
   "metadata": {
    "id": "nEvCN0Y1w1yH"
   },
   "outputs": [
    {
     "data": {
      "application/vnd.jupyter.widget-view+json": {
       "model_id": "cd7ca9643fa34b78919ed17b1b1fcd77",
       "version_major": 2,
       "version_minor": 0
      },
      "text/plain": [
       "  0%|          | 0/219930 [00:00<?, ?it/s]"
      ]
     },
     "metadata": {},
     "output_type": "display_data"
    }
   ],
   "source": [
    "words = Counter()\n",
    "\n",
    "for sentence in tqdm(sentences):\n",
    "    for word in word_tokenize(sentence):\n",
    "        words[word] += 1\n"
   ]
  },
  {
   "cell_type": "code",
   "execution_count": 8,
   "metadata": {},
   "outputs": [
    {
     "data": {
      "text/plain": [
       "92516"
      ]
     },
     "execution_count": 8,
     "metadata": {},
     "output_type": "execute_result"
    }
   ],
   "source": [
    "len(words.keys())"
   ]
  },
  {
   "cell_type": "markdown",
   "metadata": {
    "id": "B4k4uSoHUSI0"
   },
   "source": [
    "Добавим в словарь ```vocab_size``` самых встречающихся слов."
   ]
  },
  {
   "cell_type": "code",
   "execution_count": 9,
   "metadata": {
    "id": "oUBNwsK9xLIu"
   },
   "outputs": [],
   "source": [
    "vocab = set()\n",
    "vocab_size = 40000\n",
    "vocab.update(['<unk>', '<bos>', '<eos>', '<pad>'])\n",
    "count = 0\n",
    "for word in words.keys():\n",
    "    vocab.add(word)\n",
    "    count+=1\n",
    "    if count == 40000:\n",
    "        break\n"
   ]
  },
  {
   "cell_type": "code",
   "execution_count": 10,
   "metadata": {
    "id": "ieT0DFUpXnV2"
   },
   "outputs": [],
   "source": [
    "assert '<unk>' in vocab\n",
    "assert '<bos>' in vocab\n",
    "assert '<eos>' in vocab\n",
    "assert '<pad>' in vocab\n",
    "assert len(vocab) == vocab_size + 4"
   ]
  },
  {
   "cell_type": "code",
   "execution_count": 11,
   "metadata": {
    "id": "JhACW2CQyck5"
   },
   "outputs": [
    {
     "name": "stdout",
     "output_type": "stream",
     "text": [
      "Всего слов в словаре: 40004\n"
     ]
    }
   ],
   "source": [
    "print(\"Всего слов в словаре:\", len(vocab))"
   ]
  },
  {
   "cell_type": "markdown",
   "metadata": {
    "id": "UmeRYKSIUcdE"
   },
   "source": [
    "### Подготовка датасета (1 балл)\n",
    "\n",
    "Далее, как и в семинарском занятии, подготовим датасеты и даталоадеры.\n",
    "\n",
    "В классе ```WordDataset``` вам необходимо реализовать метод ```__getitem__```, который будет возвращать сэмпл данных по входному idx, то есть список целых чисел (индексов слов).\n",
    "\n",
    "Внутри этого метода необходимо добавить служебные токены начала и конца последовательности, а также токенизировать соответствующее предложение с помощью ```word_tokenize``` и сопоставить ему индексы из ```word2ind```."
   ]
  },
  {
   "cell_type": "code",
   "execution_count": 12,
   "metadata": {
    "id": "iD7SmSy3v2dl"
   },
   "outputs": [],
   "source": [
    "word2ind = {char: i for i, char in enumerate(vocab)}\n",
    "ind2word = {i: char for char, i in word2ind.items()}"
   ]
  },
  {
   "cell_type": "code",
   "execution_count": 13,
   "metadata": {
    "id": "FVzXL17PzC7K"
   },
   "outputs": [],
   "source": [
    "class WordDataset:\n",
    "    def __init__(self, sentences):\n",
    "        self.data = sentences\n",
    "        self.unk_id = word2ind['<unk>']\n",
    "        self.bos_id = word2ind['<bos>']\n",
    "        self.eos_id = word2ind['<eos>']\n",
    "        self.pad_id = word2ind['<pad>']\n",
    "\n",
    "    def __getitem__(self, idx: int) -> List[int]:\n",
    "        tokenized_sentence = [self.bos_id]\n",
    "        tokenized_sentence += [word2ind.get(char, self.unk_id) for char in self.data[idx]] \n",
    "        tokenized_sentence += [self.eos_id]\n",
    "\n",
    "        return tokenized_sentence\n",
    "\n",
    "    def __len__(self) -> int:\n",
    "        return len(self.data)"
   ]
  },
  {
   "cell_type": "code",
   "execution_count": 14,
   "metadata": {
    "id": "I6CtYNMp2_g0"
   },
   "outputs": [],
   "source": [
    "def collate_fn_with_padding(\n",
    "    input_batch: List[List[int]], pad_id=word2ind['<pad>']) -> torch.Tensor:\n",
    "    seq_lens = [len(x) for x in input_batch]\n",
    "    max_seq_len = max(seq_lens)\n",
    "\n",
    "    new_batch = []\n",
    "    for sequence in input_batch:\n",
    "        for _ in range(max_seq_len - len(sequence)):\n",
    "            sequence.append(pad_id)\n",
    "        new_batch.append(sequence)\n",
    "\n",
    "    sequences = torch.LongTensor(new_batch).to(device)\n",
    "\n",
    "    new_batch = {\n",
    "        'input_ids': sequences[:,:-1],\n",
    "        'target_ids': sequences[:,1:]\n",
    "    }\n",
    "\n",
    "    return new_batch"
   ]
  },
  {
   "cell_type": "code",
   "execution_count": 15,
   "metadata": {
    "id": "6xmeK9Ys1BIG"
   },
   "outputs": [],
   "source": [
    "train_sentences, eval_sentences = train_test_split(sentences, test_size=0.2)\n",
    "eval_sentences, test_sentences = train_test_split(sentences, test_size=0.5)\n",
    "\n",
    "train_dataset = WordDataset(train_sentences)\n",
    "eval_dataset = WordDataset(eval_sentences)\n",
    "test_dataset = WordDataset(test_sentences)\n",
    "\n",
    "batch_size = 3\n",
    "\n",
    "train_dataloader = DataLoader(\n",
    "    train_dataset, collate_fn=collate_fn_with_padding, batch_size=batch_size)\n",
    "\n",
    "eval_dataloader = DataLoader(\n",
    "    eval_dataset, collate_fn=collate_fn_with_padding, batch_size=batch_size)\n",
    "\n",
    "test_dataloader = DataLoader(\n",
    "    test_dataset, collate_fn=collate_fn_with_padding, batch_size=batch_size)"
   ]
  },
  {
   "cell_type": "markdown",
   "metadata": {
    "id": "SMAexY7Y45E4"
   },
   "source": [
    "## Обучение и архитектура модели\n",
    "\n",
    "Вам необходимо на практике проверить, что влияет на качество языковых моделей. В этом задании нужно провести серию экспериментов с различными вариантами языковых моделей и сравнить различия в конечной перплексии на тестовом множестве.\n",
    "\n",
    "Возмоэные идеи для экспериментов:\n",
    "\n",
    "* Различные RNN-блоки, например, LSTM или GRU. Также можно добавить сразу несколько RNN блоков друг над другом с помощью аргумента num_layers. Вам поможет официальная документация [здесь](https://pytorch.org/docs/stable/generated/torch.nn.LSTM.html)\n",
    "* Различные размеры скрытого состояния. Различное количество линейных слоев после RNN-блока. Различные функции активации.\n",
    "* Добавление нормализаций в виде Dropout, BatchNorm или LayerNorm\n",
    "* Различные аргументы для оптимизации, например, подбор оптимального learning rate или тип алгоритма оптимизации SGD, Adam, RMSProp и другие\n",
    "* Любые другие идеи и подходы\n",
    "\n",
    "После проведения экспериментов необходимо составить таблицу результатов, в которой описан каждый эксперимент и посчитана перплексия на тестовом множестве.\n",
    "\n",
    "Учтите, что эксперименты, которые различаются, например, только размером скрытого состояния или количеством линейных слоев считаются, как один эксперимент.\n",
    "\n",
    "Успехов!"
   ]
  },
  {
   "cell_type": "markdown",
   "metadata": {
    "id": "KP1cO-3bmDv9"
   },
   "source": [
    "### Функция evaluate (1 балл)\n",
    "\n",
    "Заполните функцию ```evaluate```"
   ]
  },
  {
   "cell_type": "code",
   "execution_count": 16,
   "metadata": {
    "id": "XUlMUVJ3mL4r"
   },
   "outputs": [],
   "source": [
    "def evaluate(model, criterion, dataloader) -> float:\n",
    "    model.eval()\n",
    "    perplexity = []\n",
    "    with torch.no_grad():\n",
    "        for batch in dataloader:\n",
    "            logits = model(batch['input_ids'])\n",
    "            loss = criterion(logits, batch['target_ids'].flatten())\n",
    "            perplexity.append(torch.exp(loss).item())\n",
    "\n",
    "    perplexity = sum(perplexity) / len(perplexity)\n",
    "\n",
    "    return perplexity"
   ]
  },
  {
   "cell_type": "markdown",
   "metadata": {
    "id": "bLV63Vsk7loy"
   },
   "source": [
    "### Train loop (1 балл)\n",
    "\n",
    "Напишите функцию для обучения модели."
   ]
  },
  {
   "cell_type": "code",
   "execution_count": 17,
   "metadata": {
    "id": "bSZmUC3YmocP"
   },
   "outputs": [],
   "source": [
    "def train_model(model, criterion, train_dataloader, optimizer, num_epoch):\n",
    "    \n",
    "    model.train()\n",
    "    losses = []\n",
    "    perplexities = []\n",
    "    \n",
    "    for epoch in range(num_epoch):\n",
    "        epoch_losses = []\n",
    "        model.train()\n",
    "        for batch in tqdm(train_dataloader, desc=f'Training epoch {epoch}:'):\n",
    "            optimizer.zero_grad()\n",
    "            logits = model(batch['input_ids']).flatten(start_dim=0, end_dim=1)\n",
    "            loss = criterion(\n",
    "                logits, batch['target_ids'].flatten())\n",
    "            loss.backward()\n",
    "            optimizer.step()\n",
    "    \n",
    "            epoch_losses.append(loss.item())\n",
    "        \n",
    "        losses.append(sum(epoch_losses) / len(epoch_losses))\n",
    "        perplexities.append(evaluate(model, criterion))\n",
    "            \n",
    "    return losses, perplexities"
   ]
  },
  {
   "cell_type": "markdown",
   "metadata": {
    "id": "hXmeyhBQmuq4"
   },
   "source": [
    "### Первый эксперимент (2 балла)\n",
    "\n",
    "Определите архитектуру модели и обучите её."
   ]
  },
  {
   "cell_type": "code",
   "execution_count": 21,
   "metadata": {
    "id": "qaWvqNJom0ij"
   },
   "outputs": [],
   "source": [
    "class LanguageModel(nn.Module):\n",
    "    def __init__(self, hidden_dim: int, vocab_size: int):\n",
    "        super().__init__()\n",
    "        self.embedding = nn.Embedding(vocab_size, hidden_dim)\n",
    "        self.rnn = nn.RNN(hidden_dim, hidden_dim, batch_first=True)\n",
    "        self.linear = nn.Linear(hidden_dim, hidden_dim)\n",
    "        self.projection = nn.Linear(hidden_dim, vocab_size)\n",
    "\n",
    "        self.non_lin = nn.Tanh()\n",
    "        self.dropout = nn.Dropout(p=0.1)\n",
    "\n",
    "    def forward(self, input_batch) -> torch.Tensor:\n",
    "        embeddings = self.embedding(input_batch)  # [batch_size, seq_len, hidden_dim]\\\n",
    "        output, _ = self.rnn(embeddings)  # [batch_size, seq_len, hidden_dim]\n",
    "        output = self.dropout(self.linear(self.non_lin(output)))  # [batch_size, seq_len, hidden_dim]\n",
    "        projection = self.projection(self.non_lin(output))  # [batch_size, seq_len, vocab_size]\n",
    "\n",
    "        return projection"
   ]
  },
  {
   "cell_type": "code",
   "execution_count": 22,
   "metadata": {
    "id": "TxbEzn5fnBOY"
   },
   "outputs": [],
   "source": [
    "model = LanguageModel(hidden_dim=256, vocab_size=len(vocab)).to(device)\n",
    "criterion = nn.CrossEntropyLoss(ignore_index=word2ind['<pad>'])\n",
    "optimizer = torch.optim.Adam(model.parameters())"
   ]
  },
  {
   "cell_type": "code",
   "execution_count": null,
   "metadata": {},
   "outputs": [
    {
     "data": {
      "application/vnd.jupyter.widget-view+json": {
       "model_id": "3a5061f1c82c4676ae74fa64cb745435",
       "version_major": 2,
       "version_minor": 0
      },
      "text/plain": [
       "Training epoch 0::   0%|          | 0/58648 [00:00<?, ?it/s]"
      ]
     },
     "metadata": {},
     "output_type": "display_data"
    }
   ],
   "source": [
    "losses, perplexities = train_model(model, criterion, train_dataloader, optimizer, 5)"
   ]
  },
  {
   "cell_type": "markdown",
   "metadata": {
    "id": "X1EW4faIm0tl"
   },
   "source": [
    "### Второй эксперимент (2 балла)\n",
    "\n",
    "Попробуйте что-то поменять в модели или в пайплайне обучения, идеи для экспериментов можно подсмотреть выше."
   ]
  },
  {
   "cell_type": "code",
   "execution_count": null,
   "metadata": {
    "id": "wkSE4jR1XzTg"
   },
   "outputs": [],
   "source": [
    "# Проведите второй эксперимент"
   ]
  },
  {
   "cell_type": "markdown",
   "metadata": {
    "id": "Y5V9H3eoFeAu"
   },
   "source": [
    "### Отчет (2 балла)\n",
    "\n",
    "Опишите проведенные эксперименты. Сравните перплексии полученных моделей. Предложите идеи по улучшению качества моделей."
   ]
  },
  {
   "cell_type": "code",
   "execution_count": null,
   "metadata": {
    "id": "M2GCDVeeF8LP"
   },
   "outputs": [],
   "source": []
  }
 ],
 "metadata": {
  "accelerator": "GPU",
  "colab": {
   "provenance": []
  },
  "gpuClass": "standard",
  "kernelspec": {
   "display_name": "Python 3 (ipykernel)",
   "language": "python",
   "name": "python3"
  },
  "language_info": {
   "codemirror_mode": {
    "name": "ipython",
    "version": 3
   },
   "file_extension": ".py",
   "mimetype": "text/x-python",
   "name": "python",
   "nbconvert_exporter": "python",
   "pygments_lexer": "ipython3",
   "version": "3.11.10"
  }
 },
 "nbformat": 4,
 "nbformat_minor": 4
}
