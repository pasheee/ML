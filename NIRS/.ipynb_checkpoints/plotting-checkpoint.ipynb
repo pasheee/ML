{
 "cells": [
  {
   "cell_type": "code",
   "execution_count": 1,
   "id": "f9b21aea-f56f-4071-942e-c7445e3d02eb",
   "metadata": {},
   "outputs": [],
   "source": [
    "import pandas as pd\n",
    "import matplotlib.pyplot as plt\n",
    "import numpy as np"
   ]
  },
  {
   "cell_type": "code",
   "execution_count": 2,
   "id": "6c632aa5-1bd1-40ce-884e-ce05371e48fa",
   "metadata": {},
   "outputs": [],
   "source": [
    "result_data = {}\n",
    "q_rate = 40"
   ]
  },
  {
   "cell_type": "code",
   "execution_count": 3,
   "id": "5a8398f5-e2e8-4c9c-a83a-d3586f794f6c",
   "metadata": {},
   "outputs": [],
   "source": [
    "def get_integral_spec(spec, energy):\n",
    "    bins = np.diff(energy) * spec[:-1]\n",
    "    integral_spec = np.cumsum(bins)\n",
    "    return integral_spec\n",
    "    "
   ]
  },
  {
   "cell_type": "code",
   "execution_count": 4,
   "id": "ef3e4711-6fcb-4860-a949-bda2779d1f4c",
   "metadata": {},
   "outputs": [],
   "source": [
    "def q_energy(energy, dN_dE):\n",
    "    global q_rate\n",
    "    bins = np.arange(0, max(energy) + q_rate, q_rate)\n",
    "    digitized = np.digitize(energy, bins)\n",
    "    \n",
    "    res_energy = []\n",
    "    res_dN_dE = []\n",
    "    \n",
    "    for i in range(1, len(bins)):\n",
    "        mask = (digitized == i)\n",
    "        if np.any(mask):\n",
    "            res_energy.append(bins[i] - q_rate / 2)  # mean energy\n",
    "            res_dN_dE.append(np.mean(dN_dE[mask]))  # mean dn/de\n",
    "\n",
    "    return res_energy, res_dN_dE\n"
   ]
  },
  {
   "cell_type": "code",
   "execution_count": 5,
   "id": "64596ab3-260f-4481-9547-36eeb7716ced",
   "metadata": {},
   "outputs": [],
   "source": [
    "def get_q_data(file_path, NUM_OF_ISOTOPES = 1):\n",
    "    data = pd.read_csv(file_path, sep='\\s+', header=None, names=['Energy', 'dN/dE', 'Uncertainty'])\n",
    "    \n",
    "    global q_rate\n",
    "    quantized_energy, quantized_dN_dE = q_energy(data['Energy'], data['dN/dE'] * NUM_OF_ISOTOPES)\n",
    "    \n",
    "    quantized_data = pd.DataFrame({\n",
    "        'Energy': quantized_energy,\n",
    "        'dN/dE': quantized_dN_dE\n",
    "    })\n",
    "    \n",
    "    # if u wanna save and plot=)\n",
    "    \n",
    "    ## plt.figure(figsize=(15, 6))\n",
    "    ## plt.errorbar(quantized_data['Energy'], quantized_data['dN/dE'], ecolor='r')\n",
    "    ## plt.xlabel('Energy (keV)')\n",
    "    ## plt.ylabel('dN/dE')\n",
    "    ## plt.title('Energy Spectrum')\n",
    "    ## plt.grid(True)\n",
    "    ## plt.savefig(\"savedplots/16N.png\")\n",
    "    ## plt.show()\n",
    "    return quantized_data"
   ]
  },
  {
   "cell_type": "code",
   "execution_count": 6,
   "id": "2400e830-af3f-44ad-b321-f04dcf8db159",
   "metadata": {},
   "outputs": [],
   "source": [
    "result_data['16N'] = get_q_data('isotopes/16N.txt', 2)"
   ]
  },
  {
   "cell_type": "code",
   "execution_count": 7,
   "id": "584d35c0-eed8-48a7-8c72-77ecc68fa7ef",
   "metadata": {},
   "outputs": [],
   "source": [
    "result_data['15C'] = get_q_data('isotopes/15C.txt')"
   ]
  },
  {
   "cell_type": "code",
   "execution_count": 8,
   "id": "db560d6a-2577-48e9-8a8a-66db53967a08",
   "metadata": {},
   "outputs": [],
   "source": [
    "result_data['12B'] = get_q_data('isotopes/12B.txt', 13)"
   ]
  },
  {
   "cell_type": "code",
   "execution_count": 9,
   "id": "1eaeee53-c93c-4d82-92b6-1bcc11e6381d",
   "metadata": {},
   "outputs": [],
   "source": [
    "result_data['13B'] = get_q_data('isotopes/13B.txt', 2)"
   ]
  },
  {
   "cell_type": "code",
   "execution_count": 10,
   "id": "6aafaa9d-d7a2-446c-8a47-1d1e98ce4707",
   "metadata": {},
   "outputs": [],
   "source": [
    "result_data['11Be'] = get_q_data('isotopes/11Be.txt')"
   ]
  },
  {
   "cell_type": "code",
   "execution_count": 11,
   "id": "a342b149-994d-49f3-a54c-66dd049c7d90",
   "metadata": {},
   "outputs": [],
   "source": [
    "result_data['8B'] = get_q_data('isotopes/8B.txt', 6)"
   ]
  },
  {
   "cell_type": "code",
   "execution_count": 12,
   "id": "69e8f48f-5fc7-4697-8fee-be93638aa9da",
   "metadata": {},
   "outputs": [],
   "source": [
    "result_data['8Li'] = get_q_data('isotopes/8Li.txt', 14)"
   ]
  },
  {
   "cell_type": "code",
   "execution_count": 13,
   "id": "be96667d-bde1-40b4-b32b-8c3314eba017",
   "metadata": {},
   "outputs": [],
   "source": [
    "result_data['9C'] = get_q_data('isotopes/9C.txt', 2)"
   ]
  },
  {
   "cell_type": "code",
   "execution_count": 14,
   "id": "8f2ca471-5607-4402-b2f5-c8a4cdc343ae",
   "metadata": {},
   "outputs": [],
   "source": [
    "target_len = 16000 // q_rate # 16000 max\n",
    "\n",
    "for isotope in result_data:\n",
    "    df = result_data[isotope]\n",
    "    curr_energy = df[\"Energy\"].iloc[-1]\n",
    "    new_rows = []\n",
    "    \n",
    "    for i in range(len(df), target_len):\n",
    "        curr_energy += q_rate\n",
    "        new_row = pd.Series([curr_energy, 0], index=df.columns)\n",
    "        new_rows.append(new_row)\n",
    "    \n",
    "    \n",
    "    new_df = pd.DataFrame(new_rows)\n",
    "    \n",
    "    \n",
    "    df = pd.concat([df, new_df])\n",
    "    result_data[isotope] = df\n",
    "    "
   ]
  },
  {
   "cell_type": "code",
   "execution_count": 15,
   "id": "8b72db80-ad93-46dc-b091-c863a55a20cd",
   "metadata": {},
   "outputs": [
    {
     "data": {
      "text/plain": [
       "<Figure size 1500x600 with 0 Axes>"
      ]
     },
     "execution_count": 15,
     "metadata": {},
     "output_type": "execute_result"
    },
    {
     "data": {
      "text/plain": [
       "<Figure size 1500x600 with 0 Axes>"
      ]
     },
     "metadata": {},
     "output_type": "display_data"
    }
   ],
   "source": [
    "plt.figure(figsize=(15, 6))"
   ]
  },
  {
   "cell_type": "code",
   "execution_count": 16,
   "id": "a2fc9ea2-9d99-41ab-a9d6-a1621aab7c25",
   "metadata": {},
   "outputs": [],
   "source": [
    "energy = result_data['16N'][\"Energy\"]\n",
    "y = [result_data[isotope]['dN/dE'].values for isotope in result_data]"
   ]
  },
  {
   "cell_type": "code",
   "execution_count": 17,
   "id": "324ecddb-6797-4616-b607-1b6d5c2575cc",
   "metadata": {},
   "outputs": [
    {
     "name": "stdout",
     "output_type": "stream",
     "text": [
      "(400,) (400,)\n"
     ]
    }
   ],
   "source": [
    "y = np.sum(y, axis = 0)\n",
    "y /= 97\n",
    "print(y.shape, energy.shape)"
   ]
  },
  {
   "cell_type": "code",
   "execution_count": null,
   "id": "5f71949d-3ecf-40c5-88a1-bc4d894e3408",
   "metadata": {},
   "outputs": [],
   "source": [
    "plt.title('Energy Spectrum')\n",
    "for isotope in result_data:\n",
    "    data = result_data[isotope]\n",
    "    plt.errorbar(data['Energy'], data['dN/dE'], ecolor='r')\n",
    "    \n",
    "plt.xlabel('Energy (keV)')\n",
    "plt.ylabel('dN/dE')\n",
    "plt.grid(True)\n",
    "plt.show()\n",
    "    \n",
    "plt.savefig(\"savedplots/fgshfh.png\")"
   ]
  },
  {
   "cell_type": "code",
   "execution_count": 18,
   "id": "3af233c9-4ae0-4395-ae2e-c8f4d7b5511b",
   "metadata": {},
   "outputs": [],
   "source": [
    "integral_y = get_integral_spec(y.copy(), energy)"
   ]
  },
  {
   "cell_type": "code",
   "execution_count": 25,
   "id": "22b1ed08-9c9e-42cb-a69b-22fed6cf08ab",
   "metadata": {},
   "outputs": [],
   "source": [
    "criterion = 0\n",
    "for elem in energy:\n",
    "    criterion += 1\n",
    "    if elem < 10000:\n",
    "        continue\n",
    "    else:\n",
    "        break\n",
    "\n",
    "sum_num = integral_y[-1] - integral_y[criterion]"
   ]
  },
  {
   "cell_type": "code",
   "execution_count": 27,
   "id": "f6759886-a5fd-4080-a076-5a0bc1c936dc",
   "metadata": {},
   "outputs": [
    {
     "data": {
      "text/plain": [
       "0.012327883838987863"
      ]
     },
     "execution_count": 27,
     "metadata": {},
     "output_type": "execute_result"
    }
   ],
   "source": [
    "sum_num"
   ]
  },
  {
   "cell_type": "code",
   "execution_count": null,
   "id": "5d38f51e-5591-4204-a0b3-8123c8adc963",
   "metadata": {},
   "outputs": [],
   "source": [
    "plt.figure(figsize=(16, 8))\n",
    "plt.errorbar(energy[:-1], integral_y, ecolor='r', label=\"Integral Energy Spectrum\")\n",
    "plt.xlabel('Energy (keV)')\n",
    "plt.ylabel('N')\n",
    "plt.yscale('log')\n",
    "# plt.xscale('log')\n",
    "plt.title('Integral Energy Spectrum')\n",
    "\n",
    "plt.grid(True)\n",
    "plt.savefig(\"savedplots/integral_spec_fin.png\")\n",
    "plt.show()"
   ]
  },
  {
   "cell_type": "code",
   "execution_count": null,
   "id": "01fdea6c-d11b-4c86-8c90-08e1fae03a1e",
   "metadata": {},
   "outputs": [],
   "source": [
    "result_data['16N'] = get_q_data('isotopes/16N.txt', 2)\n",
    "result_data['15C'] = get_q_data('isotopes/15C.txt')\n",
    "result_data['12B'] = get_q_data('isotopes/12B.txt', 13)\n",
    "result_data['13B'] = get_q_data('isotopes/13B.txt', 2)\n",
    "result_data['11Be'] = get_q_data('isotopes/11Be.txt')\n",
    "result_data['8B'] = get_q_data('isotopes/8B.txt', 6)\n",
    "result_data['8Li'] = get_q_data('isotopes/8Li.txt', 14)\n",
    "result_data['9C'] = get_q_data('isotopes/9C.txt', 2)\n",
    "target_len = 16000 // q_rate # 16000 max\n",
    "\n",
    "\n",
    "plt.figure(figsize=(16, 8))\n",
    "plt.errorbar(energy, y, ecolor='r', label=\"Sum spectrum\")\n",
    "for isotope in result_data:\n",
    "    df = result_data[isotope]\n",
    "    curr_energy = df[\"Energy\"].iloc[-1]\n",
    "    new_rows = []\n",
    "    \n",
    "    for i in range(len(df), target_len):\n",
    "        curr_energy += q_rate\n",
    "        new_row = pd.Series([curr_energy, 0], index=df.columns)\n",
    "        new_rows.append(new_row)\n",
    "    \n",
    "    \n",
    "    new_df = pd.DataFrame(new_rows)\n",
    "    \n",
    "    \n",
    "    df = pd.concat([df, new_df])\n",
    "    result_data[isotope] = df\n",
    "\n",
    "\n",
    "for isotope in result_data:\n",
    "    energy = result_data['16N'][\"Energy\"]\n",
    "    y = result_data[isotope]['dN/dE'].values\n",
    "    y /= 97\n",
    "    plt.errorbar(energy, y, ecolor='r', label=isotope)\n",
    "\n",
    "\n",
    "plt.xlabel('Energy (keV)')\n",
    "plt.ylabel('dN/dE')\n",
    "plt.yscale('log')\n",
    "# plt.xscale('log')\n",
    "plt.title('Energy Spectrum')\n",
    "plt.legend()\n",
    "plt.grid(True)\n",
    "plt.savefig(\"savedplots/finalresult.png\")\n",
    "plt.show()"
   ]
  },
  {
   "cell_type": "code",
   "execution_count": null,
   "id": "5ac260b6-ecaf-46b2-9a55-12eca6dc0b18",
   "metadata": {},
   "outputs": [],
   "source": [
    "muon_spectrum_zero = pd.read_csv('Energy_loglog_plot_resut_0.txt', sep='\\s+', header=None, names=['Energy', 'N'])\n",
    "muon_spectrum = pd.read_csv('Energy_loglog_plot_resut_1.2.txt', sep='\\s+', header=None, names=['Energy', 'N'])"
   ]
  },
  {
   "cell_type": "code",
   "execution_count": null,
   "id": "8ce65413-5efb-4d64-ae75-75569dc5f094",
   "metadata": {},
   "outputs": [],
   "source": [
    "muon_spectrum_zero['N'] = [10**(elem) for elem in muon_spectrum_zero['N']]\n",
    "muon_spectrum[\"N\"] = [10**(elem) for elem in muon_spectrum['N']]\n",
    "\n",
    "muon_spectrum_zero['Energy'] = [10**(elem) for elem in muon_spectrum_zero['Energy']]\n",
    "muon_spectrum[\"Energy\"] = [10**(elem) for elem in muon_spectrum['Energy']]"
   ]
  },
  {
   "cell_type": "code",
   "execution_count": null,
   "id": "9b3c49a7-5471-418a-8166-f5cbfa4d982d",
   "metadata": {},
   "outputs": [],
   "source": [
    "muon_spectrum.head()"
   ]
  },
  {
   "cell_type": "code",
   "execution_count": null,
   "id": "5c183b61-aa62-4ac1-a19e-8013d06605d3",
   "metadata": {},
   "outputs": [],
   "source": [
    "plt.figure(figsize=(16, 8))\n",
    "plt.errorbar(muon_spectrum_zero['Energy'], muon_spectrum_zero['N'], label = 'Zero angle')\n",
    "plt.errorbar(muon_spectrum['Energy'], muon_spectrum['N'], label = '1.2 radians')\n",
    "plt.xlabel('Energy (GeV)')\n",
    "plt.ylabel('dN/dE')\n",
    "plt.yscale('log')\n",
    "plt.xscale('log')\n",
    "plt.title('Muon Energy Spectrum')\n",
    "plt.grid(True)\n",
    "plt.legend()\n",
    "\n",
    "plt.savefig(\"savedplots/muon_diff_spec.png\")\n",
    "plt.show()"
   ]
  },
  {
   "cell_type": "code",
   "execution_count": null,
   "id": "cb423e35-b03f-47ca-b3a9-bffd1bbb8ded",
   "metadata": {},
   "outputs": [],
   "source": [
    "muon_spectrum_zero['N'] = get_integral_spec(muon_spectrum_zero['N'], muon_spectrum_zero['Energy'])\n",
    "muon_spectrum['N'] = get_integral_spec(muon_spectrum['N'], muon_spectrum[\"Energy\"])"
   ]
  },
  {
   "cell_type": "code",
   "execution_count": null,
   "id": "62f31626-af9e-4b5c-a263-d571e0086c2c",
   "metadata": {},
   "outputs": [],
   "source": [
    "muon_spectrum.iloc[-1]"
   ]
  },
  {
   "cell_type": "code",
   "execution_count": null,
   "id": "acb04e3e-2593-423d-a62b-524f73f2f5c3",
   "metadata": {},
   "outputs": [],
   "source": [
    "muon_spectrum = pd.read_csv('Theta_muon_distribution_plot.txt', sep='\\s+', header=None, names=['Energy', 'N'])\n",
    "plt.figure(figsize=(16, 8))\n",
    "plt.errorbar(muon_spectrum['Energy'], muon_spectrum['N'])\n",
    "plt.xlabel('Cos(θ)')\n",
    "plt.ylabel('N')\n",
    "# plt.yscale('log')\n",
    "# plt.xscale('log')\n",
    "plt.title('Muon angular distribution')\n",
    "plt.grid(True)\n",
    "\n",
    "\n",
    "plt.savefig(\"savedplots/theta_dist.png\")\n",
    "plt.show()"
   ]
  },
  {
   "cell_type": "code",
   "execution_count": null,
   "id": "f311718b-afe9-4d8c-a5c2-530ed0dfedda",
   "metadata": {},
   "outputs": [],
   "source": []
  }
 ],
 "metadata": {
  "kernelspec": {
   "display_name": "Python 3 (ipykernel)",
   "language": "python",
   "name": "python3"
  },
  "language_info": {
   "codemirror_mode": {
    "name": "ipython",
    "version": 3
   },
   "file_extension": ".py",
   "mimetype": "text/x-python",
   "name": "python",
   "nbconvert_exporter": "python",
   "pygments_lexer": "ipython3",
   "version": "3.11.7"
  }
 },
 "nbformat": 4,
 "nbformat_minor": 5
}
